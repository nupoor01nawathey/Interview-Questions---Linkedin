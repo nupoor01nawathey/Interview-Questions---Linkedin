{
 "cells": [
  {
   "cell_type": "code",
   "execution_count": 0,
   "metadata": {
    "application/vnd.databricks.v1+cell": {
     "cellMetadata": {},
     "inputWidgets": {},
     "nuid": "29807d2b-7d62-4fcf-a2fa-629f19422705",
     "showTitle": false,
     "tableResultSettingsMap": {},
     "title": ""
    }
   },
   "outputs": [],
   "source": [
    "\"\"\"\n",
    "    SCD 1 USING MERGE\n",
    "\"\"\"\n",
    "\n",
    "trgt_df.merge(src_df, \"trgt_df.key = source_df.key\")\\\n",
    "    .whenMatchedUpdateAll()\\\n",
    "    .whenNotMatchedInsertAll()\\\n",
    "    .execute()"
   ]
  },
  {
   "cell_type": "markdown",
   "metadata": {
    "application/vnd.databricks.v1+cell": {
     "cellMetadata": {},
     "inputWidgets": {},
     "nuid": "d102b9dd-341a-445f-830c-478616ad12fc",
     "showTitle": false,
     "tableResultSettingsMap": {},
     "title": ""
    }
   },
   "source": [
    "https://delta.io/blog/2023-02-01-delta-lake-time-travel/"
   ]
  },
  {
   "cell_type": "markdown",
   "metadata": {
    "application/vnd.databricks.v1+cell": {
     "cellMetadata": {},
     "inputWidgets": {},
     "nuid": "af4b37b4-dc36-4579-8782-7c36ab8dab5e",
     "showTitle": false,
     "tableResultSettingsMap": {},
     "title": ""
    }
   },
   "source": [
    "# Time Travel Example"
   ]
  },
  {
   "cell_type": "code",
   "execution_count": 0,
   "metadata": {
    "application/vnd.databricks.v1+cell": {
     "cellMetadata": {
      "byteLimit": 2048000,
      "rowLimit": 10000
     },
     "inputWidgets": {},
     "nuid": "1646d496-6980-4e03-9c38-12bc1d783ea7",
     "showTitle": false,
     "tableResultSettingsMap": {},
     "title": ""
    }
   },
   "outputs": [],
   "source": [
    "import delta\n",
    "\n",
    "df = spark.range(0, 3)\n",
    "df.repartition(1).write.format(\"delta\").save(\"/FileStore/tables/delta-examples/some_nums\")"
   ]
  },
  {
   "cell_type": "code",
   "execution_count": 0,
   "metadata": {
    "application/vnd.databricks.v1+cell": {
     "cellMetadata": {
      "byteLimit": 2048000,
      "rowLimit": 10000
     },
     "inputWidgets": {},
     "nuid": "755fd556-6fd9-4ed9-9b2e-c3a2123eb799",
     "showTitle": false,
     "tableResultSettingsMap": {},
     "title": ""
    }
   },
   "outputs": [],
   "source": [
    "df = spark.range(8, 11)\n",
    "df.repartition(1).write.mode(\"append\").format(\"delta\").save(\"/FileStore/tables/delta-examples/some_nums\")"
   ]
  },
  {
   "cell_type": "code",
   "execution_count": 0,
   "metadata": {
    "application/vnd.databricks.v1+cell": {
     "cellMetadata": {
      "byteLimit": 2048000,
      "rowLimit": 10000
     },
     "inputWidgets": {},
     "nuid": "321b5002-a175-477b-ae03-554f724c0bea",
     "showTitle": false,
     "tableResultSettingsMap": {},
     "title": ""
    }
   },
   "outputs": [],
   "source": [
    "df = spark.createDataFrame([(55,), (66,), (77,)]).toDF(\"id\")\n",
    "df.repartition(1).write.mode(\"overwrite\").format(\"delta\").save(\"/FileStore/tables/delta-examples/some_nums\")"
   ]
  },
  {
   "cell_type": "code",
   "execution_count": 0,
   "metadata": {
    "application/vnd.databricks.v1+cell": {
     "cellMetadata": {
      "byteLimit": 2048000,
      "rowLimit": 10000
     },
     "inputWidgets": {},
     "nuid": "88186820-0f11-4b40-ab1b-d5995d15d439",
     "showTitle": false,
     "tableResultSettingsMap": {},
     "title": ""
    }
   },
   "outputs": [
    {
     "output_type": "stream",
     "name": "stdout",
     "output_type": "stream",
     "text": [
      "Out[6]: [FileInfo(path='dbfs:/FileStore/tables/delta-examples/some_nums/_delta_log/', name='_delta_log/', size=0, modificationTime=0),\n FileInfo(path='dbfs:/FileStore/tables/delta-examples/some_nums/part-00000-43431564-ad4f-412a-ab7f-c8ff0c5401ad-c000.snappy.parquet', name='part-00000-43431564-ad4f-412a-ab7f-c8ff0c5401ad-c000.snappy.parquet', size=612, modificationTime=1744367699000),\n FileInfo(path='dbfs:/FileStore/tables/delta-examples/some_nums/part-00000-c8d4d07c-225e-4cc5-9c21-ca27b4d2bdc5-c000.snappy.parquet', name='part-00000-c8d4d07c-225e-4cc5-9c21-ca27b4d2bdc5-c000.snappy.parquet', size=613, modificationTime=1744367782000),\n FileInfo(path='dbfs:/FileStore/tables/delta-examples/some_nums/part-00000-db56e33e-e08d-4bf6-b304-21e99eed76ff-c000.snappy.parquet', name='part-00000-db56e33e-e08d-4bf6-b304-21e99eed76ff-c000.snappy.parquet', size=613, modificationTime=1744367734000)]"
     ]
    }
   ],
   "source": [
    "dbutils.fs.ls(\"/FileStore/tables/delta-examples/some_nums\")"
   ]
  },
  {
   "cell_type": "code",
   "execution_count": 0,
   "metadata": {
    "application/vnd.databricks.v1+cell": {
     "cellMetadata": {
      "byteLimit": 2048000,
      "rowLimit": 10000
     },
     "inputWidgets": {},
     "nuid": "8bf8e043-8eb6-4410-95d3-62826d2e5ec2",
     "showTitle": false,
     "tableResultSettingsMap": {},
     "title": ""
    }
   },
   "outputs": [
    {
     "output_type": "stream",
     "name": "stdout",
     "output_type": "stream",
     "text": [
      "Out[7]: [FileInfo(path='dbfs:/FileStore/tables/delta-examples/some_nums/_delta_log/.s3-optimization-0', name='.s3-optimization-0', size=0, modificationTime=1744367701000),\n FileInfo(path='dbfs:/FileStore/tables/delta-examples/some_nums/_delta_log/.s3-optimization-1', name='.s3-optimization-1', size=0, modificationTime=1744367701000),\n FileInfo(path='dbfs:/FileStore/tables/delta-examples/some_nums/_delta_log/.s3-optimization-2', name='.s3-optimization-2', size=0, modificationTime=1744367701000),\n FileInfo(path='dbfs:/FileStore/tables/delta-examples/some_nums/_delta_log/00000000000000000000.crc', name='00000000000000000000.crc', size=2305, modificationTime=1744367714000),\n FileInfo(path='dbfs:/FileStore/tables/delta-examples/some_nums/_delta_log/00000000000000000000.json', name='00000000000000000000.json', size=1300, modificationTime=1744367702000),\n FileInfo(path='dbfs:/FileStore/tables/delta-examples/some_nums/_delta_log/00000000000000000001.crc', name='00000000000000000001.crc', size=2735, modificationTime=1744367738000),\n FileInfo(path='dbfs:/FileStore/tables/delta-examples/some_nums/_delta_log/00000000000000000001.json', name='00000000000000000001.json', size=958, modificationTime=1744367735000),\n FileInfo(path='dbfs:/FileStore/tables/delta-examples/some_nums/_delta_log/00000000000000000002.crc', name='00000000000000000002.crc', size=2307, modificationTime=1744367787000),\n FileInfo(path='dbfs:/FileStore/tables/delta-examples/some_nums/_delta_log/00000000000000000002.json', name='00000000000000000002.json', size=1687, modificationTime=1744367783000)]"
     ]
    }
   ],
   "source": [
    "dbutils.fs.ls(\"/FileStore/tables/delta-examples/some_nums/_delta_log/\")"
   ]
  },
  {
   "cell_type": "code",
   "execution_count": 0,
   "metadata": {
    "application/vnd.databricks.v1+cell": {
     "cellMetadata": {
      "byteLimit": 2048000,
      "rowLimit": 10000
     },
     "inputWidgets": {},
     "nuid": "e8214331-edcf-49ec-85f0-20dcf2a7f21d",
     "showTitle": false,
     "tableResultSettingsMap": {},
     "title": ""
    }
   },
   "outputs": [
    {
     "output_type": "display_data",
     "data": {
      "text/html": [
       "<style scoped>\n",
       "  .table-result-container {\n",
       "    max-height: 300px;\n",
       "    overflow: auto;\n",
       "  }\n",
       "  table, th, td {\n",
       "    border: 1px solid black;\n",
       "    border-collapse: collapse;\n",
       "  }\n",
       "  th, td {\n",
       "    padding: 5px;\n",
       "  }\n",
       "  th {\n",
       "    text-align: left;\n",
       "  }\n",
       "</style><div class='table-result-container'><table class='table-result'><thead style='background-color: white'><tr><th>add</th><th>commitInfo</th><th>metaData</th><th>protocol</th><th>remove</th></tr></thead><tbody><tr><td>null</td><td>List(0411-102830-mzs4qwc0, Databricks-Runtime/12.2.x-scala2.12, false, WriteSerializable, List(2750886872046321), WRITE, List(1, 613, 3), List(Overwrite, []), 1, 1744367782609, ae83081f-b0ef-465f-a205-6586d5ed1b05, 7249506876114102, nawatheynupoor1990@gmail.com)</td><td>null</td><td>null</td><td>null</td></tr><tr><td>List(true, 1744367782000, part-00000-c8d4d07c-225e-4cc5-9c21-ca27b4d2bdc5-c000.snappy.parquet, 613, {\"numRecords\":3,\"minValues\":{\"id\":55},\"maxValues\":{\"id\":77},\"nullCount\":{\"id\":0}}, List(1744367782000000, 1744367782000000, 1744367782000000, 268435456))</td><td>null</td><td>null</td><td>null</td><td>null</td></tr><tr><td>null</td><td>null</td><td>null</td><td>null</td><td>List(true, 1744367782601, true, part-00000-43431564-ad4f-412a-ab7f-c8ff0c5401ad-c000.snappy.parquet, 612, List(1744367699000000, 1744367699000000, 1744367699000000, 268435456))</td></tr><tr><td>null</td><td>null</td><td>null</td><td>null</td><td>List(true, 1744367782603, true, part-00000-db56e33e-e08d-4bf6-b304-21e99eed76ff-c000.snappy.parquet, 613, List(1744367734000000, 1744367734000000, 1744367734000000, 268435456))</td></tr><tr><td>null</td><td>List(0411-102830-mzs4qwc0, Databricks-Runtime/12.2.x-scala2.12, true, WriteSerializable, List(2750886872046321), WRITE, List(1, 612, 3), List(ErrorIfExists, []), null, 1744367700922, 6ee3bbab-3d82-41e2-912c-c97502c1bc53, 7249506876114102, nawatheynupoor1990@gmail.com)</td><td>null</td><td>null</td><td>null</td></tr><tr><td>null</td><td>null</td><td>null</td><td>List(1, 2)</td><td>null</td></tr><tr><td>null</td><td>null</td><td>List(1744367690460, List(parquet), 79f8a916-dca9-48c4-8898-32fd44d30992, List(), {\"type\":\"struct\",\"fields\":[{\"name\":\"id\",\"type\":\"long\",\"nullable\":true,\"metadata\":{}}]})</td><td>null</td><td>null</td></tr><tr><td>List(true, 1744367699000, part-00000-43431564-ad4f-412a-ab7f-c8ff0c5401ad-c000.snappy.parquet, 612, {\"numRecords\":3,\"minValues\":{\"id\":0},\"maxValues\":{\"id\":2},\"nullCount\":{\"id\":0}}, List(1744367699000000, 1744367699000000, 1744367699000000, 268435456))</td><td>null</td><td>null</td><td>null</td><td>null</td></tr><tr><td>null</td><td>List(0411-102830-mzs4qwc0, Databricks-Runtime/12.2.x-scala2.12, true, WriteSerializable, List(2750886872046321), WRITE, List(1, 613, 3), List(Append, []), 0, 1744367733957, cb90079d-a88e-47ff-bc5e-ad247d010752, 7249506876114102, nawatheynupoor1990@gmail.com)</td><td>null</td><td>null</td><td>null</td></tr><tr><td>List(true, 1744367734000, part-00000-db56e33e-e08d-4bf6-b304-21e99eed76ff-c000.snappy.parquet, 613, {\"numRecords\":3,\"minValues\":{\"id\":8},\"maxValues\":{\"id\":10},\"nullCount\":{\"id\":0}}, List(1744367734000000, 1744367734000000, 1744367734000000, 268435456))</td><td>null</td><td>null</td><td>null</td><td>null</td></tr></tbody></table></div>"
      ]
     },
     "metadata": {
      "application/vnd.databricks.v1+output": {
       "addedWidgets": {},
       "aggData": [],
       "aggError": "",
       "aggOverflow": false,
       "aggSchema": [],
       "aggSeriesLimitReached": false,
       "aggType": "",
       "arguments": {},
       "columnCustomDisplayInfos": {},
       "data": [
        [
         null,
         [
          "0411-102830-mzs4qwc0",
          "Databricks-Runtime/12.2.x-scala2.12",
          false,
          "WriteSerializable",
          [
           "2750886872046321"
          ],
          "WRITE",
          [
           "1",
           "613",
           "3"
          ],
          [
           "Overwrite",
           "[]"
          ],
          1,
          1744367782609,
          "ae83081f-b0ef-465f-a205-6586d5ed1b05",
          "7249506876114102",
          "nawatheynupoor1990@gmail.com"
         ],
         null,
         null,
         null
        ],
        [
         [
          true,
          1744367782000,
          "part-00000-c8d4d07c-225e-4cc5-9c21-ca27b4d2bdc5-c000.snappy.parquet",
          613,
          "{\"numRecords\":3,\"minValues\":{\"id\":55},\"maxValues\":{\"id\":77},\"nullCount\":{\"id\":0}}",
          [
           "1744367782000000",
           "1744367782000000",
           "1744367782000000",
           "268435456"
          ]
         ],
         null,
         null,
         null,
         null
        ],
        [
         null,
         null,
         null,
         null,
         [
          true,
          1744367782601,
          true,
          "part-00000-43431564-ad4f-412a-ab7f-c8ff0c5401ad-c000.snappy.parquet",
          612,
          [
           "1744367699000000",
           "1744367699000000",
           "1744367699000000",
           "268435456"
          ]
         ]
        ],
        [
         null,
         null,
         null,
         null,
         [
          true,
          1744367782603,
          true,
          "part-00000-db56e33e-e08d-4bf6-b304-21e99eed76ff-c000.snappy.parquet",
          613,
          [
           "1744367734000000",
           "1744367734000000",
           "1744367734000000",
           "268435456"
          ]
         ]
        ],
        [
         null,
         [
          "0411-102830-mzs4qwc0",
          "Databricks-Runtime/12.2.x-scala2.12",
          true,
          "WriteSerializable",
          [
           "2750886872046321"
          ],
          "WRITE",
          [
           "1",
           "612",
           "3"
          ],
          [
           "ErrorIfExists",
           "[]"
          ],
          null,
          1744367700922,
          "6ee3bbab-3d82-41e2-912c-c97502c1bc53",
          "7249506876114102",
          "nawatheynupoor1990@gmail.com"
         ],
         null,
         null,
         null
        ],
        [
         null,
         null,
         null,
         [
          1,
          2
         ],
         null
        ],
        [
         null,
         null,
         [
          1744367690460,
          [
           "parquet"
          ],
          "79f8a916-dca9-48c4-8898-32fd44d30992",
          [],
          "{\"type\":\"struct\",\"fields\":[{\"name\":\"id\",\"type\":\"long\",\"nullable\":true,\"metadata\":{}}]}"
         ],
         null,
         null
        ],
        [
         [
          true,
          1744367699000,
          "part-00000-43431564-ad4f-412a-ab7f-c8ff0c5401ad-c000.snappy.parquet",
          612,
          "{\"numRecords\":3,\"minValues\":{\"id\":0},\"maxValues\":{\"id\":2},\"nullCount\":{\"id\":0}}",
          [
           "1744367699000000",
           "1744367699000000",
           "1744367699000000",
           "268435456"
          ]
         ],
         null,
         null,
         null,
         null
        ],
        [
         null,
         [
          "0411-102830-mzs4qwc0",
          "Databricks-Runtime/12.2.x-scala2.12",
          true,
          "WriteSerializable",
          [
           "2750886872046321"
          ],
          "WRITE",
          [
           "1",
           "613",
           "3"
          ],
          [
           "Append",
           "[]"
          ],
          0,
          1744367733957,
          "cb90079d-a88e-47ff-bc5e-ad247d010752",
          "7249506876114102",
          "nawatheynupoor1990@gmail.com"
         ],
         null,
         null,
         null
        ],
        [
         [
          true,
          1744367734000,
          "part-00000-db56e33e-e08d-4bf6-b304-21e99eed76ff-c000.snappy.parquet",
          613,
          "{\"numRecords\":3,\"minValues\":{\"id\":8},\"maxValues\":{\"id\":10},\"nullCount\":{\"id\":0}}",
          [
           "1744367734000000",
           "1744367734000000",
           "1744367734000000",
           "268435456"
          ]
         ],
         null,
         null,
         null,
         null
        ]
       ],
       "datasetInfos": [],
       "dbfsResultPath": null,
       "isJsonSchema": true,
       "metadata": {},
       "overflow": false,
       "plotOptions": {
        "customPlotOptions": {},
        "displayType": "table",
        "pivotAggregation": null,
        "pivotColumns": null,
        "xColumns": null,
        "yColumns": null
       },
       "removedWidgets": [],
       "schema": [
        {
         "metadata": "{}",
         "name": "add",
         "type": "{\"type\":\"struct\",\"fields\":[{\"name\":\"dataChange\",\"type\":\"boolean\",\"nullable\":true,\"metadata\":{}},{\"name\":\"modificationTime\",\"type\":\"long\",\"nullable\":true,\"metadata\":{}},{\"name\":\"path\",\"type\":\"string\",\"nullable\":true,\"metadata\":{}},{\"name\":\"size\",\"type\":\"long\",\"nullable\":true,\"metadata\":{}},{\"name\":\"stats\",\"type\":\"string\",\"nullable\":true,\"metadata\":{}},{\"name\":\"tags\",\"type\":{\"type\":\"struct\",\"fields\":[{\"name\":\"INSERTION_TIME\",\"type\":\"string\",\"nullable\":true,\"metadata\":{}},{\"name\":\"MAX_INSERTION_TIME\",\"type\":\"string\",\"nullable\":true,\"metadata\":{}},{\"name\":\"MIN_INSERTION_TIME\",\"type\":\"string\",\"nullable\":true,\"metadata\":{}},{\"name\":\"OPTIMIZE_TARGET_SIZE\",\"type\":\"string\",\"nullable\":true,\"metadata\":{}}]},\"nullable\":true,\"metadata\":{}}]}"
        },
        {
         "metadata": "{}",
         "name": "commitInfo",
         "type": "{\"type\":\"struct\",\"fields\":[{\"name\":\"clusterId\",\"type\":\"string\",\"nullable\":true,\"metadata\":{}},{\"name\":\"engineInfo\",\"type\":\"string\",\"nullable\":true,\"metadata\":{}},{\"name\":\"isBlindAppend\",\"type\":\"boolean\",\"nullable\":true,\"metadata\":{}},{\"name\":\"isolationLevel\",\"type\":\"string\",\"nullable\":true,\"metadata\":{}},{\"name\":\"notebook\",\"type\":{\"type\":\"struct\",\"fields\":[{\"name\":\"notebookId\",\"type\":\"string\",\"nullable\":true,\"metadata\":{}}]},\"nullable\":true,\"metadata\":{}},{\"name\":\"operation\",\"type\":\"string\",\"nullable\":true,\"metadata\":{}},{\"name\":\"operationMetrics\",\"type\":{\"type\":\"struct\",\"fields\":[{\"name\":\"numFiles\",\"type\":\"string\",\"nullable\":true,\"metadata\":{}},{\"name\":\"numOutputBytes\",\"type\":\"string\",\"nullable\":true,\"metadata\":{}},{\"name\":\"numOutputRows\",\"type\":\"string\",\"nullable\":true,\"metadata\":{}}]},\"nullable\":true,\"metadata\":{}},{\"name\":\"operationParameters\",\"type\":{\"type\":\"struct\",\"fields\":[{\"name\":\"mode\",\"type\":\"string\",\"nullable\":true,\"metadata\":{}},{\"name\":\"partitionBy\",\"type\":\"string\",\"nullable\":true,\"metadata\":{}}]},\"nullable\":true,\"metadata\":{}},{\"name\":\"readVersion\",\"type\":\"long\",\"nullable\":true,\"metadata\":{}},{\"name\":\"timestamp\",\"type\":\"long\",\"nullable\":true,\"metadata\":{}},{\"name\":\"txnId\",\"type\":\"string\",\"nullable\":true,\"metadata\":{}},{\"name\":\"userId\",\"type\":\"string\",\"nullable\":true,\"metadata\":{}},{\"name\":\"userName\",\"type\":\"string\",\"nullable\":true,\"metadata\":{}}]}"
        },
        {
         "metadata": "{}",
         "name": "metaData",
         "type": "{\"type\":\"struct\",\"fields\":[{\"name\":\"createdTime\",\"type\":\"long\",\"nullable\":true,\"metadata\":{}},{\"name\":\"format\",\"type\":{\"type\":\"struct\",\"fields\":[{\"name\":\"provider\",\"type\":\"string\",\"nullable\":true,\"metadata\":{}}]},\"nullable\":true,\"metadata\":{}},{\"name\":\"id\",\"type\":\"string\",\"nullable\":true,\"metadata\":{}},{\"name\":\"partitionColumns\",\"type\":{\"type\":\"array\",\"elementType\":\"string\",\"containsNull\":true},\"nullable\":true,\"metadata\":{}},{\"name\":\"schemaString\",\"type\":\"string\",\"nullable\":true,\"metadata\":{}}]}"
        },
        {
         "metadata": "{}",
         "name": "protocol",
         "type": "{\"type\":\"struct\",\"fields\":[{\"name\":\"minReaderVersion\",\"type\":\"long\",\"nullable\":true,\"metadata\":{}},{\"name\":\"minWriterVersion\",\"type\":\"long\",\"nullable\":true,\"metadata\":{}}]}"
        },
        {
         "metadata": "{}",
         "name": "remove",
         "type": "{\"type\":\"struct\",\"fields\":[{\"name\":\"dataChange\",\"type\":\"boolean\",\"nullable\":true,\"metadata\":{}},{\"name\":\"deletionTimestamp\",\"type\":\"long\",\"nullable\":true,\"metadata\":{}},{\"name\":\"extendedFileMetadata\",\"type\":\"boolean\",\"nullable\":true,\"metadata\":{}},{\"name\":\"path\",\"type\":\"string\",\"nullable\":true,\"metadata\":{}},{\"name\":\"size\",\"type\":\"long\",\"nullable\":true,\"metadata\":{}},{\"name\":\"tags\",\"type\":{\"type\":\"struct\",\"fields\":[{\"name\":\"INSERTION_TIME\",\"type\":\"string\",\"nullable\":true,\"metadata\":{}},{\"name\":\"MAX_INSERTION_TIME\",\"type\":\"string\",\"nullable\":true,\"metadata\":{}},{\"name\":\"MIN_INSERTION_TIME\",\"type\":\"string\",\"nullable\":true,\"metadata\":{}},{\"name\":\"OPTIMIZE_TARGET_SIZE\",\"type\":\"string\",\"nullable\":true,\"metadata\":{}}]},\"nullable\":true,\"metadata\":{}}]}"
        }
       ],
       "type": "table"
      }
     },
     "output_type": "display_data"
    }
   ],
   "source": [
    "df1 = spark.read.format(\"json\").load(\"/FileStore/tables/delta-examples/some_nums/_delta_log/*.json\")\n",
    "\n",
    "display(df1)"
   ]
  },
  {
   "cell_type": "markdown",
   "metadata": {
    "application/vnd.databricks.v1+cell": {
     "cellMetadata": {
      "byteLimit": 2048000,
      "rowLimit": 10000
     },
     "inputWidgets": {},
     "nuid": "bb7a7896-d5ae-4fa4-a560-75c3c6ca70d3",
     "showTitle": false,
     "tableResultSettingsMap": {},
     "title": ""
    }
   },
   "source": [
    "# Read different versions of the data"
   ]
  },
  {
   "cell_type": "code",
   "execution_count": 0,
   "metadata": {
    "application/vnd.databricks.v1+cell": {
     "cellMetadata": {
      "byteLimit": 2048000,
      "rowLimit": 10000
     },
     "inputWidgets": {},
     "nuid": "c655d6e2-35ec-4f8b-a38b-37420243c204",
     "showTitle": false,
     "tableResultSettingsMap": {},
     "title": ""
    }
   },
   "outputs": [
    {
     "output_type": "stream",
     "name": "stdout",
     "output_type": "stream",
     "text": [
      "+---+\n| id|\n+---+\n| 55|\n| 66|\n| 77|\n+---+\n\n"
     ]
    }
   ],
   "source": [
    "spark.read.format(\"delta\").load(\"/FileStore/tables/delta-examples/some_nums\").show()"
   ]
  },
  {
   "cell_type": "code",
   "execution_count": 0,
   "metadata": {
    "application/vnd.databricks.v1+cell": {
     "cellMetadata": {
      "byteLimit": 2048000,
      "rowLimit": 10000
     },
     "inputWidgets": {},
     "nuid": "c9bee5b1-27af-4217-ad12-f431759859e2",
     "showTitle": false,
     "tableResultSettingsMap": {},
     "title": ""
    }
   },
   "outputs": [
    {
     "output_type": "stream",
     "name": "stdout",
     "output_type": "stream",
     "text": [
      "+---+\n| id|\n+---+\n|  8|\n|  9|\n| 10|\n|  0|\n|  1|\n|  2|\n+---+\n\n"
     ]
    }
   ],
   "source": [
    "spark.read.format(\"delta\").option(\"versionAsOf\", \"1\").load(\"/FileStore/tables/delta-examples/some_nums\").show()"
   ]
  },
  {
   "cell_type": "code",
   "execution_count": 0,
   "metadata": {
    "application/vnd.databricks.v1+cell": {
     "cellMetadata": {
      "byteLimit": 2048000,
      "rowLimit": 10000
     },
     "inputWidgets": {},
     "nuid": "bf02a25d-1acf-4302-93fe-fa153eb2dc0f",
     "showTitle": false,
     "tableResultSettingsMap": {},
     "title": ""
    }
   },
   "outputs": [
    {
     "output_type": "stream",
     "name": "stdout",
     "output_type": "stream",
     "text": [
      "+---+\n| id|\n+---+\n| 55|\n| 66|\n| 77|\n+---+\n\n"
     ]
    }
   ],
   "source": [
    "spark.read.format(\"delta\").option(\"versionAsOf\", \"2\").load(\"/FileStore/tables/delta-examples/some_nums\").show()"
   ]
  },
  {
   "cell_type": "code",
   "execution_count": 0,
   "metadata": {
    "application/vnd.databricks.v1+cell": {
     "cellMetadata": {
      "byteLimit": 2048000,
      "rowLimit": 10000
     },
     "inputWidgets": {},
     "nuid": "01f32b38-108e-42e8-bba4-ee2fdb25e5ff",
     "showTitle": false,
     "tableResultSettingsMap": {},
     "title": ""
    }
   },
   "outputs": [
    {
     "output_type": "stream",
     "name": "stdout",
     "output_type": "stream",
     "text": [
      "+-------+-------------------+---------+\n|version|timestamp          |operation|\n+-------+-------------------+---------+\n|2      |2025-04-11 10:36:23|WRITE    |\n|1      |2025-04-11 10:35:35|WRITE    |\n|0      |2025-04-11 10:35:02|WRITE    |\n+-------+-------------------+---------+\n\n"
     ]
    }
   ],
   "source": [
    "from delta.tables import DeltaTable\n",
    "\n",
    "delta_table = DeltaTable.forPath(spark, \"/FileStore/tables/delta-examples/some_nums\")\n",
    "\n",
    "delta_table.history().select(\"version\", \"timestamp\", \"operation\").show(truncate=False)"
   ]
  },
  {
   "cell_type": "code",
   "execution_count": 0,
   "metadata": {
    "application/vnd.databricks.v1+cell": {
     "cellMetadata": {
      "byteLimit": 2048000,
      "rowLimit": 10000
     },
     "inputWidgets": {},
     "nuid": "a87f2025-03e0-410b-a174-96ea05901b6b",
     "showTitle": false,
     "tableResultSettingsMap": {},
     "title": ""
    }
   },
   "outputs": [
    {
     "output_type": "display_data",
     "data": {
      "text/html": [
       "<style scoped>\n",
       "  .table-result-container {\n",
       "    max-height: 300px;\n",
       "    overflow: auto;\n",
       "  }\n",
       "  table, th, td {\n",
       "    border: 1px solid black;\n",
       "    border-collapse: collapse;\n",
       "  }\n",
       "  th, td {\n",
       "    padding: 5px;\n",
       "  }\n",
       "  th {\n",
       "    text-align: left;\n",
       "  }\n",
       "</style><div class='table-result-container'><table class='table-result'><thead style='background-color: white'><tr><th>version</th><th>timestamp</th><th>userId</th><th>userName</th><th>operation</th><th>operationParameters</th><th>job</th><th>notebook</th><th>clusterId</th><th>readVersion</th><th>isolationLevel</th><th>isBlindAppend</th><th>operationMetrics</th><th>userMetadata</th><th>engineInfo</th></tr></thead><tbody><tr><td>2</td><td>2025-04-11T10:36:23.000+0000</td><td>7249506876114102</td><td>nawatheynupoor1990@gmail.com</td><td>WRITE</td><td>Map(mode -> Overwrite, partitionBy -> [])</td><td>null</td><td>List(2750886872046321)</td><td>0411-102830-mzs4qwc0</td><td>1</td><td>WriteSerializable</td><td>false</td><td>Map(numFiles -> 1, numOutputRows -> 3, numOutputBytes -> 613)</td><td>null</td><td>Databricks-Runtime/12.2.x-scala2.12</td></tr><tr><td>1</td><td>2025-04-11T10:35:35.000+0000</td><td>7249506876114102</td><td>nawatheynupoor1990@gmail.com</td><td>WRITE</td><td>Map(mode -> Append, partitionBy -> [])</td><td>null</td><td>List(2750886872046321)</td><td>0411-102830-mzs4qwc0</td><td>0</td><td>WriteSerializable</td><td>true</td><td>Map(numFiles -> 1, numOutputRows -> 3, numOutputBytes -> 613)</td><td>null</td><td>Databricks-Runtime/12.2.x-scala2.12</td></tr><tr><td>0</td><td>2025-04-11T10:35:02.000+0000</td><td>7249506876114102</td><td>nawatheynupoor1990@gmail.com</td><td>WRITE</td><td>Map(mode -> ErrorIfExists, partitionBy -> [])</td><td>null</td><td>List(2750886872046321)</td><td>0411-102830-mzs4qwc0</td><td>null</td><td>WriteSerializable</td><td>true</td><td>Map(numFiles -> 1, numOutputRows -> 3, numOutputBytes -> 612)</td><td>null</td><td>Databricks-Runtime/12.2.x-scala2.12</td></tr></tbody></table></div>"
      ]
     },
     "metadata": {
      "application/vnd.databricks.v1+output": {
       "addedWidgets": {},
       "aggData": [],
       "aggError": "",
       "aggOverflow": false,
       "aggSchema": [],
       "aggSeriesLimitReached": false,
       "aggType": "",
       "arguments": {},
       "columnCustomDisplayInfos": {},
       "data": [
        [
         2,
         "2025-04-11T10:36:23.000+0000",
         "7249506876114102",
         "nawatheynupoor1990@gmail.com",
         "WRITE",
         {
          "mode": "Overwrite",
          "partitionBy": "[]"
         },
         null,
         [
          "2750886872046321"
         ],
         "0411-102830-mzs4qwc0",
         1,
         "WriteSerializable",
         false,
         {
          "numFiles": "1",
          "numOutputBytes": "613",
          "numOutputRows": "3"
         },
         null,
         "Databricks-Runtime/12.2.x-scala2.12"
        ],
        [
         1,
         "2025-04-11T10:35:35.000+0000",
         "7249506876114102",
         "nawatheynupoor1990@gmail.com",
         "WRITE",
         {
          "mode": "Append",
          "partitionBy": "[]"
         },
         null,
         [
          "2750886872046321"
         ],
         "0411-102830-mzs4qwc0",
         0,
         "WriteSerializable",
         true,
         {
          "numFiles": "1",
          "numOutputBytes": "613",
          "numOutputRows": "3"
         },
         null,
         "Databricks-Runtime/12.2.x-scala2.12"
        ],
        [
         0,
         "2025-04-11T10:35:02.000+0000",
         "7249506876114102",
         "nawatheynupoor1990@gmail.com",
         "WRITE",
         {
          "mode": "ErrorIfExists",
          "partitionBy": "[]"
         },
         null,
         [
          "2750886872046321"
         ],
         "0411-102830-mzs4qwc0",
         null,
         "WriteSerializable",
         true,
         {
          "numFiles": "1",
          "numOutputBytes": "612",
          "numOutputRows": "3"
         },
         null,
         "Databricks-Runtime/12.2.x-scala2.12"
        ]
       ],
       "datasetInfos": [],
       "dbfsResultPath": null,
       "isJsonSchema": true,
       "metadata": {},
       "overflow": false,
       "plotOptions": {
        "customPlotOptions": {},
        "displayType": "table",
        "pivotAggregation": null,
        "pivotColumns": null,
        "xColumns": null,
        "yColumns": null
       },
       "removedWidgets": [],
       "schema": [
        {
         "metadata": "{}",
         "name": "version",
         "type": "\"long\""
        },
        {
         "metadata": "{}",
         "name": "timestamp",
         "type": "\"timestamp\""
        },
        {
         "metadata": "{}",
         "name": "userId",
         "type": "\"string\""
        },
        {
         "metadata": "{}",
         "name": "userName",
         "type": "\"string\""
        },
        {
         "metadata": "{}",
         "name": "operation",
         "type": "\"string\""
        },
        {
         "metadata": "{}",
         "name": "operationParameters",
         "type": "{\"type\":\"map\",\"keyType\":\"string\",\"valueType\":\"string\",\"valueContainsNull\":true}"
        },
        {
         "metadata": "{}",
         "name": "job",
         "type": "{\"type\":\"struct\",\"fields\":[{\"name\":\"jobId\",\"type\":\"string\",\"nullable\":true,\"metadata\":{}},{\"name\":\"jobName\",\"type\":\"string\",\"nullable\":true,\"metadata\":{}},{\"name\":\"jobRunId\",\"type\":\"string\",\"nullable\":true,\"metadata\":{}},{\"name\":\"runId\",\"type\":\"string\",\"nullable\":true,\"metadata\":{}},{\"name\":\"jobOwnerId\",\"type\":\"string\",\"nullable\":true,\"metadata\":{}},{\"name\":\"triggerType\",\"type\":\"string\",\"nullable\":true,\"metadata\":{}}]}"
        },
        {
         "metadata": "{}",
         "name": "notebook",
         "type": "{\"type\":\"struct\",\"fields\":[{\"name\":\"notebookId\",\"type\":\"string\",\"nullable\":true,\"metadata\":{}}]}"
        },
        {
         "metadata": "{}",
         "name": "clusterId",
         "type": "\"string\""
        },
        {
         "metadata": "{}",
         "name": "readVersion",
         "type": "\"long\""
        },
        {
         "metadata": "{}",
         "name": "isolationLevel",
         "type": "\"string\""
        },
        {
         "metadata": "{}",
         "name": "isBlindAppend",
         "type": "\"boolean\""
        },
        {
         "metadata": "{}",
         "name": "operationMetrics",
         "type": "{\"type\":\"map\",\"keyType\":\"string\",\"valueType\":\"string\",\"valueContainsNull\":true}"
        },
        {
         "metadata": "{}",
         "name": "userMetadata",
         "type": "\"string\""
        },
        {
         "metadata": "{}",
         "name": "engineInfo",
         "type": "\"string\""
        }
       ],
       "type": "table"
      }
     },
     "output_type": "display_data"
    }
   ],
   "source": [
    "display(delta_table.history())"
   ]
  }
 ],
 "metadata": {
  "application/vnd.databricks.v1+notebook": {
   "computePreferences": null,
   "dashboards": [],
   "environmentMetadata": {
    "base_environment": "",
    "environment_version": "1"
   },
   "inputWidgetPreferences": null,
   "language": "python",
   "notebookMetadata": {
    "pythonIndentUnit": 4
   },
   "notebookName": "1 Time Travel Delta Lake PySpark",
   "widgets": {}
  }
 },
 "nbformat": 4,
 "nbformat_minor": 0
}