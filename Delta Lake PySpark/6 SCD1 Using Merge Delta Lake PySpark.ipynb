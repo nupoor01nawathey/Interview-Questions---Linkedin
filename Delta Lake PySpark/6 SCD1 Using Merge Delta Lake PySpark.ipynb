{
 "cells": [
  {
   "cell_type": "code",
   "execution_count": 0,
   "metadata": {
    "application/vnd.databricks.v1+cell": {
     "cellMetadata": {
      "byteLimit": 2048000,
      "rowLimit": 10000
     },
     "inputWidgets": {},
     "nuid": "aad78726-67e5-4a97-9e8f-61ced37c0782",
     "showTitle": false,
     "tableResultSettingsMap": {},
     "title": ""
    }
   },
   "outputs": [
    {
     "output_type": "stream",
     "name": "stdout",
     "output_type": "stream",
     "text": [
      "+---+----+---+\n| id|name|age|\n+---+----+---+\n|  0| Bob| 23|\n|  1| Sue| 25|\n|  2| Jim| 27|\n+---+----+---+\n\n"
     ]
    }
   ],
   "source": [
    "# https://github.com/delta-io/delta-examples/blob/master/notebooks/pyspark/delta-merge.ipynb\n",
    "\n",
    "df = spark.createDataFrame([(0, \"Bob\", 23), (1, \"Sue\", 25), (2, \"Jim\", 27)], [\"id\", \"name\", \"age\"])\n",
    "df.show()\n",
    "\n",
    "df.repartition(1).write.format(\"delta\").save(\"/FileStore/tables/delta-example/merge-example\")"
   ]
  },
  {
   "cell_type": "code",
   "execution_count": 0,
   "metadata": {
    "application/vnd.databricks.v1+cell": {
     "cellMetadata": {
      "byteLimit": 2048000,
      "rowLimit": 10000
     },
     "inputWidgets": {},
     "nuid": "fd4d85fd-abc1-4c35-a78c-8468a59a056f",
     "showTitle": false,
     "tableResultSettingsMap": {},
     "title": ""
    }
   },
   "outputs": [],
   "source": [
    "new_data = [\n",
    "    (0, \"Bob\", 23),  # exists in our original dataset above\n",
    "    (3, \"Sally\", 30),  # new data\n",
    "    (4, \"Henry\", 33),  # new data\n",
    "]\n",
    "\n",
    "new_df = spark.createDataFrame(new_data).toDF(\"id\", \"name\", \"age\").repartition(1)"
   ]
  },
  {
   "cell_type": "markdown",
   "metadata": {
    "application/vnd.databricks.v1+cell": {
     "cellMetadata": {},
     "inputWidgets": {},
     "nuid": "34d3cc26-1ac8-47f6-bc3f-72a9ace53d49",
     "showTitle": false,
     "tableResultSettingsMap": {},
     "title": ""
    }
   },
   "source": [
    "# Delta Lake merge with whenNotMatchedInsert\n"
   ]
  },
  {
   "cell_type": "code",
   "execution_count": 0,
   "metadata": {
    "application/vnd.databricks.v1+cell": {
     "cellMetadata": {
      "byteLimit": 2048000,
      "rowLimit": 10000
     },
     "inputWidgets": {},
     "nuid": "edee257c-9301-4212-a73c-ee3b2700b3d8",
     "showTitle": false,
     "tableResultSettingsMap": {},
     "title": ""
    }
   },
   "outputs": [],
   "source": [
    "from delta.tables import DeltaTable\n",
    "\n",
    "people_table = DeltaTable.forPath(spark, \"/FileStore/tables/delta-example/merge-example\")\n",
    "\n",
    "people_table.alias(\"trgt\").merge(new_df.alias(\"src\"), \"trgt.id = src.id\")\\\n",
    "    .whenNotMatchedInsert(\n",
    "        values = {\n",
    "            \"id\": \"src.id\",\n",
    "            \"name\": \"src.name\",\n",
    "            \"age\": \"src.age\"\n",
    "        }\n",
    "    ).execute()"
   ]
  },
  {
   "cell_type": "code",
   "execution_count": 0,
   "metadata": {
    "application/vnd.databricks.v1+cell": {
     "cellMetadata": {
      "byteLimit": 2048000,
      "rowLimit": 10000
     },
     "inputWidgets": {},
     "nuid": "69c7ca2e-7d5d-4dad-bbed-bee5388b0f96",
     "showTitle": false,
     "tableResultSettingsMap": {},
     "title": ""
    }
   },
   "outputs": [
    {
     "output_type": "stream",
     "name": "stdout",
     "output_type": "stream",
     "text": [
      "+---+-----+---+\n| id| name|age|\n+---+-----+---+\n|  0|  Bob| 23|\n|  1|  Sue| 25|\n|  2|  Jim| 27|\n|  3|Sally| 30|\n|  4|Henry| 33|\n+---+-----+---+\n\n"
     ]
    }
   ],
   "source": [
    "people_table.toDF().show()"
   ]
  },
  {
   "cell_type": "code",
   "execution_count": 0,
   "metadata": {
    "application/vnd.databricks.v1+cell": {
     "cellMetadata": {
      "byteLimit": 2048000,
      "rowLimit": 10000
     },
     "inputWidgets": {},
     "nuid": "d0de3659-7682-484f-9688-e04693c4e022",
     "showTitle": false,
     "tableResultSettingsMap": {},
     "title": ""
    }
   },
   "outputs": [
    {
     "output_type": "stream",
     "name": "stdout",
     "output_type": "stream",
     "text": [
      "Out[10]: [FileInfo(path='dbfs:/FileStore/tables/delta-example/merge-example/_delta_log/.s3-optimization-0', name='.s3-optimization-0', size=0, modificationTime=1744388775000),\n FileInfo(path='dbfs:/FileStore/tables/delta-example/merge-example/_delta_log/.s3-optimization-1', name='.s3-optimization-1', size=0, modificationTime=1744388775000),\n FileInfo(path='dbfs:/FileStore/tables/delta-example/merge-example/_delta_log/.s3-optimization-2', name='.s3-optimization-2', size=0, modificationTime=1744388775000),\n FileInfo(path='dbfs:/FileStore/tables/delta-example/merge-example/_delta_log/00000000000000000000.crc', name='00000000000000000000.crc', size=2530, modificationTime=1744388778000),\n FileInfo(path='dbfs:/FileStore/tables/delta-example/merge-example/_delta_log/00000000000000000000.json', name='00000000000000000000.json', size=1523, modificationTime=1744388775000),\n FileInfo(path='dbfs:/FileStore/tables/delta-example/merge-example/_delta_log/00000000000000000001.crc', name='00000000000000000001.crc', size=3039, modificationTime=1744389034000),\n FileInfo(path='dbfs:/FileStore/tables/delta-example/merge-example/_delta_log/00000000000000000001.json', name='00000000000000000001.json', size=1722, modificationTime=1744389031000)]"
     ]
    }
   ],
   "source": [
    "dbutils.fs.ls(\"/FileStore/tables/delta-example/merge-example/_delta_log/\")"
   ]
  },
  {
   "cell_type": "code",
   "execution_count": 0,
   "metadata": {
    "application/vnd.databricks.v1+cell": {
     "cellMetadata": {
      "byteLimit": 2048000,
      "rowLimit": 10000
     },
     "inputWidgets": {},
     "nuid": "998ba56c-683d-4a98-a30a-111cc77ecdb4",
     "showTitle": false,
     "tableResultSettingsMap": {},
     "title": ""
    }
   },
   "outputs": [
    {
     "output_type": "display_data",
     "data": {
      "text/html": [
       "<style scoped>\n",
       "  .table-result-container {\n",
       "    max-height: 300px;\n",
       "    overflow: auto;\n",
       "  }\n",
       "  table, th, td {\n",
       "    border: 1px solid black;\n",
       "    border-collapse: collapse;\n",
       "  }\n",
       "  th, td {\n",
       "    padding: 5px;\n",
       "  }\n",
       "  th {\n",
       "    text-align: left;\n",
       "  }\n",
       "</style><div class='table-result-container'><table class='table-result'><thead style='background-color: white'><tr><th>add</th><th>commitInfo</th><th>metaData</th><th>protocol</th></tr></thead><tbody><tr><td>null</td><td>List(0411-144935-4ypuffbf, Databricks-Runtime/12.2.x-scala2.12, true, WriteSerializable, List(971687235761228), WRITE, List(1, 1102, 3), List(ErrorIfExists, []), 1744388774772, 1918a507-1ab7-4dfd-a1bd-a78ad2c57adc, 7249506876114102, nawatheynupoor1990@gmail.com)</td><td>null</td><td>null</td></tr><tr><td>null</td><td>null</td><td>null</td><td>List(1, 2)</td></tr><tr><td>null</td><td>null</td><td>List(1744388773284, List(parquet), a91b194b-c799-437f-a697-cc2f7a5e4cb5, List(), {\"type\":\"struct\",\"fields\":[{\"name\":\"id\",\"type\":\"long\",\"nullable\":true,\"metadata\":{}},{\"name\":\"name\",\"type\":\"string\",\"nullable\":true,\"metadata\":{}},{\"name\":\"age\",\"type\":\"long\",\"nullable\":true,\"metadata\":{}}]})</td><td>null</td></tr><tr><td>List(true, 1744388775000, part-00000-037d7ea4-98ef-4044-bd2b-3d23f1e8421a-c000.snappy.parquet, 1102, {\"numRecords\":3,\"minValues\":{\"id\":0,\"name\":\"Bob\",\"age\":23},\"maxValues\":{\"id\":2,\"name\":\"Sue\",\"age\":27},\"nullCount\":{\"id\":0,\"name\":0,\"age\":0}}, List(1744388775000000, 1744388775000000, 1744388775000000, 268435456))</td><td>null</td><td>null</td><td>null</td></tr></tbody></table></div>"
      ]
     },
     "metadata": {
      "application/vnd.databricks.v1+output": {
       "addedWidgets": {},
       "aggData": [],
       "aggError": "",
       "aggOverflow": false,
       "aggSchema": [],
       "aggSeriesLimitReached": false,
       "aggType": "",
       "arguments": {},
       "columnCustomDisplayInfos": {},
       "data": [
        [
         null,
         [
          "0411-144935-4ypuffbf",
          "Databricks-Runtime/12.2.x-scala2.12",
          true,
          "WriteSerializable",
          [
           "971687235761228"
          ],
          "WRITE",
          [
           "1",
           "1102",
           "3"
          ],
          [
           "ErrorIfExists",
           "[]"
          ],
          1744388774772,
          "1918a507-1ab7-4dfd-a1bd-a78ad2c57adc",
          "7249506876114102",
          "nawatheynupoor1990@gmail.com"
         ],
         null,
         null
        ],
        [
         null,
         null,
         null,
         [
          1,
          2
         ]
        ],
        [
         null,
         null,
         [
          1744388773284,
          [
           "parquet"
          ],
          "a91b194b-c799-437f-a697-cc2f7a5e4cb5",
          [],
          "{\"type\":\"struct\",\"fields\":[{\"name\":\"id\",\"type\":\"long\",\"nullable\":true,\"metadata\":{}},{\"name\":\"name\",\"type\":\"string\",\"nullable\":true,\"metadata\":{}},{\"name\":\"age\",\"type\":\"long\",\"nullable\":true,\"metadata\":{}}]}"
         ],
         null
        ],
        [
         [
          true,
          1744388775000,
          "part-00000-037d7ea4-98ef-4044-bd2b-3d23f1e8421a-c000.snappy.parquet",
          1102,
          "{\"numRecords\":3,\"minValues\":{\"id\":0,\"name\":\"Bob\",\"age\":23},\"maxValues\":{\"id\":2,\"name\":\"Sue\",\"age\":27},\"nullCount\":{\"id\":0,\"name\":0,\"age\":0}}",
          [
           "1744388775000000",
           "1744388775000000",
           "1744388775000000",
           "268435456"
          ]
         ],
         null,
         null,
         null
        ]
       ],
       "datasetInfos": [],
       "dbfsResultPath": null,
       "isJsonSchema": true,
       "metadata": {},
       "overflow": false,
       "plotOptions": {
        "customPlotOptions": {},
        "displayType": "table",
        "pivotAggregation": null,
        "pivotColumns": null,
        "xColumns": null,
        "yColumns": null
       },
       "removedWidgets": [],
       "schema": [
        {
         "metadata": "{}",
         "name": "add",
         "type": "{\"type\":\"struct\",\"fields\":[{\"name\":\"dataChange\",\"type\":\"boolean\",\"nullable\":true,\"metadata\":{}},{\"name\":\"modificationTime\",\"type\":\"long\",\"nullable\":true,\"metadata\":{}},{\"name\":\"path\",\"type\":\"string\",\"nullable\":true,\"metadata\":{}},{\"name\":\"size\",\"type\":\"long\",\"nullable\":true,\"metadata\":{}},{\"name\":\"stats\",\"type\":\"string\",\"nullable\":true,\"metadata\":{}},{\"name\":\"tags\",\"type\":{\"type\":\"struct\",\"fields\":[{\"name\":\"INSERTION_TIME\",\"type\":\"string\",\"nullable\":true,\"metadata\":{}},{\"name\":\"MAX_INSERTION_TIME\",\"type\":\"string\",\"nullable\":true,\"metadata\":{}},{\"name\":\"MIN_INSERTION_TIME\",\"type\":\"string\",\"nullable\":true,\"metadata\":{}},{\"name\":\"OPTIMIZE_TARGET_SIZE\",\"type\":\"string\",\"nullable\":true,\"metadata\":{}}]},\"nullable\":true,\"metadata\":{}}]}"
        },
        {
         "metadata": "{}",
         "name": "commitInfo",
         "type": "{\"type\":\"struct\",\"fields\":[{\"name\":\"clusterId\",\"type\":\"string\",\"nullable\":true,\"metadata\":{}},{\"name\":\"engineInfo\",\"type\":\"string\",\"nullable\":true,\"metadata\":{}},{\"name\":\"isBlindAppend\",\"type\":\"boolean\",\"nullable\":true,\"metadata\":{}},{\"name\":\"isolationLevel\",\"type\":\"string\",\"nullable\":true,\"metadata\":{}},{\"name\":\"notebook\",\"type\":{\"type\":\"struct\",\"fields\":[{\"name\":\"notebookId\",\"type\":\"string\",\"nullable\":true,\"metadata\":{}}]},\"nullable\":true,\"metadata\":{}},{\"name\":\"operation\",\"type\":\"string\",\"nullable\":true,\"metadata\":{}},{\"name\":\"operationMetrics\",\"type\":{\"type\":\"struct\",\"fields\":[{\"name\":\"numFiles\",\"type\":\"string\",\"nullable\":true,\"metadata\":{}},{\"name\":\"numOutputBytes\",\"type\":\"string\",\"nullable\":true,\"metadata\":{}},{\"name\":\"numOutputRows\",\"type\":\"string\",\"nullable\":true,\"metadata\":{}}]},\"nullable\":true,\"metadata\":{}},{\"name\":\"operationParameters\",\"type\":{\"type\":\"struct\",\"fields\":[{\"name\":\"mode\",\"type\":\"string\",\"nullable\":true,\"metadata\":{}},{\"name\":\"partitionBy\",\"type\":\"string\",\"nullable\":true,\"metadata\":{}}]},\"nullable\":true,\"metadata\":{}},{\"name\":\"timestamp\",\"type\":\"long\",\"nullable\":true,\"metadata\":{}},{\"name\":\"txnId\",\"type\":\"string\",\"nullable\":true,\"metadata\":{}},{\"name\":\"userId\",\"type\":\"string\",\"nullable\":true,\"metadata\":{}},{\"name\":\"userName\",\"type\":\"string\",\"nullable\":true,\"metadata\":{}}]}"
        },
        {
         "metadata": "{}",
         "name": "metaData",
         "type": "{\"type\":\"struct\",\"fields\":[{\"name\":\"createdTime\",\"type\":\"long\",\"nullable\":true,\"metadata\":{}},{\"name\":\"format\",\"type\":{\"type\":\"struct\",\"fields\":[{\"name\":\"provider\",\"type\":\"string\",\"nullable\":true,\"metadata\":{}}]},\"nullable\":true,\"metadata\":{}},{\"name\":\"id\",\"type\":\"string\",\"nullable\":true,\"metadata\":{}},{\"name\":\"partitionColumns\",\"type\":{\"type\":\"array\",\"elementType\":\"string\",\"containsNull\":true},\"nullable\":true,\"metadata\":{}},{\"name\":\"schemaString\",\"type\":\"string\",\"nullable\":true,\"metadata\":{}}]}"
        },
        {
         "metadata": "{}",
         "name": "protocol",
         "type": "{\"type\":\"struct\",\"fields\":[{\"name\":\"minReaderVersion\",\"type\":\"long\",\"nullable\":true,\"metadata\":{}},{\"name\":\"minWriterVersion\",\"type\":\"long\",\"nullable\":true,\"metadata\":{}}]}"
        }
       ],
       "type": "table"
      }
     },
     "output_type": "display_data"
    }
   ],
   "source": [
    "display(spark.read.format(\"json\").load(\"/FileStore/tables/delta-example/merge-example/_delta_log/00000000000000000000.json\"))"
   ]
  },
  {
   "cell_type": "code",
   "execution_count": 0,
   "metadata": {
    "application/vnd.databricks.v1+cell": {
     "cellMetadata": {
      "byteLimit": 2048000,
      "rowLimit": 10000
     },
     "inputWidgets": {},
     "nuid": "f1079a67-baaa-44e7-afda-ed8f331bd163",
     "showTitle": false,
     "tableResultSettingsMap": {},
     "title": ""
    }
   },
   "outputs": [
    {
     "output_type": "display_data",
     "data": {
      "text/html": [
       "<style scoped>\n",
       "  .table-result-container {\n",
       "    max-height: 300px;\n",
       "    overflow: auto;\n",
       "  }\n",
       "  table, th, td {\n",
       "    border: 1px solid black;\n",
       "    border-collapse: collapse;\n",
       "  }\n",
       "  th, td {\n",
       "    padding: 5px;\n",
       "  }\n",
       "  th {\n",
       "    text-align: left;\n",
       "  }\n",
       "</style><div class='table-result-container'><table class='table-result'><thead style='background-color: white'><tr><th>add</th><th>commitInfo</th></tr></thead><tbody><tr><td>null</td><td>List(0411-144935-4ypuffbf, Databricks-Runtime/12.2.x-scala2.12, false, WriteSerializable, List(971687235761228), MERGE, List(2597, 3, 2, 3, 1097, 0, 0, 0, 0, 1, 0, 0, 0, 2, 0, 0, 0, 0, 0, 2495, 0), List([], [], [{\"actionType\":\"insert\"}], [\"(id#5290L = id#5278L)\"]), 0, 1744389030463, d58e6fe0-3b60-488b-9dd9-8d7b0454424c, 7249506876114102, nawatheynupoor1990@gmail.com)</td></tr><tr><td>List(true, 1744389031000, part-00000-afad9dff-468d-4454-af97-bea904bc13b1-c000.snappy.parquet, 1097, {\"numRecords\":2,\"minValues\":{\"id\":3,\"name\":\"Henry\",\"age\":30},\"maxValues\":{\"id\":4,\"name\":\"Sally\",\"age\":33},\"nullCount\":{\"id\":0,\"name\":0,\"age\":0}}, List(1744389031000000, 1744389031000000, 1744389031000000, 268435456))</td><td>null</td></tr></tbody></table></div>"
      ]
     },
     "metadata": {
      "application/vnd.databricks.v1+output": {
       "addedWidgets": {},
       "aggData": [],
       "aggError": "",
       "aggOverflow": false,
       "aggSchema": [],
       "aggSeriesLimitReached": false,
       "aggType": "",
       "arguments": {},
       "columnCustomDisplayInfos": {},
       "data": [
        [
         null,
         [
          "0411-144935-4ypuffbf",
          "Databricks-Runtime/12.2.x-scala2.12",
          false,
          "WriteSerializable",
          [
           "971687235761228"
          ],
          "MERGE",
          [
           "2597",
           "3",
           "2",
           "3",
           "1097",
           "0",
           "0",
           "0",
           "0",
           "1",
           "0",
           "0",
           "0",
           "2",
           "0",
           "0",
           "0",
           "0",
           "0",
           "2495",
           "0"
          ],
          [
           "[]",
           "[]",
           "[{\"actionType\":\"insert\"}]",
           "[\"(id#5290L = id#5278L)\"]"
          ],
          0,
          1744389030463,
          "d58e6fe0-3b60-488b-9dd9-8d7b0454424c",
          "7249506876114102",
          "nawatheynupoor1990@gmail.com"
         ]
        ],
        [
         [
          true,
          1744389031000,
          "part-00000-afad9dff-468d-4454-af97-bea904bc13b1-c000.snappy.parquet",
          1097,
          "{\"numRecords\":2,\"minValues\":{\"id\":3,\"name\":\"Henry\",\"age\":30},\"maxValues\":{\"id\":4,\"name\":\"Sally\",\"age\":33},\"nullCount\":{\"id\":0,\"name\":0,\"age\":0}}",
          [
           "1744389031000000",
           "1744389031000000",
           "1744389031000000",
           "268435456"
          ]
         ],
         null
        ]
       ],
       "datasetInfos": [],
       "dbfsResultPath": null,
       "isJsonSchema": true,
       "metadata": {},
       "overflow": false,
       "plotOptions": {
        "customPlotOptions": {},
        "displayType": "table",
        "pivotAggregation": null,
        "pivotColumns": null,
        "xColumns": null,
        "yColumns": null
       },
       "removedWidgets": [],
       "schema": [
        {
         "metadata": "{}",
         "name": "add",
         "type": "{\"type\":\"struct\",\"fields\":[{\"name\":\"dataChange\",\"type\":\"boolean\",\"nullable\":true,\"metadata\":{}},{\"name\":\"modificationTime\",\"type\":\"long\",\"nullable\":true,\"metadata\":{}},{\"name\":\"path\",\"type\":\"string\",\"nullable\":true,\"metadata\":{}},{\"name\":\"size\",\"type\":\"long\",\"nullable\":true,\"metadata\":{}},{\"name\":\"stats\",\"type\":\"string\",\"nullable\":true,\"metadata\":{}},{\"name\":\"tags\",\"type\":{\"type\":\"struct\",\"fields\":[{\"name\":\"INSERTION_TIME\",\"type\":\"string\",\"nullable\":true,\"metadata\":{}},{\"name\":\"MAX_INSERTION_TIME\",\"type\":\"string\",\"nullable\":true,\"metadata\":{}},{\"name\":\"MIN_INSERTION_TIME\",\"type\":\"string\",\"nullable\":true,\"metadata\":{}},{\"name\":\"OPTIMIZE_TARGET_SIZE\",\"type\":\"string\",\"nullable\":true,\"metadata\":{}}]},\"nullable\":true,\"metadata\":{}}]}"
        },
        {
         "metadata": "{}",
         "name": "commitInfo",
         "type": "{\"type\":\"struct\",\"fields\":[{\"name\":\"clusterId\",\"type\":\"string\",\"nullable\":true,\"metadata\":{}},{\"name\":\"engineInfo\",\"type\":\"string\",\"nullable\":true,\"metadata\":{}},{\"name\":\"isBlindAppend\",\"type\":\"boolean\",\"nullable\":true,\"metadata\":{}},{\"name\":\"isolationLevel\",\"type\":\"string\",\"nullable\":true,\"metadata\":{}},{\"name\":\"notebook\",\"type\":{\"type\":\"struct\",\"fields\":[{\"name\":\"notebookId\",\"type\":\"string\",\"nullable\":true,\"metadata\":{}}]},\"nullable\":true,\"metadata\":{}},{\"name\":\"operation\",\"type\":\"string\",\"nullable\":true,\"metadata\":{}},{\"name\":\"operationMetrics\",\"type\":{\"type\":\"struct\",\"fields\":[{\"name\":\"executionTimeMs\",\"type\":\"string\",\"nullable\":true,\"metadata\":{}},{\"name\":\"materializeSourceTimeMs\",\"type\":\"string\",\"nullable\":true,\"metadata\":{}},{\"name\":\"numOutputRows\",\"type\":\"string\",\"nullable\":true,\"metadata\":{}},{\"name\":\"numSourceRows\",\"type\":\"string\",\"nullable\":true,\"metadata\":{}},{\"name\":\"numTargetBytesAdded\",\"type\":\"string\",\"nullable\":true,\"metadata\":{}},{\"name\":\"numTargetBytesRemoved\",\"type\":\"string\",\"nullable\":true,\"metadata\":{}},{\"name\":\"numTargetChangeFilesAdded\",\"type\":\"string\",\"nullable\":true,\"metadata\":{}},{\"name\":\"numTargetDeletionVectorsAdded\",\"type\":\"string\",\"nullable\":true,\"metadata\":{}},{\"name\":\"numTargetDeletionVectorsRemoved\",\"type\":\"string\",\"nullable\":true,\"metadata\":{}},{\"name\":\"numTargetFilesAdded\",\"type\":\"string\",\"nullable\":true,\"metadata\":{}},{\"name\":\"numTargetFilesRemoved\",\"type\":\"string\",\"nullable\":true,\"metadata\":{}},{\"name\":\"numTargetRowsCopied\",\"type\":\"string\",\"nullable\":true,\"metadata\":{}},{\"name\":\"numTargetRowsDeleted\",\"type\":\"string\",\"nullable\":true,\"metadata\":{}},{\"name\":\"numTargetRowsInserted\",\"type\":\"string\",\"nullable\":true,\"metadata\":{}},{\"name\":\"numTargetRowsMatchedDeleted\",\"type\":\"string\",\"nullable\":true,\"metadata\":{}},{\"name\":\"numTargetRowsMatchedUpdated\",\"type\":\"string\",\"nullable\":true,\"metadata\":{}},{\"name\":\"numTargetRowsNotMatchedBySourceDeleted\",\"type\":\"string\",\"nullable\":true,\"metadata\":{}},{\"name\":\"numTargetRowsNotMatchedBySourceUpdated\",\"type\":\"string\",\"nullable\":true,\"metadata\":{}},{\"name\":\"numTargetRowsUpdated\",\"type\":\"string\",\"nullable\":true,\"metadata\":{}},{\"name\":\"rewriteTimeMs\",\"type\":\"string\",\"nullable\":true,\"metadata\":{}},{\"name\":\"scanTimeMs\",\"type\":\"string\",\"nullable\":true,\"metadata\":{}}]},\"nullable\":true,\"metadata\":{}},{\"name\":\"operationParameters\",\"type\":{\"type\":\"struct\",\"fields\":[{\"name\":\"matchedPredicates\",\"type\":\"string\",\"nullable\":true,\"metadata\":{}},{\"name\":\"notMatchedBySourcePredicates\",\"type\":\"string\",\"nullable\":true,\"metadata\":{}},{\"name\":\"notMatchedPredicates\",\"type\":\"string\",\"nullable\":true,\"metadata\":{}},{\"name\":\"predicate\",\"type\":\"string\",\"nullable\":true,\"metadata\":{}}]},\"nullable\":true,\"metadata\":{}},{\"name\":\"readVersion\",\"type\":\"long\",\"nullable\":true,\"metadata\":{}},{\"name\":\"timestamp\",\"type\":\"long\",\"nullable\":true,\"metadata\":{}},{\"name\":\"txnId\",\"type\":\"string\",\"nullable\":true,\"metadata\":{}},{\"name\":\"userId\",\"type\":\"string\",\"nullable\":true,\"metadata\":{}},{\"name\":\"userName\",\"type\":\"string\",\"nullable\":true,\"metadata\":{}}]}"
        }
       ],
       "type": "table"
      }
     },
     "output_type": "display_data"
    }
   ],
   "source": [
    "display(spark.read.format(\"json\").load(\"/FileStore/tables/delta-example/merge-example/_delta_log/00000000000000000001.json\"))"
   ]
  },
  {
   "cell_type": "markdown",
   "metadata": {
    "application/vnd.databricks.v1+cell": {
     "cellMetadata": {},
     "inputWidgets": {},
     "nuid": "b8c8afbb-e441-468c-a7d2-a4d77d408c3e",
     "showTitle": false,
     "tableResultSettingsMap": {},
     "title": ""
    }
   },
   "source": [
    "# Delta Lake merge with whenMatchedUpdate\n"
   ]
  },
  {
   "cell_type": "code",
   "execution_count": 0,
   "metadata": {
    "application/vnd.databricks.v1+cell": {
     "cellMetadata": {
      "byteLimit": 2048000,
      "rowLimit": 10000
     },
     "inputWidgets": {},
     "nuid": "fd88ced2-a5b6-4b21-8c20-73da36ffbdfa",
     "showTitle": false,
     "tableResultSettingsMap": {},
     "title": ""
    }
   },
   "outputs": [],
   "source": [
    "new_data = [\n",
    "    (4, \"Henry\", 34),\n",
    "    (5, \"Allie\", 22),\n",
    "]\n",
    "new_df = spark.createDataFrame(new_data).toDF(\"id\", \"name\", \"age\").repartition(1)"
   ]
  },
  {
   "cell_type": "code",
   "execution_count": 0,
   "metadata": {
    "application/vnd.databricks.v1+cell": {
     "cellMetadata": {
      "byteLimit": 2048000,
      "rowLimit": 10000
     },
     "inputWidgets": {},
     "nuid": "a0ce852e-c3ee-4dc2-8082-62526ff81359",
     "showTitle": false,
     "tableResultSettingsMap": {},
     "title": ""
    }
   },
   "outputs": [],
   "source": [
    "people_table.alias(\"trgt\").merge(new_df.alias(\"src\"), \"trgt.id = src.id\")\\\n",
    "    .whenMatchedUpdate(\n",
    "        set = {\n",
    "            \"age\": \"src.age\"\n",
    "        }\n",
    "    ).whenNotMatchedInsertAll().execute()"
   ]
  },
  {
   "cell_type": "code",
   "execution_count": 0,
   "metadata": {
    "application/vnd.databricks.v1+cell": {
     "cellMetadata": {
      "byteLimit": 2048000,
      "rowLimit": 10000
     },
     "inputWidgets": {},
     "nuid": "cf53b693-dc06-4dc6-90ee-14da1f865acb",
     "showTitle": false,
     "tableResultSettingsMap": {},
     "title": ""
    }
   },
   "outputs": [
    {
     "output_type": "stream",
     "name": "stdout",
     "output_type": "stream",
     "text": [
      "+---+-----+---+\n| id| name|age|\n+---+-----+---+\n|  0|  Bob| 23|\n|  1|  Sue| 25|\n|  2|  Jim| 27|\n|  4|Henry| 34|\n|  5|Allie| 22|\n|  3|Sally| 30|\n+---+-----+---+\n\n"
     ]
    }
   ],
   "source": [
    "people_table.toDF().show()"
   ]
  },
  {
   "cell_type": "markdown",
   "metadata": {
    "application/vnd.databricks.v1+cell": {
     "cellMetadata": {},
     "inputWidgets": {},
     "nuid": "19914570-ab39-4a11-8a42-d7df4e646a36",
     "showTitle": false,
     "tableResultSettingsMap": {},
     "title": ""
    }
   },
   "source": [
    "# JDBC/EMR SCD1 Implementation"
   ]
  },
  {
   "cell_type": "code",
   "execution_count": 0,
   "metadata": {
    "application/vnd.databricks.v1+cell": {
     "cellMetadata": {
      "byteLimit": 2048000,
      "rowLimit": 10000
     },
     "inputWidgets": {},
     "nuid": "43ab6dc8-cdfe-41b6-a7b9-99d36150d6b9",
     "showTitle": false,
     "tableResultSettingsMap": {},
     "title": ""
    }
   },
   "outputs": [
    {
     "output_type": "stream",
     "name": "stdout",
     "output_type": "stream",
     "text": [
      "+---+----+---+\n| id|name|age|\n+---+----+---+\n|  0| Bob| 23|\n|  1| Sue| 25|\n|  2| Jim| 27|\n+---+----+---+\n\n+---+-----+---+\n| id| name|age|\n+---+-----+---+\n|  4|Henry| 34|\n|  5|Allie| 22|\n+---+-----+---+\n\n"
     ]
    }
   ],
   "source": [
    "df.show()\n",
    "\n",
    "new_data = [\n",
    "    (4, \"Henry\", 34),\n",
    "    (5, \"Allie\", 22),\n",
    "]\n",
    "new_df = spark.createDataFrame(new_data).toDF(\"id\", \"name\", \"age\").repartition(1)\n",
    "\n",
    "new_df.show()"
   ]
  },
  {
   "cell_type": "code",
   "execution_count": 0,
   "metadata": {
    "application/vnd.databricks.v1+cell": {
     "cellMetadata": {
      "byteLimit": 2048000,
      "rowLimit": 10000
     },
     "inputWidgets": {},
     "nuid": "b4ec038e-b542-4fe7-963f-ff6110f9f8b1",
     "showTitle": false,
     "tableResultSettingsMap": {},
     "title": ""
    }
   },
   "outputs": [],
   "source": [
    "people_table.alias(\"trgt\").merge(new_df.alias(\"src\"), \"trgt.id = src.id\")\\\n",
    "    .whenMatchedUpdateAll()\\\n",
    "    .whenNotMatchedInsertAll()\\\n",
    "    .execute()\n"
   ]
  },
  {
   "cell_type": "code",
   "execution_count": 0,
   "metadata": {
    "application/vnd.databricks.v1+cell": {
     "cellMetadata": {
      "byteLimit": 2048000,
      "rowLimit": 10000
     },
     "inputWidgets": {},
     "nuid": "18f5fddb-885e-43fc-8d1a-6ab4c4ddd3ce",
     "showTitle": false,
     "tableResultSettingsMap": {},
     "title": ""
    }
   },
   "outputs": [
    {
     "output_type": "stream",
     "name": "stdout",
     "output_type": "stream",
     "text": [
      "+---+-----+---+\n| id| name|age|\n+---+-----+---+\n|  0|  Bob| 23|\n|  1|  Sue| 25|\n|  2|  Jim| 27|\n|  4|Henry| 34|\n|  5|Allie| 22|\n|  3|Sally| 30|\n+---+-----+---+\n\n"
     ]
    }
   ],
   "source": [
    "people_table.toDF().show()"
   ]
  }
 ],
 "metadata": {
  "application/vnd.databricks.v1+notebook": {
   "computePreferences": null,
   "dashboards": [],
   "environmentMetadata": {
    "base_environment": "",
    "environment_version": "1"
   },
   "inputWidgetPreferences": null,
   "language": "python",
   "notebookMetadata": {
    "pythonIndentUnit": 4
   },
   "notebookName": "6 SCD1 Using Merge Delta Lake PySpark",
   "widgets": {}
  }
 },
 "nbformat": 4,
 "nbformat_minor": 0
}