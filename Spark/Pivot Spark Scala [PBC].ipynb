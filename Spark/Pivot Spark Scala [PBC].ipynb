{
 "cells": [
  {
   "cell_type": "code",
   "execution_count": 9,
   "id": "879795a8",
   "metadata": {},
   "outputs": [
    {
     "name": "stdout",
     "output_type": "stream",
     "text": [
      "+-------+----+---------+------+\n",
      "|America|Asia|Australia|Europe|\n",
      "+-------+----+---------+------+\n",
      "|Jack   |Xi  |Matthew  |Pascal|\n",
      "|Jane   |null|Robert   |null  |\n",
      "|null   |null|Shane    |null  |\n",
      "+-------+----+---------+------+\n",
      "\n"
     ]
    },
    {
     "data": {
      "text/plain": [
       "import org.apache.spark.sql.functions._\n",
       "import org.apache.spark.sql.expressions._\n",
       "df: org.apache.spark.sql.DataFrame = [name: string, continent: string]\n",
       "df1: org.apache.spark.sql.DataFrame = [name: string, continent: string ... 1 more field]\n",
       "pivotedDF: org.apache.spark.sql.Dataset[org.apache.spark.sql.Row] = [row_number: int, America: string ... 3 more fields]\n"
      ]
     },
     "execution_count": 9,
     "metadata": {},
     "output_type": "execute_result"
    }
   ],
   "source": [
    "// This problem was asked in one of the leading Product based company for Senior Data Engineer Role.\n",
    "\n",
    "// 📊 Question: A U.S graduate school has students from Asia, Europe and America. \n",
    "// The students’ location information are stored in table student as below.\n",
    "\n",
    "// | name   | continent |\n",
    "// |--------|-----------|\n",
    "// | Jack   | America   |\n",
    "// | Pascal | Europe    |\n",
    "// | Xi     | Asia      |\n",
    "// | Jane   | America   |\n",
    "\n",
    "// 👉 Pivot the continent column in this table so that each name is sorted alphabetically and displayed underneath its corresponding continent.\n",
    "\n",
    "// 👉 The output headers should be America, Asia and Europe respectively.\n",
    "\n",
    "// Expected Output:--->\n",
    "\n",
    "// | America | Asia | Europe |\n",
    "// |---------|------|--------|\n",
    "// | Jack    | Xi   | Pascal |\n",
    "// | Jane    |      |        |\n",
    "\n",
    "// ✅ 𝗘𝘅𝗽𝗹𝗮𝗻𝗮𝘁𝗶𝗼𝗻:\n",
    "// 1️⃣ Add a row number within each continent.\n",
    "// 2️⃣ Pivot the continent column and Orders the columns alphabetically.\n",
    "\n",
    "\n",
    "import org.apache.spark.sql.functions._\n",
    "import org.apache.spark.sql.expressions._\n",
    "\n",
    "val df = Seq(\n",
    "    (\"Jack\", \"America\"),\n",
    "    (\"Pascal\", \"Europe\"),\n",
    "    (\"Xi\", \"Asia\"),\n",
    "    (\"Jane\", \"America\"),\n",
    "    (\"Robert\", \"Australia\"),\n",
    "    (\"Shane\", \"Australia\"),\n",
    "    (\"Matthew\", \"Australia\")\n",
    ").toDF(\"name\", \"continent\")\n",
    "\n",
    "\n",
    "val df1 = df.withColumn(\"row_number\", row_number().over(Window.partitionBy($\"continent\").orderBy($\"name\")))\n",
    "\n",
    "// +-------+---------+----------+\n",
    "// |name   |continent|row_number|\n",
    "// +-------+---------+----------+\n",
    "// |Jack   |America  |1         |\n",
    "// |Jane   |America  |2         |\n",
    "// |Xi     |Asia     |1         |\n",
    "// |Matthew|Australia|1         |\n",
    "// |Robert |Australia|2         |\n",
    "// |Shane  |Australia|3         |\n",
    "// |Pascal |Europe   |1         |\n",
    "// +-------+---------+----------+\n",
    "\n",
    "\n",
    "val pivotedDF = df1.groupBy($\"row_number\").pivot($\"continent\").agg(first($\"name\")).orderBy($\"row_number\")\n",
    "// +----------+-------+----+---------+------+\n",
    "// |row_number|America|Asia|Australia|Europe|\n",
    "// +----------+-------+----+---------+------+\n",
    "// |1         |Jack   |Xi  |Matthew  |Pascal|\n",
    "// |2         |Jane   |null|Robert   |null  |\n",
    "// |3         |null   |null|Shane    |null  |\n",
    "// +----------+-------+----+---------+------+\n",
    "\n",
    "\n",
    "pivotedDF.drop(\"row_number\").show(false)\n",
    "\n",
    "\n",
    "\n",
    "// Pivot syntax\n",
    "// df\n",
    "//   .groupBy(grouping_columns)\n",
    "//   .pivot(pivot_column, [values]) \n",
    "//   .agg(aggregate_expressions)\n"
   ]
  },
  {
   "cell_type": "code",
   "execution_count": null,
   "id": "671ec399",
   "metadata": {},
   "outputs": [],
   "source": []
  }
 ],
 "metadata": {
  "kernelspec": {
   "display_name": "spylon-kernel",
   "language": "scala",
   "name": "spylon-kernel"
  },
  "language_info": {
   "codemirror_mode": "text/x-scala",
   "file_extension": ".scala",
   "help_links": [
    {
     "text": "MetaKernel Magics",
     "url": "https://metakernel.readthedocs.io/en/latest/source/README.html"
    }
   ],
   "mimetype": "text/x-scala",
   "name": "scala",
   "pygments_lexer": "scala",
   "version": "0.4.1"
  }
 },
 "nbformat": 4,
 "nbformat_minor": 5
}
