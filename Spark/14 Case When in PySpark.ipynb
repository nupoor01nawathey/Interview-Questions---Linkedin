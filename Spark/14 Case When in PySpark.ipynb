{
 "cells": [
  {
   "cell_type": "code",
   "execution_count": 0,
   "metadata": {
    "application/vnd.databricks.v1+cell": {
     "cellMetadata": {
      "byteLimit": 2048000,
      "rowLimit": 10000
     },
     "inputWidgets": {},
     "nuid": "bd9b6b04-a572-463e-a38d-0fb47c6e985d",
     "showTitle": false,
     "tableResultSettingsMap": {},
     "title": ""
    }
   },
   "outputs": [
    {
     "output_type": "stream",
     "name": "stdout",
     "output_type": "stream",
     "text": [
      "+----+-------+----+------+-------+-----------+\n|  id|   name| age|salary|country|       dept|\n+----+-------+----+------+-------+-----------+\n|   1| manish|  26| 20000|  india|         IT|\n|   2|  rahul|null| 40000|germany|engineering|\n|   3|  pawan|  12| 60000|  india|      sales|\n|   4|roshini|  44|  null|     uk|engineering|\n|   5|raushan|  35| 70000|  india|      sales|\n|   6|   null|  29|200000|     uk|         IT|\n|   7|   adam|  37| 65000|     us|         IT|\n|   8|  chris|  16| 40000|     us|      sales|\n|null|   null|null|  null|   null|       null|\n|   7|   adam|  37| 65000|     us|         IT|\n+----+-------+----+------+-------+-----------+\n\n"
     ]
    }
   ],
   "source": [
    "\n",
    "emp_df = spark.createDataFrame(\n",
    "    [\n",
    "        (1,'manish',26,20000,'india','IT'),\n",
    "        (2,'rahul',None,40000,'germany','engineering'),\n",
    "        (3,'pawan',12,60000,'india','sales'),\n",
    "        (4,'roshini',44,None,'uk','engineering'),\n",
    "        (5,'raushan',35,70000,'india','sales'),\n",
    "        (6,None,29,200000,'uk','IT'),\n",
    "        (7,'adam',37,65000,'us','IT'),\n",
    "        (8,'chris',16,40000,'us','sales'),\n",
    "        (None,None,None,None,None,None),\n",
    "        (7,'adam',37,65000,'us','IT')\n",
    "    ], [\"id\", \"name\", \"age\", \"salary\", \"country\", \"dept\"])\n",
    "\n",
    "emp_df.show()"
   ]
  },
  {
   "cell_type": "code",
   "execution_count": 0,
   "metadata": {
    "application/vnd.databricks.v1+cell": {
     "cellMetadata": {
      "byteLimit": 2048000,
      "rowLimit": 10000
     },
     "inputWidgets": {},
     "nuid": "6e799c7f-6a05-42b1-9d25-a6a02380c796",
     "showTitle": false,
     "tableResultSettingsMap": {},
     "title": ""
    }
   },
   "outputs": [
    {
     "output_type": "stream",
     "name": "stdout",
     "output_type": "stream",
     "text": [
      "+----+-------+----+------+-------+-----------+-------+\n|  id|   name| age|salary|country|       dept|  adult|\n+----+-------+----+------+-------+-----------+-------+\n|   1| manish|  26| 20000|  india|         IT|    Yes|\n|   2|  rahul|null| 40000|germany|engineering|NoValue|\n|   3|  pawan|  12| 60000|  india|      sales|     No|\n|   4|roshini|  44|  null|     uk|engineering|    Yes|\n|   5|raushan|  35| 70000|  india|      sales|    Yes|\n|   6|   null|  29|200000|     uk|         IT|    Yes|\n|   7|   adam|  37| 65000|     us|         IT|    Yes|\n|   8|  chris|  16| 40000|     us|      sales|     No|\n|null|   null|null|  null|   null|       null|NoValue|\n|   7|   adam|  37| 65000|     us|         IT|    Yes|\n+----+-------+----+------+-------+-----------+-------+\n\n"
     ]
    }
   ],
   "source": [
    "from pyspark.sql.functions import *\n",
    "\n",
    "emp_df.withColumn(\"adult\", when(col(\"age\") < 18, \"No\").when(col(\"age\") > 18, \"Yes\").otherwise(\"NoValue\"))\\\n",
    "    .show()"
   ]
  },
  {
   "cell_type": "code",
   "execution_count": 0,
   "metadata": {
    "application/vnd.databricks.v1+cell": {
     "cellMetadata": {
      "byteLimit": 2048000,
      "rowLimit": 10000
     },
     "inputWidgets": {},
     "nuid": "2c8e975f-6de7-449a-ab5a-7d30e8b28399",
     "showTitle": false,
     "tableResultSettingsMap": {},
     "title": ""
    }
   },
   "outputs": [
    {
     "output_type": "stream",
     "name": "stdout",
     "output_type": "stream",
     "text": [
      "+----+-------+---+------+-------+-----------+-----+\n|  id|   name|age|salary|country|       dept|adult|\n+----+-------+---+------+-------+-----------+-----+\n|   1| manish| 26| 20000|  india|         IT|  Yes|\n|   2|  rahul| 18| 40000|germany|engineering|   No|\n|   3|  pawan| 12| 60000|  india|      sales|   No|\n|   4|roshini| 44|  null|     uk|engineering|  Yes|\n|   5|raushan| 35| 70000|  india|      sales|  Yes|\n|   6|   null| 29|200000|     uk|         IT|  Yes|\n|   7|   adam| 37| 65000|     us|         IT|  Yes|\n|   8|  chris| 16| 40000|     us|      sales|   No|\n|null|   null| 18|  null|   null|       null|   No|\n|   7|   adam| 37| 65000|     us|         IT|  Yes|\n+----+-------+---+------+-------+-----------+-----+\n\n"
     ]
    }
   ],
   "source": [
    "# Set default 18 when age=null\n",
    "emp_df.withColumn(\"age\", when(col(\"age\").isNull(), lit(18)).otherwise(col(\"age\")))\\\n",
    "    .withColumn(\"adult\", when(col(\"age\") > 18, \"Yes\").otherwise(\"No\")).show()"
   ]
  },
  {
   "cell_type": "code",
   "execution_count": 0,
   "metadata": {
    "application/vnd.databricks.v1+cell": {
     "cellMetadata": {
      "byteLimit": 2048000,
      "rowLimit": 10000
     },
     "inputWidgets": {},
     "nuid": "328cbe22-365f-49f0-87e1-c539d63bd196",
     "showTitle": false,
     "tableResultSettingsMap": {},
     "title": ""
    }
   },
   "outputs": [
    {
     "output_type": "stream",
     "name": "stdout",
     "output_type": "stream",
     "text": [
      "+----+-------+----+------+-------+-----------+------------+\n|  id|   name| age|salary|country|       dept|age_category|\n+----+-------+----+------+-------+-----------+------------+\n|   1| manish|  26| 20000|  india|         IT|       Minor|\n|   2|  rahul|null| 40000|germany|engineering|        null|\n|   3|  pawan|  12| 60000|  india|      sales|       Minor|\n|   4|roshini|  44|  null|     uk|engineering|        null|\n|   5|raushan|  35| 70000|  india|      sales|        null|\n|   6|   null|  29|200000|     uk|         IT|       Minor|\n|   7|   adam|  37| 65000|     us|         IT|        null|\n|   8|  chris|  16| 40000|     us|      sales|       Minor|\n|null|   null|null|  null|   null|       null|        null|\n|   7|   adam|  37| 65000|     us|         IT|        null|\n+----+-------+----+------+-------+-----------+------------+\n\n"
     ]
    }
   ],
   "source": [
    "emp_df.withColumn(\"age_category\", when((col(\"age\")>0) & (col(\"age\")<18), \"Minor\"\n",
    "                                       ).when((col(\"age\")>18) & (col(\"age\")<30), \"Minor\")).show()"
   ]
  },
  {
   "cell_type": "code",
   "execution_count": 0,
   "metadata": {
    "application/vnd.databricks.v1+cell": {
     "cellMetadata": {
      "byteLimit": 2048000,
      "rowLimit": 10000
     },
     "inputWidgets": {},
     "nuid": "0f3aa325-fc9a-4486-8013-feac7a560c5e",
     "showTitle": false,
     "tableResultSettingsMap": {},
     "title": ""
    }
   },
   "outputs": [
    {
     "output_type": "stream",
     "name": "stdout",
     "output_type": "stream",
     "text": [
      "+----+-------+----+------+-------+-----------+------------+\n|  id|   name| age|salary|country|       dept|age_category|\n+----+-------+----+------+-------+-----------+------------+\n|   1| manish|  26| 20000|  india|         IT|       minor|\n|   2|  rahul|null| 40000|germany|engineering|       major|\n|   3|  pawan|  12| 60000|  india|      sales|       major|\n|   4|roshini|  44|  null|     uk|engineering|        null|\n|   5|raushan|  35| 70000|  india|      sales|        null|\n|   6|   null|  29|200000|     uk|         IT|       minor|\n|   7|   adam|  37| 65000|     us|         IT|        null|\n|   8|  chris|  16| 40000|     us|      sales|       major|\n|null|   null|null|  null|   null|       null|       major|\n|   7|   adam|  37| 65000|     us|         IT|        null|\n+----+-------+----+------+-------+-----------+------------+\n\n"
     ]
    }
   ],
   "source": [
    "emp_df.createOrReplaceTempView(\"emp_tbl\")\n",
    "\n",
    "spark.sql(\"\"\"\n",
    "          select \n",
    "            *,\n",
    "            case when age>0 and age<18 then 'major'\n",
    "                 when age>18 and age<30 then 'minor'\n",
    "                 when age is null then 'major'\n",
    "            end as age_category \n",
    "          from emp_tbl \n",
    "          \"\"\").show()\n"
   ]
  }
 ],
 "metadata": {
  "application/vnd.databricks.v1+notebook": {
   "computePreferences": null,
   "dashboards": [],
   "environmentMetadata": {
    "base_environment": "",
    "environment_version": "1"
   },
   "inputWidgetPreferences": null,
   "language": "python",
   "notebookMetadata": {
    "pythonIndentUnit": 4
   },
   "notebookName": "14 Case When in PySpark",
   "widgets": {}
  }
 },
 "nbformat": 4,
 "nbformat_minor": 0
}