{
 "cells": [
  {
   "cell_type": "code",
   "execution_count": 6,
   "id": "ddd1fba6",
   "metadata": {},
   "outputs": [
    {
     "name": "stdout",
     "output_type": "stream",
     "text": [
      "+----+----+----+\n",
      "|A   |B   |C   |\n",
      "+----+----+----+\n",
      "|a   |1   |1   |\n",
      "|null|null|null|\n",
      "|    |2   |2   |\n",
      "|b   |null|null|\n",
      "|null|3   |3   |\n",
      "+----+----+----+\n",
      "\n"
     ]
    },
    {
     "data": {
      "text/plain": [
       "df: org.apache.spark.sql.DataFrame = [A: string, B: int ... 1 more field]\n"
      ]
     },
     "execution_count": 6,
     "metadata": {},
     "output_type": "execute_result"
    }
   ],
   "source": [
    "// Count null, \"\" or NaN in all columns for a given dataframe\n",
    "// Expected output\n",
    "// +---+---+---+\n",
    "// |A  |B  |C  |\n",
    "// +---+---+---+\n",
    "// |3  |2  |2  |\n",
    "// +---+---+---+\n",
    "\n",
    "val df = Seq(\n",
    "    (Some(\"a\"), Some(1), Some(1)), \n",
    "    (null, null, null), \n",
    "    (Some(\"\"), Some(2), Some(2)),\n",
    "    (Some(\"b\"), null, null),\n",
    "    (null, Some(3), Some(3))\n",
    ").toDF(\"A\", \"B\", \"C\")\n",
    "\n",
    "df.show(false)\n"
   ]
  },
  {
   "cell_type": "code",
   "execution_count": 7,
   "id": "d1d06691",
   "metadata": {},
   "outputs": [
    {
     "data": {
      "text/plain": [
       "columns: Array[String] = Array(A, B, C)\n"
      ]
     },
     "execution_count": 7,
     "metadata": {},
     "output_type": "execute_result"
    }
   ],
   "source": [
    "val columns = df.columns\n"
   ]
  },
  {
   "cell_type": "code",
   "execution_count": 23,
   "id": "38c56aaa",
   "metadata": {},
   "outputs": [
    {
     "name": "stdout",
     "output_type": "stream",
     "text": [
      "+---+---+---+\n",
      "|A  |B  |C  |\n",
      "+---+---+---+\n",
      "|3  |2  |2  |\n",
      "+---+---+---+\n",
      "\n"
     ]
    }
   ],
   "source": [
    "\n",
    "df.select(\n",
    "    df.columns.map(\n",
    "        c=>count(\n",
    "            when(col(c).isNull || col(c) === \"\" || col(c).isNaN, c)\n",
    "        ).alias(c)\n",
    "    ): _*).show(false)\n"
   ]
  },
  {
   "cell_type": "code",
   "execution_count": null,
   "id": "d95ae4f6",
   "metadata": {},
   "outputs": [],
   "source": [
    "// SQL \n",
    "// Use case when statements and take the sum, this is useful only for few columns. \n",
    "// If there are more columns say > 5 then above approach is more suitable.\n",
    "// SUM(CASE WHEN A like 'null' THEN 1 ELSE 0 END) as A,"
   ]
  }
 ],
 "metadata": {
  "kernelspec": {
   "display_name": "spylon-kernel",
   "language": "scala",
   "name": "spylon-kernel"
  },
  "language_info": {
   "codemirror_mode": "text/x-scala",
   "file_extension": ".scala",
   "help_links": [
    {
     "text": "MetaKernel Magics",
     "url": "https://metakernel.readthedocs.io/en/latest/source/README.html"
    }
   ],
   "mimetype": "text/x-scala",
   "name": "scala",
   "pygments_lexer": "scala",
   "version": "0.4.1"
  }
 },
 "nbformat": 4,
 "nbformat_minor": 5
}
