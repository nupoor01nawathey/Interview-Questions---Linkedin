{
 "cells": [
  {
   "cell_type": "code",
   "execution_count": 1,
   "id": "90ec16ac",
   "metadata": {},
   "outputs": [
    {
     "data": {
      "text/plain": [
       "Intitializing Scala interpreter ..."
      ]
     },
     "metadata": {},
     "output_type": "display_data"
    },
    {
     "data": {
      "text/plain": [
       "Spark Web UI available at http://192.168.0.100:4040\n",
       "SparkContext available as 'sc' (version = 3.4.1, master = local[*], app id = local-1705334395235)\n",
       "SparkSession available as 'spark'\n"
      ]
     },
     "metadata": {},
     "output_type": "display_data"
    },
    {
     "data": {
      "text/plain": [
       "import org.apache.spark.sql.functions._\n",
       "df1: org.apache.spark.sql.DataFrame = [age: int, children: int]\n",
       "df2: org.apache.spark.sql.DataFrame = [age: int, education: boolean ... 1 more field]\n",
       "cols1: scala.collection.immutable.Set[String] = Set(age, children)\n",
       "cols2: scala.collection.immutable.Set[String] = Set(age, education, income)\n",
       "total: scala.collection.immutable.Set[String] = Set(age, children, education, income)\n"
      ]
     },
     "execution_count": 1,
     "metadata": {},
     "output_type": "execute_result"
    }
   ],
   "source": [
    "import org.apache.spark.sql.functions._\n",
    "\n",
    "\n",
    "val df1 = sc.parallelize(List(\n",
    "  (50, 2),\n",
    "  (34, 4)\n",
    ")).toDF(\"age\", \"children\")\n",
    "\n",
    "val df2 = sc.parallelize(List(\n",
    "  (26, true, 60000.00),\n",
    "  (32, false, 35000.00)\n",
    ")).toDF(\"age\", \"education\", \"income\")\n",
    "\n",
    "\n",
    "val cols1 = df1.columns.toSet\n",
    "val cols2 = df2.columns.toSet\n",
    "\n",
    "val total = cols1 ++ cols2\n"
   ]
  },
  {
   "cell_type": "code",
   "execution_count": 2,
   "id": "4fa34102",
   "metadata": {},
   "outputs": [
    {
     "data": {
      "text/plain": [
       "combine_columns: (df_cols: Set[String], total_cols: Set[String])List[org.apache.spark.sql.Column]\n"
      ]
     },
     "execution_count": 2,
     "metadata": {},
     "output_type": "execute_result"
    }
   ],
   "source": [
    "// Logic is to iterate over all combined columnd and check if each col from combined col list is there in the df \n",
    "// or not. If exists then use col as is else use null vals.\n",
    "\n",
    "def combine_columns(df_cols: Set[String], total_cols: Set[String]) = {\n",
    "    total_cols.toList.map(x => x match {\n",
    "        case x if df_cols.contains(x) => col(x)\n",
    "        case _ => lit(null).as(x)\n",
    "    })\n",
    "}\n"
   ]
  },
  {
   "cell_type": "code",
   "execution_count": 6,
   "id": "9bf0c950",
   "metadata": {},
   "outputs": [
    {
     "name": "stdout",
     "output_type": "stream",
     "text": [
      "+---+--------+---------+-------+\n",
      "|age|children|education|income |\n",
      "+---+--------+---------+-------+\n",
      "|50 |2       |null     |null   |\n",
      "|34 |4       |null     |null   |\n",
      "|26 |null    |true     |60000.0|\n",
      "|32 |null    |false    |35000.0|\n",
      "+---+--------+---------+-------+\n",
      "\n",
      "== Physical Plan ==\n",
      "Union\n",
      ":- *(1) Project [_1#3 AS age#8, _2#4 AS children#9, null AS education#157, null AS income#158]\n",
      ":  +- *(1) SerializeFromObject [knownnotnull(assertnotnull(input[0, scala.Tuple2, true]))._1 AS _1#3, knownnotnull(assertnotnull(input[0, scala.Tuple2, true]))._2 AS _2#4]\n",
      ":     +- Scan[obj#2]\n",
      "+- *(2) Project [_1#16 AS age#23, null AS children#159, _2#17 AS education#24, _3#18 AS income#25]\n",
      "   +- *(2) SerializeFromObject [knownnotnull(assertnotnull(input[0, scala.Tuple3, true]))._1 AS _1#16, knownnotnull(assertnotnull(input[0, scala.Tuple3, true]))._2 AS _2#17, knownnotnull(assertnotnull(input[0, scala.Tuple3, true]))._3 AS _3#18]\n",
      "      +- Scan[obj#15]\n",
      "\n",
      "\n"
     ]
    },
    {
     "data": {
      "text/plain": [
       "result_df: org.apache.spark.sql.Dataset[org.apache.spark.sql.Row] = [age: int, children: int ... 2 more fields]\n"
      ]
     },
     "execution_count": 6,
     "metadata": {},
     "output_type": "execute_result"
    }
   ],
   "source": [
    "val result_df = df1.select(combine_columns(cols1, total): _*).union(df2.select(combine_columns(cols2, total): _*))\n",
    "\n",
    "result_df.show(false)\n",
    "result_df.explain()"
   ]
  },
  {
   "cell_type": "code",
   "execution_count": null,
   "id": "a54f32ae",
   "metadata": {},
   "outputs": [],
   "source": []
  }
 ],
 "metadata": {
  "kernelspec": {
   "display_name": "spylon-kernel",
   "language": "scala",
   "name": "spylon-kernel"
  },
  "language_info": {
   "codemirror_mode": "text/x-scala",
   "file_extension": ".scala",
   "help_links": [
    {
     "text": "MetaKernel Magics",
     "url": "https://metakernel.readthedocs.io/en/latest/source/README.html"
    }
   ],
   "mimetype": "text/x-scala",
   "name": "scala",
   "pygments_lexer": "scala",
   "version": "0.4.1"
  }
 },
 "nbformat": 4,
 "nbformat_minor": 5
}
