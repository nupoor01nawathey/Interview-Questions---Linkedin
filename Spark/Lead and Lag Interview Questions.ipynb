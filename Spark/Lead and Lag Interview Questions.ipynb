{
 "cells": [
  {
   "cell_type": "code",
   "execution_count": 17,
   "id": "88b6beda",
   "metadata": {},
   "outputs": [],
   "source": [
    "\n",
    "// 1) What is the percentage of loss or gain based on previous month sales\n",
    "// 2) What is the percentage of sales each month based on last 6 months sales ?\n"
   ]
  },
  {
   "cell_type": "code",
   "execution_count": 29,
   "id": "162cbc88",
   "metadata": {
    "scrolled": true
   },
   "outputs": [
    {
     "name": "stdout",
     "output_type": "stream",
     "text": [
      "+---+-------+----------+-------+-------------------+-----------------+\n",
      "|id |brand  |date      |price  |previous_month_sale|percent_loss_gain|\n",
      "+---+-------+----------+-------+-------------------+-----------------+\n",
      "|1  |iphone |2023-01-01|1500000|null               |null             |\n",
      "|1  |iphone |2023-02-01|1300000|1500000            |-15.38           |\n",
      "|1  |iphone |2023-03-01|1600000|1300000            |18.75            |\n",
      "|1  |iphone |2023-04-01|1700000|1600000            |5.88             |\n",
      "|1  |iphone |2023-05-01|1200000|1700000            |-41.67           |\n",
      "|1  |iphone |2023-06-01|1100000|1200000            |-9.09            |\n",
      "|3  |oneplus|2023-01-01|1100000|null               |null             |\n",
      "|3  |oneplus|2023-02-01|1120000|1100000            |1.79             |\n",
      "|3  |oneplus|2023-03-01|1160000|1120000            |3.45             |\n",
      "|3  |oneplus|2023-04-01|1170000|1160000            |0.85             |\n",
      "|3  |oneplus|2023-05-01|1175000|1170000            |0.43             |\n",
      "|3  |oneplus|2023-06-01|1200000|1175000            |2.08             |\n",
      "|2  |samsung|2023-01-01|1100000|null               |null             |\n",
      "|2  |samsung|2023-02-01|1120000|1100000            |1.79             |\n",
      "|2  |samsung|2023-03-01|1080000|1120000            |-3.7             |\n",
      "|2  |samsung|2023-04-01|1800000|1080000            |40.0             |\n",
      "|2  |samsung|2023-05-01|980000 |1800000            |-83.67           |\n",
      "|2  |samsung|2023-06-01|1100000|980000             |10.91            |\n",
      "+---+-------+----------+-------+-------------------+-----------------+\n",
      "\n"
     ]
    },
    {
     "data": {
      "text/plain": [
       "import org.apache.spark.sql.expressions._\n",
       "product_data: org.apache.spark.sql.DataFrame = [id: int, brand: string ... 2 more fields]\n",
       "formatted_dates: org.apache.spark.sql.DataFrame = [id: int, brand: string ... 2 more fields]\n",
       "previous_month_sales: org.apache.spark.sql.DataFrame = [id: int, brand: string ... 3 more fields]\n"
      ]
     },
     "execution_count": 29,
     "metadata": {},
     "output_type": "execute_result"
    }
   ],
   "source": [
    "\n",
    "// 1) What is the percentage of loss or gain based on previous month sales\n",
    "\n",
    "import org.apache.spark.sql.expressions._\n",
    "\n",
    "val product_data = Seq(\n",
    "    (1,\"iphone\",\"01-01-2023\",1500000),\n",
    "    (2,\"samsung\",\"01-01-2023\",1100000),\n",
    "    (3,\"oneplus\",\"01-01-2023\",1100000),\n",
    "    (1,\"iphone\",\"01-02-2023\",1300000),\n",
    "    (2,\"samsung\",\"01-02-2023\",1120000),\n",
    "    (3,\"oneplus\",\"01-02-2023\",1120000),\n",
    "    (1,\"iphone\",\"01-03-2023\",1600000),\n",
    "    (2,\"samsung\",\"01-03-2023\",1080000),\n",
    "    (3,\"oneplus\",\"01-03-2023\",1160000),\n",
    "    (1,\"iphone\",\"01-04-2023\",1700000),\n",
    "    (2,\"samsung\",\"01-04-2023\",1800000),\n",
    "    (3,\"oneplus\",\"01-04-2023\",1170000),\n",
    "    (1,\"iphone\",\"01-05-2023\",1200000),\n",
    "    (2,\"samsung\",\"01-05-2023\",980000),\n",
    "    (3,\"oneplus\",\"01-05-2023\",1175000),\n",
    "    (1,\"iphone\",\"01-06-2023\",1100000),\n",
    "    (2,\"samsung\",\"01-06-2023\",1100000),\n",
    "    (3,\"oneplus\",\"01-06-2023\",1200000)\n",
    ").toDF(\"id\",\"brand\",\"date\",\"price\")\n",
    "\n",
    "val formatted_dates = product_data.withColumn(\"date\",date_format(to_date($\"date\", \"dd-MM-yyyy\"), \"yyyy-MM-dd\"))\n",
    "\n",
    "val previous_month_sales = formatted_dates.withColumn(\"previous_month_sale\", lag($\"price\",1).over(Window.partitionBy($\"brand\").orderBy($\"date\")))\n",
    "                                  \n",
    "previous_month_sales.withColumn(\"percent_loss_gain\", round(($\"price\" - $\"previous_month_sale\")*100/$\"price\",2)).show(false)                                            \n",
    "                                                      "
   ]
  },
  {
   "cell_type": "code",
   "execution_count": 33,
   "id": "cd6ac15f",
   "metadata": {},
   "outputs": [
    {
     "name": "stdout",
     "output_type": "stream",
     "text": [
      "+---+--------+------+---------+------+-----------+----------+\n",
      "|id |name    |price |dept     |gender|total_sales|percentage|\n",
      "+---+--------+------+---------+------+-----------+----------+\n",
      "|1  |manish  |50000 |IT       |m     |100000     |50.0      |\n",
      "|11 |rakhi   |50000 |IT       |f     |100000     |50.0      |\n",
      "|9  |aditya  |65000 |IT       |m     |165000     |60.61     |\n",
      "|4  |mukesh  |80000 |IT       |m     |245000     |67.35     |\n",
      "|8  |rashi   |100000|IT       |f     |345000     |71.01     |\n",
      "|6  |nikita  |45000 |marketing|f     |45000      |0.0       |\n",
      "|10 |rahul   |50000 |marketing|m     |95000      |47.37     |\n",
      "|7  |ragini  |55000 |marketing|f     |150000     |63.33     |\n",
      "|3  |raushan |70000 |marketing|m     |220000     |68.18     |\n",
      "|2  |vikash  |60000 |sales    |m     |60000      |0.0       |\n",
      "|5  |priti   |90000 |sales    |f     |240000     |62.5      |\n",
      "|12 |akhilesh|90000 |sales    |m     |240000     |62.5      |\n",
      "+---+--------+------+---------+------+-----------+----------+\n",
      "\n"
     ]
    },
    {
     "data": {
      "text/plain": [
       "import org.apache.spark.sql.expressions._\n",
       "emp_data: org.apache.spark.sql.DataFrame = [id: int, name: string ... 3 more fields]\n"
      ]
     },
     "execution_count": 33,
     "metadata": {},
     "output_type": "execute_result"
    }
   ],
   "source": [
    "\n",
    "// 2) What is the percentage of sales each month based on last 6 months sales ?\n",
    "\n",
    "import org.apache.spark.sql.expressions._\n",
    "\n",
    "val emp_data = Seq((1,\"manish\",50000,\"IT\",\"m\"),\n",
    "(2,\"vikash\",60000,\"sales\",\"m\"),\n",
    "(3,\"raushan\",70000,\"marketing\",\"m\"),\n",
    "(4,\"mukesh\",80000,\"IT\",\"m\"),\n",
    "(5,\"priti\",90000,\"sales\",\"f\"),\n",
    "(6,\"nikita\",45000,\"marketing\",\"f\"),\n",
    "(7,\"ragini\",55000,\"marketing\",\"f\"),\n",
    "(8,\"rashi\",100000,\"IT\",\"f\"),\n",
    "(9,\"aditya\",65000,\"IT\",\"m\"),\n",
    "(10,\"rahul\",50000,\"marketing\",\"m\"),\n",
    "(11,\"rakhi\",50000,\"IT\",\"f\"),\n",
    "(12,\"akhilesh\",90000,\"sales\",\"m\")).toDF(\"id\",\"name\",\"price\",\"dept\",\"gender\")\n",
    "\n",
    "emp_data\n",
    "  .withColumn(\"total_sales\",sum($\"price\").over(Window.partitionBy($\"dept\").orderBy($\"price\")))\n",
    "  .withColumn(\"percentage\", round(($\"total_sales\" - $\"price\")*100/$\"total_sales\",2))\n",
    "  .show(false)\n"
   ]
  }
 ],
 "metadata": {
  "kernelspec": {
   "display_name": "spylon-kernel",
   "language": "scala",
   "name": "spylon-kernel"
  },
  "language_info": {
   "codemirror_mode": "text/x-scala",
   "file_extension": ".scala",
   "help_links": [
    {
     "text": "MetaKernel Magics",
     "url": "https://metakernel.readthedocs.io/en/latest/source/README.html"
    }
   ],
   "mimetype": "text/x-scala",
   "name": "scala",
   "pygments_lexer": "scala",
   "version": "0.4.1"
  }
 },
 "nbformat": 4,
 "nbformat_minor": 5
}
