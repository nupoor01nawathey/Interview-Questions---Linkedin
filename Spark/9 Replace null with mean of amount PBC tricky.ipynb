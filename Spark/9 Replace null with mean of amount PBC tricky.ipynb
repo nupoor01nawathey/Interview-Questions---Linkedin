{
 "cells": [
  {
   "cell_type": "code",
   "execution_count": 40,
   "id": "76401a85",
   "metadata": {},
   "outputs": [
    {
     "name": "stdout",
     "output_type": "stream",
     "text": [
      "+-------+------+\n",
      "|sale_id|amount|\n",
      "+-------+------+\n",
      "|1      |100   |\n",
      "|2      |150   |\n",
      "|3      |null  |\n",
      "|4      |200   |\n",
      "|5      |null  |\n",
      "+-------+------+\n",
      "\n"
     ]
    },
    {
     "data": {
      "text/plain": [
       "sales_data: org.apache.spark.sql.DataFrame = [sale_id: string, amount: int]\n"
      ]
     },
     "execution_count": 40,
     "metadata": {},
     "output_type": "execute_result"
    }
   ],
   "source": [
    "// Problem: Given a dataset of sales records, identify and replace all missing values in the 'amount' column\n",
    "// with the average sales amount.\n",
    "\n",
    "\n",
    "val sales_data = Seq((\"1\", Some(100)), \n",
    "                     (\"2\", Some(150)), \n",
    "                     (\"3\", None), \n",
    "                     (\"4\", Some(200)), \n",
    "                     (\"5\", None)\n",
    "                    ).toDF(\"sale_id\", \"amount\")\n",
    "\n",
    "sales_data.show(false)\n"
   ]
  },
  {
   "cell_type": "code",
   "execution_count": 59,
   "id": "8529f5cb",
   "metadata": {},
   "outputs": [
    {
     "data": {
      "text/plain": [
       "mean_amount: Double = 150.0\n",
       "res44: Double = 150.0\n"
      ]
     },
     "execution_count": 59,
     "metadata": {},
     "output_type": "execute_result"
    }
   ],
   "source": [
    "\n",
    "val mean_amount = sales_data.agg(mean($\"amount\").alias(\"mean_amount\")).first().getAs[Double](0)\n",
    "\n",
    "mean_amount"
   ]
  },
  {
   "cell_type": "code",
   "execution_count": 56,
   "id": "c9648432",
   "metadata": {},
   "outputs": [
    {
     "name": "stdout",
     "output_type": "stream",
     "text": [
      "+-------+------+\n",
      "|sale_id|amount|\n",
      "+-------+------+\n",
      "|1      |100   |\n",
      "|2      |150   |\n",
      "|3      |150   |\n",
      "|4      |200   |\n",
      "|5      |150   |\n",
      "+-------+------+\n",
      "\n"
     ]
    },
    {
     "data": {
      "text/plain": [
       "import org.apache.spark.sql.functions._\n",
       "import org.apache.spark.sql.Row\n"
      ]
     },
     "execution_count": 56,
     "metadata": {},
     "output_type": "execute_result"
    }
   ],
   "source": [
    "import org.apache.spark.sql.functions._\n",
    "import org.apache.spark.sql.Row\n",
    "\n",
    "\n",
    "sales_data.na.fill(mean_amount, Array(\"amount\")).show(false)\n"
   ]
  },
  {
   "cell_type": "code",
   "execution_count": null,
   "id": "26bbea10",
   "metadata": {},
   "outputs": [],
   "source": []
  }
 ],
 "metadata": {
  "kernelspec": {
   "display_name": "spylon-kernel",
   "language": "scala",
   "name": "spylon-kernel"
  },
  "language_info": {
   "codemirror_mode": "text/x-scala",
   "file_extension": ".scala",
   "help_links": [
    {
     "text": "MetaKernel Magics",
     "url": "https://metakernel.readthedocs.io/en/latest/source/README.html"
    }
   ],
   "mimetype": "text/x-scala",
   "name": "scala",
   "pygments_lexer": "scala",
   "version": "0.4.1"
  }
 },
 "nbformat": 4,
 "nbformat_minor": 5
}
