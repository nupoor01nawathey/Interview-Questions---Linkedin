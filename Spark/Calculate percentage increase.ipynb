{
 "cells": [
  {
   "cell_type": "code",
   "execution_count": 10,
   "id": "95314e07",
   "metadata": {},
   "outputs": [
    {
     "name": "stdout",
     "output_type": "stream",
     "text": [
      "+--------------+----------+\n",
      "|cases_reported|dates     |\n",
      "+--------------+----------+\n",
      "|20124         |2020-01-10|\n",
      "|40133         |2020-01-15|\n",
      "|65005         |2020-01-20|\n",
      "|30005         |2020-02-08|\n",
      "|35015         |2020-02-19|\n",
      "|15015         |2020-03-03|\n",
      "|35035         |2020-03-10|\n",
      "|49099         |2020-03-14|\n",
      "|84045         |2020-03-20|\n",
      "|100106        |2020-03-31|\n",
      "|17015         |2020-04-04|\n",
      "|36035         |2020-04-11|\n",
      "|50099         |2020-04-13|\n",
      "|87045         |2020-04-22|\n",
      "|101101        |2020-04-30|\n",
      "|40015         |2020-05-01|\n",
      "|54035         |2020-05-09|\n",
      "|71099         |2020-05-14|\n",
      "|82045         |2020-05-21|\n",
      "|90103         |2020-05-25|\n",
      "+--------------+----------+\n",
      "only showing top 20 rows\n",
      "\n"
     ]
    },
    {
     "data": {
      "text/plain": [
       "import org.apache.spark.sql.functions._\n",
       "import org.apache.spark.sql.types._\n",
       "import org.apache.spark.sql.expressions._\n",
       "import org.apache.spark.sql.Row\n",
       "data: Seq[org.apache.spark.sql.Row] = List([20124,2020-01-10], [40133,2020-01-15], [65005,2020-01-20], [30005,2020-02-08], [35015,2020-02-19], [15015,2020-03-03], [35035,2020-03-10], [49099,2020-03-14], [84045,2020-03-20], [100106,2020-03-31], [17015,2020-04-04], [36035,2020-04-11], [50099,2020-04-13], [87045,2020-04-22], [101101,2020-04-30], [40015,2020-05-01], [54035,2020-05-09], [71099,2020-05-14], [82045,2020-05-21], [90103,2020-05-25], [99103,2020-05-31], [11015,2020-06-03], [28035,2020-06-10], [38099,2020-06-14], [45045,2020-06-20], [36033,2020-07-09], [40011,2020-07-23], [25001,2020-08-12], [29990,2020-08-26], [20112,2020-09-04], [4...\n"
      ]
     },
     "execution_count": 10,
     "metadata": {},
     "output_type": "execute_result"
    }
   ],
   "source": [
    "/*\n",
    "    Calculate percentage increase in each month Vs cumulative cases in the prior month\n",
    "*/\n",
    "\n",
    "\n",
    "import org.apache.spark.sql.functions._\n",
    "import org.apache.spark.sql.types._\n",
    "import org.apache.spark.sql.expressions._\n",
    "import org.apache.spark.sql.Row\n",
    "\n",
    "val data = Seq(\n",
    "    Row(20124 ,\"2020-01-10\"),\n",
    "    Row(40133 ,\"2020-01-15\"),\n",
    "    Row(65005 ,\"2020-01-20\"),\n",
    "    Row(30005 ,\"2020-02-08\"),\n",
    "    Row(35015 ,\"2020-02-19\"),\n",
    "    Row(15015 ,\"2020-03-03\"),\n",
    "    Row(35035 ,\"2020-03-10\"),\n",
    "    Row(49099 ,\"2020-03-14\"),\n",
    "    Row(84045 ,\"2020-03-20\"),\n",
    "    Row(100106,\"2020-03-31\"),\n",
    "    Row(17015 ,\"2020-04-04\"),\n",
    "    Row(36035 ,\"2020-04-11\"),\n",
    "    Row(50099 ,\"2020-04-13\"),\n",
    "    Row(87045 ,\"2020-04-22\"),\n",
    "    Row(101101,\"2020-04-30\"),\n",
    "    Row(40015 ,\"2020-05-01\"),\n",
    "    Row(54035 ,\"2020-05-09\"),\n",
    "    Row(71099 ,\"2020-05-14\"),\n",
    "    Row(82045 ,\"2020-05-21\"),\n",
    "    Row(90103 ,\"2020-05-25\"),\n",
    "    Row(99103 ,\"2020-05-31\"),\n",
    "    Row(11015 ,\"2020-06-03\"),\n",
    "    Row(28035 ,\"2020-06-10\"),\n",
    "    Row(38099 ,\"2020-06-14\"),\n",
    "    Row(45045 ,\"2020-06-20\"),\n",
    "    Row(36033 ,\"2020-07-09\"),\n",
    "    Row(40011 ,\"2020-07-23\"),\n",
    "    Row(25001 ,\"2020-08-12\"),\n",
    "    Row(29990 ,\"2020-08-26\"),\n",
    "    Row(20112 ,\"2020-09-04\"),\n",
    "    Row(43991 ,\"2020-09-18\"),\n",
    "    Row(51002 ,\"2020-09-29\"),\n",
    "    Row(26587 ,\"2020-10-25\"),\n",
    "    Row(11000 ,\"2020-11-07\"),\n",
    "    Row(35002 ,\"2020-11-16\"),\n",
    "    Row(56010 ,\"2020-11-28\"),\n",
    "    Row(15099 ,\"2020-12-02\"),\n",
    "    Row(38042 ,\"2020-12-11\"),\n",
    "    Row(73030 ,\"2020-12-26\")\n",
    ")\n",
    "\n",
    "val schema = StructType(Array(\n",
    "    StructField(\"cases_reported\", IntegerType),\n",
    "    StructField(\"dates\", StringType)\n",
    "))\n",
    "\n",
    "val rdd = spark.sparkContext.parallelize(data)\n",
    "val df = spark.createDataFrame(rdd, schema)\n",
    "\n",
    "df.show(false)"
   ]
  },
  {
   "cell_type": "code",
   "execution_count": 12,
   "id": "b42dbec4",
   "metadata": {},
   "outputs": [
    {
     "name": "stdout",
     "output_type": "stream",
     "text": [
      "+--------------+----------+\n",
      "|cases_reported|dates     |\n",
      "+--------------+----------+\n",
      "|20124         |2020-01-10|\n",
      "|40133         |2020-01-15|\n",
      "|65005         |2020-01-20|\n",
      "|30005         |2020-02-08|\n",
      "|35015         |2020-02-19|\n",
      "|15015         |2020-03-03|\n",
      "|35035         |2020-03-10|\n",
      "|49099         |2020-03-14|\n",
      "|84045         |2020-03-20|\n",
      "|100106        |2020-03-31|\n",
      "|17015         |2020-04-04|\n",
      "|36035         |2020-04-11|\n",
      "|50099         |2020-04-13|\n",
      "|87045         |2020-04-22|\n",
      "|101101        |2020-04-30|\n",
      "|40015         |2020-05-01|\n",
      "|54035         |2020-05-09|\n",
      "|71099         |2020-05-14|\n",
      "|82045         |2020-05-21|\n",
      "|90103         |2020-05-25|\n",
      "+--------------+----------+\n",
      "only showing top 20 rows\n",
      "\n"
     ]
    },
    {
     "data": {
      "text/plain": [
       "formatted_dates: org.apache.spark.sql.DataFrame = [cases_reported: int, dates: date]\n"
      ]
     },
     "execution_count": 12,
     "metadata": {},
     "output_type": "execute_result"
    }
   ],
   "source": [
    "val formatted_dates = df.withColumn(\"dates\", to_date($\"dates\", \"yyyy-MM-dd\"))\n",
    "formatted_dates.show(false)"
   ]
  },
  {
   "cell_type": "code",
   "execution_count": 23,
   "id": "8ba95378",
   "metadata": {},
   "outputs": [
    {
     "name": "stdout",
     "output_type": "stream",
     "text": [
      "+-----+-------------+\n",
      "|month|monthly_cases|\n",
      "+-----+-------------+\n",
      "|1    |125262       |\n",
      "|3    |283300       |\n",
      "|2    |65020        |\n",
      "|5    |436400       |\n",
      "|4    |291295       |\n",
      "|6    |122194       |\n",
      "|8    |54991        |\n",
      "|7    |76044        |\n",
      "|12   |126171       |\n",
      "|9    |115105       |\n",
      "|10   |26587        |\n",
      "|11   |102012       |\n",
      "+-----+-------------+\n",
      "\n"
     ]
    },
    {
     "data": {
      "text/plain": [
       "monthly_cases: org.apache.spark.sql.DataFrame = [month: int, monthly_cases: bigint]\n"
      ]
     },
     "execution_count": 23,
     "metadata": {},
     "output_type": "execute_result"
    }
   ],
   "source": [
    "val monthly_cases = formatted_dates.groupBy(month($\"dates\").alias(\"month\")\n",
    "                                           ).agg(sum(\"cases_reported\").alias(\"monthly_cases\"))\n",
    "monthly_cases.show(false)"
   ]
  },
  {
   "cell_type": "code",
   "execution_count": 25,
   "id": "9ee2965c",
   "metadata": {},
   "outputs": [
    {
     "name": "stdout",
     "output_type": "stream",
     "text": [
      "+-----+-------------+----------------+\n",
      "|month|monthly_cases|cumulative_cases|\n",
      "+-----+-------------+----------------+\n",
      "|1    |125262       |125262          |\n",
      "|2    |65020        |190282          |\n",
      "|3    |283300       |473582          |\n",
      "|4    |291295       |764877          |\n",
      "|5    |436400       |1201277         |\n",
      "|6    |122194       |1323471         |\n",
      "|7    |76044        |1399515         |\n",
      "|8    |54991        |1454506         |\n",
      "|9    |115105       |1569611         |\n",
      "|10   |26587        |1596198         |\n",
      "|11   |102012       |1698210         |\n",
      "|12   |126171       |1824381         |\n",
      "+-----+-------------+----------------+\n",
      "\n"
     ]
    },
    {
     "data": {
      "text/plain": [
       "cumulative_cases: org.apache.spark.sql.DataFrame = [month: int, monthly_cases: bigint ... 1 more field]\n"
      ]
     },
     "execution_count": 25,
     "metadata": {},
     "output_type": "execute_result"
    }
   ],
   "source": [
    "val cumulative_cases = monthly_cases.withColumn(\"cumulative_cases\", sum(\"monthly_cases\").over(Window.orderBy($\"month\")))\n",
    "\n",
    "cumulative_cases.show(false)\n"
   ]
  },
  {
   "cell_type": "code",
   "execution_count": 33,
   "id": "daf4d9f3",
   "metadata": {},
   "outputs": [
    {
     "name": "stdout",
     "output_type": "stream",
     "text": [
      "+-----+-------------+----------------+-----------------+\n",
      "|month|monthly_cases|cumulative_cases|prior_month_cases|\n",
      "+-----+-------------+----------------+-----------------+\n",
      "|1    |125262       |125262          |null             |\n",
      "|2    |65020        |190282          |125262           |\n",
      "|3    |283300       |473582          |190282           |\n",
      "|4    |291295       |764877          |473582           |\n",
      "|5    |436400       |1201277         |764877           |\n",
      "|6    |122194       |1323471         |1201277          |\n",
      "|7    |76044        |1399515         |1323471          |\n",
      "|8    |54991        |1454506         |1399515          |\n",
      "|9    |115105       |1569611         |1454506          |\n",
      "|10   |26587        |1596198         |1569611          |\n",
      "|11   |102012       |1698210         |1596198          |\n",
      "|12   |126171       |1824381         |1698210          |\n",
      "+-----+-------------+----------------+-----------------+\n",
      "\n"
     ]
    },
    {
     "data": {
      "text/plain": [
       "prior_month_cumulative: org.apache.spark.sql.DataFrame = [month: int, monthly_cases: bigint ... 2 more fields]\n"
      ]
     },
     "execution_count": 33,
     "metadata": {},
     "output_type": "execute_result"
    }
   ],
   "source": [
    "val prior_month_cumulative = cumulative_cases.withColumn(\"prior_month_cases\", \n",
    "                                                         lag($\"cumulative_cases\",1).over(Window.orderBy($\"month\"))\n",
    "                                                        )\n",
    "prior_month_cumulative.show(false)"
   ]
  },
  {
   "cell_type": "code",
   "execution_count": 58,
   "id": "5b98d25a",
   "metadata": {},
   "outputs": [
    {
     "name": "stdout",
     "output_type": "stream",
     "text": [
      "+-----+-------------+----------------+-----------------+-------------------+\n",
      "|month|monthly_cases|cumulative_cases|prior_month_cases|percentage_increase|\n",
      "+-----+-------------+----------------+-----------------+-------------------+\n",
      "|1    |125262       |125262          |null             |null               |\n",
      "|2    |65020        |190282          |125262           |51.900000000000006 |\n",
      "|3    |283300       |473582          |190282           |148.9              |\n",
      "|4    |291295       |764877          |473582           |61.5               |\n",
      "|5    |436400       |1201277         |764877           |57.099999999999994 |\n",
      "|6    |122194       |1323471         |1201277          |10.200000000000003 |\n",
      "|7    |76044        |1399515         |1323471          |5.700000000000003  |\n",
      "|8    |54991        |1454506         |1399515          |3.9000000000000057 |\n",
      "|9    |115105       |1569611         |1454506          |7.900000000000006  |\n",
      "|10   |26587        |1596198         |1569611          |1.7000000000000028 |\n",
      "|11   |102012       |1698210         |1596198          |6.400000000000006  |\n",
      "|12   |126171       |1824381         |1698210          |7.400000000000006  |\n",
      "+-----+-------------+----------------+-----------------+-------------------+\n",
      "\n"
     ]
    }
   ],
   "source": [
    "prior_month_cumulative.withColumn(\n",
    "    \"percentage_increase\",round( $\"cumulative_cases\"  * 100.0 / $\"prior_month_cases\" , 1)-lit(100.0)\n",
    ").show(false)\n"
   ]
  },
  {
   "cell_type": "code",
   "execution_count": null,
   "id": "3598fd44",
   "metadata": {},
   "outputs": [],
   "source": []
  }
 ],
 "metadata": {
  "kernelspec": {
   "display_name": "spylon-kernel",
   "language": "scala",
   "name": "spylon-kernel"
  },
  "language_info": {
   "codemirror_mode": "text/x-scala",
   "file_extension": ".scala",
   "help_links": [
    {
     "text": "MetaKernel Magics",
     "url": "https://metakernel.readthedocs.io/en/latest/source/README.html"
    }
   ],
   "mimetype": "text/x-scala",
   "name": "scala",
   "pygments_lexer": "scala",
   "version": "0.4.1"
  }
 },
 "nbformat": 4,
 "nbformat_minor": 5
}
