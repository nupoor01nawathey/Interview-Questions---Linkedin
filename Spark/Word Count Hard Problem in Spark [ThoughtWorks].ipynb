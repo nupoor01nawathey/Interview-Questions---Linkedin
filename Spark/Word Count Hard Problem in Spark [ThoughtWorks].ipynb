{
 "cells": [
  {
   "cell_type": "code",
   "execution_count": 15,
   "id": "6d299f52",
   "metadata": {},
   "outputs": [
    {
     "name": "stdout",
     "output_type": "stream",
     "text": [
      "+-------------------------------------------------------------------------------------------------------------------------------------------------------------------------------------------------------------------------------------------------------------------------------------------------------------------------------------------------------------------------------------------------------------------------------------------------------------------------------------------------------------------+\n",
      "|text                                                                                                                                                                                                                                                                                                                                                                                                                                                                                                               |\n",
      "+-------------------------------------------------------------------------------------------------------------------------------------------------------------------------------------------------------------------------------------------------------------------------------------------------------------------------------------------------------------------------------------------------------------------------------------------------------------------------------------------------------------------+\n",
      "|[In a world full of #technology, understanding data is key to success. Data analytics, 'AI', and machine learning are transforming industries. Companies are racing to harness the power of data-driven insights; But,  data is messy and comes in various formats - structured, unstructured, and semi-structured. The challenge is to clean, process, and  analyze this data effectively. There's a growing demand for data scientists, analysts, and engineers who can unlock the value hidden within the data.]|\n",
      "+-------------------------------------------------------------------------------------------------------------------------------------------------------------------------------------------------------------------------------------------------------------------------------------------------------------------------------------------------------------------------------------------------------------------------------------------------------------------------------------------------------------------+\n",
      "\n"
     ]
    },
    {
     "data": {
      "text/plain": [
       "text: List[String] = List(In a world full of #technology, understanding data is key to success. Data analytics, 'AI', and machine learning are transforming industries. Companies are racing to harness the power of data-driven insights; But,  data is messy and comes in various formats - structured, unstructured, and semi-structured. The challenge is to clean, process, and  analyze this data effectively. There's a growing demand for data scientists, analysts, and engineers who can unlock the value hidden within the data.)\n",
       "input_df: org.apache.spark.sql.DataFrame = [text: array<string>]\n"
      ]
     },
     "execution_count": 15,
     "metadata": {},
     "output_type": "execute_result"
    }
   ],
   "source": [
    "// We have a file *.txt at input path. Find out the frequency of each word exists in text file.\n",
    "// It may look like a straight forward \"Word Count\" problem, it is not.\n",
    "// O/p has to be in specified format as it was a code pairing question to pass the given test case.\n",
    "\n",
    "\n",
    "\n",
    "val text = List(\"In a world full of #technology, understanding data is key to success. Data analytics, 'AI', and machine learning are transforming industries. Companies are racing to harness the power of data-driven insights; But,  data is messy and comes in various formats - structured, unstructured, and semi-structured. The challenge is to clean, process, and  analyze this data effectively. There's a growing demand for data scientists, analysts, and engineers who can unlock the value hidden within the data.\")\n",
    "\n",
    "val input_df = Seq(text).toDF(\"text\")\n",
    "\n",
    "input_df.show(false)"
   ]
  },
  {
   "cell_type": "code",
   "execution_count": 30,
   "id": "905b59c6",
   "metadata": {},
   "outputs": [
    {
     "name": "stdout",
     "output_type": "stream",
     "text": [
      "root\n",
      " |-- text: array (nullable = true)\n",
      " |    |-- element: string (containsNull = true)\n",
      "\n"
     ]
    }
   ],
   "source": [
    "input_df.printSchema() \n"
   ]
  },
  {
   "cell_type": "code",
   "execution_count": 36,
   "id": "b0fd3a73",
   "metadata": {},
   "outputs": [
    {
     "name": "stdout",
     "output_type": "stream",
     "text": [
      "+-----------------------------------------------------------------------------------------------------------------------------------------------------------------------------------------------------------------------------------------------------------------------------------------------------------------------------------------------------------------------------------------------------------------------------------------------------------------------------------------------------------------+\n",
      "|string                                                                                                                                                                                                                                                                                                                                                                                                                                                                                                           |\n",
      "+-----------------------------------------------------------------------------------------------------------------------------------------------------------------------------------------------------------------------------------------------------------------------------------------------------------------------------------------------------------------------------------------------------------------------------------------------------------------------------------------------------------------+\n",
      "|In a world full of #technology, understanding data is key to success. Data analytics, 'AI', and machine learning are transforming industries. Companies are racing to harness the power of data-driven insights; But,  data is messy and comes in various formats - structured, unstructured, and semi-structured. The challenge is to clean, process, and  analyze this data effectively. There's a growing demand for data scientists, analysts, and engineers who can unlock the value hidden within the data.|\n",
      "+-----------------------------------------------------------------------------------------------------------------------------------------------------------------------------------------------------------------------------------------------------------------------------------------------------------------------------------------------------------------------------------------------------------------------------------------------------------------------------------------------------------------+\n",
      "\n",
      "root\n",
      " |-- string: string (nullable = false)\n",
      "\n"
     ]
    },
    {
     "data": {
      "text/plain": [
       "array_of_words_to_string_df: org.apache.spark.sql.DataFrame = [string: string]\n"
      ]
     },
     "execution_count": 36,
     "metadata": {},
     "output_type": "execute_result"
    }
   ],
   "source": [
    "val array_of_words_to_string_df = input_df.withColumn(\"string\", concat_ws(\",\", $\"text\")).drop(\"text\")\n",
    "\n",
    "array_of_words_to_string_df.show(false)\n",
    "array_of_words_to_string_df.printSchema()"
   ]
  },
  {
   "cell_type": "code",
   "execution_count": 77,
   "id": "2228e884",
   "metadata": {},
   "outputs": [
    {
     "name": "stdout",
     "output_type": "stream",
     "text": [
      "+--------------+-----+\n",
      "|words         |count|\n",
      "+--------------+-----+\n",
      "|analysts      |1    |\n",
      "|understanding |1    |\n",
      "|within        |1    |\n",
      "|demand        |1    |\n",
      "|who           |1    |\n",
      "|ata           |1    |\n",
      "|process       |1    |\n",
      "|success       |1    |\n",
      "|power         |1    |\n",
      "|growing       |1    |\n",
      "|can           |1    |\n",
      "|technology    |1    |\n",
      "|for           |1    |\n",
      "|ompanies      |1    |\n",
      "|in            |1    |\n",
      "|heres         |1    |\n",
      "|hidden        |1    |\n",
      "|comes         |1    |\n",
      "|machine       |1    |\n",
      "|n             |1    |\n",
      "|insights      |1    |\n",
      "|learning      |1    |\n",
      "|harness       |1    |\n",
      "|is            |3    |\n",
      "|challenge     |1    |\n",
      "|data          |5    |\n",
      "|full          |1    |\n",
      "|racing        |1    |\n",
      "|the           |3    |\n",
      "|structured    |1    |\n",
      "|formats       |1    |\n",
      "|analyze       |1    |\n",
      "|transforming  |1    |\n",
      "|effectively   |1    |\n",
      "|analytics     |1    |\n",
      "|unstructured  |1    |\n",
      "|and           |5    |\n",
      "|industries    |1    |\n",
      "|are           |2    |\n",
      "|clean         |1    |\n",
      "|engineers     |1    |\n",
      "|of            |2    |\n",
      "|datadriven    |1    |\n",
      "|unlock        |1    |\n",
      "|world         |1    |\n",
      "|key           |1    |\n",
      "|messy         |1    |\n",
      "|value         |1    |\n",
      "|a             |2    |\n",
      "|this          |1    |\n",
      "|ut            |1    |\n",
      "|semistructured|1    |\n",
      "|scientists    |1    |\n",
      "|to            |3    |\n",
      "|he            |1    |\n",
      "|various       |1    |\n",
      "+--------------+-----+\n",
      "\n"
     ]
    },
    {
     "data": {
      "text/plain": [
       "words_df: org.apache.spark.sql.DataFrame = [words: string, count: bigint]\n"
      ]
     },
     "execution_count": 77,
     "metadata": {},
     "output_type": "execute_result"
    }
   ],
   "source": [
    "val words_df = array_of_words_to_string_df.withColumn(\"words\", regexp_replace($\"string\", \"[';.,#*-_]\",\"\")\n",
    "                                        ).withColumn(\"words\", explode(split(lower($\"words\"), \" \"))\n",
    "                        ).select(\"words\").filter($\"words\" =!= \"\").groupBy($\"words\").count()\n",
    "\n",
    "words_df.show(1000, false)"
   ]
  },
  {
   "cell_type": "code",
   "execution_count": null,
   "id": "301e3906",
   "metadata": {},
   "outputs": [],
   "source": []
  }
 ],
 "metadata": {
  "kernelspec": {
   "display_name": "spylon-kernel",
   "language": "scala",
   "name": "spylon-kernel"
  },
  "language_info": {
   "codemirror_mode": "text/x-scala",
   "file_extension": ".scala",
   "help_links": [
    {
     "text": "MetaKernel Magics",
     "url": "https://metakernel.readthedocs.io/en/latest/source/README.html"
    }
   ],
   "mimetype": "text/x-scala",
   "name": "scala",
   "pygments_lexer": "scala",
   "version": "0.4.1"
  }
 },
 "nbformat": 4,
 "nbformat_minor": 5
}
