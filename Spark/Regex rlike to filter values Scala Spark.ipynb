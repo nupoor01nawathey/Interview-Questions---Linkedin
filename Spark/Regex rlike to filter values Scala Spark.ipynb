{
 "cells": [
  {
   "cell_type": "code",
   "execution_count": 3,
   "id": "113c9501",
   "metadata": {},
   "outputs": [
    {
     "name": "stdout",
     "output_type": "stream",
     "text": [
      "+---+----+----------+\n",
      "|id |name|mobile    |\n",
      "+---+----+----------+\n",
      "|1  |Tom |1234567I90|\n",
      "|2  |Jer |123E98^@89|\n",
      "|3  |Dan |1234567890|\n",
      "+---+----+----------+\n",
      "\n"
     ]
    },
    {
     "data": {
      "text/plain": [
       "df: org.apache.spark.sql.DataFrame = [id: int, name: string ... 1 more field]\n"
      ]
     },
     "execution_count": 3,
     "metadata": {},
     "output_type": "execute_result"
    }
   ],
   "source": [
    "// Filter valid mobile numbers \n",
    "\n",
    "val df = Seq(\n",
    "    (1,\"Tom\", \"1234567I90\"),\n",
    "    (2,\"Jer\", \"123E98^@89\"),\n",
    "    (3,\"Dan\", \"1234567890\")\n",
    ").toDF(\"id\", \"name\", \"mobile\")\n",
    "\n",
    "\n",
    "df.show(false)\n"
   ]
  },
  {
   "cell_type": "code",
   "execution_count": 4,
   "id": "5d884e7c",
   "metadata": {},
   "outputs": [
    {
     "name": "stdout",
     "output_type": "stream",
     "text": [
      "+---+----+----------+\n",
      "|id |name|mobile    |\n",
      "+---+----+----------+\n",
      "|3  |Dan |1234567890|\n",
      "+---+----+----------+\n",
      "\n"
     ]
    }
   ],
   "source": [
    "df.filter($\"mobile\".rlike(\"^[0-9]+$\")).show(false)"
   ]
  },
  {
   "cell_type": "code",
   "execution_count": 5,
   "id": "01bb732e",
   "metadata": {},
   "outputs": [
    {
     "name": "stdout",
     "output_type": "stream",
     "text": [
      "+---+----+----------+\n",
      "|id |name|mobile    |\n",
      "+---+----+----------+\n",
      "|3  |Dan |1234567890|\n",
      "+---+----+----------+\n",
      "\n"
     ]
    }
   ],
   "source": [
    "df.createOrReplaceTempView(\"contact_info\")\n",
    "\n",
    "spark.sql(\"\"\"\n",
    "    SELECT * FROM contact_info WHERE mobile rlike '^[0-9]+$'\n",
    "\"\"\").show(false)"
   ]
  },
  {
   "cell_type": "code",
   "execution_count": null,
   "id": "4fd6a99f",
   "metadata": {},
   "outputs": [],
   "source": []
  }
 ],
 "metadata": {
  "kernelspec": {
   "display_name": "spylon-kernel",
   "language": "scala",
   "name": "spylon-kernel"
  },
  "language_info": {
   "codemirror_mode": "text/x-scala",
   "file_extension": ".scala",
   "help_links": [
    {
     "text": "MetaKernel Magics",
     "url": "https://metakernel.readthedocs.io/en/latest/source/README.html"
    }
   ],
   "mimetype": "text/x-scala",
   "name": "scala",
   "pygments_lexer": "scala",
   "version": "0.4.1"
  }
 },
 "nbformat": 4,
 "nbformat_minor": 5
}
