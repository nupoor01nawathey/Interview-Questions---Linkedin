{
 "cells": [
  {
   "cell_type": "code",
   "execution_count": 1,
   "id": "d7edfc51",
   "metadata": {},
   "outputs": [
    {
     "data": {
      "text/plain": [
       "Intitializing Scala interpreter ..."
      ]
     },
     "metadata": {},
     "output_type": "display_data"
    },
    {
     "data": {
      "text/plain": [
       "Spark Web UI available at http://192.168.0.102:4040\n",
       "SparkContext available as 'sc' (version = 3.4.1, master = local[*], app id = local-1706199226253)\n",
       "SparkSession available as 'spark'\n"
      ]
     },
     "metadata": {},
     "output_type": "display_data"
    },
    {
     "name": "stdout",
     "output_type": "stream",
     "text": [
      "+----+------+------+\n",
      "|name|item  |weight|\n",
      "+----+------+------+\n",
      "|john|tamato|2     |\n",
      "|bill|apple |2     |\n",
      "|john|banana|2     |\n",
      "|john|tamato|3     |\n",
      "|bill|taco  |2     |\n",
      "|bill|apple |2     |\n",
      "+----+------+------+\n",
      "\n"
     ]
    },
    {
     "data": {
      "text/plain": [
       "data: org.apache.spark.sql.DataFrame = [name: string, item: string ... 1 more field]\n"
      ]
     },
     "execution_count": 1,
     "metadata": {},
     "output_type": "execute_result"
    }
   ],
   "source": [
    "// 🚀 𝗗𝗮𝘁𝗮 𝗘𝗻𝗴𝗶𝗻𝗲𝗲𝗿𝗶𝗻𝗴 𝗜𝗻𝘁𝗲𝗿𝘃𝗶𝗲𝘄 𝗤𝘂𝗲𝘀𝘁𝗶𝗼𝗻\n",
    "\n",
    "// I'm sharing one of the Big Data Interview Question asked in my early days.\n",
    "\n",
    "// 🔶 Write a Spark code for below Output, Assuming Input Dataset as-\n",
    "\n",
    "// 𝗜𝗻𝗽𝘂𝘁 𝗗𝗮𝘁𝗮𝘀𝗲𝘁\n",
    "// name  item    weight\n",
    "// 𝚓𝚘𝚑𝚗  𝚝𝚘𝚖𝚊𝚝𝚘   𝟸\n",
    "// 𝚋𝚒𝚕𝚕  𝚊𝚙𝚙𝚕𝚎    𝟸\n",
    "// 𝚓𝚘𝚑𝚗  𝚋𝚊𝚗𝚊𝚗𝚊   𝟸\n",
    "// 𝚓𝚘𝚑𝚗  𝚝𝚘𝚖𝚊𝚝𝚘   𝟹\n",
    "// 𝚋𝚒𝚕𝚕  𝚝𝚊𝚌𝚘     𝟸\n",
    "// 𝚋𝚒𝚕𝚕  𝚊𝚙𝚙𝚕𝚎    𝟸\n",
    "\n",
    "// 𝗢𝘂𝘁𝗽𝘂𝘁 𝗗𝗮𝘁𝗮𝘀𝗲𝘁\n",
    "// 𝚓𝚘𝚑𝚗 (𝚝𝚘𝚖𝚊𝚝𝚘,𝟻),(𝚋𝚊𝚗𝚊𝚗𝚊,𝟸)\n",
    "// 𝚋𝚒𝚕𝚕 (𝚊𝚙𝚙𝚕𝚎,𝟺),(𝚝𝚊𝚌𝚘,𝟸)\n",
    "\n",
    "val data = Seq(\n",
    "    (\"john\",\"tamato\",2),\n",
    "    (\"bill\",\"apple\",2),\n",
    "    (\"john\",\"banana\",2),\n",
    "    (\"john\",\"tamato\",3),\n",
    "    (\"bill\",\"taco\",2),\n",
    "    (\"bill\",\"apple\",2)\n",
    ").toDF(\"name\",\"item\",\"weight\")\n",
    "\n",
    "data.show(false)\n"
   ]
  },
  {
   "cell_type": "code",
   "execution_count": 7,
   "id": "ae31c62b",
   "metadata": {},
   "outputs": [
    {
     "name": "stdout",
     "output_type": "stream",
     "text": [
      "+----+------+------+\n",
      "|name|item  |weight|\n",
      "+----+------+------+\n",
      "|john|tamato|5     |\n",
      "|john|banana|2     |\n",
      "|bill|apple |4     |\n",
      "|bill|taco  |2     |\n",
      "+----+------+------+\n",
      "\n"
     ]
    },
    {
     "data": {
      "text/plain": [
       "df: org.apache.spark.sql.DataFrame = [name: string, item: string ... 1 more field]\n"
      ]
     },
     "execution_count": 7,
     "metadata": {},
     "output_type": "execute_result"
    }
   ],
   "source": [
    "val df = data.groupBy($\"name\",$\"item\").sum(\"weight\").withColumnRenamed(\"sum(weight)\", \"weight\")\n",
    "df.show(false)"
   ]
  },
  {
   "cell_type": "code",
   "execution_count": 16,
   "id": "577e73d3",
   "metadata": {},
   "outputs": [
    {
     "name": "stdout",
     "output_type": "stream",
     "text": [
      "+----+--------------------------+\n",
      "|name|items                     |\n",
      "+----+--------------------------+\n",
      "|john|[{tamato, 5}, {banana, 2}]|\n",
      "|bill|[{apple , 4}, {taco  , 2}]|\n",
      "+----+--------------------------+\n",
      "\n"
     ]
    }
   ],
   "source": [
    "df.groupBy(\"name\").agg(collect_list(struct(\"item\", \"weight\")).as(\"items\")).show(false)"
   ]
  },
  {
   "cell_type": "code",
   "execution_count": null,
   "id": "bbaf3cee",
   "metadata": {},
   "outputs": [],
   "source": []
  }
 ],
 "metadata": {
  "kernelspec": {
   "display_name": "spylon-kernel",
   "language": "scala",
   "name": "spylon-kernel"
  },
  "language_info": {
   "codemirror_mode": "text/x-scala",
   "file_extension": ".scala",
   "help_links": [
    {
     "text": "MetaKernel Magics",
     "url": "https://metakernel.readthedocs.io/en/latest/source/README.html"
    }
   ],
   "mimetype": "text/x-scala",
   "name": "scala",
   "pygments_lexer": "scala",
   "version": "0.4.1"
  }
 },
 "nbformat": 4,
 "nbformat_minor": 5
}
