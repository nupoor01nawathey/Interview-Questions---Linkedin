{
 "cells": [
  {
   "cell_type": "code",
   "execution_count": 1,
   "id": "ad5573bc",
   "metadata": {},
   "outputs": [
    {
     "data": {
      "text/plain": [
       "Intitializing Scala interpreter ..."
      ]
     },
     "metadata": {},
     "output_type": "display_data"
    },
    {
     "data": {
      "text/plain": [
       "Spark Web UI available at http://192.168.0.102:4040\n",
       "SparkContext available as 'sc' (version = 3.4.1, master = local[*], app id = local-1706105504382)\n",
       "SparkSession available as 'spark'\n"
      ]
     },
     "metadata": {},
     "output_type": "display_data"
    },
    {
     "name": "stdout",
     "output_type": "stream",
     "text": [
      "+------+----------+------+\n",
      "|emp_id|experience|salary|\n",
      "+------+----------+------+\n",
      "|1     |Junior    |10000 |\n",
      "|2     |Junior    |15000 |\n",
      "|3     |Junior    |40000 |\n",
      "|4     |Senior    |16000 |\n",
      "|5     |Senior    |20000 |\n",
      "|6     |Senior    |50000 |\n",
      "+------+----------+------+\n",
      "\n"
     ]
    },
    {
     "data": {
      "text/plain": [
       "employees_df: org.apache.spark.sql.DataFrame = [emp_id: int, experience: string ... 1 more field]\n"
      ]
     },
     "execution_count": 1,
     "metadata": {},
     "output_type": "execute_result"
    }
   ],
   "source": [
    "//  Microsoft \n",
    "// ❓Hire the candidates who fall under budget of 70000 according to below criteria:\n",
    "// 📌 First hire Senior within budget\n",
    "// 📌 Then hire Junior withing remaining budget.\n",
    "\n",
    "\n",
    "val employees_df = Seq(\n",
    "    (1,\"Junior\", 10000),\n",
    "    (2,\"Junior\", 15000),\n",
    "    (3,\"Junior\", 40000),\n",
    "    (4,\"Senior\", 16000),\n",
    "    (5,\"Senior\", 20000),\n",
    "    (6,\"Senior\",50000)\n",
    ").toDF(\"emp_id\",\"experience\",\"salary\")\n",
    "\n",
    "employees_df.show(false)\n"
   ]
  },
  {
   "cell_type": "code",
   "execution_count": 8,
   "id": "1a203ad1",
   "metadata": {},
   "outputs": [
    {
     "name": "stdout",
     "output_type": "stream",
     "text": [
      "+------+----------+------+\n",
      "|emp_id|experience|salary|\n",
      "+------+----------+------+\n",
      "|1     |Junior    |10000 |\n",
      "|2     |Junior    |15000 |\n",
      "|4     |Senior    |16000 |\n",
      "|5     |Senior    |20000 |\n",
      "+------+----------+------+\n",
      "\n"
     ]
    }
   ],
   "source": [
    "employees_df.createOrReplaceTempView(\"employees\")\n",
    "\n",
    "spark.sql(\"\"\" \n",
    "    with cte as(\n",
    "        select\n",
    "            *,\n",
    "            sum(salary) over(partition by experience order by emp_id) salary_by_experience\n",
    "        from employees\n",
    "     ),\n",
    "     cte2 as(\n",
    "         select\n",
    "             *,\n",
    "             sum(salary) over(order by case when experience='Senior' then 1 else 2 end, emp_id) total_budget\n",
    "         from cte\n",
    "         where salary_by_experience<=70000\n",
    "    )\n",
    "    select \n",
    "        emp_id,\n",
    "        experience,\n",
    "        salary\n",
    "    from cte2\n",
    "    where total_budget<=70000\n",
    "    order by emp_id\n",
    "\"\"\").show(false)\n"
   ]
  },
  {
   "cell_type": "code",
   "execution_count": null,
   "id": "eb0ec4e4",
   "metadata": {},
   "outputs": [],
   "source": [
    "// cte\n",
    "// +------+----------+------+--------------------+\n",
    "// |emp_id|experience|salary|salary_by_experience|\n",
    "// +------+----------+------+--------------------+\n",
    "// |1     |Junior    |10000 |10000               |\n",
    "// |2     |Junior    |15000 |25000               |\n",
    "// |3     |Junior    |40000 |65000               |\n",
    "// |4     |Senior    |16000 |16000               |\n",
    "// |5     |Senior    |20000 |36000               |\n",
    "// |6     |Senior    |50000 |86000               |\n",
    "// +------+----------+------+--------------------+\n",
    "\n",
    "\n",
    "// cte2\n",
    "// +------+----------+------+--------------------+------------+\n",
    "// |emp_id|experience|salary|salary_by_experience|total_budget|\n",
    "// +------+----------+------+--------------------+------------+\n",
    "// |4     |Senior    |16000 |16000               |16000       |\n",
    "// |5     |Senior    |20000 |36000               |36000       |\n",
    "// |1     |Junior    |10000 |10000               |46000       |\n",
    "// |2     |Junior    |15000 |25000               |61000       |\n",
    "// |3     |Junior    |40000 |65000               |101000      |\n",
    "// +------+----------+------+--------------------+------------+\n",
    "\n",
    "\n",
    "// final result\n",
    "// +------+----------+------+\n",
    "// |emp_id|experience|salary|\n",
    "// +------+----------+------+\n",
    "// |1     |Junior    |10000 |\n",
    "// |2     |Junior    |15000 |\n",
    "// |4     |Senior    |16000 |\n",
    "// |5     |Senior    |20000 |\n",
    "// +------+----------+------+"
   ]
  }
 ],
 "metadata": {
  "kernelspec": {
   "display_name": "spylon-kernel",
   "language": "scala",
   "name": "spylon-kernel"
  },
  "language_info": {
   "codemirror_mode": "text/x-scala",
   "file_extension": ".scala",
   "help_links": [
    {
     "text": "MetaKernel Magics",
     "url": "https://metakernel.readthedocs.io/en/latest/source/README.html"
    }
   ],
   "mimetype": "text/x-scala",
   "name": "scala",
   "pygments_lexer": "scala",
   "version": "0.4.1"
  }
 },
 "nbformat": 4,
 "nbformat_minor": 5
}
