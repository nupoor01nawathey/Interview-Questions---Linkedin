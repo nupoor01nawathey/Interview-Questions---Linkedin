{
 "cells": [
  {
   "cell_type": "code",
   "execution_count": 1,
   "id": "9667ec0a",
   "metadata": {},
   "outputs": [
    {
     "data": {
      "text/plain": [
       "Intitializing Scala interpreter ..."
      ]
     },
     "metadata": {},
     "output_type": "display_data"
    },
    {
     "data": {
      "text/plain": [
       "Spark Web UI available at http://192.168.1.4:4040\n",
       "SparkContext available as 'sc' (version = 3.4.1, master = local[*], app id = local-1718977636371)\n",
       "SparkSession available as 'spark'\n"
      ]
     },
     "metadata": {},
     "output_type": "display_data"
    },
    {
     "name": "stdout",
     "output_type": "stream",
     "text": [
      "+----------+-----+\n",
      "|date      |sales|\n",
      "+----------+-----+\n",
      "|2010-01-02|500  |\n",
      "|2010-02-03|1000 |\n",
      "|2010-03-04|1000 |\n",
      "|2010-04-05|1000 |\n",
      "|2010-05-06|1500 |\n",
      "|2010-06-07|1000 |\n",
      "|2010-07-08|1000 |\n",
      "|2010-08-09|1000 |\n",
      "|2010-10-10|1000 |\n",
      "+----------+-----+\n",
      "\n"
     ]
    },
    {
     "data": {
      "text/plain": [
       "df: org.apache.spark.sql.DataFrame = [date: string, sales: int]\n"
      ]
     },
     "execution_count": 1,
     "metadata": {},
     "output_type": "execute_result"
    }
   ],
   "source": [
    "// Prologis Spark Interview Question\n",
    "// Write a Pyspark / Scala Spark code to calculate the percentage difference between total sales in Quarter 1 \n",
    "// and Quarter 2 of year 2010 from the sales_data table.\n",
    "\n",
    "val df = Seq(\n",
    " (\"2010-01-02\", 500),\n",
    " (\"2010-02-03\", 1000),\n",
    " (\"2010-03-04\", 1000),\n",
    " (\"2010-04-05\", 1000),\n",
    " (\"2010-05-06\", 1500),\n",
    " (\"2010-06-07\", 1000),\n",
    " (\"2010-07-08\", 1000),\n",
    " (\"2010-08-09\", 1000),\n",
    " (\"2010-10-10\", 1000)\n",
    ").toDF(\"date\", \"sales\")\n",
    "\n",
    "\n",
    "df.show(false)\n"
   ]
  },
  {
   "cell_type": "code",
   "execution_count": 89,
   "id": "e6103a37",
   "metadata": {},
   "outputs": [
    {
     "name": "stdout",
     "output_type": "stream",
     "text": [
      "+-------+-----+\n",
      "|quarter|sales|\n",
      "+-------+-----+\n",
      "|1      |2500 |\n",
      "|2      |3500 |\n",
      "+-------+-----+\n",
      "\n"
     ]
    },
    {
     "data": {
      "text/plain": [
       "import org.apache.spark.sql.functions._\n",
       "total_sales_df: org.apache.spark.sql.Dataset[org.apache.spark.sql.Row] = [quarter: int, sales: bigint]\n"
      ]
     },
     "execution_count": 89,
     "metadata": {},
     "output_type": "execute_result"
    }
   ],
   "source": [
    "import org.apache.spark.sql.functions._\n",
    "\n",
    "val total_sales_df = df.withColumn(\"quarter\", quarter($\"date\")).groupBy($\"quarter\").agg(sum($\"sales\").as(\"sales\")\n",
    "                                                                                       ).filter($\"quarter\".isin(1,2))\n",
    "\n",
    "total_sales_df.show(false)"
   ]
  },
  {
   "cell_type": "code",
   "execution_count": 94,
   "id": "6eaf160c",
   "metadata": {},
   "outputs": [
    {
     "data": {
      "text/plain": [
       "import org.apache.spark.sql.expressions._\n",
       "res68: Array[org.apache.spark.sql.Row] = Array([1,2500,3500,40.0])\n"
      ]
     },
     "execution_count": 94,
     "metadata": {},
     "output_type": "execute_result"
    }
   ],
   "source": [
    "import org.apache.spark.sql.expressions._\n",
    "\n",
    "total_sales_df.withColumn(\"lead\", lead($\"sales\", 1).over(Window.orderBy($\"quarter\"))\n",
    "                         ).withColumn(\"perc\", ($\"lead\" - $\"sales\") / $\"sales\" * 100).take(1)\n"
   ]
  },
  {
   "cell_type": "code",
   "execution_count": null,
   "id": "d9d9aaf3",
   "metadata": {},
   "outputs": [],
   "source": []
  }
 ],
 "metadata": {
  "kernelspec": {
   "display_name": "spylon-kernel",
   "language": "scala",
   "name": "spylon-kernel"
  },
  "language_info": {
   "codemirror_mode": "text/x-scala",
   "file_extension": ".scala",
   "help_links": [
    {
     "text": "MetaKernel Magics",
     "url": "https://metakernel.readthedocs.io/en/latest/source/README.html"
    }
   ],
   "mimetype": "text/x-scala",
   "name": "scala",
   "pygments_lexer": "scala",
   "version": "0.4.1"
  }
 },
 "nbformat": 4,
 "nbformat_minor": 5
}
