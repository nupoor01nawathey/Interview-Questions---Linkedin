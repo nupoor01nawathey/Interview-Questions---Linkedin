{
 "cells": [
  {
   "cell_type": "code",
   "execution_count": 24,
   "id": "73b95389",
   "metadata": {},
   "outputs": [
    {
     "name": "stdout",
     "output_type": "stream",
     "text": [
      "Project Gutenberg’s\n",
      "Alice’s Adventures in Wonderland\n",
      "Project Gutenberg’s\n",
      "Adventures in Wonderland\n",
      "Project Gutenberg’s\n"
     ]
    },
    {
     "data": {
      "text/plain": [
       "data: Seq[String] = List(Project Gutenberg’s, Alice’s Adventures in Wonderland, Project Gutenberg’s, Adventures in Wonderland, Project Gutenberg’s)\n",
       "rdd1: org.apache.spark.rdd.RDD[String] = ParallelCollectionRDD[58] at parallelize at <console>:44\n"
      ]
     },
     "execution_count": 24,
     "metadata": {},
     "output_type": "execute_result"
    }
   ],
   "source": [
    "// https://sparkbyexamples.com/spark/different-ways-to-create-a-spark-dataframe/\n",
    "\n",
    "val data = Seq(\"Project Gutenberg’s\",\n",
    "        \"Alice’s Adventures in Wonderland\",\n",
    "        \"Project Gutenberg’s\",\n",
    "        \"Adventures in Wonderland\",\n",
    "        \"Project Gutenberg’s\")\n",
    "\n",
    "val rdd1 = spark.sparkContext.parallelize(data)\n",
    "\n",
    "rdd1.collect.foreach(println)"
   ]
  },
  {
   "cell_type": "code",
   "execution_count": 29,
   "id": "da62ea5d",
   "metadata": {},
   "outputs": [
    {
     "name": "stdout",
     "output_type": "stream",
     "text": [
      "Project\n",
      "Gutenberg’s\n",
      "Alice’s\n",
      "Adventures\n",
      "in\n",
      "Wonderland\n",
      "Project\n",
      "Gutenberg’s\n",
      "Adventures\n",
      "in\n",
      "Wonderland\n",
      "Project\n",
      "Gutenberg’s\n"
     ]
    },
    {
     "data": {
      "text/plain": [
       "rdd2: org.apache.spark.rdd.RDD[String] = MapPartitionsRDD[65] at flatMap at <console>:36\n"
      ]
     },
     "execution_count": 29,
     "metadata": {},
     "output_type": "execute_result"
    }
   ],
   "source": [
    "val rdd2 = rdd1.flatMap(w=>w.split(\" \"))\n",
    "rdd2.collect.foreach(println)"
   ]
  },
  {
   "cell_type": "code",
   "execution_count": 27,
   "id": "5deff6a0",
   "metadata": {},
   "outputs": [
    {
     "name": "stdout",
     "output_type": "stream",
     "text": [
      "(Gutenberg’s,3)\n",
      "(in,2)\n",
      "(Project,3)\n",
      "(Wonderland,2)\n",
      "(Alice’s,1)\n",
      "(Adventures,2)\n"
     ]
    },
    {
     "data": {
      "text/plain": [
       "rdd3: org.apache.spark.rdd.RDD[(String, Int)] = ShuffledRDD[63] at reduceByKey at <console>:36\n"
      ]
     },
     "execution_count": 27,
     "metadata": {},
     "output_type": "execute_result"
    }
   ],
   "source": [
    "val rdd3 = rdd2.map(word => (word, 1)).reduceByKey(_ + _)\n",
    "rdd3.collect.foreach(println)"
   ]
  },
  {
   "cell_type": "code",
   "execution_count": null,
   "id": "3764a2af",
   "metadata": {},
   "outputs": [],
   "source": []
  }
 ],
 "metadata": {
  "kernelspec": {
   "display_name": "spylon-kernel",
   "language": "scala",
   "name": "spylon-kernel"
  },
  "language_info": {
   "codemirror_mode": "text/x-scala",
   "file_extension": ".scala",
   "help_links": [
    {
     "text": "MetaKernel Magics",
     "url": "https://metakernel.readthedocs.io/en/latest/source/README.html"
    }
   ],
   "mimetype": "text/x-scala",
   "name": "scala",
   "pygments_lexer": "scala",
   "version": "0.4.1"
  }
 },
 "nbformat": 4,
 "nbformat_minor": 5
}
