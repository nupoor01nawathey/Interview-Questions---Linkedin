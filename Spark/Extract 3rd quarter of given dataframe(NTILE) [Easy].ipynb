{
 "cells": [
  {
   "cell_type": "code",
   "execution_count": 3,
   "id": "f2b5cd77",
   "metadata": {},
   "outputs": [
    {
     "name": "stdout",
     "output_type": "stream",
     "text": [
      "+-------+---+\n",
      "|name   |age|\n",
      "+-------+---+\n",
      "|Alice  |28 |\n",
      "|Bob    |35 |\n",
      "|Charlie|42 |\n",
      "|David  |25 |\n",
      "|Eva    |31 |\n",
      "|Frank  |38 |\n",
      "|Grace  |45 |\n",
      "|Henry  |29 |\n",
      "+-------+---+\n",
      "\n"
     ]
    },
    {
     "data": {
      "text/plain": [
       "data: org.apache.spark.sql.DataFrame = [name: string, age: int]\n"
      ]
     },
     "execution_count": 3,
     "metadata": {},
     "output_type": "execute_result"
    }
   ],
   "source": [
    "// Read the third quarter (25%) of the given dataframe.\n",
    "\n",
    "\n",
    "val data = Seq(\n",
    "    (\"Alice\", 28),\n",
    "    (\"Bob\", 35),\n",
    "    (\"Charlie\", 42),\n",
    "    (\"David\", 25),\n",
    "    (\"Eva\", 31),\n",
    "    (\"Frank\", 38),\n",
    "    (\"Grace\", 45),\n",
    "    (\"Henry\", 29)\n",
    ").toDF(\"name\", \"age\")\n",
    "\n",
    "data.show(false)\n"
   ]
  },
  {
   "cell_type": "code",
   "execution_count": 28,
   "id": "0782f263",
   "metadata": {},
   "outputs": [
    {
     "data": {
      "text/plain": [
       "import org.apache.spark.sql.expressions._\n",
       "ntiled: org.apache.spark.sql.DataFrame = [name: string, age: int]\n"
      ]
     },
     "execution_count": 28,
     "metadata": {},
     "output_type": "execute_result"
    }
   ],
   "source": [
    "import org.apache.spark.sql.expressions._\n",
    "\n",
    "val ntiled = data.withColumn(\"ntiled\", ntile(4).over(Window.orderBy($\"age\".desc))\n",
    "                            ).where($\"ntiled\"===3).drop(\"ntiled\")\n"
   ]
  },
  {
   "cell_type": "code",
   "execution_count": 29,
   "id": "45e2f983",
   "metadata": {},
   "outputs": [
    {
     "name": "stdout",
     "output_type": "stream",
     "text": [
      "+-----+---+\n",
      "|name |age|\n",
      "+-----+---+\n",
      "|Eva  |31 |\n",
      "|Henry|29 |\n",
      "+-----+---+\n",
      "\n"
     ]
    }
   ],
   "source": [
    "ntiled.show(false)"
   ]
  },
  {
   "cell_type": "code",
   "execution_count": 30,
   "id": "2ed47efa",
   "metadata": {},
   "outputs": [
    {
     "name": "stdout",
     "output_type": "stream",
     "text": [
      "== Physical Plan ==\n",
      "AdaptiveSparkPlan isFinalPlan=false\n",
      "+- Project [name#34, age#35]\n",
      "   +- Filter (ntiled#237 = 3)\n",
      "      +- Window [ntile(4) windowspecdefinition(age#35 DESC NULLS LAST, specifiedwindowframe(RowFrame, unboundedpreceding$(), currentrow$())) AS ntiled#237], [age#35 DESC NULLS LAST]\n",
      "         +- Sort [age#35 DESC NULLS LAST], false, 0\n",
      "            +- Exchange SinglePartition, ENSURE_REQUIREMENTS, [plan_id=457]\n",
      "               +- LocalTableScan [name#34, age#35]\n",
      "\n",
      "\n"
     ]
    }
   ],
   "source": [
    "ntiled.explain()"
   ]
  },
  {
   "cell_type": "code",
   "execution_count": 26,
   "id": "74124303",
   "metadata": {},
   "outputs": [
    {
     "name": "stdout",
     "output_type": "stream",
     "text": [
      "+-----+---+\n",
      "|name |age|\n",
      "+-----+---+\n",
      "|Eva  |31 |\n",
      "|Henry|29 |\n",
      "+-----+---+\n",
      "\n",
      "root\n",
      " |-- name: string (nullable = true)\n",
      " |-- age: integer (nullable = false)\n",
      "\n"
     ]
    },
    {
     "data": {
      "text/plain": [
       "emp: org.apache.spark.sql.DataFrame = [name: string, age: int]\n"
      ]
     },
     "execution_count": 26,
     "metadata": {},
     "output_type": "execute_result"
    }
   ],
   "source": [
    "data.createOrReplaceTempView(\"emp\")\n",
    "\n",
    "val emp = spark.sql(\"\"\"\n",
    "    with cte as (\n",
    "        select\n",
    "            name,\n",
    "            age,\n",
    "            ntile(4) over(order by age desc) nt_age\n",
    "        from emp\n",
    "    )\n",
    "    select \n",
    "        name,\n",
    "        age\n",
    "    from cte\n",
    "    where nt_age=3\n",
    "\"\"\")\n",
    "\n",
    "emp.show(false)\n",
    "emp.explain()"
   ]
  },
  {
   "cell_type": "code",
   "execution_count": null,
   "id": "f8f983de",
   "metadata": {},
   "outputs": [],
   "source": []
  }
 ],
 "metadata": {
  "kernelspec": {
   "display_name": "spylon-kernel",
   "language": "scala",
   "name": "spylon-kernel"
  },
  "language_info": {
   "codemirror_mode": "text/x-scala",
   "file_extension": ".scala",
   "help_links": [
    {
     "text": "MetaKernel Magics",
     "url": "https://metakernel.readthedocs.io/en/latest/source/README.html"
    }
   ],
   "mimetype": "text/x-scala",
   "name": "scala",
   "pygments_lexer": "scala",
   "version": "0.4.1"
  }
 },
 "nbformat": 4,
 "nbformat_minor": 5
}
