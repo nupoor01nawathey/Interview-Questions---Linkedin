{
 "cells": [
  {
   "cell_type": "code",
   "execution_count": 3,
   "id": "451bd7bb",
   "metadata": {},
   "outputs": [
    {
     "name": "stdout",
     "output_type": "stream",
     "text": [
      "+----+-----------------+---------------+\n",
      "|k_no|king             |house          |\n",
      "+----+-----------------+---------------+\n",
      "|1   |Robb Stark       |House Stark    |\n",
      "|2   |Joffrey Baratheon|House Lannister|\n",
      "|3   |Stannis Baratheon|House Baratheon|\n",
      "|4   |Balon Greyjoy    |House Greyjoy  |\n",
      "|5   |Mace Tyrell      |House Tyrell   |\n",
      "|6   |Doran Martell    |House Martell  |\n",
      "+----+-----------------+---------------+\n",
      "\n",
      "+-------------+--------------------------+-------------+-------------+----------------+--------------+\n",
      "|battle_number|name                      |attacker_king|defender_king|attacker_outcome|region        |\n",
      "+-------------+--------------------------+-------------+-------------+----------------+--------------+\n",
      "|1            |Battle of Oxcross         |1            |2            |1               |The North     |\n",
      "|2            |Battle of Blackwater      |3            |4            |0               |The North     |\n",
      "|3            |Battle of the Fords       |1            |5            |1               |The Reach     |\n",
      "|4            |Battle of the Green Fork  |2            |6            |0               |The Reach     |\n",
      "|5            |Battle of the Ruby Ford   |1            |3            |1               |The Riverlands|\n",
      "|6            |Battle of the Golden Tooth|2            |1            |0               |The North     |\n",
      "|7            |Battle of Riverrun        |3            |4            |1               |The Riverlands|\n",
      "|8            |Battle of Riverrun        |1            |3            |0               |The Riverlands|\n",
      "+-------------+--------------------------+-------------+-------------+----------------+--------------+\n",
      "\n"
     ]
    },
    {
     "data": {
      "text/plain": [
       "import org.apache.spark.sql.Row\n",
       "import org.apache.spark.sql.types._\n",
       "king_data: Seq[org.apache.spark.sql.Row] = List([1,Robb Stark,House Stark], [2,Joffrey Baratheon,House Lannister], [3,Stannis Baratheon,House Baratheon], [4,Balon Greyjoy,House Greyjoy], [5,Mace Tyrell,House Tyrell], [6,Doran Martell,House Martell])\n",
       "battle_data: Seq[org.apache.spark.sql.Row] = List([1,Battle of Oxcross,1,2,1,The North], [2,Battle of Blackwater,3,4,0,The North], [3,Battle of the Fords,1,5,1,The Reach], [4,Battle of the Green Fork,2,6,0,The Reach], [5,Battle of the Ruby Ford,1,3,1,The Riverlands], [6,Battle of the Golden Tooth,2,1,0,The North], [7,Battle of Riverrun,3,4,1,The Riverlands], [8,Battle of Riverrun,1,3,0,The Riverlands])\n",
       "king_schema: org.apache.spark.sql.types.StructType = StructType(StructFie...\n"
      ]
     },
     "execution_count": 3,
     "metadata": {},
     "output_type": "execute_result"
    }
   ],
   "source": [
    "import org.apache.spark.sql.Row\n",
    "import org.apache.spark.sql.types._\n",
    "\n",
    "val king_data = Seq(\n",
    "    Row(1, \"Robb Stark\", \"House Stark\"),\n",
    "    Row(2, \"Joffrey Baratheon\", \"House Lannister\"),\n",
    "    Row(3, \"Stannis Baratheon\", \"House Baratheon\"),\n",
    "    Row(4, \"Balon Greyjoy\", \"House Greyjoy\"),\n",
    "    Row(5, \"Mace Tyrell\", \"House Tyrell\"),\n",
    "    Row(6, \"Doran Martell\", \"House Martell\")\n",
    ")\n",
    "\n",
    "val battle_data = Seq(\n",
    "    Row(1, \"Battle of Oxcross\", 1, 2, 1, \"The North\"),\n",
    "    Row(2, \"Battle of Blackwater\", 3, 4, 0, \"The North\"),\n",
    "    Row(3, \"Battle of the Fords\", 1, 5, 1, \"The Reach\"),\n",
    "    Row(4, \"Battle of the Green Fork\", 2, 6, 0, \"The Reach\"),\n",
    "    Row(5, \"Battle of the Ruby Ford\", 1, 3, 1, \"The Riverlands\"),\n",
    "    Row(6, \"Battle of the Golden Tooth\", 2, 1, 0, \"The North\"),\n",
    "    Row(7, \"Battle of Riverrun\", 3, 4, 1, \"The Riverlands\"),\n",
    "    Row(8, \"Battle of Riverrun\", 1, 3, 0, \"The Riverlands\")\n",
    ")\n",
    "\n",
    "\n",
    "val king_schema = StructType(Array(\n",
    "            StructField(\"k_no\", IntegerType)\n",
    "           ,StructField(\"king\", StringType)\n",
    "           ,StructField(\"house\", StringType)\n",
    "        ))\n",
    "\n",
    "\n",
    "val battle_schema = StructType(Array(\n",
    "    StructField(\"battle_number\", IntegerType),\n",
    "    StructField(\"name\", StringType),\n",
    "    StructField(\"attacker_king\", IntegerType),\n",
    "    StructField(\"defender_king\", IntegerType),\n",
    "    StructField(\"attacker_outcome\", IntegerType),\n",
    "    StructField(\"region\", StringType)\n",
    "))\n",
    "\n",
    "val king_rdd = spark.sparkContext.parallelize(king_data)\n",
    "val king_df = spark.createDataFrame(king_rdd, king_schema)\n",
    "\n",
    "val battle_rdd = spark.sparkContext.parallelize(battle_data)\n",
    "val battle_df = spark.createDataFrame(battle_rdd, battle_schema)\n",
    "\n",
    "king_df.show(false)\n",
    "battle_df.show(false)\n"
   ]
  },
  {
   "cell_type": "code",
   "execution_count": 30,
   "id": "35936d35",
   "metadata": {},
   "outputs": [
    {
     "name": "stdout",
     "output_type": "stream",
     "text": [
      "+-------------+--------------------------+-------------+-------------+----------------+--------------+------+\n",
      "|battle_number|name                      |attacker_king|defender_king|attacker_outcome|region        |winner|\n",
      "+-------------+--------------------------+-------------+-------------+----------------+--------------+------+\n",
      "|1            |Battle of Oxcross         |1            |2            |1               |The North     |1     |\n",
      "|2            |Battle of Blackwater      |3            |4            |0               |The North     |4     |\n",
      "|3            |Battle of the Fords       |1            |5            |1               |The Reach     |1     |\n",
      "|4            |Battle of the Green Fork  |2            |6            |0               |The Reach     |6     |\n",
      "|5            |Battle of the Ruby Ford   |1            |3            |1               |The Riverlands|1     |\n",
      "|6            |Battle of the Golden Tooth|2            |1            |0               |The North     |1     |\n",
      "|7            |Battle of Riverrun        |3            |4            |1               |The Riverlands|3     |\n",
      "|8            |Battle of Riverrun        |1            |3            |0               |The Riverlands|3     |\n",
      "+-------------+--------------------------+-------------+-------------+----------------+--------------+------+\n",
      "\n"
     ]
    },
    {
     "data": {
      "text/plain": [
       "import spark.implicits.StringToColumn\n",
       "battle_winners_df: org.apache.spark.sql.DataFrame = [battle_number: int, name: string ... 5 more fields]\n"
      ]
     },
     "execution_count": 30,
     "metadata": {},
     "output_type": "execute_result"
    }
   ],
   "source": [
    "import spark.implicits.StringToColumn\n",
    "\n",
    "val battle_winners_df = battle_df.withColumn(\"winner\", when($\"attacker_outcome\" === 1, $\"attacker_king\"\n",
    "                                   ).otherwise($\"defender_king\") \n",
    "                        )\n",
    "battle_winners_df.show(false)"
   ]
  },
  {
   "cell_type": "code",
   "execution_count": 31,
   "id": "e12c8e5b",
   "metadata": {},
   "outputs": [
    {
     "name": "stdout",
     "output_type": "stream",
     "text": [
      "+--------------+--------------------+------------+---+\n",
      "|region        |name                |winner_count|rnk|\n",
      "+--------------+--------------------+------------+---+\n",
      "|The North     |Battle of Blackwater|1           |1  |\n",
      "|The Reach     |Battle of the Fords |1           |1  |\n",
      "|The Riverlands|Battle of Riverrun  |2           |1  |\n",
      "+--------------+--------------------+------------+---+\n",
      "\n"
     ]
    },
    {
     "data": {
      "text/plain": [
       "import org.apache.spark.sql.expressions.Window\n",
       "import org.apache.spark.sql.functions.row_number\n"
      ]
     },
     "execution_count": 31,
     "metadata": {},
     "output_type": "execute_result"
    }
   ],
   "source": [
    "import org.apache.spark.sql.expressions.Window\n",
    "import org.apache.spark.sql.functions.row_number\n",
    "\n",
    "\n",
    "battle_winners_df.join(king_df, $\"winner\" === $\"k_no\", \"inner\"\n",
    "                      ).select(\"name\", \"region\"\n",
    "                      ).groupBy($\"region\", $\"name\").agg(count(lit(1)).as(\"winner_count\")\n",
    "                      ).withColumn(\"rnk\",row_number().over(Window.partitionBy($\"region\").orderBy($\"winner_count\".desc))\n",
    "                      ).filter($\"rnk\" === 1).show(false)"
   ]
  },
  {
   "cell_type": "code",
   "execution_count": null,
   "id": "395e7018",
   "metadata": {},
   "outputs": [],
   "source": []
  }
 ],
 "metadata": {
  "kernelspec": {
   "display_name": "spylon-kernel",
   "language": "scala",
   "name": "spylon-kernel"
  },
  "language_info": {
   "codemirror_mode": "text/x-scala",
   "file_extension": ".scala",
   "help_links": [
    {
     "text": "MetaKernel Magics",
     "url": "https://metakernel.readthedocs.io/en/latest/source/README.html"
    }
   ],
   "mimetype": "text/x-scala",
   "name": "scala",
   "pygments_lexer": "scala",
   "version": "0.4.1"
  }
 },
 "nbformat": 4,
 "nbformat_minor": 5
}
