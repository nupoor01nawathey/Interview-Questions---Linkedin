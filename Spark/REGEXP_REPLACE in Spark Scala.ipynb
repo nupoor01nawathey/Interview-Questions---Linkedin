{
 "cells": [
  {
   "cell_type": "code",
   "execution_count": 1,
   "id": "484c0da8",
   "metadata": {},
   "outputs": [
    {
     "data": {
      "text/plain": [
       "Intitializing Scala interpreter ..."
      ]
     },
     "metadata": {},
     "output_type": "display_data"
    },
    {
     "data": {
      "text/plain": [
       "Spark Web UI available at http://192.168.0.102:4040\n",
       "SparkContext available as 'sc' (version = 3.4.1, master = local[*], app id = local-1705063224128)\n",
       "SparkSession available as 'spark'\n"
      ]
     },
     "metadata": {},
     "output_type": "display_data"
    },
    {
     "name": "stdout",
     "output_type": "stream",
     "text": [
      "+---+--------+\n",
      "|Id |x4      |\n",
      "+---+--------+\n",
      "|1  |1,3435  |\n",
      "|2  |1,6566  |\n",
      "|3  |-0,34435|\n",
      "+---+--------+\n",
      "\n"
     ]
    },
    {
     "data": {
      "text/plain": [
       "df: org.apache.spark.sql.DataFrame = [Id: int, x4: string]\n"
      ]
     },
     "execution_count": 1,
     "metadata": {},
     "output_type": "execute_result"
    }
   ],
   "source": [
    "// Expected output\n",
    "\n",
    "// x4\n",
    "// -----\n",
    "// 1.3435\n",
    "// 1.6566\n",
    "// -0.34435\n",
    "\n",
    "\n",
    "val df = spark.createDataFrame(Seq(\n",
    "  (1, \"1,3435\"),\n",
    "  (2, \"1,6566\"),\n",
    "  (3, \"-0,34435\"))).toDF(\"Id\", \"x4\")\n",
    "\n",
    "df.show(false)\n",
    "\n"
   ]
  },
  {
   "cell_type": "code",
   "execution_count": 2,
   "id": "eaa190ee",
   "metadata": {},
   "outputs": [
    {
     "name": "stdout",
     "output_type": "stream",
     "text": [
      "+---+--------+--------+\n",
      "|Id |x4      |x4_new  |\n",
      "+---+--------+--------+\n",
      "|1  |1,3435  |1.3435  |\n",
      "|2  |1,6566  |1.6566  |\n",
      "|3  |-0,34435|-0.34435|\n",
      "+---+--------+--------+\n",
      "\n"
     ]
    }
   ],
   "source": [
    "df.withColumn(\"x4_new\", regexp_replace($\"x4\", \"\\\\,\", \".\")).show(false)"
   ]
  },
  {
   "cell_type": "code",
   "execution_count": 8,
   "id": "5f889a7d",
   "metadata": {},
   "outputs": [
    {
     "name": "stdout",
     "output_type": "stream",
     "text": [
      "+---+--------+\n",
      "|Id |x4      |\n",
      "+---+--------+\n",
      "|1  |1.3435  |\n",
      "|2  |1.6566  |\n",
      "|3  |-0.34435|\n",
      "+---+--------+\n",
      "\n",
      "== Physical Plan ==\n",
      "*(1) Project [_1#91 AS Id#96, _2#92 AS x4#97]\n",
      "+- *(1) SerializeFromObject [knownnotnull(assertnotnull(input[0, scala.Tuple2, true]))._1 AS _1#91, staticinvoke(class org.apache.spark.unsafe.types.UTF8String, StringType, fromString, knownnotnull(assertnotnull(input[0, scala.Tuple2, true]))._2, true, false, true) AS _2#92]\n",
      "   +- *(1) MapElements $line12.$read$$iw$$iw$$iw$$iw$$iw$$iw$$iw$$iw$$Lambda$3824/0x00000008016be040@71952e75, obj#90: scala.Tuple2\n",
      "      +- *(1) DeserializeToObject createexternalrow(staticinvoke(class java.lang.Integer, ObjectType(class java.lang.Integer), valueOf, Id#4, true, false, true), x4#5.toString, StructField(Id,IntegerType,false), StructField(x4,StringType,true)), obj#89: org.apache.spark.sql.Row\n",
      "         +- *(1) LocalTableScan [Id#4, x4#5]\n",
      "\n",
      "\n"
     ]
    }
   ],
   "source": [
    "// In Pure Scala/ Without withColumn\n",
    "\n",
    "df.map(row => {\n",
    "    (row.getInt(0), row.getString(1).replaceAll(\",\", \".\"))\n",
    "}) // Returns a dataset org.apache.spark.sql.Dataset[(Int, String)] = [_1: int, _2: string]\n",
    ".toDF(\"Id\", \"x4\").show(false)\n",
    "\n",
    "\n",
    "df.map(row => {\n",
    "    (row.getInt(0), row.getString(1).replaceAll(\",\", \".\"))\n",
    "}) // Returns a dataset org.apache.spark.sql.Dataset[(Int, String)] = [_1: int, _2: string]\n",
    ".toDF(\"Id\", \"x4\").explain()"
   ]
  },
  {
   "cell_type": "code",
   "execution_count": null,
   "id": "bd089e92",
   "metadata": {},
   "outputs": [],
   "source": []
  }
 ],
 "metadata": {
  "kernelspec": {
   "display_name": "spylon-kernel",
   "language": "scala",
   "name": "spylon-kernel"
  },
  "language_info": {
   "codemirror_mode": "text/x-scala",
   "file_extension": ".scala",
   "help_links": [
    {
     "text": "MetaKernel Magics",
     "url": "https://metakernel.readthedocs.io/en/latest/source/README.html"
    }
   ],
   "mimetype": "text/x-scala",
   "name": "scala",
   "pygments_lexer": "scala",
   "version": "0.4.1"
  }
 },
 "nbformat": 4,
 "nbformat_minor": 5
}
