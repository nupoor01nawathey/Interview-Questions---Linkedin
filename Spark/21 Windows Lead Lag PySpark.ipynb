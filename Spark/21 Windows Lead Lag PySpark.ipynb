{
 "cells": [
  {
   "cell_type": "code",
   "execution_count": 0,
   "metadata": {
    "application/vnd.databricks.v1+cell": {
     "cellMetadata": {
      "byteLimit": 2048000,
      "rowLimit": 10000
     },
     "inputWidgets": {},
     "nuid": "17c473a3-cd37-46da-9e14-f02b60956bb2",
     "showTitle": false,
     "tableResultSettingsMap": {},
     "title": ""
    }
   },
   "outputs": [
    {
     "output_type": "stream",
     "name": "stdout",
     "output_type": "stream",
     "text": [
      "+----------+------------+----------+-------+\n|product_id|product_name|sales_date|  sales|\n+----------+------------+----------+-------+\n|         1|      iphone|01-01-2023|1500000|\n|         2|     samsung|01-01-2023|1100000|\n|         3|     oneplus|01-01-2023|1100000|\n|         1|      iphone|01-02-2023|1300000|\n|         2|     samsung|01-02-2023|1120000|\n|         3|     oneplus|01-02-2023|1120000|\n|         1|      iphone|01-03-2023|1600000|\n|         2|     samsung|01-03-2023|1080000|\n|         3|     oneplus|01-03-2023|1160000|\n|         1|      iphone|01-04-2023|1700000|\n|         2|     samsung|01-04-2023|1800000|\n|         3|     oneplus|01-04-2023|1170000|\n|         1|      iphone|01-05-2023|1200000|\n|         2|     samsung|01-05-2023| 980000|\n|         3|     oneplus|01-05-2023|1175000|\n|         1|      iphone|01-06-2023|1100000|\n|         2|     samsung|01-06-2023|1100000|\n|         3|     oneplus|01-06-2023|1200000|\n+----------+------------+----------+-------+\n\n"
     ]
    }
   ],
   "source": [
    "\"\"\"\n",
    "    1. What is the % of sales each month based on the last 6 months sales\n",
    "    2. What is the % of loss or gain based on previous month sale\n",
    "\"\"\"\n",
    "\n",
    "product_df = spark.createDataFrame(\n",
    "    [\n",
    "        (1,\"iphone\",\"01-01-2023\",1500000),\n",
    "        (2,\"samsung\",\"01-01-2023\",1100000),\n",
    "        (3,\"oneplus\",\"01-01-2023\",1100000),\n",
    "        (1,\"iphone\",\"01-02-2023\",1300000),\n",
    "        (2,\"samsung\",\"01-02-2023\",1120000),\n",
    "        (3,\"oneplus\",\"01-02-2023\",1120000),\n",
    "        (1,\"iphone\",\"01-03-2023\",1600000),\n",
    "        (2,\"samsung\",\"01-03-2023\",1080000),\n",
    "        (3,\"oneplus\",\"01-03-2023\",1160000),\n",
    "        (1,\"iphone\",\"01-04-2023\",1700000),\n",
    "        (2,\"samsung\",\"01-04-2023\",1800000),\n",
    "        (3,\"oneplus\",\"01-04-2023\",1170000),\n",
    "        (1,\"iphone\",\"01-05-2023\",1200000),\n",
    "        (2,\"samsung\",\"01-05-2023\",980000),\n",
    "        (3,\"oneplus\",\"01-05-2023\",1175000),\n",
    "        (1,\"iphone\",\"01-06-2023\",1100000),\n",
    "        (2,\"samsung\",\"01-06-2023\",1100000),\n",
    "        (3,\"oneplus\",\"01-06-2023\",1200000)\n",
    "    ], \n",
    "    [\"product_id\", \"product_name\", \"sales_date\", \"sales\"]\n",
    ")\n",
    "\n",
    "product_df.show()"
   ]
  },
  {
   "cell_type": "code",
   "execution_count": 0,
   "metadata": {
    "application/vnd.databricks.v1+cell": {
     "cellMetadata": {
      "byteLimit": 2048000,
      "rowLimit": 10000
     },
     "inputWidgets": {},
     "nuid": "a31d5d16-58d8-4aa4-96a2-60f51dd0aa77",
     "showTitle": false,
     "tableResultSettingsMap": {},
     "title": ""
    }
   },
   "outputs": [
    {
     "output_type": "stream",
     "name": "stdout",
     "output_type": "stream",
     "text": [
      "+----+-------------------+-------------------+-----------------------+\n|mnth|monthly_total_sales|last_6_months_sales|perc_sales_off_6_months|\n+----+-------------------+-------------------+-----------------------+\n|   1|            3700000|               null|                   null|\n|   2|            3540000|               null|                   null|\n|   3|            3840000|               null|                   null|\n|   4|            4670000|               null|                   null|\n|   5|            3355000|               null|                   null|\n|   6|            3400000|            3700000|                  -8.82|\n+----+-------------------+-------------------+-----------------------+\n\n"
     ]
    }
   ],
   "source": [
    "# 1. What is the % of sales each month based on the last 6 months sales\n",
    "from pyspark.sql.window import Window\n",
    "from pyspark.sql.functions import *\n",
    "\n",
    "# Need to pass input format then Spark will convert it to yyyy-MM-dd, no need to pass expected format\n",
    "formatted_sales_date = product_df.withColumn(\"formatted_sales_dt\", to_date(product_df[\"sales_date\"], \"dd-MM-yyyy\"))\n",
    "formatted_sales_date.withColumn(\"mnth\", month(col(\"formatted_sales_dt\")))\\\n",
    "    .groupBy(\"mnth\").agg(sum(\"sales\").alias(\"monthly_total_sales\"))\\\n",
    "    .withColumn(\"last_6_months_sales\", lag(col(\"monthly_total_sales\"), 5).over(Window.orderBy(\"mnth\")))\\\n",
    "    .withColumn(\"perc_sales_off_6_months\", round(100 * (col(\"monthly_total_sales\")-col(\"last_6_months_sales\")) / col(\"monthly_total_sales\"), 2 ))\\\n",
    "    .show()"
   ]
  },
  {
   "cell_type": "code",
   "execution_count": 0,
   "metadata": {
    "application/vnd.databricks.v1+cell": {
     "cellMetadata": {
      "byteLimit": 2048000,
      "rowLimit": 10000
     },
     "inputWidgets": {},
     "nuid": "927099c7-5bcd-4cf4-baee-419410a88eae",
     "showTitle": false,
     "tableResultSettingsMap": {},
     "title": ""
    }
   },
   "outputs": [
    {
     "output_type": "stream",
     "name": "stdout",
     "output_type": "stream",
     "text": [
      "+----------+------------+----------+-------+---------------+--------------+\n|product_id|product_name|sales_date|  sales|prev_month_sale|perc_gain_loss|\n+----------+------------+----------+-------+---------------+--------------+\n|         1|      iphone|01-01-2023|1500000|           null|          null|\n|         1|      iphone|01-02-2023|1300000|        1500000|        -15.38|\n|         1|      iphone|01-03-2023|1600000|        1300000|         18.75|\n|         1|      iphone|01-04-2023|1700000|        1600000|          5.88|\n|         1|      iphone|01-05-2023|1200000|        1700000|        -41.67|\n|         1|      iphone|01-06-2023|1100000|        1200000|         -9.09|\n|         3|     oneplus|01-01-2023|1100000|           null|          null|\n|         3|     oneplus|01-02-2023|1120000|        1100000|          1.79|\n|         3|     oneplus|01-03-2023|1160000|        1120000|          3.45|\n|         3|     oneplus|01-04-2023|1170000|        1160000|          0.85|\n|         3|     oneplus|01-05-2023|1175000|        1170000|          0.43|\n|         3|     oneplus|01-06-2023|1200000|        1175000|          2.08|\n|         2|     samsung|01-01-2023|1100000|           null|          null|\n|         2|     samsung|01-02-2023|1120000|        1100000|          1.79|\n|         2|     samsung|01-03-2023|1080000|        1120000|          -3.7|\n|         2|     samsung|01-04-2023|1800000|        1080000|          40.0|\n|         2|     samsung|01-05-2023| 980000|        1800000|        -83.67|\n|         2|     samsung|01-06-2023|1100000|         980000|         10.91|\n+----------+------------+----------+-------+---------------+--------------+\n\n"
     ]
    }
   ],
   "source": [
    "# 2. What is the % of loss or gain based on previous month sale\n",
    "from pyspark.sql.window import Window\n",
    "from pyspark.sql.functions import *\n",
    "\n",
    "product_df.withColumn(\"prev_month_sale\", lag(col(\"sales\"), 1).over(Window.partitionBy(\"product_name\").orderBy(\"sales_date\")))\\\n",
    "    .withColumn(\"perc_gain_loss\", round(100 * (col(\"sales\")-col(\"prev_month_sale\"))/col(\"sales\"), 2))\\\n",
    "    .show()"
   ]
  },
  {
   "cell_type": "code",
   "execution_count": 0,
   "metadata": {
    "application/vnd.databricks.v1+cell": {
     "cellMetadata": {},
     "inputWidgets": {},
     "nuid": "b0bc3d70-9384-42cd-90d7-0dcae48fed16",
     "showTitle": false,
     "tableResultSettingsMap": {},
     "title": ""
    }
   },
   "outputs": [],
   "source": [
    "\n"
   ]
  }
 ],
 "metadata": {
  "application/vnd.databricks.v1+notebook": {
   "computePreferences": null,
   "dashboards": [],
   "environmentMetadata": {
    "base_environment": "",
    "environment_version": "1"
   },
   "inputWidgetPreferences": null,
   "language": "python",
   "notebookMetadata": {
    "pythonIndentUnit": 4
   },
   "notebookName": "21 Windows Lead Lag PySpark",
   "widgets": {}
  }
 },
 "nbformat": 4,
 "nbformat_minor": 0
}