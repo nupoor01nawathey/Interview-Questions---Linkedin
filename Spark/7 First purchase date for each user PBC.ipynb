{
 "cells": [
  {
   "cell_type": "code",
   "execution_count": 5,
   "id": "371bf7dc",
   "metadata": {},
   "outputs": [
    {
     "name": "stdout",
     "output_type": "stream",
     "text": [
      "root\n",
      " |-- UserID: integer (nullable = false)\n",
      " |-- PurchaseDate: date (nullable = true)\n",
      "\n",
      "+------+------------+\n",
      "|UserID|PurchaseDate|\n",
      "+------+------------+\n",
      "|1     |2023-01-05  |\n",
      "|1     |2023-01-10  |\n",
      "|2     |2023-01-03  |\n",
      "|3     |2023-01-12  |\n",
      "+------+------------+\n",
      "\n"
     ]
    },
    {
     "data": {
      "text/plain": [
       "import org.apache.spark.sql._\n",
       "purchase_data1: org.apache.spark.sql.DataFrame = [UserID: int, PurchaseDate: string]\n",
       "purchase_data: org.apache.spark.sql.DataFrame = [UserID: int, PurchaseDate: date]\n"
      ]
     },
     "execution_count": 5,
     "metadata": {},
     "output_type": "execute_result"
    }
   ],
   "source": [
    "import org.apache.spark.sql._\n",
    "\n",
    "val purchase_data1 = Seq(\n",
    "    (1,\"2023-01-05\"),\n",
    "    (1,\"2023-01-10\"),\n",
    "    (2,\"2023-01-03\"),\n",
    "    (3,\"2023-01-12\")\n",
    ").toDF(\"UserID\", \"PurchaseDate\")\n",
    "\n",
    "val purchase_data = purchase_data1.withColumn(\"PurchaseDate\", to_date($\"PurchaseDate\", \"yyyy-MM-dd\"))\n",
    "\n",
    "purchase_data.printSchema()\n",
    "purchase_data.show(false)\n"
   ]
  },
  {
   "cell_type": "code",
   "execution_count": 7,
   "id": "65fa1b7a",
   "metadata": {},
   "outputs": [
    {
     "name": "stdout",
     "output_type": "stream",
     "text": [
      "+------+----------+\n",
      "|UserID|first_date|\n",
      "+------+----------+\n",
      "|1     |2023-01-05|\n",
      "|2     |2023-01-03|\n",
      "|3     |2023-01-12|\n",
      "+------+----------+\n",
      "\n"
     ]
    }
   ],
   "source": [
    "purchase_data.groupBy($\"UserID\").agg(min($\"PurchaseDate\").as(\"first_date\")).show(false)"
   ]
  },
  {
   "cell_type": "code",
   "execution_count": null,
   "id": "f233d2f4",
   "metadata": {},
   "outputs": [],
   "source": []
  }
 ],
 "metadata": {
  "kernelspec": {
   "display_name": "spylon-kernel",
   "language": "scala",
   "name": "spylon-kernel"
  },
  "language_info": {
   "codemirror_mode": "text/x-scala",
   "file_extension": ".scala",
   "help_links": [
    {
     "text": "MetaKernel Magics",
     "url": "https://metakernel.readthedocs.io/en/latest/source/README.html"
    }
   ],
   "mimetype": "text/x-scala",
   "name": "scala",
   "pygments_lexer": "scala",
   "version": "0.4.1"
  }
 },
 "nbformat": 4,
 "nbformat_minor": 5
}
