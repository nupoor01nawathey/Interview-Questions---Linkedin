{
 "cells": [
  {
   "cell_type": "code",
   "execution_count": 1,
   "id": "13afb5aa",
   "metadata": {},
   "outputs": [
    {
     "data": {
      "text/plain": [
       "Intitializing Scala interpreter ..."
      ]
     },
     "metadata": {},
     "output_type": "display_data"
    },
    {
     "data": {
      "text/plain": [
       "Spark Web UI available at http://192.168.1.4:4046\n",
       "SparkContext available as 'sc' (version = 3.4.1, master = local[*], app id = local-1716128839538)\n",
       "SparkSession available as 'spark'\n"
      ]
     },
     "metadata": {},
     "output_type": "display_data"
    },
    {
     "name": "stdout",
     "output_type": "stream",
     "text": [
      "+----------+---------+\n",
      "|Date      |VisitorID|\n",
      "+----------+---------+\n",
      "|2023-01-01|101      |\n",
      "|2023-01-01|102      |\n",
      "|2023-01-01|101      |\n",
      "|2023-01-02|103      |\n",
      "|2023-01-02|101      |\n",
      "+----------+---------+\n",
      "\n"
     ]
    },
    {
     "data": {
      "text/plain": [
       "visitor_data: org.apache.spark.sql.DataFrame = [Date: string, VisitorID: int]\n"
      ]
     },
     "execution_count": 1,
     "metadata": {},
     "output_type": "execute_result"
    }
   ],
   "source": [
    "val visitor_data = Seq(\n",
    "                (\"2023-01-01\", 101),\n",
    "                (\"2023-01-01\", 102),\n",
    "                (\"2023-01-01\", 101),\n",
    "                (\"2023-01-02\", 103),\n",
    "                (\"2023-01-02\", 101)\n",
    "            ).toDF(\"Date\", \"VisitorID\")\n",
    "\n",
    "\n",
    "visitor_data.show(false)\n"
   ]
  },
  {
   "cell_type": "code",
   "execution_count": 5,
   "id": "4b86afb5",
   "metadata": {},
   "outputs": [
    {
     "name": "stdout",
     "output_type": "stream",
     "text": [
      "+----------+-----------------------+\n",
      "|Date      |unique_visitors_per_day|\n",
      "+----------+-----------------------+\n",
      "|2023-01-01|2                      |\n",
      "|2023-01-02|2                      |\n",
      "+----------+-----------------------+\n",
      "\n"
     ]
    }
   ],
   "source": [
    "visitor_data.groupBy($\"Date\").agg(countDistinct($\"VisitorID\").as(\"unique_visitors_per_day\")).show(false)"
   ]
  },
  {
   "cell_type": "code",
   "execution_count": null,
   "id": "76691a44",
   "metadata": {},
   "outputs": [],
   "source": []
  }
 ],
 "metadata": {
  "kernelspec": {
   "display_name": "spylon-kernel",
   "language": "scala",
   "name": "spylon-kernel"
  },
  "language_info": {
   "codemirror_mode": "text/x-scala",
   "file_extension": ".scala",
   "help_links": [
    {
     "text": "MetaKernel Magics",
     "url": "https://metakernel.readthedocs.io/en/latest/source/README.html"
    }
   ],
   "mimetype": "text/x-scala",
   "name": "scala",
   "pygments_lexer": "scala",
   "version": "0.4.1"
  }
 },
 "nbformat": 4,
 "nbformat_minor": 5
}
