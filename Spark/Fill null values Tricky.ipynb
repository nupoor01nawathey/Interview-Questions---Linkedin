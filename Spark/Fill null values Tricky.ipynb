{
 "cells": [
  {
   "cell_type": "code",
   "execution_count": 2,
   "id": "b762ef00",
   "metadata": {},
   "outputs": [
    {
     "name": "stdout",
     "output_type": "stream",
     "text": [
      "+------+--------------+----------------+\n",
      "|row_id|job_role      |skills          |\n",
      "+------+--------------+----------------+\n",
      "|1     |Data Engineer |SQL             |\n",
      "|2     |null          |Python          |\n",
      "|3     |null          |AWS             |\n",
      "|4     |null          |Snowflake       |\n",
      "|5     |null          |Apache Spark    |\n",
      "|6     |Web Developer |Java            |\n",
      "|7     |null          |HTML            |\n",
      "|8     |null          |CSS             |\n",
      "|9     |Data Scientist|Python          |\n",
      "|10    |null          |Machine Learning|\n",
      "|11    |null          |Deep Learning   |\n",
      "|12    |null          |Tableau         |\n",
      "+------+--------------+----------------+\n",
      "\n"
     ]
    },
    {
     "data": {
      "text/plain": [
       "job_skills_df: org.apache.spark.sql.DataFrame = [row_id: int, job_role: string ... 1 more field]\n"
      ]
     },
     "execution_count": 2,
     "metadata": {},
     "output_type": "execute_result"
    }
   ],
   "source": [
    "\n",
    "\n",
    "val job_skills_df = Seq(\n",
    "    (1, \"Data Engineer\", \"SQL\"),\n",
    "    (2, null, \"Python\"),\n",
    "    (3, null, \"AWS\"),\n",
    "    (4, null, \"Snowflake\"),\n",
    "    (5, null, \"Apache Spark\"),\n",
    "    (6, \"Web Developer\", \"Java\"),\n",
    "    (7, null, \"HTML\"),\n",
    "    (8, null, \"CSS\"),\n",
    "    (9, \"Data Scientist\", \"Python\"),\n",
    "    (10, null, \"Machine Learning\"),\n",
    "    (11, null, \"Deep Learning\"),\n",
    "    (12, null, \"Tableau\")\n",
    ").toDF(\"row_id\", \"job_role\", \"skills\")\n",
    "\n",
    "\n",
    "job_skills_df.show(false)\n"
   ]
  },
  {
   "cell_type": "code",
   "execution_count": 3,
   "id": "a693363a",
   "metadata": {},
   "outputs": [
    {
     "name": "stdout",
     "output_type": "stream",
     "text": [
      "+------+--------------+----------------+----+\n",
      "|row_id|job_role      |skills          |flag|\n",
      "+------+--------------+----------------+----+\n",
      "|1     |Data Engineer |SQL             |1   |\n",
      "|2     |null          |Python          |0   |\n",
      "|3     |null          |AWS             |0   |\n",
      "|4     |null          |Snowflake       |0   |\n",
      "|5     |null          |Apache Spark    |0   |\n",
      "|6     |Web Developer |Java            |1   |\n",
      "|7     |null          |HTML            |0   |\n",
      "|8     |null          |CSS             |0   |\n",
      "|9     |Data Scientist|Python          |1   |\n",
      "|10    |null          |Machine Learning|0   |\n",
      "|11    |null          |Deep Learning   |0   |\n",
      "|12    |null          |Tableau         |0   |\n",
      "+------+--------------+----------------+----+\n",
      "\n"
     ]
    },
    {
     "data": {
      "text/plain": [
       "flag_df: org.apache.spark.sql.DataFrame = [row_id: int, job_role: string ... 2 more fields]\n"
      ]
     },
     "execution_count": 3,
     "metadata": {},
     "output_type": "execute_result"
    }
   ],
   "source": [
    "val flag_df = job_skills_df.withColumn(\"flag\", when($\"job_role\".isNotNull, lit(1)).otherwise(lit(0)))\n",
    "flag_df.show(false)"
   ]
  },
  {
   "cell_type": "code",
   "execution_count": 5,
   "id": "d9fe7760",
   "metadata": {},
   "outputs": [
    {
     "name": "stdout",
     "output_type": "stream",
     "text": [
      "+------+--------------+----------------+-----------+\n",
      "|row_id|job_role      |skills          |running_sum|\n",
      "+------+--------------+----------------+-----------+\n",
      "|1     |Data Engineer |SQL             |1          |\n",
      "|2     |null          |Python          |1          |\n",
      "|3     |null          |AWS             |1          |\n",
      "|4     |null          |Snowflake       |1          |\n",
      "|5     |null          |Apache Spark    |1          |\n",
      "|6     |Web Developer |Java            |2          |\n",
      "|7     |null          |HTML            |2          |\n",
      "|8     |null          |CSS             |2          |\n",
      "|9     |Data Scientist|Python          |3          |\n",
      "|10    |null          |Machine Learning|3          |\n",
      "|11    |null          |Deep Learning   |3          |\n",
      "|12    |null          |Tableau         |3          |\n",
      "+------+--------------+----------------+-----------+\n",
      "\n"
     ]
    },
    {
     "data": {
      "text/plain": [
       "import org.apache.spark.sql.expressions._\n",
       "running_sum_df: org.apache.spark.sql.DataFrame = [row_id: int, job_role: string ... 2 more fields]\n"
      ]
     },
     "execution_count": 5,
     "metadata": {},
     "output_type": "execute_result"
    }
   ],
   "source": [
    "import org.apache.spark.sql.expressions._\n",
    "\n",
    "val running_sum_df = flag_df.withColumn(\"running_sum\", sum($\"flag\").over(Window.orderBy($\"row_id\"))).drop(\"flag\")\n",
    "\n",
    "running_sum_df.show(false)"
   ]
  },
  {
   "cell_type": "code",
   "execution_count": 12,
   "id": "8f016371",
   "metadata": {},
   "outputs": [
    {
     "name": "stdout",
     "output_type": "stream",
     "text": [
      "+------+--------------+----------------+\n",
      "|row_id|job_role      |skills          |\n",
      "+------+--------------+----------------+\n",
      "|1     |Data Engineer |SQL             |\n",
      "|2     |Data Engineer |Python          |\n",
      "|3     |Data Engineer |AWS             |\n",
      "|4     |Data Engineer |Snowflake       |\n",
      "|5     |Data Engineer |Apache Spark    |\n",
      "|6     |Web Developer |Java            |\n",
      "|7     |Web Developer |HTML            |\n",
      "|8     |Web Developer |CSS             |\n",
      "|9     |Data Scientist|Python          |\n",
      "|10    |Data Scientist|Machine Learning|\n",
      "|11    |Data Scientist|Deep Learning   |\n",
      "|12    |Data Scientist|Tableau         |\n",
      "+------+--------------+----------------+\n",
      "\n"
     ]
    }
   ],
   "source": [
    "running_sum_df.withColumn(\"job_role\", first($\"job_role\").over(Window.partitionBy($\"running_sum\"))\n",
    "                         ).drop(\"running_sum\").show(false)"
   ]
  },
  {
   "cell_type": "code",
   "execution_count": null,
   "id": "0e4a3d57",
   "metadata": {},
   "outputs": [],
   "source": []
  }
 ],
 "metadata": {
  "kernelspec": {
   "display_name": "spylon-kernel",
   "language": "scala",
   "name": "spylon-kernel"
  },
  "language_info": {
   "codemirror_mode": "text/x-scala",
   "file_extension": ".scala",
   "help_links": [
    {
     "text": "MetaKernel Magics",
     "url": "https://metakernel.readthedocs.io/en/latest/source/README.html"
    }
   ],
   "mimetype": "text/x-scala",
   "name": "scala",
   "pygments_lexer": "scala",
   "version": "0.4.1"
  }
 },
 "nbformat": 4,
 "nbformat_minor": 5
}
