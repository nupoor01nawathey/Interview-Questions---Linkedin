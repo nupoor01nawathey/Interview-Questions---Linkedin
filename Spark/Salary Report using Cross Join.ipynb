{
 "cells": [
  {
   "cell_type": "code",
   "execution_count": 4,
   "id": "083a0258",
   "metadata": {},
   "outputs": [
    {
     "name": "stdout",
     "output_type": "stream",
     "text": [
      "+------+--------+-----------+\n",
      "|emp_id|emp_name|base_salary|\n",
      "+------+--------+-----------+\n",
      "|1     |Rohan   |5000       |\n",
      "|2     |Alex    |6000       |\n",
      "|3     |Maryam  |7000       |\n",
      "+------+--------+-----------+\n",
      "\n",
      "+---+---------+----------+\n",
      "|id |income   |percentage|\n",
      "+---+---------+----------+\n",
      "|1  |Basic    |100       |\n",
      "|2  |Allowance|4         |\n",
      "|3  |Others   |6         |\n",
      "+---+---------+----------+\n",
      "\n",
      "+---+---------+----------+\n",
      "|id |deduction|percentage|\n",
      "+---+---------+----------+\n",
      "|1  |Insurance|5         |\n",
      "|2  |Health   |6         |\n",
      "|3  |House    |4         |\n",
      "+---+---------+----------+\n",
      "\n"
     ]
    },
    {
     "data": {
      "text/plain": [
       "import org.apache.spark.sql.functions._\n",
       "import org.apache.spark.sql.expressions._\n",
       "salary_df: org.apache.spark.sql.DataFrame = [emp_id: int, emp_name: string ... 1 more field]\n",
       "income_df: org.apache.spark.sql.DataFrame = [id: int, income: string ... 1 more field]\n",
       "deduction_df: org.apache.spark.sql.DataFrame = [id: int, deduction: string ... 1 more field]\n"
      ]
     },
     "execution_count": 4,
     "metadata": {},
     "output_type": "execute_result"
    }
   ],
   "source": [
    "import org.apache.spark.sql.functions._\n",
    "import org.apache.spark.sql.expressions._\n",
    "\n",
    "\n",
    "val salary_df = Seq(\n",
    "    (1, \"Rohan\", 5000),\n",
    "    (2, \"Alex\", 6000),\n",
    "    (3, \"Maryam\", 7000)\n",
    ").toDF(\"emp_id\", \"emp_name\", \"base_salary\")\n",
    "\n",
    "\n",
    "val income_df = Seq(\n",
    "    (1,\"Basic\", 100),\n",
    "    (2,\"Allowance\", 4),\n",
    "    (3,\"Others\", 6)\n",
    ").toDF(\"id\", \"income\", \"percentage\")\n",
    "\n",
    "\n",
    "val deduction_df = Seq(\n",
    "    (1,\"Insurance\", 5),\n",
    "    (2,\"Health\", 6),\n",
    "    (3,\"House\", 4)\n",
    ").toDF(\"id\", \"deduction\", \"percentage\")\n",
    "\n",
    "\n",
    "salary_df.show(false)\n",
    "income_df.show(false)\n",
    "deduction_df.show(false)\n",
    "\n"
   ]
  },
  {
   "cell_type": "code",
   "execution_count": 40,
   "id": "007037a3",
   "metadata": {},
   "outputs": [
    {
     "name": "stdout",
     "output_type": "stream",
     "text": [
      "+------+--------+-----------+---+---------+----------+\n",
      "|emp_id|emp_name|base_salary|id |income   |percentage|\n",
      "+------+--------+-----------+---+---------+----------+\n",
      "|1     |Rohan   |5000       |1  |Basic    |100       |\n",
      "|1     |Rohan   |5000       |2  |Allowance|4         |\n",
      "|1     |Rohan   |5000       |3  |Others   |6         |\n",
      "|2     |Alex    |6000       |1  |Basic    |100       |\n",
      "|2     |Alex    |6000       |2  |Allowance|4         |\n",
      "|2     |Alex    |6000       |3  |Others   |6         |\n",
      "|3     |Maryam  |7000       |1  |Basic    |100       |\n",
      "|3     |Maryam  |7000       |2  |Allowance|4         |\n",
      "|3     |Maryam  |7000       |3  |Others   |6         |\n",
      "|1     |Rohan   |5000       |1  |Insurance|5         |\n",
      "|1     |Rohan   |5000       |2  |Health   |6         |\n",
      "|1     |Rohan   |5000       |3  |House    |4         |\n",
      "|2     |Alex    |6000       |1  |Insurance|5         |\n",
      "|2     |Alex    |6000       |2  |Health   |6         |\n",
      "|2     |Alex    |6000       |3  |House    |4         |\n",
      "|3     |Maryam  |7000       |1  |Insurance|5         |\n",
      "|3     |Maryam  |7000       |2  |Health   |6         |\n",
      "|3     |Maryam  |7000       |3  |House    |4         |\n",
      "+------+--------+-----------+---+---------+----------+\n",
      "\n"
     ]
    },
    {
     "data": {
      "text/plain": [
       "joined_df1: org.apache.spark.sql.DataFrame = [emp_id: int, emp_name: string ... 4 more fields]\n",
       "joined_df2: org.apache.spark.sql.DataFrame = [emp_id: int, emp_name: string ... 4 more fields]\n",
       "joined_df: org.apache.spark.sql.Dataset[org.apache.spark.sql.Row] = [emp_id: int, emp_name: string ... 4 more fields]\n",
       "res38: Long = 18\n"
      ]
     },
     "execution_count": 40,
     "metadata": {},
     "output_type": "execute_result"
    }
   ],
   "source": [
    "val joined_df1 = salary_df.join(income_df, lit(1) === lit(1), \"inner\")\n",
    "val joined_df2 = salary_df.join(deduction_df, lit(1) === lit(1), \"inner\")\n",
    "\n",
    "val joined_df = joined_df1.union(joined_df2)\n",
    "joined_df.show(false)\n",
    "joined_df.count()"
   ]
  },
  {
   "cell_type": "code",
   "execution_count": 41,
   "id": "f830b7aa",
   "metadata": {},
   "outputs": [
    {
     "name": "stdout",
     "output_type": "stream",
     "text": [
      "+------+--------+-----------+---+---------+----------+------+\n",
      "|emp_id|emp_name|base_salary|id |income   |percentage|amount|\n",
      "+------+--------+-----------+---+---------+----------+------+\n",
      "|1     |Rohan   |5000       |2  |Allowance|4         |200.0 |\n",
      "|1     |Rohan   |5000       |1  |Basic    |100       |5000.0|\n",
      "|1     |Rohan   |5000       |2  |Health   |6         |300.0 |\n",
      "|1     |Rohan   |5000       |3  |House    |4         |200.0 |\n",
      "|1     |Rohan   |5000       |1  |Insurance|5         |250.0 |\n",
      "|1     |Rohan   |5000       |3  |Others   |6         |300.0 |\n",
      "|2     |Alex    |6000       |2  |Allowance|4         |240.0 |\n",
      "|2     |Alex    |6000       |1  |Basic    |100       |6000.0|\n",
      "|2     |Alex    |6000       |2  |Health   |6         |360.0 |\n",
      "|2     |Alex    |6000       |3  |House    |4         |240.0 |\n",
      "|2     |Alex    |6000       |1  |Insurance|5         |300.0 |\n",
      "|2     |Alex    |6000       |3  |Others   |6         |360.0 |\n",
      "|3     |Maryam  |7000       |2  |Allowance|4         |280.0 |\n",
      "|3     |Maryam  |7000       |1  |Basic    |100       |7000.0|\n",
      "|3     |Maryam  |7000       |2  |Health   |6         |420.0 |\n",
      "|3     |Maryam  |7000       |3  |House    |4         |280.0 |\n",
      "|3     |Maryam  |7000       |1  |Insurance|5         |350.0 |\n",
      "|3     |Maryam  |7000       |3  |Others   |6         |420.0 |\n",
      "+------+--------+-----------+---+---------+----------+------+\n",
      "\n"
     ]
    },
    {
     "data": {
      "text/plain": [
       "amount_df: org.apache.spark.sql.Dataset[org.apache.spark.sql.Row] = [emp_id: int, emp_name: string ... 5 more fields]\n"
      ]
     },
     "execution_count": 41,
     "metadata": {},
     "output_type": "execute_result"
    }
   ],
   "source": [
    "val amount_df = joined_df.withColumn(\"amount\", $\"base_salary\" * $\"percentage\" / 100).orderBy($\"emp_id\",$\"income\")\n",
    "amount_df.show(false)"
   ]
  },
  {
   "cell_type": "code",
   "execution_count": 42,
   "id": "9456aee9",
   "metadata": {},
   "outputs": [
    {
     "name": "stdout",
     "output_type": "stream",
     "text": [
      "+--------+------+---------+------+---------+------+-----+\n",
      "|emp_name|Basic |Allowance|Others|Insurance|Health|House|\n",
      "+--------+------+---------+------+---------+------+-----+\n",
      "|Alex    |6000.0|240.0    |360.0 |300.0    |360.0 |240.0|\n",
      "|Rohan   |5000.0|200.0    |300.0 |250.0    |300.0 |200.0|\n",
      "|Maryam  |7000.0|280.0    |420.0 |350.0    |420.0 |280.0|\n",
      "+--------+------+---------+------+---------+------+-----+\n",
      "\n"
     ]
    },
    {
     "data": {
      "text/plain": [
       "salary_report_df: org.apache.spark.sql.DataFrame = [emp_name: string, Basic: double ... 5 more fields]\n"
      ]
     },
     "execution_count": 42,
     "metadata": {},
     "output_type": "execute_result"
    }
   ],
   "source": [
    "val salary_report_df = amount_df.groupBy($\"emp_name\"\n",
    "                 ).agg(\n",
    "                    sum(when($\"income\"===\"Basic\", $\"amount\")).alias(\"Basic\"),\n",
    "                    sum(when($\"income\"===\"Allowance\", $\"amount\")).alias(\"Allowance\"),\n",
    "                    sum(when($\"income\"===\"Others\", $\"amount\")).alias(\"Others\"),\n",
    "                    sum(when($\"income\"===\"Insurance\", $\"amount\")).alias(\"Insurance\"),\n",
    "                    sum(when($\"income\"===\"Health\", $\"amount\")).alias(\"Health\"),\n",
    "                    sum(when($\"income\"===\"House\", $\"amount\")).alias(\"House\")\n",
    "                 )\n",
    "\n",
    "salary_report_df.show(false)"
   ]
  },
  {
   "cell_type": "code",
   "execution_count": 43,
   "id": "de82fe8e",
   "metadata": {},
   "outputs": [
    {
     "name": "stdout",
     "output_type": "stream",
     "text": [
      "+--------+------+---------+------+---------+------+-----+------+----------------+-------+\n",
      "|emp_name|Basic |Allowance|Others|Insurance|Health|House|gross |total_deductions|net_pay|\n",
      "+--------+------+---------+------+---------+------+-----+------+----------------+-------+\n",
      "|Alex    |6000.0|240.0    |360.0 |300.0    |360.0 |240.0|6600.0|900.0           |5700.0 |\n",
      "|Rohan   |5000.0|200.0    |300.0 |250.0    |300.0 |200.0|5500.0|750.0           |4750.0 |\n",
      "|Maryam  |7000.0|280.0    |420.0 |350.0    |420.0 |280.0|7700.0|1050.0          |6650.0 |\n",
      "+--------+------+---------+------+---------+------+-----+------+----------------+-------+\n",
      "\n"
     ]
    }
   ],
   "source": [
    "salary_report_df.withColumn(\"gross\", $\"basic\" + $\"allowance\" + $\"others\"\n",
    "               ).withColumn(\"total_deductions\", $\"insurance\" + $\"health\" + $\"house\"\n",
    "               ).withColumn(\"net_pay\", $\"gross\" - $\"total_deductions\"\n",
    "               ).show(false)\n"
   ]
  },
  {
   "cell_type": "code",
   "execution_count": null,
   "id": "61982233",
   "metadata": {},
   "outputs": [],
   "source": []
  }
 ],
 "metadata": {
  "kernelspec": {
   "display_name": "spylon-kernel",
   "language": "scala",
   "name": "spylon-kernel"
  },
  "language_info": {
   "codemirror_mode": "text/x-scala",
   "file_extension": ".scala",
   "help_links": [
    {
     "text": "MetaKernel Magics",
     "url": "https://metakernel.readthedocs.io/en/latest/source/README.html"
    }
   ],
   "mimetype": "text/x-scala",
   "name": "scala",
   "pygments_lexer": "scala",
   "version": "0.4.1"
  }
 },
 "nbformat": 4,
 "nbformat_minor": 5
}
