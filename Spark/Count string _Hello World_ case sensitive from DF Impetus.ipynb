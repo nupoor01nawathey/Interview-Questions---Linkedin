{
 "cells": [
  {
   "cell_type": "code",
   "execution_count": 1,
   "id": "8db9b617",
   "metadata": {},
   "outputs": [
    {
     "data": {
      "text/plain": [
       "Intitializing Scala interpreter ..."
      ]
     },
     "metadata": {},
     "output_type": "display_data"
    },
    {
     "data": {
      "text/plain": [
       "Spark Web UI available at http://192.168.1.4:4040\n",
       "SparkContext available as 'sc' (version = 3.4.1, master = local[*], app id = local-1719498447674)\n",
       "SparkSession available as 'spark'\n"
      ]
     },
     "metadata": {},
     "output_type": "display_data"
    },
    {
     "name": "stdout",
     "output_type": "stream",
     "text": [
      "+-----------------+\n",
      "|text             |\n",
      "+-----------------+\n",
      "|Hello World Scala|\n",
      "|Hello Scala      |\n",
      "|Hello World      |\n",
      "|Hello world      |\n",
      "|hello world Scala|\n",
      "|Hello Wold       |\n",
      "+-----------------+\n",
      "\n"
     ]
    },
    {
     "data": {
      "text/plain": [
       "import org.apache.spark.sql.functions._\n",
       "data_df: org.apache.spark.sql.DataFrame = [text: string]\n"
      ]
     },
     "execution_count": 1,
     "metadata": {},
     "output_type": "execute_result"
    }
   ],
   "source": [
    "import org.apache.spark.sql.functions._\n",
    "\n",
    "val data_df = Seq(\n",
    "    (\"Hello World Scala\"),\n",
    "    (\"Hello Scala\"),\n",
    "    (\"Hello World\"),\n",
    "    (\"Hello world\"),\n",
    "    (\"hello world Scala\"),\n",
    "    (\"Hello Wold\")\n",
    ").toDF(\"text\")\n",
    "\n",
    "data_df.show(false)\n"
   ]
  },
  {
   "cell_type": "code",
   "execution_count": 9,
   "id": "ecb0d147",
   "metadata": {},
   "outputs": [
    {
     "name": "stdout",
     "output_type": "stream",
     "text": [
      "+-----------------+----------+\n",
      "|text             |count_word|\n",
      "+-----------------+----------+\n",
      "|Hello World Scala|1.0       |\n",
      "|Hello Scala      |0.0       |\n",
      "|Hello World      |1.0       |\n",
      "|Hello world      |0.0       |\n",
      "|hello world Scala|0.0       |\n",
      "|Hello Wold       |0.0       |\n",
      "+-----------------+----------+\n",
      "\n"
     ]
    },
    {
     "data": {
      "text/plain": [
       "count_word_df: org.apache.spark.sql.DataFrame = [text: string, count_word: double]\n"
      ]
     },
     "execution_count": 9,
     "metadata": {},
     "output_type": "execute_result"
    }
   ],
   "source": [
    "val count_word_df = data_df.withColumn(\n",
    "    \"count_word\", (length($\"text\") - length(regexp_replace($\"text\", \"Hello World\", \"\")))\n",
    "    / (length(lit(\"Hello World\")) )\n",
    ")\n",
    "\n",
    "count_word_df.show(false)"
   ]
  },
  {
   "cell_type": "code",
   "execution_count": 13,
   "id": "5744f282",
   "metadata": {},
   "outputs": [
    {
     "name": "stdout",
     "output_type": "stream",
     "text": [
      "+----------+\n",
      "|word_count|\n",
      "+----------+\n",
      "|2.0       |\n",
      "+----------+\n",
      "\n"
     ]
    }
   ],
   "source": [
    "count_word_df.agg(sum($\"count_word\").as(\"word_count\")).show(false)"
   ]
  },
  {
   "cell_type": "code",
   "execution_count": 18,
   "id": "7357c869",
   "metadata": {},
   "outputs": [
    {
     "name": "stdout",
     "output_type": "stream",
     "text": [
      "+----------+\n",
      "|count_word|\n",
      "+----------+\n",
      "|2.0       |\n",
      "+----------+\n",
      "\n"
     ]
    }
   ],
   "source": [
    "\n",
    "data_df.createOrReplaceTempView(\"data_t\")\n",
    "\n",
    "spark.sql(\"\"\"\n",
    "    SELECT \n",
    "        SUM((LENGTH(text) - LENGTH(REPLACE(text, \"Hello World\", \"\"))) / (LENGTH(\"Hello World\"))) AS count_word\n",
    "    FROM data_t\n",
    "\"\"\").show(false)"
   ]
  },
  {
   "cell_type": "code",
   "execution_count": null,
   "id": "4d62d1dc",
   "metadata": {},
   "outputs": [],
   "source": []
  }
 ],
 "metadata": {
  "kernelspec": {
   "display_name": "spylon-kernel",
   "language": "scala",
   "name": "spylon-kernel"
  },
  "language_info": {
   "codemirror_mode": "text/x-scala",
   "file_extension": ".scala",
   "help_links": [
    {
     "text": "MetaKernel Magics",
     "url": "https://metakernel.readthedocs.io/en/latest/source/README.html"
    }
   ],
   "mimetype": "text/x-scala",
   "name": "scala",
   "pygments_lexer": "scala",
   "version": "0.4.1"
  }
 },
 "nbformat": 4,
 "nbformat_minor": 5
}
