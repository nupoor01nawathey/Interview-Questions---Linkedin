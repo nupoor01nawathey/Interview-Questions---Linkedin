{
 "cells": [
  {
   "cell_type": "code",
   "execution_count": 0,
   "metadata": {
    "application/vnd.databricks.v1+cell": {
     "cellMetadata": {
      "byteLimit": 2048000,
      "rowLimit": 10000
     },
     "inputWidgets": {},
     "nuid": "3e446cf1-4463-49a6-bc28-8efd2bbb6102",
     "showTitle": false,
     "tableResultSettingsMap": {},
     "title": ""
    }
   },
   "outputs": [
    {
     "output_type": "stream",
     "name": "stdout",
     "output_type": "stream",
     "text": [
      "Out[2]: 13"
     ]
    }
   ],
   "source": [
    "manager_df = spark.createDataFrame(\n",
    "    [\n",
    "        (10 ,'Anil',50000, 18),\n",
    "        (11 ,'Vikas',75000,  16),\n",
    "        (12 ,'Nisha',40000,  18),\n",
    "        (13 ,'Nidhi',60000,  17),\n",
    "        (14 ,'Priya',80000,  18),\n",
    "        (15 ,'Mohit',45000,  18),\n",
    "        (16 ,'Rajesh',90000, 10),\n",
    "        (17 ,'Raman',55000, 16),\n",
    "        (18 ,'Sam',65000,   17),\n",
    "        (15 ,'Mohit',45000,  18),\n",
    "        (13 ,'Nidhi',60000,  17),      \n",
    "        (14 ,'Priya',90000,  18),  \n",
    "        (18 ,'Sam',65000,   17)\n",
    "    ], [\"id\", \"Name\", \"sal\", \"mngr_id\"])\n",
    "\n",
    "manager_df.count()"
   ]
  },
  {
   "cell_type": "code",
   "execution_count": 0,
   "metadata": {
    "application/vnd.databricks.v1+cell": {
     "cellMetadata": {
      "byteLimit": 2048000,
      "rowLimit": 10000
     },
     "inputWidgets": {},
     "nuid": "0868f606-6da1-4ad7-b914-a0068ec8f010",
     "showTitle": false,
     "tableResultSettingsMap": {},
     "title": ""
    }
   },
   "outputs": [
    {
     "output_type": "stream",
     "name": "stdout",
     "output_type": "stream",
     "text": [
      "Out[3]: 10"
     ]
    }
   ],
   "source": [
    "manager_df.distinct().count()"
   ]
  },
  {
   "cell_type": "code",
   "execution_count": 0,
   "metadata": {
    "application/vnd.databricks.v1+cell": {
     "cellMetadata": {
      "byteLimit": 2048000,
      "rowLimit": 10000
     },
     "inputWidgets": {},
     "nuid": "05d087f2-d38f-41ab-9369-515553018112",
     "showTitle": false,
     "tableResultSettingsMap": {},
     "title": ""
    }
   },
   "outputs": [
    {
     "output_type": "stream",
     "name": "stdout",
     "output_type": "stream",
     "text": [
      "Out[4]: 9"
     ]
    }
   ],
   "source": [
    "manager_df.select(\"id\", \"name\").distinct().count()"
   ]
  },
  {
   "cell_type": "code",
   "execution_count": 0,
   "metadata": {
    "application/vnd.databricks.v1+cell": {
     "cellMetadata": {
      "byteLimit": 2048000,
      "rowLimit": 10000
     },
     "inputWidgets": {},
     "nuid": "bbb946d3-1a76-43ad-a886-45fa41fe511b",
     "showTitle": false,
     "tableResultSettingsMap": {},
     "title": ""
    }
   },
   "outputs": [
    {
     "output_type": "stream",
     "name": "stdout",
     "output_type": "stream",
     "text": [
      "+---+------+-----+-------+\n| id|  Name|  sal|mngr_id|\n+---+------+-----+-------+\n| 10|  Anil|50000|     18|\n| 12| Nisha|40000|     18|\n| 11| Vikas|75000|     16|\n| 13| Nidhi|60000|     17|\n| 15| Mohit|45000|     18|\n| 14| Priya|80000|     18|\n| 16|Rajesh|90000|     10|\n| 17| Raman|55000|     16|\n| 18|   Sam|65000|     17|\n| 14| Priya|90000|     18|\n+---+------+-----+-------+\n\nOut[6]: 10"
     ]
    }
   ],
   "source": [
    "manager_df.drop_duplicates([\"id\", \"name\", \"sal\", \"mngr_id\"]).show()\n",
    "manager_df.drop_duplicates([\"id\", \"name\", \"sal\", \"mngr_id\"]).count()"
   ]
  },
  {
   "cell_type": "code",
   "execution_count": 0,
   "metadata": {
    "application/vnd.databricks.v1+cell": {
     "cellMetadata": {
      "byteLimit": 2048000,
      "rowLimit": 10000
     },
     "inputWidgets": {},
     "nuid": "f9f08add-749b-44d1-8677-9c6aa5b62005",
     "showTitle": false,
     "tableResultSettingsMap": {},
     "title": ""
    }
   },
   "outputs": [
    {
     "output_type": "stream",
     "name": "stdout",
     "output_type": "stream",
     "text": [
      "+---+------+-----+-------+\n| id|  Name|  sal|mngr_id|\n+---+------+-----+-------+\n| 16|Rajesh|90000|     10|\n| 14| Priya|90000|     18|\n| 14| Priya|80000|     18|\n| 11| Vikas|75000|     16|\n| 18|   Sam|65000|     17|\n| 18|   Sam|65000|     17|\n| 13| Nidhi|60000|     17|\n| 13| Nidhi|60000|     17|\n| 17| Raman|55000|     16|\n| 10|  Anil|50000|     18|\n| 15| Mohit|45000|     18|\n| 15| Mohit|45000|     18|\n| 12| Nisha|40000|     18|\n+---+------+-----+-------+\n\n"
     ]
    }
   ],
   "source": [
    "from pyspark.sql.functions import *\n",
    "\n",
    "manager_df.sort(col(\"sal\").desc(), col(\"Name\").desc()).show()"
   ]
  },
  {
   "cell_type": "code",
   "execution_count": 0,
   "metadata": {
    "application/vnd.databricks.v1+cell": {
     "cellMetadata": {
      "byteLimit": 2048000,
      "rowLimit": 10000
     },
     "inputWidgets": {},
     "nuid": "bf8f2c19-0709-46e1-9f90-b342bc7fb54e",
     "showTitle": false,
     "tableResultSettingsMap": {},
     "title": ""
    }
   },
   "outputs": [
    {
     "output_type": "stream",
     "name": "stdout",
     "output_type": "stream",
     "text": [
      "+---+----+----------+\n| id|name|referee_id|\n+---+----+----------+\n|  1|Will|      null|\n|  2|Jane|      null|\n|  3|Alex|         2|\n|  4|Bill|      null|\n|  5|Zack|         1|\n|  6|Mark|         2|\n+---+----+----------+\n\n+----+\n|name|\n+----+\n|Will|\n|Jane|\n|Bill|\n|Zack|\n+----+\n\n"
     ]
    }
   ],
   "source": [
    "\"\"\"\n",
    "    Print names when referee_id is not 2\n",
    "\"\"\"\n",
    "\n",
    "leet_code_df = spark.createDataFrame([\n",
    "    (1, 'Will', None),\n",
    "    (2, 'Jane', None),\n",
    "    (3, 'Alex', 2),\n",
    "    (4, 'Bill', None),\n",
    "    (5, 'Zack', 1),\n",
    "    (6, 'Mark', 2)\n",
    "], [\"id\", \"name\", \"referee_id\"])\n",
    "\n",
    "leet_code_df.show()\n",
    "leet_code_df.filter((col(\"referee_id\") != 2) | (col(\"referee_id\").isNull())).select(\"name\").show()"
   ]
  }
 ],
 "metadata": {
  "application/vnd.databricks.v1+notebook": {
   "computePreferences": null,
   "dashboards": [],
   "environmentMetadata": {
    "base_environment": "",
    "environment_version": "1"
   },
   "inputWidgetPreferences": null,
   "language": "python",
   "notebookMetadata": {
    "pythonIndentUnit": 4
   },
   "notebookName": "15 Unique and Sorted Records PySpark[LC]",
   "widgets": {}
  }
 },
 "nbformat": 4,
 "nbformat_minor": 0
}