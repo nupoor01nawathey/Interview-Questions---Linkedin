{
 "cells": [
  {
   "cell_type": "code",
   "execution_count": 8,
   "id": "0cc1c1b6",
   "metadata": {},
   "outputs": [
    {
     "name": "stdout",
     "output_type": "stream",
     "text": [
      "+---+\n",
      "|id |\n",
      "+---+\n",
      "|1  |\n",
      "|2  |\n",
      "|3  |\n",
      "|6  |\n",
      "|7  |\n",
      "|8  |\n",
      "+---+\n",
      "\n",
      "+---+\n",
      "|id |\n",
      "+---+\n",
      "|1  |\n",
      "|2  |\n",
      "|3  |\n",
      "|4  |\n",
      "|5  |\n",
      "|6  |\n",
      "|7  |\n",
      "|8  |\n",
      "+---+\n",
      "\n",
      "+---+\n",
      "|id |\n",
      "+---+\n",
      "|4  |\n",
      "|5  |\n",
      "+---+\n",
      "\n"
     ]
    },
    {
     "data": {
      "text/plain": [
       "data: List[Int] = List(1, 2, 3, 6, 7, 8)\n",
       "df: org.apache.spark.sql.DataFrame = [id: int]\n",
       "rangeDF: org.apache.spark.sql.DataFrame = [id: int]\n",
       "diffDF: org.apache.spark.sql.DataFrame = [id: int]\n"
      ]
     },
     "execution_count": 8,
     "metadata": {},
     "output_type": "execute_result"
    }
   ],
   "source": [
    "// Task - Find the missing numbers in the column\n",
    "// Expected output\n",
    "// id\n",
    "// -----\n",
    "// 4\n",
    "// 5\n",
    "\n",
    "val data = List(1,2,3,6,7,8)\n",
    "\n",
    "val df = data.toDF(\"id\")\n",
    "\n",
    "val rangeDF = (data.min to data.max).toDF(\"id\")\n",
    "\n",
    "df.show(false)\n",
    "rangeDF.show(false)\n",
    "\n",
    "\n",
    "val diffDF = rangeDF.join(df, \"id\", \"leftanti\")\n",
    "\n",
    "diffDF.show(false)\n"
   ]
  },
  {
   "cell_type": "code",
   "execution_count": 13,
   "id": "a624d690",
   "metadata": {},
   "outputs": [
    {
     "name": "stdout",
     "output_type": "stream",
     "text": [
      "Set(5, 4)\n"
     ]
    },
    {
     "data": {
      "text/plain": [
       "aSet: scala.collection.immutable.Set[Int] = Set(1, 6, 2, 7, 3, 8)\n",
       "allFromSet: scala.collection.immutable.Set[Int] = Set(5, 1, 6, 2, 7, 3, 8, 4)\n",
       "missing_numbers: scala.collection.immutable.Set[Int] = Set(5, 4)\n"
      ]
     },
     "execution_count": 13,
     "metadata": {},
     "output_type": "execute_result"
    }
   ],
   "source": [
    "// Using Pure SCALA\n",
    "\n",
    "val aSet = Set(1,2,3,6,7,8)\n",
    "val allFromSet = (aSet.min to aSet.max).toSet\n",
    "\n",
    "val missing_numbers = allFromSet.diff(aSet)\n",
    "println(missing_numbers)"
   ]
  },
  {
   "cell_type": "code",
   "execution_count": null,
   "id": "a59a738e",
   "metadata": {},
   "outputs": [],
   "source": []
  }
 ],
 "metadata": {
  "kernelspec": {
   "display_name": "spylon-kernel",
   "language": "scala",
   "name": "spylon-kernel"
  },
  "language_info": {
   "codemirror_mode": "text/x-scala",
   "file_extension": ".scala",
   "help_links": [
    {
     "text": "MetaKernel Magics",
     "url": "https://metakernel.readthedocs.io/en/latest/source/README.html"
    }
   ],
   "mimetype": "text/x-scala",
   "name": "scala",
   "pygments_lexer": "scala",
   "version": "0.4.1"
  }
 },
 "nbformat": 4,
 "nbformat_minor": 5
}
