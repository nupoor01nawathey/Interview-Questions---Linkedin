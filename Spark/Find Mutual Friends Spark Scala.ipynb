{
 "cells": [
  {
   "cell_type": "code",
   "execution_count": 5,
   "id": "03dfbb2f",
   "metadata": {},
   "outputs": [
    {
     "name": "stdout",
     "output_type": "stream",
     "text": [
      "+-------+-----------+\n",
      "|user_id|friend_list|\n",
      "+-------+-----------+\n",
      "|1      |[2, 3, 4]  |\n",
      "|2      |[1, 3, 4]  |\n",
      "|3      |[1, 2]     |\n",
      "|4      |[1, 2]     |\n",
      "+-------+-----------+\n",
      "\n"
     ]
    },
    {
     "data": {
      "text/plain": [
       "data: Seq[(Int, Seq[Int])] = List((1,List(2, 3, 4)), (2,List(1, 3, 4)), (3,List(1, 2)), (4,List(1, 2)))\n",
       "schema: List[String] = List(user_id, friend_list)\n",
       "df: org.apache.spark.sql.DataFrame = [user_id: int, friend_list: array<int>]\n"
      ]
     },
     "execution_count": 5,
     "metadata": {},
     "output_type": "execute_result"
    }
   ],
   "source": [
    "// Write a program to find the mutual friends between two users,given the input having two columns, user_id and friends_list.\n",
    "\n",
    "val data = Seq(\n",
    "    (1, Seq(2, 3, 4)),\n",
    "    (2, Seq(1, 3, 4)),\n",
    "    (3, Seq(1, 2)),\n",
    "    (4, Seq(1, 2))\n",
    ")\n",
    "\n",
    "val schema = List(\"user_id\", \"friend_list\")\n",
    "\n",
    "val df = spark.createDataFrame(data).toDF(schema:_*)\n",
    "\n",
    "df.show(false)"
   ]
  },
  {
   "cell_type": "code",
   "execution_count": 23,
   "id": "4ac87d48",
   "metadata": {},
   "outputs": [
    {
     "name": "stdout",
     "output_type": "stream",
     "text": [
      "+-------+-----------+-------+-----------+\n",
      "|user_id|friend_list|user_id|friend_list|\n",
      "+-------+-----------+-------+-----------+\n",
      "|1      |[2, 3, 4]  |2      |[1, 3, 4]  |\n",
      "|1      |[2, 3, 4]  |3      |[1, 2]     |\n",
      "|1      |[2, 3, 4]  |4      |[1, 2]     |\n",
      "|2      |[1, 3, 4]  |1      |[2, 3, 4]  |\n",
      "|2      |[1, 3, 4]  |3      |[1, 2]     |\n",
      "|2      |[1, 3, 4]  |4      |[1, 2]     |\n",
      "|3      |[1, 2]     |1      |[2, 3, 4]  |\n",
      "|3      |[1, 2]     |2      |[1, 3, 4]  |\n",
      "|3      |[1, 2]     |4      |[1, 2]     |\n",
      "|4      |[1, 2]     |1      |[2, 3, 4]  |\n",
      "|4      |[1, 2]     |2      |[1, 3, 4]  |\n",
      "|4      |[1, 2]     |3      |[1, 2]     |\n",
      "+-------+-----------+-------+-----------+\n",
      "\n"
     ]
    },
    {
     "data": {
      "text/plain": [
       "pairs_df: org.apache.spark.sql.DataFrame = [user_id: int, friend_list: array<int> ... 2 more fields]\n"
      ]
     },
     "execution_count": 23,
     "metadata": {},
     "output_type": "execute_result"
    }
   ],
   "source": [
    "val pairs_df = df.as(\"f1\").join(df.as(\"f2\"), $\"f1.user_id\" =!= $\"f2.user_id\")\n",
    "\n",
    "pairs_df.show(false)"
   ]
  },
  {
   "cell_type": "code",
   "execution_count": 24,
   "id": "dd953e14",
   "metadata": {},
   "outputs": [
    {
     "name": "stdout",
     "output_type": "stream",
     "text": [
      "+-------+-------+--------------+\n",
      "|user_id|user_id|mutual_friends|\n",
      "+-------+-------+--------------+\n",
      "|1      |2      |[3, 4]        |\n",
      "|1      |3      |[2]           |\n",
      "|1      |4      |[2]           |\n",
      "|2      |1      |[3, 4]        |\n",
      "|2      |3      |[1]           |\n",
      "|2      |4      |[1]           |\n",
      "|3      |1      |[2]           |\n",
      "|3      |2      |[1]           |\n",
      "|3      |4      |[1, 2]        |\n",
      "|4      |1      |[2]           |\n",
      "|4      |2      |[1]           |\n",
      "|4      |3      |[1, 2]        |\n",
      "+-------+-------+--------------+\n",
      "\n"
     ]
    },
    {
     "data": {
      "text/plain": [
       "mutual_friends_df: org.apache.spark.sql.DataFrame = [user_id: int, user_id: int ... 1 more field]\n"
      ]
     },
     "execution_count": 24,
     "metadata": {},
     "output_type": "execute_result"
    }
   ],
   "source": [
    "val mutual_friends_df = pairs_df.withColumn(\"mutual_friends\", array_intersect($\"f1.friend_list\", $\"f2.friend_list\")\n",
    "                                           ).select(\"f1.user_id\", \"f2.user_id\", \"mutual_friends\")\n",
    "\n",
    "mutual_friends_df.show(false)\n"
   ]
  },
  {
   "cell_type": "code",
   "execution_count": null,
   "id": "c39b45eb",
   "metadata": {},
   "outputs": [],
   "source": []
  }
 ],
 "metadata": {
  "kernelspec": {
   "display_name": "spylon-kernel",
   "language": "scala",
   "name": "spylon-kernel"
  },
  "language_info": {
   "codemirror_mode": "text/x-scala",
   "file_extension": ".scala",
   "help_links": [
    {
     "text": "MetaKernel Magics",
     "url": "https://metakernel.readthedocs.io/en/latest/source/README.html"
    }
   ],
   "mimetype": "text/x-scala",
   "name": "scala",
   "pygments_lexer": "scala",
   "version": "0.4.1"
  }
 },
 "nbformat": 4,
 "nbformat_minor": 5
}
