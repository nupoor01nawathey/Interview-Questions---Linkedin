{
 "cells": [
  {
   "cell_type": "code",
   "execution_count": 5,
   "id": "b4d35c78",
   "metadata": {},
   "outputs": [
    {
     "name": "stdout",
     "output_type": "stream",
     "text": [
      "+----------+------+\n",
      "|date      |status|\n",
      "+----------+------+\n",
      "|2018-12-28|fail  |\n",
      "|2018-12-29|fail  |\n",
      "|2019-01-04|fail  |\n",
      "|2019-01-05|fail  |\n",
      "+----------+------+\n",
      "\n",
      "+----------+-------+\n",
      "|date      |status |\n",
      "+----------+-------+\n",
      "|2018-12-30|success|\n",
      "|2018-12-31|success|\n",
      "|2019-01-01|success|\n",
      "|2019-01-02|success|\n",
      "|2019-01-03|success|\n",
      "|2019-01-06|success|\n",
      "+----------+-------+\n",
      "\n"
     ]
    },
    {
     "data": {
      "text/plain": [
       "fail_date: org.apache.spark.sql.DataFrame = [date: string, status: string]\n",
       "success_date: org.apache.spark.sql.DataFrame = [date: string, status: string]\n"
      ]
     },
     "execution_count": 5,
     "metadata": {},
     "output_type": "execute_result"
    }
   ],
   "source": [
    "// 📊 Question:\n",
    "// Table: (Column_Name, Type)\n",
    "// Failed -- (fail_date, date)\n",
    "// Succeeded -- (success_date, date)\n",
    "\n",
    "// Primary keys are fail_date and success_date.\n",
    "// Failed table contains the days of failed tasks.\n",
    "// Succeeded table contains the days of succeeded tasks.\n",
    "\n",
    "// A system is running one task every day. Every task is independent of the previous tasks. The tasks can fail or succeed.\n",
    "\n",
    "// 👉 Write an SQL query to generate a report of period_state for each continuous interval of days.\n",
    "\n",
    "// period_state is 'failed' if tasks in this interval failed or 'succeeded' if tasks in this interval succeeded.\n",
    "// Interval of days are retrieved as start_date and end_date.\n",
    "\n",
    "// Order result by start_date.\n",
    "\n",
    "// The query result format is in the following example:\n",
    "// Failed table:\n",
    "// +-------------------+\n",
    "// | fail_date     |\n",
    "// +-------------------+\n",
    "// | 2018-12-28    |\n",
    "// | 2018-12-29    |\n",
    "// | 2019-01-04    |\n",
    "// | 2019-01-05    |\n",
    "// +-------------------+\n",
    "\n",
    "// Succeeded table:\n",
    "// +-------------------+\n",
    "// | success_date   |\n",
    "// +-------------------+\n",
    "// | 2018-12-30    |\n",
    "// | 2018-12-31    |\n",
    "// | 2019-01-01    |\n",
    "// | 2019-01-02    |\n",
    "// | 2019-01-03    |\n",
    "// | 2019-01-06    |\n",
    "// +-------------------+\n",
    "\n",
    "// Result table:\n",
    "// +--------------+--------------+--------------+\n",
    "// | period_state | start_date  | end_date   |\n",
    "// +--------------+--------------+--------------+\n",
    "// | failed    | 2018-12-28  | 2018-12-29  |\n",
    "// | succeeded  | 2019-12-30  | 2019-01-03  |\n",
    "// | failed    | 2019-01-04  | 2019-01-05  |\n",
    "// | succeeded  | 2019-01-06  | 2019-01-06  |\n",
    "// +--------------+--------------+--------------+\n",
    "\n",
    "\n",
    "\n",
    "val fail_date = Seq(\n",
    "    (\"2018-12-28\"),\n",
    "    (\"2018-12-29\"),\n",
    "    (\"2019-01-04\"),\n",
    "    (\"2019-01-05\"),\n",
    ").toDF(\"date\").withColumn(\"status\", lit(\"fail\"))\n",
    "\n",
    "val success_date = Seq(\n",
    "    (\"2018-12-30\"),\n",
    "    (\"2018-12-31\"),\n",
    "    (\"2019-01-01\"),\n",
    "    (\"2019-01-02\"),\n",
    "    (\"2019-01-03\"),\n",
    "    (\"2019-01-06\"),\n",
    ").toDF(\"date\").withColumn(\"status\", lit(\"success\"))\n",
    "\n",
    "\n",
    "fail_date.show(false)\n",
    "success_date.show(false)\n"
   ]
  },
  {
   "cell_type": "code",
   "execution_count": 15,
   "id": "537e1e28",
   "metadata": {},
   "outputs": [
    {
     "name": "stdout",
     "output_type": "stream",
     "text": [
      "+----------+-------+----------+\n",
      "|date      |status |rn        |\n",
      "+----------+-------+----------+\n",
      "|2018-12-28|fail   |2018-12-27|\n",
      "|2018-12-29|fail   |2018-12-27|\n",
      "|2019-01-04|fail   |2019-01-01|\n",
      "|2019-01-05|fail   |2019-01-01|\n",
      "|2018-12-30|success|2018-12-29|\n",
      "|2018-12-31|success|2018-12-29|\n",
      "|2019-01-01|success|2018-12-29|\n",
      "|2019-01-02|success|2018-12-29|\n",
      "|2019-01-03|success|2018-12-29|\n",
      "|2019-01-06|success|2018-12-31|\n",
      "+----------+-------+----------+\n",
      "\n"
     ]
    },
    {
     "data": {
      "text/plain": [
       "import org.apache.spark.sql.expressions._\n",
       "merged: org.apache.spark.sql.Dataset[org.apache.spark.sql.Row] = [date: string, status: string]\n",
       "continuous_dates: org.apache.spark.sql.DataFrame = [date: string, status: string ... 1 more field]\n"
      ]
     },
     "execution_count": 15,
     "metadata": {},
     "output_type": "execute_result"
    }
   ],
   "source": [
    "import org.apache.spark.sql.expressions._\n",
    "\n",
    "val merged=fail_date.union(success_date)\n",
    "\n",
    "// merged.sortWithinPartitions(\"date\").withColumn(\"partition\", spark_partition_id())show(false)\n",
    "\n",
    "val continuous_dates=merged.withColumn(\n",
    "\"rn\", to_date($\"date\",\"yyyy-MM-dd\") - row_number().over(Window.partitionBy($\"status\").orderBy($\"date\")))\n",
    "\n",
    "continuous_dates.show(false)"
   ]
  },
  {
   "cell_type": "code",
   "execution_count": 17,
   "id": "ae72ef92",
   "metadata": {},
   "outputs": [
    {
     "name": "stdout",
     "output_type": "stream",
     "text": [
      "+-------+----------+----------+\n",
      "|status |start_date|max_date  |\n",
      "+-------+----------+----------+\n",
      "|fail   |2018-12-28|2018-12-29|\n",
      "|success|2018-12-30|2019-01-03|\n",
      "|fail   |2019-01-04|2019-01-05|\n",
      "|success|2019-01-06|2019-01-06|\n",
      "+-------+----------+----------+\n",
      "\n"
     ]
    }
   ],
   "source": [
    "continuous_dates.groupBy($\"status\", $\"rn\").agg(min($\"date\").as(\"start_date\"), max($\"date\").as(\"max_date\")\n",
    "                                              ).orderBy($\"start_date\").drop(\"rn\").show(false)"
   ]
  },
  {
   "cell_type": "code",
   "execution_count": null,
   "id": "aa18f8a7",
   "metadata": {},
   "outputs": [],
   "source": []
  }
 ],
 "metadata": {
  "kernelspec": {
   "display_name": "spylon-kernel",
   "language": "scala",
   "name": "spylon-kernel"
  },
  "language_info": {
   "codemirror_mode": "text/x-scala",
   "file_extension": ".scala",
   "help_links": [
    {
     "text": "MetaKernel Magics",
     "url": "https://metakernel.readthedocs.io/en/latest/source/README.html"
    }
   ],
   "mimetype": "text/x-scala",
   "name": "scala",
   "pygments_lexer": "scala",
   "version": "0.4.1"
  }
 },
 "nbformat": 4,
 "nbformat_minor": 5
}
