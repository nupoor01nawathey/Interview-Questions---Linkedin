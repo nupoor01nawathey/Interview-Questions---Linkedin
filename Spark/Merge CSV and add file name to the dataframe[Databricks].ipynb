{
 "cells": [
  {
   "cell_type": "code",
   "execution_count": 11,
   "id": "c94719dc",
   "metadata": {},
   "outputs": [
    {
     "data": {
      "text/plain": [
       "import org.apache.spark.sql.functions.input_file_name\n",
       "res5: org.apache.spark.sql.expressions.UserDefinedFunction = SparkUserDefinedFunction($Lambda$2295/0x0000000800fe2840@382318cc,StringType,List(Some(class[value[0]: string])),Some(class[value[0]: string]),Some(get_only_file_name),true,true)\n"
      ]
     },
     "execution_count": 11,
     "metadata": {},
     "output_type": "execute_result"
    }
   ],
   "source": [
    "// Databricks Interview for DE role\n",
    "// Reading and Merging CSV Files in Spark Scala:\n",
    "\n",
    "// Merge multiple CSV files into one. Customise a new column by extracting and formatting information from the file names.\n",
    "// Merge several CSV files using Spark Scala, incorporating the corresponding file names in a customised format. \n",
    "// For instance, transform \"ankita_gulati\" to \"Ankita Gulati\" and append it as a column value for all rows. \n",
    "// Repeat this process for each file name, adding it as a new column value for all rows within that file.)\n",
    "\n",
    "\n",
    "import org.apache.spark.sql.functions.input_file_name\n",
    "\n",
    "spark.udf.register(\"get_only_file_name\", (fullPath: String) => fullPath.split(\"/\").last)\n",
    "\n",
    "val df = spark.read.format(\"csv\").load(\"emp.csv\").withColumn(\"file_name\", get_only_file_name(input_file_name))\n",
    "\n"
   ]
  },
  {
   "cell_type": "code",
   "execution_count": null,
   "id": "81ece1fa",
   "metadata": {},
   "outputs": [],
   "source": []
  }
 ],
 "metadata": {
  "kernelspec": {
   "display_name": "spylon-kernel",
   "language": "scala",
   "name": "spylon-kernel"
  },
  "language_info": {
   "codemirror_mode": "text/x-scala",
   "file_extension": ".scala",
   "help_links": [
    {
     "text": "MetaKernel Magics",
     "url": "https://metakernel.readthedocs.io/en/latest/source/README.html"
    }
   ],
   "mimetype": "text/x-scala",
   "name": "scala",
   "pygments_lexer": "scala",
   "version": "0.4.1"
  }
 },
 "nbformat": 4,
 "nbformat_minor": 5
}
