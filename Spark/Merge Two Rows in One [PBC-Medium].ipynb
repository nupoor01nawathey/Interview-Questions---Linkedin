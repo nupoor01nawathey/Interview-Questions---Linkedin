{
 "cells": [
  {
   "cell_type": "code",
   "execution_count": 1,
   "id": "5d8bda94",
   "metadata": {},
   "outputs": [
    {
     "data": {
      "text/plain": [
       "Intitializing Scala interpreter ..."
      ]
     },
     "metadata": {},
     "output_type": "display_data"
    },
    {
     "data": {
      "text/plain": [
       "Spark Web UI available at http://192.168.0.104:4040\n",
       "SparkContext available as 'sc' (version = 3.4.1, master = local[*], app id = local-1705935795681)\n",
       "SparkSession available as 'spark'\n"
      ]
     },
     "metadata": {},
     "output_type": "display_data"
    },
    {
     "name": "stdout",
     "output_type": "stream",
     "text": [
      "+---+--------+\n",
      "|id |name    |\n",
      "+---+--------+\n",
      "|1  |Person1 |\n",
      "|2  |Person2 |\n",
      "|3  |Person3 |\n",
      "|4  |Person4 |\n",
      "|5  |Person5 |\n",
      "|6  |Person6 |\n",
      "|7  |Person7 |\n",
      "|8  |Person8 |\n",
      "|9  |Person9 |\n",
      "|10 |Person10|\n",
      "+---+--------+\n",
      "\n"
     ]
    },
    {
     "data": {
      "text/plain": [
       "people: org.apache.spark.sql.DataFrame = [id: int, name: string]\n"
      ]
     },
     "execution_count": 1,
     "metadata": {},
     "output_type": "execute_result"
    }
   ],
   "source": [
    "// 𝗗𝗮𝘁𝗮 𝗘𝗻𝗴𝗶𝗻𝗲𝗲𝗿 𝗜𝗻𝘁𝗲𝗿𝘃𝗶𝗲𝘄 𝗤𝘂𝗲𝘀𝘁𝗶𝗼𝗻 🚀\n",
    "\n",
    "// This SQL question was asked in a Product company interview (Easy - Medium level).\n",
    "\n",
    "// ❓ Write a query for below data so that each two rows are merged.\n",
    "// Input -\n",
    "// ID Name\n",
    "// 1 Person1\n",
    "// 2 Person2\n",
    "// 3 Person3\n",
    "// 4 Person4\n",
    "// 5 Person5\n",
    "// 6 Person6\n",
    "// 7 Person7\n",
    "// 8 Person8\n",
    "// 9 Person9\n",
    "// 10 Person10\n",
    "\n",
    "// Output-\n",
    "// RESULT\n",
    "// 1 Person1, 2 Person2\n",
    "// 3 Person3, 4 Person4\n",
    "// 5 Person5, 6 Person6\n",
    "// 7 Person7, 8 Person8\n",
    "// 9 Person9, 10 Person10\n",
    "\n",
    "\n",
    "val people=Seq(\n",
    "    (1,\"Person1\"),\n",
    "    (2,\"Person2\"),\n",
    "    (3,\"Person3\"),\n",
    "    (4,\"Person4\"),\n",
    "    (5,\"Person5\"),\n",
    "    (6,\"Person6\"),\n",
    "    (7,\"Person7\"),\n",
    "    (8,\"Person8\"),\n",
    "    (9,\"Person9\"),\n",
    "    (10,\"Person10\")\n",
    ").toDF(\"id\", \"name\")\n",
    "\n",
    "people.show(false)\n"
   ]
  },
  {
   "cell_type": "code",
   "execution_count": 3,
   "id": "6b9d3058",
   "metadata": {},
   "outputs": [
    {
     "name": "stdout",
     "output_type": "stream",
     "text": [
      "+--------------------+\n",
      "|result              |\n",
      "+--------------------+\n",
      "|1 Person1,2Person2  |\n",
      "|3 Person3,4Person4  |\n",
      "|5 Person5,6Person6  |\n",
      "|7 Person7,8Person8  |\n",
      "|9 Person9,10Person10|\n",
      "+--------------------+\n",
      "\n"
     ]
    }
   ],
   "source": [
    "people.createOrReplaceTempView(\"people_tbl\")\n",
    "\n",
    "spark.sql(\"\"\"\n",
    "  SELECT \n",
    "      CONCAT(t1.id,' ',t1.name, ',',t2.id, t2.name) as result\n",
    "  FROM people_tbl t1 INNER JOIN people_tbl t2\n",
    "  ON (t1.id+1)=t2.id\n",
    "  WHERE t1.id%2==1\n",
    "\"\"\").show(false)\n"
   ]
  },
  {
   "cell_type": "code",
   "execution_count": 5,
   "id": "955885bd",
   "metadata": {},
   "outputs": [
    {
     "name": "stdout",
     "output_type": "stream",
     "text": [
      "+---------------------+\n",
      "|result               |\n",
      "+---------------------+\n",
      "|1 Person1,2 Person2  |\n",
      "|3 Person3,4 Person4  |\n",
      "|5 Person5,6 Person6  |\n",
      "|7 Person7,8 Person8  |\n",
      "|9 Person9,10 Person10|\n",
      "+---------------------+\n",
      "\n"
     ]
    }
   ],
   "source": [
    "spark.sql(\"\"\"\n",
    "WITH CTE AS (\n",
    "  SELECT\n",
    "      id,\n",
    "      name,\n",
    "      NTILE(5) OVER(order by id) nt\n",
    "  FROM people_tbl\n",
    ")\n",
    "SELECT \n",
    "    CONCAT_WS(',', COLLECT_LIST(CONCAT(id, ' ',name))) as result\n",
    "FROM CTE\n",
    "GROUP BY nt\n",
    "ORDER BY nt\n",
    "\"\"\").show(false)\n"
   ]
  },
  {
   "cell_type": "code",
   "execution_count": null,
   "id": "b4b77ccb",
   "metadata": {},
   "outputs": [],
   "source": []
  }
 ],
 "metadata": {
  "kernelspec": {
   "display_name": "spylon-kernel",
   "language": "scala",
   "name": "spylon-kernel"
  },
  "language_info": {
   "codemirror_mode": "text/x-scala",
   "file_extension": ".scala",
   "help_links": [
    {
     "text": "MetaKernel Magics",
     "url": "https://metakernel.readthedocs.io/en/latest/source/README.html"
    }
   ],
   "mimetype": "text/x-scala",
   "name": "scala",
   "pygments_lexer": "scala",
   "version": "0.4.1"
  }
 },
 "nbformat": 4,
 "nbformat_minor": 5
}
