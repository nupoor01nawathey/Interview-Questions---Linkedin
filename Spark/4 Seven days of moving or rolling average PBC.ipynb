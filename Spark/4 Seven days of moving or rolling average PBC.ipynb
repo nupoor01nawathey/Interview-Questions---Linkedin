{
 "cells": [
  {
   "cell_type": "code",
   "execution_count": 7,
   "id": "d306d1e1",
   "metadata": {},
   "outputs": [
    {
     "name": "stdout",
     "output_type": "stream",
     "text": [
      "root\n",
      " |-- Date: date (nullable = true)\n",
      " |-- ProductID: integer (nullable = true)\n",
      " |-- QuantitySold: integer (nullable = true)\n",
      "\n",
      "+----------+---------+------------+\n",
      "|Date      |ProductID|QuantitySold|\n",
      "+----------+---------+------------+\n",
      "|2023-01-01|100      |10          |\n",
      "|2023-01-02|100      |15          |\n",
      "|2023-01-03|100      |20          |\n",
      "|2023-01-04|100      |25          |\n",
      "|2023-01-05|100      |30          |\n",
      "|2023-01-06|100      |35          |\n",
      "|2023-01-07|100      |40          |\n",
      "|2023-01-08|100      |45          |\n",
      "+----------+---------+------------+\n",
      "\n"
     ]
    },
    {
     "data": {
      "text/plain": [
       "import org.apache.spark.sql.Row\n",
       "import org.apache.spark.sql.types._\n",
       "import org.apache.spark.sql.expressions._\n",
       "data: Seq[org.apache.spark.sql.Row] = List([2023-01-01,100,10], [2023-01-02,100,15], [2023-01-03,100,20], [2023-01-04,100,25], [2023-01-05,100,30], [2023-01-06,100,35], [2023-01-07,100,40], [2023-01-08,100,45])\n",
       "schema: org.apache.spark.sql.types.StructType = StructType(StructField(Date,StringType,true),StructField(ProductID,IntegerType,true),StructField(QuantitySold,IntegerType,true))\n",
       "rdd: org.apache.spark.rdd.RDD[org.apache.spark.sql.Row] = ParallelCollectionRDD[9] at parallelize at <console>:70\n",
       "df: org.apache.spark.sql.DataFrame = [Date: date, ProductID: int ... 1 more field]\n"
      ]
     },
     "execution_count": 7,
     "metadata": {},
     "output_type": "execute_result"
    }
   ],
   "source": [
    "import org.apache.spark.sql.Row\n",
    "import org.apache.spark.sql.types._\n",
    "\n",
    "\n",
    "val data = Seq( \n",
    "            Row(\"2023-01-01\",100,10),\n",
    "            Row(\"2023-01-02\",100,15),\n",
    "            Row(\"2023-01-03\",100,20),\n",
    "            Row(\"2023-01-04\",100,25),\n",
    "            Row(\"2023-01-05\",100,30),\n",
    "            Row(\"2023-01-06\",100,35),\n",
    "            Row(\"2023-01-07\",100,40),\n",
    "            Row(\"2023-01-08\",100,45)\n",
    "        )\n",
    "\n",
    "val schema = StructType(Array(\n",
    "    StructField(\"Date\", StringType),\n",
    "    StructField(\"ProductID\", IntegerType),\n",
    "    StructField(\"QuantitySold\", IntegerType)\n",
    "))\n",
    "\n",
    "val rdd = spark.sparkContext.parallelize(data)\n",
    "\n",
    "val df = spark.createDataFrame(rdd, schema).withColumn(\"Date\", to_date($\"Date\", \"yyyy-MM-dd\"))\n",
    "\n",
    "df.printSchema()\n",
    "df.show(false)"
   ]
  },
  {
   "cell_type": "code",
   "execution_count": 18,
   "id": "0a718c31",
   "metadata": {},
   "outputs": [
    {
     "name": "stdout",
     "output_type": "stream",
     "text": [
      "+----------+---------+------------+--------------+\n",
      "|Date      |ProductID|QuantitySold|seven_days_avg|\n",
      "+----------+---------+------------+--------------+\n",
      "|2023-01-01|100      |10          |10.0          |\n",
      "|2023-01-02|100      |15          |12.5          |\n",
      "|2023-01-03|100      |20          |15.0          |\n",
      "|2023-01-04|100      |25          |17.5          |\n",
      "|2023-01-05|100      |30          |20.0          |\n",
      "|2023-01-06|100      |35          |22.5          |\n",
      "|2023-01-07|100      |40          |25.0          |\n",
      "|2023-01-08|100      |45          |30.0          |\n",
      "+----------+---------+------------+--------------+\n",
      "\n"
     ]
    },
    {
     "data": {
      "text/plain": [
       "import org.apache.spark.sql.expressions._\n"
      ]
     },
     "execution_count": 18,
     "metadata": {},
     "output_type": "execute_result"
    }
   ],
   "source": [
    "import org.apache.spark.sql.expressions._\n",
    "\n",
    "df.withColumn(\"seven_days_avg\", \n",
    "                  avg($\"QuantitySold\")\n",
    "                      .over(Window.partitionBy($\"ProductID\").orderBy($\"Date\")\n",
    "                  .rowsBetween(-6, 0))\n",
    "             ).show(false)"
   ]
  },
  {
   "cell_type": "code",
   "execution_count": null,
   "id": "dcf5c296",
   "metadata": {},
   "outputs": [],
   "source": []
  }
 ],
 "metadata": {
  "kernelspec": {
   "display_name": "spylon-kernel",
   "language": "scala",
   "name": "spylon-kernel"
  },
  "language_info": {
   "codemirror_mode": "text/x-scala",
   "file_extension": ".scala",
   "help_links": [
    {
     "text": "MetaKernel Magics",
     "url": "https://metakernel.readthedocs.io/en/latest/source/README.html"
    }
   ],
   "mimetype": "text/x-scala",
   "name": "scala",
   "pygments_lexer": "scala",
   "version": "0.4.1"
  }
 },
 "nbformat": 4,
 "nbformat_minor": 5
}
