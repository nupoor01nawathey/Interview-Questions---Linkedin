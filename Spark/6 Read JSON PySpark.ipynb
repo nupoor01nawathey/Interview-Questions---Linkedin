{
 "cells": [
  {
   "cell_type": "code",
   "execution_count": 0,
   "metadata": {
    "application/vnd.databricks.v1+cell": {
     "cellMetadata": {
      "byteLimit": 2048000,
      "rowLimit": 10000
     },
     "inputWidgets": {},
     "nuid": "f63c2c30-9fdc-4e32-8d69-1efb31c5c7a1",
     "showTitle": false,
     "tableResultSettingsMap": {},
     "title": ""
    }
   },
   "outputs": [
    {
     "output_type": "stream",
     "name": "stdout",
     "output_type": "stream",
     "text": [
      "+---+--------+------+\n|age|    name|salary|\n+---+--------+------+\n| 20|  Manish| 20000|\n| 25|  Nikita| 21000|\n| 16|  Pritam| 22000|\n| 35|Prantosh| 25000|\n| 67|  Vikash| 40000|\n+---+--------+------+\n\nOut[2]: '\\n+---+--------+------+\\n|age|    name|salary|\\n+---+--------+------+\\n| 20|  Manish| 20000|\\n| 25|  Nikita| 21000|\\n| 16|  Pritam| 22000|\\n| 35|Prantosh| 25000|\\n| 67|  Vikash| 40000|\\n+---+--------+------+\\n'"
     ]
    }
   ],
   "source": [
    "\"\"\"\n",
    "%fs\n",
    "ls /FileStore/tables/\n",
    "\n",
    "dbfs:/FileStore/tables/line_delimited_json.json\n",
    "dbfs:/FileStore/tables/single_file_with_extra_field.json\n",
    "dbfs:/FileStore/tables/corrupted_json.json\n",
    "dbfs:/FileStore/tables/multiline_correct.json\n",
    "dbfs:/FileStore/tables/multiline_incorrect.json\n",
    "\"\"\"\n",
    "\n",
    "\n",
    "\n",
    "\"\"\"\n",
    "{\"name\":\"Manish\",\"age\":20,\"salary\":20000},\n",
    "{\"name\":\"Nikita\",\"age\":25,\"salary\":21000},\n",
    "{\"name\":\"Pritam\",\"age\":16,\"salary\":22000},\n",
    "{\"name\":\"Prantosh\",\"age\":35,\"salary\":25000},\n",
    "{\"name\":\"Vikash\",\"age\":67,\"salary\":40000}\n",
    "\"\"\"\n",
    "\n",
    "line_delimited_df = spark.read.format(\"json\")\\\n",
    "    .option(\"inferschema\", \"true\")\\\n",
    "    .option(\"mode\", \"PERMISSIVE\")\\\n",
    "    .load(\"dbfs:/FileStore/tables/line_delimited_json.json\")\n",
    "\n",
    "line_delimited_df.show()\n",
    "\"\"\"\n",
    "+---+--------+------+\n",
    "|age|    name|salary|\n",
    "+---+--------+------+\n",
    "| 20|  Manish| 20000|\n",
    "| 25|  Nikita| 21000|\n",
    "| 16|  Pritam| 22000|\n",
    "| 35|Prantosh| 25000|\n",
    "| 67|  Vikash| 40000|\n",
    "+---+--------+------+\n",
    "\"\"\"\n"
   ]
  },
  {
   "cell_type": "code",
   "execution_count": 0,
   "metadata": {
    "application/vnd.databricks.v1+cell": {
     "cellMetadata": {
      "byteLimit": 2048000,
      "rowLimit": 10000
     },
     "inputWidgets": {},
     "nuid": "e7f6780f-7d99-4e29-9bf1-d03cf9aed141",
     "showTitle": false,
     "tableResultSettingsMap": {},
     "title": ""
    }
   },
   "outputs": [
    {
     "output_type": "stream",
     "name": "stdout",
     "output_type": "stream",
     "text": [
      "+---+------+--------+------+\n|age|gender|    name|salary|\n+---+------+--------+------+\n| 20|  null|  Manish| 20000|\n| 25|  null|  Nikita| 21000|\n| 16|  null|  Pritam| 22000|\n| 35|  null|Prantosh| 25000|\n| 67|     M|  Vikash| 40000|\n+---+------+--------+------+\n\n"
     ]
    }
   ],
   "source": [
    "\"\"\"\n",
    "{\"name\":\"Manish\",\"age\":20,\"salary\":20000},\n",
    "{\"name\":\"Nikita\",\"age\":25,\"salary\":21000},\n",
    "{\"name\":\"Pritam\",\"age\":16,\"salary\":22000},\n",
    "{\"name\":\"Prantosh\",\"age\":35,\"salary\":25000},\n",
    "{\"name\":\"Vikash\",\"age\":67,\"salary\":40000,\"gender\":\"M\"}\n",
    "\"\"\"\n",
    "\n",
    "line_delimited_with_extra_col_df = spark.read.format(\"json\")\\\n",
    "    .option(\"inferschema\", \"true\")\\\n",
    "    .option(\"mode\", \"PERMISSIVE\")\\\n",
    "    .load(\"dbfs:/FileStore/tables/single_file_with_extra_field.json\")\n",
    "\n",
    "line_delimited_with_extra_col_df.show()\n",
    "\"\"\"\n",
    "Note that there is no error, for extra field in just 1 rec\n",
    "If found extra col value then populate else populate as null\n",
    "+---+------+--------+------+\n",
    "|age|gender|    name|salary|\n",
    "+---+------+--------+------+\n",
    "| 20|  null|  Manish| 20000|\n",
    "| 25|  null|  Nikita| 21000|\n",
    "| 16|  null|  Pritam| 22000|\n",
    "| 35|  null|Prantosh| 25000|\n",
    "| 67|     M|  Vikash| 40000|\n",
    "+---+------+--------+------+\n",
    "\"\"\"\n"
   ]
  },
  {
   "cell_type": "code",
   "execution_count": 0,
   "metadata": {
    "application/vnd.databricks.v1+cell": {
     "cellMetadata": {},
     "inputWidgets": {},
     "nuid": "fe87ddb5-f941-4246-9f42-0b11d2a88553",
     "showTitle": false,
     "tableResultSettingsMap": {},
     "title": ""
    }
   },
   "outputs": [],
   "source": [
    "\"\"\"\n",
    "Line delimited - {k1:v1},{k2:v2}\n",
    "Line delimited can be read line by line\n",
    "\n",
    "MultiLine - {\n",
    "    k1:v1\n",
    "},\n",
    "{\n",
    "    k2:v2\n",
    "}\n",
    "multiline cannot be read line by line, all content/data should go in one single object and that is read by the engine\n",
    "\"\"\""
   ]
  },
  {
   "cell_type": "code",
   "execution_count": 0,
   "metadata": {
    "application/vnd.databricks.v1+cell": {
     "cellMetadata": {
      "byteLimit": 2048000,
      "rowLimit": 10000
     },
     "inputWidgets": {},
     "nuid": "1f599688-c687-47ab-bcd3-d3f526588c0c",
     "showTitle": false,
     "tableResultSettingsMap": {},
     "title": ""
    }
   },
   "outputs": [
    {
     "output_type": "stream",
     "name": "stdout",
     "output_type": "stream",
     "text": [
      "+---+--------+------+\n|age|    name|salary|\n+---+--------+------+\n| 20|  Manish| 20000|\n| 25|  Nikita| 21000|\n| 16|  Pritam| 22000|\n| 35|Prantosh| 25000|\n| 67|  Vikash| 40000|\n+---+--------+------+\n\n"
     ]
    }
   ],
   "source": [
    "\"\"\"\n",
    "[\n",
    "{\n",
    "  \"name\": \"Manish\",\n",
    "  \"age\": 20,\n",
    "  \"salary\": 20000\n",
    "},\n",
    "{\n",
    "  \"name\": \"Nikita\",\n",
    "  \"age\": 25,\n",
    "  \"salary\": 21000\n",
    "},\n",
    "{\n",
    "  \"name\": \"Pritam\",\n",
    "  \"age\": 16,\n",
    "  \"salary\": 22000\n",
    "},\n",
    "{\n",
    "  \"name\": \"Prantosh\",\n",
    "  \"age\": 35,\n",
    "  \"salary\": 25000\n",
    "},\n",
    "{\n",
    "  \"name\": \"Vikash\",\n",
    "  \"age\": 67,\n",
    "  \"salary\": 40000\n",
    "}\n",
    "]\n",
    "\"\"\"\n",
    "multiline_correct_df = spark.read.format(\"json\")\\\n",
    "    .option(\"inferschema\", \"true\")\\\n",
    "    .option(\"mode\", \"PERMISSIVE\")\\\n",
    "    .option(\"multiline\", \"true\")\\\n",
    "    .load(\"dbfs:/FileStore/tables/multiline_correct.json\")\n",
    "\n",
    "multiline_correct_df.show()\n",
    "\"\"\"\n",
    "Need to pass .option(\"multiline\", \"true\") else will throw Analysis Exception\n",
    "+---+--------+------+\n",
    "|age|    name|salary|\n",
    "+---+--------+------+\n",
    "| 20|  Manish| 20000|\n",
    "| 25|  Nikita| 21000|\n",
    "| 16|  Pritam| 22000|\n",
    "| 35|Prantosh| 25000|\n",
    "| 67|  Vikash| 40000|\n",
    "+---+--------+------+\n",
    "\"\"\""
   ]
  },
  {
   "cell_type": "code",
   "execution_count": 0,
   "metadata": {
    "application/vnd.databricks.v1+cell": {
     "cellMetadata": {
      "byteLimit": 2048000,
      "rowLimit": 10000
     },
     "inputWidgets": {},
     "nuid": "40eee237-712d-407c-b525-ecd1557e4709",
     "showTitle": false,
     "tableResultSettingsMap": {},
     "title": ""
    }
   },
   "outputs": [
    {
     "output_type": "stream",
     "name": "stdout",
     "output_type": "stream",
     "text": [
      "+---+------+------+\n|age|  name|salary|\n+---+------+------+\n| 20|Manish| 20000|\n+---+------+------+\n\n"
     ]
    }
   ],
   "source": [
    "\"\"\"\n",
    "{\n",
    "  \"name\": \"Manish\",\n",
    "  \"age\": 20,\n",
    "  \"salary\": 20000\n",
    "},\n",
    "{\n",
    "  \"name\": \"Nikita\",\n",
    "  \"age\": 25,\n",
    "  \"salary\": 21000\n",
    "},\n",
    "{\n",
    "  \"name\": \"Pritam\",\n",
    "  \"age\": 16,\n",
    "  \"salary\": 22000\n",
    "},\n",
    "{\n",
    "  \"name\": \"Prantosh\",\n",
    "  \"age\": 35,\n",
    "  \"salary\": 25000\n",
    "},\n",
    "{\n",
    "  \"name\": \"Vikash\",\n",
    "  \"age\": 67,\n",
    "  \"salary\": 40000\n",
    "}\n",
    "\"\"\"\n",
    "\n",
    "multiline_incorrect_df = spark.read.format(\"json\")\\\n",
    "    .option(\"inferschema\", \"true\")\\\n",
    "    .option(\"mode\", \"PERMISSIVE\")\\\n",
    "    .option(\"multiline\", \"true\")\\\n",
    "    .load(\"dbfs:/FileStore/tables/multiline_incorrect.json\")\n",
    "\n",
    "multiline_incorrect_df.show()\n",
    "\"\"\"\n",
    "Read only 1st JSON document/dictionary. Sample json is nothing but list of documents but never enclosed inside an Array/List obj\n",
    "+---+------+------+\n",
    "|age|  name|salary|\n",
    "+---+------+------+\n",
    "| 20|Manish| 20000|\n",
    "+---+------+------+\n",
    "\"\"\""
   ]
  },
  {
   "cell_type": "code",
   "execution_count": 0,
   "metadata": {
    "application/vnd.databricks.v1+cell": {
     "cellMetadata": {
      "byteLimit": 2048000,
      "rowLimit": 10000
     },
     "inputWidgets": {},
     "nuid": "26336e72-a651-449d-aeef-d96409848166",
     "showTitle": false,
     "tableResultSettingsMap": {},
     "title": ""
    }
   },
   "outputs": [
    {
     "output_type": "stream",
     "name": "stdout",
     "output_type": "stream",
     "text": [
      "+----------------------------------------+----+--------+------+\n|_corrupt_record                         |age |name    |salary|\n+----------------------------------------+----+--------+------+\n|null                                    |20  |Manish  |20000 |\n|null                                    |25  |Nikita  |21000 |\n|null                                    |16  |Pritam  |22000 |\n|null                                    |35  |Prantosh|25000 |\n|{\"name\":\"Vikash\",\"age\":67,\"salary\":40000|null|null    |null  |\n+----------------------------------------+----+--------+------+\n\n"
     ]
    }
   ],
   "source": [
    "\"\"\"\n",
    "{\"name\":\"Manish\",\"age\":20,\"salary\":20000},\n",
    "{\"name\":\"Nikita\",\"age\":25,\"salary\":21000},\n",
    "{\"name\":\"Pritam\",\"age\":16,\"salary\":22000},\n",
    "{\"name\":\"Prantosh\",\"age\":35,\"salary\":25000},\n",
    "{\"name\":\"Vikash\",\"age\":67,\"salary\":40000\n",
    "\"\"\"\n",
    "\n",
    "corrupted_json_df = spark.read.format(\"json\")\\\n",
    "    .option(\"inferschema\", \"true\")\\\n",
    "    .option(\"mode\", \"PERMISSIVE\")\\\n",
    "    .load(\"dbfs:/FileStore/tables/corrupted_json.json\")\n",
    "\n",
    "corrupted_json_df.show(truncate=False)\n",
    "\"\"\"\n",
    "Closing curly bracket is missing for name:Vikash\n",
    "+----------------------------------------+----+--------+------+\n",
    "|_corrupt_record                         |age |name    |salary|\n",
    "+----------------------------------------+----+--------+------+\n",
    "|null                                    |20  |Manish  |20000 |\n",
    "|null                                    |25  |Nikita  |21000 |\n",
    "|null                                    |16  |Pritam  |22000 |\n",
    "|null                                    |35  |Prantosh|25000 |\n",
    "|{\"name\":\"Vikash\",\"age\":67,\"salary\":40000|null|null    |null  |\n",
    "+----------------------------------------+----+--------+------+\n",
    "\"\"\"\n",
    "\n"
   ]
  }
 ],
 "metadata": {
  "application/vnd.databricks.v1+notebook": {
   "computePreferences": null,
   "dashboards": [],
   "environmentMetadata": {
    "base_environment": "",
    "environment_version": "1"
   },
   "inputWidgetPreferences": null,
   "language": "python",
   "notebookMetadata": {
    "mostRecentlyExecutedCommandWithImplicitDF": {
     "commandId": -1,
     "dataframes": [
      "_sqldf"
     ]
    },
    "pythonIndentUnit": 4
   },
   "notebookName": "6 Read JSON PySpark",
   "widgets": {}
  }
 },
 "nbformat": 4,
 "nbformat_minor": 0
}