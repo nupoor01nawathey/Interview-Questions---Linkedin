{
 "cells": [
  {
   "cell_type": "code",
   "execution_count": 2,
   "id": "1a83c8ea",
   "metadata": {},
   "outputs": [
    {
     "name": "stdout",
     "output_type": "stream",
     "text": [
      "+---+----+-------+----------+\n",
      "|ID |NAME|COUNTRY|Date_part |\n",
      "+---+----+-------+----------+\n",
      "|1  |Gaga|India  |2022-01-11|\n",
      "|1  |Katy|UK     |2022-01-11|\n",
      "|1  |Bey |Europe |2022-01-11|\n",
      "|2  |Gaga|null   |2022-10-11|\n",
      "|2  |Katy|India  |2022-10-11|\n",
      "|2  |Bey |US     |2022-02-15|\n",
      "|3  |Gaga|Europe |2022-10-11|\n",
      "|3  |Katy|US     |2022-10-11|\n",
      "|3  |Bey |null   |2022-02-15|\n",
      "|1  |Gaga|US     |2022-01-11|\n",
      "|3  |Katy|Switz  |2022-02-15|\n",
      "+---+----+-------+----------+\n",
      "\n"
     ]
    },
    {
     "data": {
      "text/plain": [
       "df: org.apache.spark.sql.DataFrame = [ID: int, NAME: string ... 2 more fields]\n"
      ]
     },
     "execution_count": 2,
     "metadata": {},
     "output_type": "execute_result"
    }
   ],
   "source": [
    "\n",
    "val df = Seq(  (1,\"Gaga\",\"India\",\"2022-01-11\"),\n",
    "               (1,\"Katy\",\"UK\",\"2022-01-11\"),\n",
    "               (1,\"Bey\",\"Europe\",\"2022-01-11\"),\n",
    "               (2,\"Gaga\",null,\"2022-10-11\"),\n",
    "               (2,\"Katy\",\"India\",\"2022-10-11\"),\n",
    "               (2,\"Bey\",\"US\",\"2022-02-15\"),\n",
    "               (3,\"Gaga\",\"Europe\",\"2022-10-11\"),\n",
    "               (3,\"Katy\",\"US\",\"2022-10-11\"),\n",
    "               (3,\"Bey\",null,\"2022-02-15\"), \n",
    "               (1,\"Gaga\",\"US\",\"2022-01-11\"),\n",
    "               (3,\"Katy\",\"Switz\",\"2022-02-15\")).toDF(\"ID\",\"NAME\",\"COUNTRY\", \"Date_part\")\n",
    "\n",
    "df.show(false)\n"
   ]
  },
  {
   "cell_type": "code",
   "execution_count": 7,
   "id": "513cf5af",
   "metadata": {},
   "outputs": [
    {
     "name": "stdout",
     "output_type": "stream",
     "text": [
      "+---+----------+--------+-----------+-------+\n",
      "|ID |Date_part |Bey     |Gaga       |Katy   |\n",
      "+---+----------+--------+-----------+-------+\n",
      "|1  |2022-01-11|[Europe]|[India, US]|[UK]   |\n",
      "|2  |2022-10-11|[]      |[]         |[India]|\n",
      "|3  |2022-10-11|[]      |[Europe]   |[US]   |\n",
      "|2  |2022-02-15|[US]    |[]         |[]     |\n",
      "|3  |2022-02-15|[]      |[]         |[Switz]|\n",
      "+---+----------+--------+-----------+-------+\n",
      "\n"
     ]
    },
    {
     "data": {
      "text/plain": [
       "pivot_name_df: org.apache.spark.sql.DataFrame = [ID: int, Date_part: string ... 3 more fields]\n"
      ]
     },
     "execution_count": 7,
     "metadata": {},
     "output_type": "execute_result"
    }
   ],
   "source": [
    "val pivot_name_df = df.groupBy($\"ID\", $\"Date_part\").pivot($\"NAME\").agg(collect_set($\"COUNTRY\"))\n",
    "pivot_name_df.show(false)"
   ]
  },
  {
   "cell_type": "code",
   "execution_count": 8,
   "id": "3f548373",
   "metadata": {},
   "outputs": [
    {
     "name": "stdout",
     "output_type": "stream",
     "text": [
      "== Physical Plan ==\n",
      "AdaptiveSparkPlan isFinalPlan=false\n",
      "+- ObjectHashAggregate(keys=[ID#13, Date_part#16], functions=[collect_set(if ((NAME#14 <=> Bey)) COUNTRY#15 else null, 0, 0), collect_set(if ((NAME#14 <=> Gaga)) COUNTRY#15 else null, 0, 0), collect_set(if ((NAME#14 <=> Katy)) COUNTRY#15 else null, 0, 0)])\n",
      "   +- Exchange hashpartitioning(ID#13, Date_part#16, 200), ENSURE_REQUIREMENTS, [plan_id=388]\n",
      "      +- ObjectHashAggregate(keys=[ID#13, Date_part#16], functions=[partial_collect_set(if ((NAME#14 <=> Bey)) COUNTRY#15 else null, 0, 0), partial_collect_set(if ((NAME#14 <=> Gaga)) COUNTRY#15 else null, 0, 0), partial_collect_set(if ((NAME#14 <=> Katy)) COUNTRY#15 else null, 0, 0)])\n",
      "         +- LocalTableScan [ID#13, NAME#14, COUNTRY#15, Date_part#16]\n",
      "\n",
      "\n"
     ]
    }
   ],
   "source": [
    "pivot_name_df.explain()"
   ]
  },
  {
   "cell_type": "code",
   "execution_count": 21,
   "id": "0d32134e",
   "metadata": {},
   "outputs": [
    {
     "name": "stdout",
     "output_type": "stream",
     "text": [
      "+---+----------+------+------+-----+\n",
      "|ID |Date_part |Bey   |Gaga  |Katy |\n",
      "+---+----------+------+------+-----+\n",
      "|1  |2022-01-11|Europe|India |UK   |\n",
      "|1  |2022-01-11|null  |US    |null |\n",
      "|2  |2022-10-11|null  |null  |India|\n",
      "|3  |2022-10-11|null  |Europe|US   |\n",
      "|2  |2022-02-15|US    |null  |null |\n",
      "|3  |2022-02-15|null  |null  |Switz|\n",
      "+---+----------+------+------+-----+\n",
      "\n",
      "== Physical Plan ==\n",
      "AdaptiveSparkPlan isFinalPlan=false\n",
      "+- Project [ID#13, Date_part#16, vars#719.Bey AS Bey#726, vars#719.Gaga AS Gaga#727, vars#719.Katy AS Katy#728]\n",
      "   +- Generate explode(arrays_zip(Bey#294, Gaga#296, Katy#298, Bey, Gaga, Katy)), [ID#13, Date_part#16], false, [vars#719]\n",
      "      +- ObjectHashAggregate(keys=[ID#13, Date_part#16], functions=[collect_set(if ((NAME#14 <=> Bey)) COUNTRY#15 else null, 0, 0), collect_set(if ((NAME#14 <=> Gaga)) COUNTRY#15 else null, 0, 0), collect_set(if ((NAME#14 <=> Katy)) COUNTRY#15 else null, 0, 0)])\n",
      "         +- Exchange hashpartitioning(ID#13, Date_part#16, 200), ENSURE_REQUIREMENTS, [plan_id=633]\n",
      "            +- ObjectHashAggregate(keys=[ID#13, Date_part#16], functions=[partial_collect_set(if ((NAME#14 <=> Bey)) COUNTRY#15 else null, 0, 0), partial_collect_set(if ((NAME#14 <=> Gaga)) COUNTRY#15 else null, 0, 0), partial_collect_set(if ((NAME#14 <=> Katy)) COUNTRY#15 else null, 0, 0)])\n",
      "               +- LocalTableScan [ID#13, NAME#14, COUNTRY#15, Date_part#16]\n",
      "\n",
      "\n"
     ]
    },
    {
     "data": {
      "text/plain": [
       "explode_df: org.apache.spark.sql.DataFrame = [ID: int, Date_part: string ... 3 more fields]\n"
      ]
     },
     "execution_count": 21,
     "metadata": {},
     "output_type": "execute_result"
    }
   ],
   "source": [
    "val explode_df = pivot_name_df.withColumn(\"vars\", explode(arrays_zip($\"Bey\", $\"Gaga\", $\"Katy\"))\n",
    "                        ).select($\"ID\",$\"Date_part\",$\"vars.Bey\", $\"vars.Gaga\", $\"vars.Katy\")\n",
    "\n",
    "explode_df.show(false)\n",
    "explode_df.explain()"
   ]
  },
  {
   "cell_type": "code",
   "execution_count": null,
   "id": "ed70b09b",
   "metadata": {},
   "outputs": [],
   "source": []
  }
 ],
 "metadata": {
  "kernelspec": {
   "display_name": "spylon-kernel",
   "language": "scala",
   "name": "spylon-kernel"
  },
  "language_info": {
   "codemirror_mode": "text/x-scala",
   "file_extension": ".scala",
   "help_links": [
    {
     "text": "MetaKernel Magics",
     "url": "https://metakernel.readthedocs.io/en/latest/source/README.html"
    }
   ],
   "mimetype": "text/x-scala",
   "name": "scala",
   "pygments_lexer": "scala",
   "version": "0.4.1"
  }
 },
 "nbformat": 4,
 "nbformat_minor": 5
}
