{
 "cells": [
  {
   "cell_type": "code",
   "execution_count": 9,
   "id": "c5b4de7e",
   "metadata": {},
   "outputs": [
    {
     "name": "stdout",
     "output_type": "stream",
     "text": [
      "== Physical Plan ==\n",
      "LocalTableScan [id#215, name#216]\n",
      "\n",
      "\n",
      "+---+----+\n",
      "|id |name|\n",
      "+---+----+\n",
      "|1  |Jer |\n",
      "|2  |Ed  |\n",
      "+---+----+\n",
      "\n",
      "== Physical Plan ==\n",
      "LocalTableScan [student_id#234, student_name#240, randomCol1#219, randomCol2#223, randomCol3#228]\n",
      "\n",
      "\n",
      "+----------+------------+----------+----------+----------+\n",
      "|student_id|student_name|randomCol1|randomCol2|randomCol3|\n",
      "+----------+------------+----------+----------+----------+\n",
      "|1         |Jer         |10        |20        |30        |\n",
      "|2         |Ed          |10        |20        |30        |\n",
      "+----------+------------+----------+----------+----------+\n",
      "\n",
      "== Physical Plan ==\n",
      "LocalTableScan [new_id#276, new_name#277]\n",
      "\n",
      "\n"
     ]
    },
    {
     "data": {
      "text/plain": [
       "df: org.apache.spark.sql.DataFrame = [id: int, name: string]\n",
       "columnsToRename: scala.collection.immutable.Map[String,String] = Map(id -> student_id, name -> student_name)\n",
       "df1: org.apache.spark.sql.DataFrame = [id: int, name: string ... 3 more fields]\n",
       "renameDF: org.apache.spark.sql.DataFrame = [student_id: int, student_name: string ... 3 more fields]\n",
       "newCols: Seq[String] = List(new_id, new_name)\n",
       "df2: org.apache.spark.sql.DataFrame = [new_id: int, new_name: string]\n"
      ]
     },
     "execution_count": 9,
     "metadata": {},
     "output_type": "execute_result"
    }
   ],
   "source": [
    "val df = Seq((1, \"Jer\"),(2, \"Ed\")).toDF(\"id\", \"name\")\n",
    "\n",
    "val columnsToRename=Map(\n",
    "    \"id\" -> \"student_id\",\n",
    "    \"name\" -> \"student_name\"\n",
    ")\n",
    "\n",
    "val df1 = df.withColumn(\"randomCol1\", lit(1*10)\n",
    "                       ).withColumn(\"randomCol2\", lit(1*20)\n",
    "                                   ).withColumn(\"randomCol3\", lit(1*30))\n",
    "\n",
    "\n",
    "val renameDF = columnsToRename.foldLeft(df1){\n",
    "    case(tempDF, (oldCol, newCol)) => {\n",
    "         tempDF.withColumnRenamed(oldCol, newCol)\n",
    "    }\n",
    "    \n",
    "}\n",
    "\n",
    "\n",
    "df.explain\n",
    "df.show(false)\n",
    "\n",
    "renameDF.explain()\n",
    "renameDF.show(false)\n",
    "\n",
    "\n",
    "val newCols = Seq(\"new_id\", \"new_name\")\n",
    "val df2 = df.toDF(newCols: _*)\n",
    "\n",
    "df2.explain()\n"
   ]
  },
  {
   "cell_type": "code",
   "execution_count": null,
   "id": "f5a214c8",
   "metadata": {},
   "outputs": [],
   "source": []
  }
 ],
 "metadata": {
  "kernelspec": {
   "display_name": "spylon-kernel",
   "language": "scala",
   "name": "spylon-kernel"
  },
  "language_info": {
   "codemirror_mode": "text/x-scala",
   "file_extension": ".scala",
   "help_links": [
    {
     "text": "MetaKernel Magics",
     "url": "https://metakernel.readthedocs.io/en/latest/source/README.html"
    }
   ],
   "mimetype": "text/x-scala",
   "name": "scala",
   "pygments_lexer": "scala",
   "version": "0.4.1"
  }
 },
 "nbformat": 4,
 "nbformat_minor": 5
}
