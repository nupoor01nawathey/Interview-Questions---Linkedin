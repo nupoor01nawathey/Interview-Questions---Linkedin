{
 "cells": [
  {
   "cell_type": "code",
   "execution_count": 15,
   "id": "bd7d15a0",
   "metadata": {},
   "outputs": [
    {
     "name": "stdout",
     "output_type": "stream",
     "text": [
      "+------+---+\n",
      "|UserID|Age|\n",
      "+------+---+\n",
      "|4001  |17 |\n",
      "|4002  |45 |\n",
      "|4003  |65 |\n",
      "|4004  |30 |\n",
      "|4005  |80 |\n",
      "+------+---+\n",
      "\n"
     ]
    },
    {
     "data": {
      "text/plain": [
       "import org.apache.spark.sql.functions.udf\n",
       "data: org.apache.spark.sql.DataFrame = [UserID: int, Age: int]\n"
      ]
     },
     "execution_count": 15,
     "metadata": {},
     "output_type": "execute_result"
    }
   ],
   "source": [
    "import org.apache.spark.sql.functions.udf \n",
    "\n",
    "val data = Seq(\n",
    "        (4001,17),\n",
    "        (4002,45),\n",
    "        (4003,65),\n",
    "        (4004,30),\n",
    "        (4005,80)\n",
    "    ).toDF(\"UserID\", \"Age\")\n",
    "\n",
    "\n",
    "data.show(false)\n"
   ]
  },
  {
   "cell_type": "code",
   "execution_count": 28,
   "id": "1579deff",
   "metadata": {},
   "outputs": [
    {
     "name": "stdout",
     "output_type": "stream",
     "text": [
      "+------+---+---------+\n",
      "|UserID|Age|category_|\n",
      "+------+---+---------+\n",
      "|4001  |17 |Youth    |\n",
      "|4002  |45 |old      |\n",
      "|4003  |65 |Senior   |\n",
      "|4004  |30 |old      |\n",
      "|4005  |80 |Senior   |\n",
      "+------+---+---------+\n",
      "\n"
     ]
    },
    {
     "data": {
      "text/plain": [
       "categorize_age: (age: Int)String\n",
       "category_udf: org.apache.spark.sql.expressions.UserDefinedFunction = SparkUserDefinedFunction($Lambda$3229/0x000000080149d040@3a8ff2fc,StringType,List(Some(class[value[0]: int])),Some(class[value[0]: string]),Some(category),true,true)\n"
      ]
     },
     "execution_count": 28,
     "metadata": {},
     "output_type": "execute_result"
    }
   ],
   "source": [
    "\n",
    "def categorize_age(age: Int): String = {\n",
    "   val category = if(age < 18) \n",
    "    \"Youth\"\n",
    "   else if(age >= 18 && age < 60) \n",
    "    \"old\"\n",
    "   else \n",
    "    \"Senior\"\n",
    "    \n",
    "   category\n",
    "}\n",
    "\n",
    "val category_udf = spark.udf.register(\"category\", categorize_age(_))\n",
    "\n",
    "data.withColumn(\"category_\", category_udf($\"Age\")).show(false)\n"
   ]
  },
  {
   "cell_type": "code",
   "execution_count": null,
   "id": "7be74dc1",
   "metadata": {},
   "outputs": [],
   "source": []
  }
 ],
 "metadata": {
  "kernelspec": {
   "display_name": "spylon-kernel",
   "language": "scala",
   "name": "spylon-kernel"
  },
  "language_info": {
   "codemirror_mode": "text/x-scala",
   "file_extension": ".scala",
   "help_links": [
    {
     "text": "MetaKernel Magics",
     "url": "https://metakernel.readthedocs.io/en/latest/source/README.html"
    }
   ],
   "mimetype": "text/x-scala",
   "name": "scala",
   "pygments_lexer": "scala",
   "version": "0.4.1"
  }
 },
 "nbformat": 4,
 "nbformat_minor": 5
}
