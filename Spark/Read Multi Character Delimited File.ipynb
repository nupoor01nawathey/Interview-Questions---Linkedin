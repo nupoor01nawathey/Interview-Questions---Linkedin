{
 "cells": [
  {
   "cell_type": "code",
   "execution_count": 10,
   "id": "eb572369",
   "metadata": {},
   "outputs": [
    {
     "name": "stdout",
     "output_type": "stream",
     "text": [
      "+---------------------------+\n",
      "|value                      |\n",
      "+---------------------------+\n",
      "|[1, a, b, dd, , ww, , 4, 4]|\n",
      "|[2, a, b, dd, , ww, , 4, 4]|\n",
      "|[3, a, b, dd, , ww, , 4, 4]|\n",
      "+---------------------------+\n",
      "\n"
     ]
    },
    {
     "data": {
      "text/plain": [
       "df: org.apache.spark.sql.Dataset[String] = [value: string]\n"
      ]
     },
     "execution_count": 10,
     "metadata": {},
     "output_type": "execute_result"
    }
   ],
   "source": [
    "\n",
    "val df = spark.read.textFile(\"Desktop/MultiCharDelimited.txt\")\n",
    "\n",
    "df.rdd.map(row => row.mkString.split(\"\\\\[\\\\~\\\\]\")).toDF().show(false)\n",
    "\n",
    "\n",
    "// 1[~]a[~]b[~]dd[~][~]ww[~][~]4[~]4[~][~][~][~][~]\n",
    "// 2[~]a[~]b[~]dd[~][~]ww[~][~]4[~]4[~][~][~][~][~]\n",
    "// 3[~]a[~]b[~]dd[~][~]ww[~][~]4[~]4[~][~][~][~][~]\n"
   ]
  },
  {
   "cell_type": "code",
   "execution_count": null,
   "id": "7541b7c3",
   "metadata": {},
   "outputs": [],
   "source": []
  }
 ],
 "metadata": {
  "kernelspec": {
   "display_name": "spylon-kernel",
   "language": "scala",
   "name": "spylon-kernel"
  },
  "language_info": {
   "codemirror_mode": "text/x-scala",
   "file_extension": ".scala",
   "help_links": [
    {
     "text": "MetaKernel Magics",
     "url": "https://metakernel.readthedocs.io/en/latest/source/README.html"
    }
   ],
   "mimetype": "text/x-scala",
   "name": "scala",
   "pygments_lexer": "scala",
   "version": "0.4.1"
  }
 },
 "nbformat": 4,
 "nbformat_minor": 5
}
