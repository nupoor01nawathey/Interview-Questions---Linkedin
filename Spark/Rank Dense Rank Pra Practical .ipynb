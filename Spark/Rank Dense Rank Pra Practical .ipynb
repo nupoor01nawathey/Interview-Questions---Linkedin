{
 "cells": [
  {
   "cell_type": "code",
   "execution_count": 1,
   "id": "d136d197",
   "metadata": {},
   "outputs": [
    {
     "data": {
      "text/plain": [
       "Intitializing Scala interpreter ..."
      ]
     },
     "metadata": {},
     "output_type": "display_data"
    },
    {
     "data": {
      "text/plain": [
       "Spark Web UI available at http://192.168.0.101:4040\n",
       "SparkContext available as 'sc' (version = 3.4.1, master = local[*], app id = local-1707542364530)\n",
       "SparkSession available as 'spark'\n"
      ]
     },
     "metadata": {},
     "output_type": "display_data"
    },
    {
     "name": "stdout",
     "output_type": "stream",
     "text": [
      "+---+--------+------+---------+------+\n",
      "|id |name    |salary|dept     |gender|\n",
      "+---+--------+------+---------+------+\n",
      "|1  |manish  |50000 |IT       |m     |\n",
      "|2  |vikash  |60000 |sales    |m     |\n",
      "|3  |raushan |70000 |marketing|m     |\n",
      "|4  |mukesh  |80000 |IT       |m     |\n",
      "|5  |priti   |90000 |sales    |f     |\n",
      "|6  |nikita  |45000 |marketing|f     |\n",
      "|7  |ragini  |55000 |marketing|f     |\n",
      "|8  |rashi   |100000|IT       |f     |\n",
      "|9  |aditya  |65000 |IT       |m     |\n",
      "|10 |rahul   |50000 |marketing|m     |\n",
      "|11 |rakhi   |50000 |IT       |f     |\n",
      "|12 |akhilesh|90000 |sales    |m     |\n",
      "+---+--------+------+---------+------+\n",
      "\n"
     ]
    },
    {
     "data": {
      "text/plain": [
       "emp_data: org.apache.spark.sql.DataFrame = [id: int, name: string ... 3 more fields]\n"
      ]
     },
     "execution_count": 1,
     "metadata": {},
     "output_type": "execute_result"
    }
   ],
   "source": [
    "\n",
    "val emp_data = Seq(\n",
    "    (1,\"manish\",50000,\"IT\",\"m\"),\n",
    "    (2,\"vikash\",60000,\"sales\",\"m\"),\n",
    "    (3,\"raushan\",70000,\"marketing\",\"m\"),\n",
    "    (4,\"mukesh\",80000,\"IT\",\"m\"),\n",
    "    (5,\"priti\",90000,\"sales\",\"f\"),\n",
    "    (6,\"nikita\",45000,\"marketing\",\"f\"),\n",
    "    (7,\"ragini\",55000,\"marketing\",\"f\"),\n",
    "    (8,\"rashi\",100000,\"IT\",\"f\"),\n",
    "    (9,\"aditya\",65000,\"IT\",\"m\"),\n",
    "    (10,\"rahul\",50000,\"marketing\",\"m\"),\n",
    "    (11,\"rakhi\",50000,\"IT\",\"f\"),\n",
    "    (12,\"akhilesh\",90000,\"sales\",\"m\")\n",
    ").toDF(\"id\",\"name\",\"salary\",\"dept\",\"gender\")\n",
    "\n",
    "\n",
    "emp_data.show(false)\n"
   ]
  },
  {
   "cell_type": "code",
   "execution_count": 9,
   "id": "195baf1a",
   "metadata": {},
   "outputs": [
    {
     "name": "stdout",
     "output_type": "stream",
     "text": [
      "+---+--------+------+---------+------+----------+----+----------+\n",
      "|id |name    |salary|dept     |gender|row_number|rank|dense_rank|\n",
      "+---+--------+------+---------+------+----------+----+----------+\n",
      "|8  |rashi   |100000|IT       |f     |1         |1   |1         |\n",
      "|4  |mukesh  |80000 |IT       |m     |2         |2   |2         |\n",
      "|9  |aditya  |65000 |IT       |m     |3         |3   |3         |\n",
      "|1  |manish  |50000 |IT       |m     |4         |4   |4         |\n",
      "|11 |rakhi   |50000 |IT       |f     |5         |4   |4         |\n",
      "|3  |raushan |70000 |marketing|m     |1         |1   |1         |\n",
      "|7  |ragini  |55000 |marketing|f     |2         |2   |2         |\n",
      "|10 |rahul   |50000 |marketing|m     |3         |3   |3         |\n",
      "|6  |nikita  |45000 |marketing|f     |4         |4   |4         |\n",
      "|5  |priti   |90000 |sales    |f     |1         |1   |1         |\n",
      "|12 |akhilesh|90000 |sales    |m     |2         |1   |1         |\n",
      "|2  |vikash  |60000 |sales    |m     |3         |3   |2         |\n",
      "+---+--------+------+---------+------+----------+----+----------+\n",
      "\n"
     ]
    },
    {
     "data": {
      "text/plain": [
       "import org.apache.spark.sql.expressions._\n"
      ]
     },
     "execution_count": 9,
     "metadata": {},
     "output_type": "execute_result"
    }
   ],
   "source": [
    "import org.apache.spark.sql.expressions._\n",
    "\n",
    "emp_data.withColumn(\"row_number\", row_number().over(Window.partitionBy($\"dept\").orderBy($\"salary\".desc_nulls_last))\n",
    "       ).withColumn(\"rank\", rank().over(Window.partitionBy($\"dept\").orderBy($\"salary\".desc_nulls_last)) \n",
    "       ).withColumn(\"dense_rank\", dense_rank().over(Window.partitionBy($\"dept\").orderBy($\"salary\".desc_nulls_last))\n",
    "       ).show(false)\n"
   ]
  },
  {
   "cell_type": "code",
   "execution_count": null,
   "id": "6dfbc064",
   "metadata": {},
   "outputs": [],
   "source": []
  }
 ],
 "metadata": {
  "kernelspec": {
   "display_name": "spylon-kernel",
   "language": "scala",
   "name": "spylon-kernel"
  },
  "language_info": {
   "codemirror_mode": "text/x-scala",
   "file_extension": ".scala",
   "help_links": [
    {
     "text": "MetaKernel Magics",
     "url": "https://metakernel.readthedocs.io/en/latest/source/README.html"
    }
   ],
   "mimetype": "text/x-scala",
   "name": "scala",
   "pygments_lexer": "scala",
   "version": "0.4.1"
  }
 },
 "nbformat": 4,
 "nbformat_minor": 5
}
