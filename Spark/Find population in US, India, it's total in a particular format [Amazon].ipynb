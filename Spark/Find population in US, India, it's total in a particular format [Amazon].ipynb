{
 "cells": [
  {
   "cell_type": "code",
   "execution_count": 1,
   "id": "cee0c411",
   "metadata": {},
   "outputs": [
    {
     "data": {
      "text/plain": [
       "Intitializing Scala interpreter ..."
      ]
     },
     "metadata": {},
     "output_type": "display_data"
    },
    {
     "data": {
      "text/plain": [
       "Spark Web UI available at http://192.168.0.100:4040\n",
       "SparkContext available as 'sc' (version = 3.4.1, master = local[*], app id = local-1704953514742)\n",
       "SparkSession available as 'spark'\n"
      ]
     },
     "metadata": {},
     "output_type": "display_data"
    },
    {
     "name": "stdout",
     "output_type": "stream",
     "text": [
      "+----------+------------+\n",
      "|country_id|country_name|\n",
      "+----------+------------+\n",
      "|         1|       India|\n",
      "|         2|          US|\n",
      "|         3|          AU|\n",
      "|         4|          UK|\n",
      "+----------+------------+\n",
      "\n",
      "+----------+-------+----------+\n",
      "|country_id|city_id|population|\n",
      "+----------+-------+----------+\n",
      "|         1|      1|    230000|\n",
      "|         1|      2|    470000|\n",
      "|         1|      3|    650000|\n",
      "|         2|      1|    247000|\n",
      "|         3|      1|    153000|\n",
      "|         2|      2|    212000|\n",
      "|         3|      2|    517000|\n",
      "|         4|      1|    820000|\n",
      "+----------+-------+----------+\n",
      "\n"
     ]
    },
    {
     "data": {
      "text/plain": [
       "countryDF: org.apache.spark.sql.DataFrame = [country_id: int, country_name: string]\n",
       "populationDF: org.apache.spark.sql.DataFrame = [country_id: int, city_id: int ... 1 more field]\n"
      ]
     },
     "execution_count": 1,
     "metadata": {},
     "output_type": "execute_result"
    }
   ],
   "source": [
    "// Find total number of people living in the US and India\n",
    "// Display population in below format\n",
    "\n",
    "// US   | India  | Total\n",
    "// ---------------------------\n",
    "//      |       |\n",
    "\n",
    "val countryDF=Seq(\n",
    "    (1, \"India\"),\n",
    "    (2, \"US\"),\n",
    "    (3, \"AU\"),\n",
    "    (4, \"UK\")\n",
    ").toDF(\"country_id\", \"country_name\")\n",
    "\n",
    "val populationDF=Seq(\n",
    "    (1, 1, 230000),\n",
    "    (1, 2, 470000),\n",
    "    (1, 3, 650000),\n",
    "    (2, 1, 247000),\n",
    "    (3, 1, 153000),\n",
    "    (2, 2, 212000),\n",
    "    (3, 2, 517000),\n",
    "    (4, 1, 820000),\n",
    ").toDF(\"country_id\", \"city_id\", \"population\")\n",
    "\n",
    "countryDF.show()\n",
    "populationDF.show()\n"
   ]
  },
  {
   "cell_type": "code",
   "execution_count": 26,
   "id": "2b5cfcaf",
   "metadata": {},
   "outputs": [
    {
     "name": "stdout",
     "output_type": "stream",
     "text": [
      "+------+-------+-------+\n",
      "|US    |India  |Total  |\n",
      "+------+-------+-------+\n",
      "|459000|1350000|1809000|\n",
      "+------+-------+-------+\n",
      "\n"
     ]
    },
    {
     "data": {
      "text/plain": [
       "resultDF: org.apache.spark.sql.DataFrame = [US: bigint, India: bigint ... 1 more field]\n"
      ]
     },
     "execution_count": 26,
     "metadata": {},
     "output_type": "execute_result"
    }
   ],
   "source": [
    "// DF Approach\n",
    "\n",
    "val resultDF = countryDF.as(\"c\").join(\n",
    "        populationDF.filter($\"country_id\".isin(1,2)).groupBy($\"country_id\").sum(\"population\"\n",
    "         ).as(\"p\"), $\"c.country_id\" === $\"p.country_id\", \"inner\"\n",
    ").withColumnRenamed(\"sum(population)\", \"total_population\"\n",
    ").withColumn(\"US\", when($\"country_name\"===lit(\"US\"), $\"total_population\")\n",
    ").withColumn(\"India\", when($\"country_name\"===lit(\"India\"), $\"total_population\")\n",
    ").drop(\"country_id\",\"country_name\",\"country_id\",\"total_population\"\n",
    ").agg(sum(\"US\").as(\"US\"),sum(\"India\").as(\"India\")\n",
    ").withColumn(\"Total\", $\"US\"+$\"India\")\n",
    "\n",
    "\n",
    "resultDF.show(false)"
   ]
  },
  {
   "cell_type": "code",
   "execution_count": 40,
   "id": "8df23130",
   "metadata": {},
   "outputs": [
    {
     "name": "stdout",
     "output_type": "stream",
     "text": [
      "+-------+------+-------+\n",
      "|India  |US    |Total  |\n",
      "+-------+------+-------+\n",
      "|1350000|459000|1809000|\n",
      "+-------+------+-------+\n",
      "\n"
     ]
    }
   ],
   "source": [
    "// Spark SQL Approach\n",
    "\n",
    "countryDF.createOrReplaceTempView(\"country\")\n",
    "populationDF.createOrReplaceTempView(\"population\")\n",
    "\n",
    "spark.sql(\"\"\"\n",
    "WITH population_cte AS (\n",
    "    SELECT \n",
    "        country_id, \n",
    "        SUM(population) total_population\n",
    "    FROM population \n",
    "    WHERE country_id in (1,2)\n",
    "    GROUP BY country_id\n",
    "   ),\n",
    "   joined_cte AS (\n",
    "       SELECT \n",
    "            SUM(CASE WHEN country_name='India' THEN total_population ELSE 0 END) as India,\n",
    "            SUM(CASE WHEN country_name='US' THEN total_population ELSE 0 END) as US,\n",
    "            India + US as Total\n",
    "       FROM population_cte p INNER JOIN country c\n",
    "       ON p.country_id=c.country_id\n",
    "   )\n",
    "   SELECT * FROM joined_cte\n",
    "\"\"\").show(false)"
   ]
  },
  {
   "cell_type": "code",
   "execution_count": null,
   "id": "b1036521",
   "metadata": {},
   "outputs": [],
   "source": []
  }
 ],
 "metadata": {
  "kernelspec": {
   "display_name": "spylon-kernel",
   "language": "scala",
   "name": "spylon-kernel"
  },
  "language_info": {
   "codemirror_mode": "text/x-scala",
   "file_extension": ".scala",
   "help_links": [
    {
     "text": "MetaKernel Magics",
     "url": "https://metakernel.readthedocs.io/en/latest/source/README.html"
    }
   ],
   "mimetype": "text/x-scala",
   "name": "scala",
   "pygments_lexer": "scala",
   "version": "0.4.1"
  }
 },
 "nbformat": 4,
 "nbformat_minor": 5
}
