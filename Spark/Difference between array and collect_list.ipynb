{
 "cells": [
  {
   "cell_type": "code",
   "execution_count": 1,
   "id": "4fe6c5a5",
   "metadata": {},
   "outputs": [
    {
     "data": {
      "text/plain": [
       "Intitializing Scala interpreter ..."
      ]
     },
     "metadata": {},
     "output_type": "display_data"
    },
    {
     "data": {
      "text/plain": [
       "Spark Web UI available at http://192.168.1.4:4041\n",
       "SparkContext available as 'sc' (version = 3.4.1, master = local[*], app id = local-1714489493238)\n",
       "SparkSession available as 'spark'\n"
      ]
     },
     "metadata": {},
     "output_type": "display_data"
    },
    {
     "name": "stdout",
     "output_type": "stream",
     "text": [
      "+---+---+---+\n",
      "|c1 |c2 |c3 |\n",
      "+---+---+---+\n",
      "|1  |a  |b  |\n",
      "|1  |c  |d  |\n",
      "|2  |e  |f  |\n",
      "+---+---+---+\n",
      "\n"
     ]
    },
    {
     "data": {
      "text/plain": [
       "import org.apache.spark.sql.functions._\n",
       "import spark.implicits._\n",
       "df: org.apache.spark.sql.DataFrame = [c1: int, c2: string ... 1 more field]\n"
      ]
     },
     "execution_count": 1,
     "metadata": {},
     "output_type": "execute_result"
    }
   ],
   "source": [
    "import org.apache.spark.sql.functions._\n",
    "import spark.implicits._\n",
    "\n",
    "val df = Seq(\n",
    "  (1, \"a\", \"b\"),\n",
    "  (1, \"c\", \"d\"),\n",
    "  (2, \"e\", \"f\")\n",
    ").toDF(\"c1\", \"c2\", \"c3\")\n",
    "\n",
    "df.show(false)"
   ]
  },
  {
   "cell_type": "code",
   "execution_count": 3,
   "id": "5f513d68",
   "metadata": {},
   "outputs": [
    {
     "name": "stdout",
     "output_type": "stream",
     "text": [
      "+---+---+---+------+\n",
      "|c1 |c2 |c3 |arr   |\n",
      "+---+---+---+------+\n",
      "|1  |a  |b  |[a, b]|\n",
      "|1  |c  |d  |[c, d]|\n",
      "|2  |e  |f  |[e, f]|\n",
      "+---+---+---+------+\n",
      "\n"
     ]
    }
   ],
   "source": [
    "df.withColumn(\"arr\", array($\"c2\", $\"c3\")).show(false)"
   ]
  },
  {
   "cell_type": "code",
   "execution_count": 13,
   "id": "0f479170",
   "metadata": {},
   "outputs": [
    {
     "name": "stdout",
     "output_type": "stream",
     "text": [
      "+---+------+\n",
      "|c1 |c2    |\n",
      "+---+------+\n",
      "|1  |[a, c]|\n",
      "|2  |[e]   |\n",
      "+---+------+\n",
      "\n"
     ]
    }
   ],
   "source": [
    "df.groupBy($\"c1\").agg(collect_list(\"c2\").as(\"c2\")).show(false)"
   ]
  },
  {
   "cell_type": "code",
   "execution_count": 15,
   "id": "d3ab820b",
   "metadata": {},
   "outputs": [
    {
     "name": "stdout",
     "output_type": "stream",
     "text": [
      "+---+----------------+\n",
      "|c1 |c2_and_c3       |\n",
      "+---+----------------+\n",
      "|1  |[{a, b}, {c, d}]|\n",
      "|2  |[{e, f}]        |\n",
      "+---+----------------+\n",
      "\n"
     ]
    }
   ],
   "source": [
    "df.groupBy($\"c1\").agg(collect_list(struct($\"c2\", $\"c3\")).as(\"c2_and_c3\")).show(false)"
   ]
  },
  {
   "cell_type": "code",
   "execution_count": null,
   "id": "3e7e6ce0",
   "metadata": {},
   "outputs": [],
   "source": []
  }
 ],
 "metadata": {
  "kernelspec": {
   "display_name": "spylon-kernel",
   "language": "scala",
   "name": "spylon-kernel"
  },
  "language_info": {
   "codemirror_mode": "text/x-scala",
   "file_extension": ".scala",
   "help_links": [
    {
     "text": "MetaKernel Magics",
     "url": "https://metakernel.readthedocs.io/en/latest/source/README.html"
    }
   ],
   "mimetype": "text/x-scala",
   "name": "scala",
   "pygments_lexer": "scala",
   "version": "0.4.1"
  }
 },
 "nbformat": 4,
 "nbformat_minor": 5
}
