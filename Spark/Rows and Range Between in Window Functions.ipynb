{
 "cells": [
  {
   "cell_type": "code",
   "execution_count": 13,
   "id": "b78ab899",
   "metadata": {},
   "outputs": [
    {
     "name": "stdout",
     "output_type": "stream",
     "text": [
      "+-------+------------+\n",
      "|brand  |differ_sales|\n",
      "+-------+------------+\n",
      "|iphone |1085000     |\n",
      "|samsung|1089000     |\n",
      "|oneplus|1177000     |\n",
      "+-------+------------+\n",
      "\n"
     ]
    },
    {
     "data": {
      "text/plain": [
       "import org.apache.spark.sql.expressions._\n",
       "product_data: org.apache.spark.sql.DataFrame = [id: int, brand: string ... 2 more fields]\n",
       "formatted: org.apache.spark.sql.DataFrame = [id: int, brand: string ... 2 more fields]\n",
       "window: org.apache.spark.sql.expressions.WindowSpec = org.apache.spark.sql.expressions.WindowSpec@5f3fdee0\n",
       "first_last: org.apache.spark.sql.DataFrame = [brand: string, differ_sales: int]\n"
      ]
     },
     "execution_count": 13,
     "metadata": {},
     "output_type": "execute_result"
    }
   ],
   "source": [
    "// Find out the difference in sales of each product from their first month sales to latest sales.\n",
    "\n",
    "import org.apache.spark.sql.expressions._\n",
    "\n",
    "val product_data = Seq(\n",
    "    (2,\"samsung\",\"01-01-1995\",11000),\n",
    "    (1,\"iphone\",\"01-02-2023\",1300000),\n",
    "    (2,\"samsung\",\"01-02-2023\",1120000),\n",
    "    (3,\"oneplus\",\"01-02-2023\",1120000),\n",
    "    (1,\"iphone\",\"01-03-2023\",1600000),\n",
    "    (2,\"samsung\",\"01-03-2023\",1080000),\n",
    "    (3,\"oneplus\",\"01-03-2023\",1160000),\n",
    "    (1,\"iphone\",\"01-01-2006\",15000),\n",
    "    (1,\"iphone\",\"01-04-2023\",1700000),\n",
    "    (2,\"samsung\",\"01-04-2023\",1800000),\n",
    "    (3,\"oneplus\",\"01-04-2023\",1170000),\n",
    "    (1,\"iphone\",\"01-05-2023\",1200000),\n",
    "    (2,\"samsung\",\"01-05-2023\",980000),\n",
    "    (3,\"oneplus\",\"01-05-2023\",1175000),\n",
    "    (1,\"iphone\",\"01-06-2023\",1100000),\n",
    "    (3,\"oneplus\",\"01-01-2010\",23000),\n",
    "    (2,\"samsung\",\"01-06-2023\",1100000),\n",
    "    (3,\"oneplus\",\"01-06-2023\",1200000)\n",
    ").toDF(\"id\",\"brand\",\"date\",\"sales\")\n",
    "\n",
    "val formatted = product_data.withColumn(\"date\", date_format(to_date($\"date\", \"dd-MM-yyyy\"),\"yyyy-MM-dd\"))\n",
    "\n",
    "val window = Window.partitionBy($\"id\").orderBy($\"date\").rowsBetween(Window.unboundedPreceding,Window.unboundedFollowing)\n",
    "\n",
    "// val first_last = formatted.withColumn(\"first_val\", first($\"sales\").over(Window.partitionBy($\"id\").orderBy($\"date\"))\n",
    "//         ).withColumn(\"last_val\", last($\"sales\").over(Window.partitionBy($\"id\").orderBy($\"date\")))\n",
    "\n",
    "// first_last.show(false)\n",
    "// first_last.explain()\n",
    "\n",
    "// By default specifiedwindowframe(RangeFrame, unboundedpreceding$(), currentrow$())\n",
    "// unboundedpreceding - starting row from partition\n",
    "// currentrow - current row\n",
    "\n",
    "\n",
    "val first_last = formatted.withColumn(\"first_val\", first($\"sales\").over(window)\n",
    "        ).withColumn(\"last_val\", last($\"sales\").over(window)\n",
    "        ).withColumn(\"differ_sales\", $\"last_val\" - $\"first_val\").drop(\"first_val\",\"last_val\")\n",
    "        .groupBy($\"brand\").agg(first($\"differ_sales\").as(\"differ_sales\"))\n",
    "    \n",
    "\n",
    "first_last.show(false)\n"
   ]
  },
  {
   "cell_type": "code",
   "execution_count": null,
   "id": "18466caa",
   "metadata": {},
   "outputs": [],
   "source": []
  },
  {
   "cell_type": "code",
   "execution_count": 52,
   "id": "fb54ed56",
   "metadata": {},
   "outputs": [
    {
     "name": "stdout",
     "output_type": "stream",
     "text": [
      "+---+------+----------+--------+-------------------+\n",
      "|id |name  |date      |time    |ts                 |\n",
      "+---+------+----------+--------+-------------------+\n",
      "|1  |manish|11-07-2023|10:20:00|2023-07-11 10:20:00|\n",
      "|1  |manish|11-07-2023|11:20:00|2023-07-11 11:20:00|\n",
      "|2  |rajesh|11-07-2023|11:20:00|2023-07-11 11:20:00|\n",
      "|1  |manish|11-07-2023|11:50:00|2023-07-11 11:50:00|\n",
      "|2  |rajesh|11-07-2023|13:20:00|2023-07-11 13:20:00|\n",
      "|1  |manish|11-07-2023|19:20:00|2023-07-11 19:20:00|\n",
      "|2  |rajesh|11-07-2023|17:20:00|2023-07-11 17:20:00|\n",
      "|1  |manish|12-07-2023|10:32:00|2023-07-12 10:32:00|\n",
      "|1  |manish|12-07-2023|12:20:00|2023-07-12 12:20:00|\n",
      "|3  |vikash|12-07-2023|09:12:00|2023-07-12 09:12:00|\n",
      "|1  |manish|12-07-2023|16:23:00|2023-07-12 16:23:00|\n",
      "|3  |vikash|12-07-2023|18:08:00|2023-07-12 18:08:00|\n",
      "+---+------+----------+--------+-------------------+\n",
      "\n",
      "root\n",
      " |-- id: integer (nullable = false)\n",
      " |-- name: string (nullable = true)\n",
      " |-- date: string (nullable = true)\n",
      " |-- time: string (nullable = true)\n",
      " |-- ts: timestamp (nullable = true)\n",
      "\n",
      "+------+-----------------+\n",
      "|name  |hours_less_than_8|\n",
      "+------+-----------------+\n",
      "|rajesh|6                |\n",
      "|manish|6                |\n",
      "+------+-----------------+\n",
      "\n"
     ]
    },
    {
     "data": {
      "text/plain": [
       "import org.apache.spark.sql.types.TimestampType\n",
       "emp_data: org.apache.spark.sql.DataFrame = [id: int, name: string ... 2 more fields]\n",
       "formatted: org.apache.spark.sql.DataFrame = [id: int, name: string ... 3 more fields]\n",
       "window: org.apache.spark.sql.expressions.WindowSpec = org.apache.spark.sql.expressions.WindowSpec@72b01c5b\n"
      ]
     },
     "execution_count": 52,
     "metadata": {},
     "output_type": "execute_result"
    }
   ],
   "source": [
    "\n",
    "// Send a mail to employees who have not completed 8hours in office for the given day\n",
    "\n",
    "import org.apache.spark.sql.types.TimestampType\n",
    "\n",
    "\n",
    "val emp_data = Seq(\n",
    "        (1,\"manish\",\"11-07-2023\",\"10:20:00\"),\n",
    "        (1,\"manish\",\"11-07-2023\",\"11:20:00\"),\n",
    "        (2,\"rajesh\",\"11-07-2023\",\"11:20:00\"),\n",
    "        (1,\"manish\",\"11-07-2023\",\"11:50:00\"),\n",
    "        (2,\"rajesh\",\"11-07-2023\",\"13:20:00\"),\n",
    "        (1,\"manish\",\"11-07-2023\",\"19:20:00\"),\n",
    "        (2,\"rajesh\",\"11-07-2023\",\"17:20:00\"),\n",
    "        (1,\"manish\",\"12-07-2023\",\"10:32:00\"),\n",
    "        (1,\"manish\",\"12-07-2023\",\"12:20:00\"),\n",
    "        (3,\"vikash\",\"12-07-2023\",\"09:12:00\"),\n",
    "        (1,\"manish\",\"12-07-2023\",\"16:23:00\"),\n",
    "        (3,\"vikash\",\"12-07-2023\",\"18:08:00\")).toDF(\"id\",\"name\",\"date\",\"time\")\n",
    "\n",
    "val formatted = emp_data.withColumn(\"ts\",expr(\"concat(date,' ',time)\")\n",
    "                                   ).withColumn(\"ts\",to_timestamp($\"ts\",\"dd-MM-yyyy HH:mm:ss\"))\n",
    "\n",
    "formatted.show(false)\n",
    "formatted.printSchema()\n",
    "\n",
    "\n",
    "val window = Window.partitionBy($\"id\",$\"date\").orderBy($\"date\").rowsBetween(Window.unboundedPreceding,Window.unboundedFollowing)\n",
    "\n",
    "\n",
    "formatted.withColumn(\"login\",first($\"ts\").over(window)\n",
    "        ).withColumn(\"logout\",last($\"ts\").over(window)\n",
    "        ).withColumn(\"hours_per_day\", hour($\"logout\")-hour($\"login\")\n",
    "        ).filter($\"hours_per_day\" < 8).groupBy($\"name\").agg(first($\"hours_per_day\").as(\"hours_less_than_8\")).show(false)\n",
    "\n"
   ]
  },
  {
   "cell_type": "code",
   "execution_count": null,
   "id": "e8846516",
   "metadata": {},
   "outputs": [],
   "source": []
  },
  {
   "cell_type": "code",
   "execution_count": 60,
   "id": "585c2904",
   "metadata": {},
   "outputs": [
    {
     "name": "stdout",
     "output_type": "stream",
     "text": [
      "+---+-------+----------+-------+------------------+\n",
      "|id |brand  |date      |sale   |avg_3mo_sales     |\n",
      "+---+-------+----------+-------+------------------+\n",
      "|1  |iphone |2023-03-01|1600000|1466666.6666666667|\n",
      "|1  |iphone |2023-04-01|1700000|1533333.3333333333|\n",
      "|1  |iphone |2023-05-01|1200000|1500000.0         |\n",
      "|1  |iphone |2023-06-01|1100000|1333333.3333333333|\n",
      "|3  |oneplus|2023-03-01|1160000|1126666.6666666667|\n",
      "|3  |oneplus|2023-04-01|1170000|1150000.0         |\n",
      "|3  |oneplus|2023-05-01|1175000|1168333.3333333333|\n",
      "|3  |oneplus|2023-06-01|1200000|1181666.6666666667|\n",
      "|2  |samsung|2023-03-01|1080000|1100000.0         |\n",
      "|2  |samsung|2023-04-01|1800000|1333333.3333333333|\n",
      "|2  |samsung|2023-05-01|980000 |1286666.6666666667|\n",
      "|2  |samsung|2023-06-01|1100000|1293333.3333333333|\n",
      "+---+-------+----------+-------+------------------+\n",
      "\n"
     ]
    },
    {
     "data": {
      "text/plain": [
       "product_data: org.apache.spark.sql.DataFrame = [id: int, brand: string ... 2 more fields]\n",
       "formatted: org.apache.spark.sql.DataFrame = [id: int, brand: string ... 2 more fields]\n",
       "window: org.apache.spark.sql.expressions.WindowSpec = org.apache.spark.sql.expressions.WindowSpec@756071af\n"
      ]
     },
     "execution_count": 60,
     "metadata": {},
     "output_type": "execute_result"
    }
   ],
   "source": [
    "\n",
    "// Find out the performance of the sales based on last 3 months average\n",
    "\n",
    "val product_data = Seq(\n",
    "    (1,\"iphone\",\"01-01-2023\",1500000),\n",
    "    (2,\"samsung\",\"01-01-2023\",1100000),\n",
    "    (3,\"oneplus\",\"01-01-2023\",1100000),\n",
    "    (1,\"iphone\",\"01-02-2023\",1300000),\n",
    "    (2,\"samsung\",\"01-02-2023\",1120000),\n",
    "    (3,\"oneplus\",\"01-02-2023\",1120000),\n",
    "    (1,\"iphone\",\"01-03-2023\",1600000),\n",
    "    (2,\"samsung\",\"01-03-2023\",1080000),\n",
    "    (3,\"oneplus\",\"01-03-2023\",1160000),\n",
    "    (1,\"iphone\",\"01-04-2023\",1700000),\n",
    "    (2,\"samsung\",\"01-04-2023\",1800000),\n",
    "    (3,\"oneplus\",\"01-04-2023\",1170000),\n",
    "    (1,\"iphone\",\"01-05-2023\",1200000),\n",
    "    (2,\"samsung\",\"01-05-2023\",980000),\n",
    "    (3,\"oneplus\",\"01-05-2023\",1175000),\n",
    "    (1,\"iphone\",\"01-06-2023\",1100000),\n",
    "    (2,\"samsung\",\"01-06-2023\",1100000),\n",
    "    (3,\"oneplus\",\"01-06-2023\",1200000)\n",
    ").toDF(\"id\",\"brand\",\"date\",\"sale\")\n",
    "\n",
    "val formatted = product_data.withColumn(\"date\",date_format(to_date($\"date\",\"dd-MM-yyyy\"),\"yyyy-MM-dd\"))\n",
    "\n",
    "val window = Window.partitionBy($\"brand\").orderBy($\"date\").rowsBetween(-2,0)\n",
    "\n",
    "formatted.withColumn(\"avg_3mo_sales\", avg($\"sale\").over(window)\n",
    "         ).withColumn(\"row_num\",row_number().over(Window.partitionBy($\"brand\").orderBy($\"date\"))\n",
    "         ).where($\"row_num\" > 2).drop(\"row_num\").show(false)\n"
   ]
  },
  {
   "cell_type": "code",
   "execution_count": null,
   "id": "57ba9229",
   "metadata": {},
   "outputs": [],
   "source": []
  }
 ],
 "metadata": {
  "kernelspec": {
   "display_name": "spylon-kernel",
   "language": "scala",
   "name": "spylon-kernel"
  },
  "language_info": {
   "codemirror_mode": "text/x-scala",
   "file_extension": ".scala",
   "help_links": [
    {
     "text": "MetaKernel Magics",
     "url": "https://metakernel.readthedocs.io/en/latest/source/README.html"
    }
   ],
   "mimetype": "text/x-scala",
   "name": "scala",
   "pygments_lexer": "scala",
   "version": "0.4.1"
  }
 },
 "nbformat": 4,
 "nbformat_minor": 5
}
