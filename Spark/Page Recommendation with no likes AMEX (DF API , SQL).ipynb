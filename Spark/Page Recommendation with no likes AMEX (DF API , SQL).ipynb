{
 "cells": [
  {
   "cell_type": "code",
   "execution_count": 7,
   "id": "d03a9661",
   "metadata": {},
   "outputs": [
    {
     "name": "stdout",
     "output_type": "stream",
     "text": [
      "+-------+---------+\n",
      "|user_id|friend_id|\n",
      "+-------+---------+\n",
      "|1      |2        |\n",
      "|1      |3        |\n",
      "|1      |4        |\n",
      "|2      |1        |\n",
      "|3      |1        |\n",
      "|3      |4        |\n",
      "|4      |1        |\n",
      "|4      |3        |\n",
      "+-------+---------+\n",
      "\n",
      "+-------+-------+\n",
      "|user_id|page_id|\n",
      "+-------+-------+\n",
      "|1      |A      |\n",
      "|1      |B      |\n",
      "|1      |C      |\n",
      "|2      |A      |\n",
      "|3      |B      |\n",
      "|3      |C      |\n",
      "|4      |B      |\n",
      "+-------+-------+\n",
      "\n"
     ]
    },
    {
     "data": {
      "text/plain": [
       "import spark.implicits._\n",
       "friends_df: org.apache.spark.sql.DataFrame = [user_id: int, friend_id: int]\n",
       "likes_df: org.apache.spark.sql.DataFrame = [user_id: int, page_id: string]\n"
      ]
     },
     "execution_count": 7,
     "metadata": {},
     "output_type": "execute_result"
    }
   ],
   "source": [
    "import spark.implicits._\n",
    "\n",
    "val friends_df = Seq(\n",
    "    (1, 2),\n",
    "    (1, 3),\n",
    "    (1, 4),\n",
    "    (2, 1),\n",
    "    (3, 1),\n",
    "    (3, 4),\n",
    "    (4, 1),\n",
    "    (4, 3)\n",
    ").toDF(\"user_id\", \"friend_id\")\n",
    "\n",
    "val likes_df = Seq(\n",
    "    (1, \"A\"),\n",
    "    (1, \"B\"),\n",
    "    (1, \"C\"),\n",
    "    (2, \"A\"),\n",
    "    (3, \"B\"),\n",
    "    (3, \"C\"),\n",
    "    (4, \"B\")\n",
    ").toDF(\"user_id\", \"page_id\")\n",
    "\n",
    "\n",
    "friends_df.show(false)\n",
    "likes_df.show(false)\n"
   ]
  },
  {
   "cell_type": "code",
   "execution_count": 8,
   "id": "6779c646",
   "metadata": {},
   "outputs": [],
   "source": [
    "\n",
    "friends_df.createOrReplaceTempView(\"friends\")\n",
    "likes_df.createOrReplaceTempView(\"likes\")\n"
   ]
  },
  {
   "cell_type": "code",
   "execution_count": 15,
   "id": "d81f442e",
   "metadata": {},
   "outputs": [
    {
     "name": "stdout",
     "output_type": "stream",
     "text": [
      "+-------+-------+\n",
      "|user_id|page_id|\n",
      "+-------+-------+\n",
      "|2      |B      |\n",
      "|2      |C      |\n",
      "|3      |A      |\n",
      "|4      |C      |\n",
      "|4      |C      |\n",
      "|4      |A      |\n",
      "+-------+-------+\n",
      "\n"
     ]
    }
   ],
   "source": [
    "spark.sql(\"\"\"\n",
    "    with common_likes as (\n",
    "        select \n",
    "            f.user_id,\n",
    "            l.page_id\n",
    "        from friends f inner join likes l\n",
    "        on f.friend_id=l.user_id\n",
    "    )\n",
    "    select \n",
    "        user_id,\n",
    "        page_id\n",
    "    from common_likes\n",
    "    where (user_id, page_id) not in (select user_id, page_id from likes)\n",
    "    order by user_id\n",
    "\"\"\").show(false)"
   ]
  },
  {
   "cell_type": "code",
   "execution_count": 22,
   "id": "6c7d3976",
   "metadata": {},
   "outputs": [
    {
     "name": "stdout",
     "output_type": "stream",
     "text": [
      "+-------+-------+\n",
      "|user_id|page_id|\n",
      "+-------+-------+\n",
      "|2      |B      |\n",
      "|2      |C      |\n",
      "|3      |A      |\n",
      "|4      |C      |\n",
      "|4      |C      |\n",
      "|4      |A      |\n",
      "+-------+-------+\n",
      "\n"
     ]
    },
    {
     "data": {
      "text/plain": [
       "common_likes_df: org.apache.spark.sql.DataFrame = [user_id: int, page_id: string]\n"
      ]
     },
     "execution_count": 22,
     "metadata": {},
     "output_type": "execute_result"
    }
   ],
   "source": [
    "val common_likes_df = friends_df.as(\"f\").join(likes_df.alias(\"l\"), $\"f.friend_id\" === $\"l.user_id\", \"inner\"\n",
    "                       ).select(\"f.user_id\", \"l.page_id\"\n",
    "                               )\n",
    "\n",
    "// NOT IN REFERENCE TO ANOTHER TABLE SYNTAX IS EQUIVALENT TO LEFT_ANTI JOIN SYNTAX\n",
    "common_likes_df.as(\"cl\").join(likes_df.as(\"l\"), $\"cl.user_id\" === $\"l.user_id\" &&\n",
    "                              $\"cl.page_id\" === $\"l.page_id\", \"left_anti\").orderBy($\"user_id\").show(false)\n"
   ]
  },
  {
   "cell_type": "code",
   "execution_count": null,
   "id": "839066bb",
   "metadata": {},
   "outputs": [],
   "source": []
  }
 ],
 "metadata": {
  "kernelspec": {
   "display_name": "spylon-kernel",
   "language": "scala",
   "name": "spylon-kernel"
  },
  "language_info": {
   "codemirror_mode": "text/x-scala",
   "file_extension": ".scala",
   "help_links": [
    {
     "text": "MetaKernel Magics",
     "url": "https://metakernel.readthedocs.io/en/latest/source/README.html"
    }
   ],
   "mimetype": "text/x-scala",
   "name": "scala",
   "pygments_lexer": "scala",
   "version": "0.4.1"
  }
 },
 "nbformat": 4,
 "nbformat_minor": 5
}
