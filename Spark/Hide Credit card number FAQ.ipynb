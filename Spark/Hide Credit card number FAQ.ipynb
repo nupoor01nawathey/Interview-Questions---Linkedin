{
 "cells": [
  {
   "cell_type": "code",
   "execution_count": 3,
   "id": "1cd66b1c",
   "metadata": {},
   "outputs": [
    {
     "name": "stdout",
     "output_type": "stream",
     "text": [
      "+----------------+-------+\n",
      "|card_number     |name   |\n",
      "+----------------+-------+\n",
      "|1234567891234567|Rajan  |\n",
      "|1234567891234832|Shyam  |\n",
      "|1234567891234587|Suresh |\n",
      "|1234567891239642|Jagdish|\n",
      "+----------------+-------+\n",
      "\n",
      "root\n",
      " |-- card_number: string (nullable = true)\n",
      " |-- name: string (nullable = true)\n",
      "\n"
     ]
    },
    {
     "data": {
      "text/plain": [
       "data: org.apache.spark.sql.DataFrame = [card_number: string, name: string]\n"
      ]
     },
     "execution_count": 3,
     "metadata": {},
     "output_type": "execute_result"
    }
   ],
   "source": [
    "// Hide Credit card number:\n",
    "// Accept 16 digit credit card number from user and display only last 4 characters of card number\n",
    "\n",
    "val data = List((\"1234567891234567\",\"Rajan\"),(\"1234567891234832\",\"Shyam\"),(\"1234567891234587\",\"Suresh\")\n",
    "                ,(\"1234567891239642\",\"Jagdish\")).toDF(\"card_number\",\"name\")\n",
    "\n",
    "data.show(false)\n",
    "data.printSchema()\n"
   ]
  },
  {
   "cell_type": "code",
   "execution_count": 6,
   "id": "fea1d56e",
   "metadata": {},
   "outputs": [
    {
     "name": "stdout",
     "output_type": "stream",
     "text": [
      "+----------------+-------+------------------+\n",
      "|card_number     |name   |masked_card_number|\n",
      "+----------------+-------+------------------+\n",
      "|1234567891234567|Rajan  |XXXXXXXXXXXX4567  |\n",
      "|1234567891234832|Shyam  |XXXXXXXXXXXX4832  |\n",
      "|1234567891234587|Suresh |XXXXXXXXXXXX4587  |\n",
      "|1234567891239642|Jagdish|XXXXXXXXXXXX9642  |\n",
      "+----------------+-------+------------------+\n",
      "\n"
     ]
    },
    {
     "data": {
      "text/plain": [
       "df: org.apache.spark.sql.DataFrame = [card_number: string, name: string ... 1 more field]\n"
      ]
     },
     "execution_count": 6,
     "metadata": {},
     "output_type": "execute_result"
    }
   ],
   "source": [
    "val df = data.withColumn(\"masked_card_number\", concat(lit(\"XXXXXXXXXXXX\"), substring($\"card_number\", 13, 4)))\n",
    "\n",
    "df.show(false)\n"
   ]
  },
  {
   "cell_type": "code",
   "execution_count": null,
   "id": "4bde6915",
   "metadata": {},
   "outputs": [],
   "source": []
  }
 ],
 "metadata": {
  "kernelspec": {
   "display_name": "spylon-kernel",
   "language": "scala",
   "name": "spylon-kernel"
  },
  "language_info": {
   "codemirror_mode": "text/x-scala",
   "file_extension": ".scala",
   "help_links": [
    {
     "text": "MetaKernel Magics",
     "url": "https://metakernel.readthedocs.io/en/latest/source/README.html"
    }
   ],
   "mimetype": "text/x-scala",
   "name": "scala",
   "pygments_lexer": "scala",
   "version": "0.4.1"
  }
 },
 "nbformat": 4,
 "nbformat_minor": 5
}
