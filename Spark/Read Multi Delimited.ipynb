{
 "cells": [
  {
   "cell_type": "code",
   "execution_count": 7,
   "id": "fa12af6a",
   "metadata": {},
   "outputs": [
    {
     "name": "stdout",
     "output_type": "stream",
     "text": [
      "+-----+---+------+\n",
      "|name |age|gender|\n",
      "+-----+---+------+\n",
      "|name1|34 |male  |\n",
      "|name2|60 |female|\n",
      "+-----+---+------+\n",
      "\n"
     ]
    }
   ],
   "source": [
    "// name@|#age@|#gender\n",
    "// name1@|#34@|#male\n",
    "// name2@|#60@|#female\n",
    "\n",
    "spark.read.format(\"csv\").options(Map(\"sep\" -> \"@|#\", \"header\" -> \"true\")).load(\"Desktop/MultiDelimited.txt\"\n",
    "                                                                              ).show(false)\n",
    "\n",
    "\n",
    "/*\n",
    "    Need to pass sep in Map and header param is mandatory otherwise incomplete input error\n",
    "*/\n",
    "\n"
   ]
  },
  {
   "cell_type": "code",
   "execution_count": null,
   "id": "cd730f02",
   "metadata": {},
   "outputs": [],
   "source": []
  },
  {
   "cell_type": "code",
   "execution_count": null,
   "id": "17ad4a69",
   "metadata": {},
   "outputs": [],
   "source": []
  }
 ],
 "metadata": {
  "kernelspec": {
   "display_name": "spylon-kernel",
   "language": "scala",
   "name": "spylon-kernel"
  },
  "language_info": {
   "codemirror_mode": "text/x-scala",
   "file_extension": ".scala",
   "help_links": [
    {
     "text": "MetaKernel Magics",
     "url": "https://metakernel.readthedocs.io/en/latest/source/README.html"
    }
   ],
   "mimetype": "text/x-scala",
   "name": "scala",
   "pygments_lexer": "scala",
   "version": "0.4.1"
  }
 },
 "nbformat": 4,
 "nbformat_minor": 5
}
