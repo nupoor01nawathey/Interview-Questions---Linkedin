{
 "cells": [
  {
   "cell_type": "code",
   "execution_count": 1,
   "id": "7c7e4631",
   "metadata": {},
   "outputs": [
    {
     "data": {
      "text/plain": [
       "Intitializing Scala interpreter ..."
      ]
     },
     "metadata": {},
     "output_type": "display_data"
    },
    {
     "data": {
      "text/plain": [
       "Spark Web UI available at http://192.168.1.4:4049\n",
       "SparkContext available as 'sc' (version = 3.4.1, master = local[*], app id = local-1716132402359)\n",
       "SparkSession available as 'spark'\n"
      ]
     },
     "metadata": {},
     "output_type": "display_data"
    },
    {
     "name": "stdout",
     "output_type": "stream",
     "text": [
      "+--------+---------+---------+---------+\n",
      "|Product |Sales_Jan|Sales_Feb|Sales_Mar|\n",
      "+--------+---------+---------+---------+\n",
      "|Product1|100      |150      |200      |\n",
      "|Product2|200      |250      |300      |\n",
      "|Product3|300      |350      |400      |\n",
      "+--------+---------+---------+---------+\n",
      "\n"
     ]
    },
    {
     "data": {
      "text/plain": [
       "data: org.apache.spark.sql.DataFrame = [Product: string, Sales_Jan: int ... 2 more fields]\n"
      ]
     },
     "execution_count": 1,
     "metadata": {},
     "output_type": "execute_result"
    }
   ],
   "source": [
    "val data = Seq((\"Product1\", 100, 150, 200),\n",
    "        (\"Product2\", 200, 250, 300),\n",
    "        (\"Product3\", 300, 350, 400)).toDF(\"Product\", \"Sales_Jan\", \"Sales_Feb\", \"Sales_Mar\")\n",
    "\n",
    "\n",
    "data.show(false)\n"
   ]
  },
  {
   "cell_type": "code",
   "execution_count": 61,
   "id": "02502955",
   "metadata": {},
   "outputs": [
    {
     "name": "stdout",
     "output_type": "stream",
     "text": [
      "+--------+-----+-----+\n",
      "|Product |Month|Sales|\n",
      "+--------+-----+-----+\n",
      "|Product1|Jan  |100  |\n",
      "|Product1|Jan  |200  |\n",
      "|Product1|Jan  |300  |\n",
      "|Product2|Feb  |150  |\n",
      "|Product2|Feb  |250  |\n",
      "|Product2|Feb  |350  |\n",
      "|Product3|Mar  |200  |\n",
      "|Product3|Mar  |300  |\n",
      "|Product3|Mar  |400  |\n",
      "+--------+-----+-----+\n",
      "\n"
     ]
    },
    {
     "data": {
      "text/plain": [
       "df1: org.apache.spark.sql.DataFrame = [Product: string, Month: string ... 1 more field]\n"
      ]
     },
     "execution_count": 61,
     "metadata": {},
     "output_type": "execute_result"
    }
   ],
   "source": [
    "data.createOrReplaceTempView(\"data\")\n",
    "\n",
    "val df1 = spark.sql(\"\"\"\n",
    "\n",
    "    SELECT \n",
    "        'Product1' as Product, \n",
    "        'Jan' Month,\n",
    "        Sales_Jan as Sales\n",
    "    FROM DATA\n",
    "    UNION\n",
    "    SELECT\n",
    "    'Product2' as Product,\n",
    "        'Feb' Month,\n",
    "        Sales_Feb as Sales\n",
    "    FROM DATA\n",
    "    UNION\n",
    "    SELECT\n",
    "        'Product3' as Product,\n",
    "        'Mar' Month,\n",
    "        Sales_Mar as Sales\n",
    "    FROM DATA\n",
    "\"\"\")\n",
    "\n",
    "df1.show(false)"
   ]
  },
  {
   "cell_type": "code",
   "execution_count": null,
   "id": "008e9e97",
   "metadata": {},
   "outputs": [],
   "source": []
  }
 ],
 "metadata": {
  "kernelspec": {
   "display_name": "spylon-kernel",
   "language": "scala",
   "name": "spylon-kernel"
  },
  "language_info": {
   "codemirror_mode": "text/x-scala",
   "file_extension": ".scala",
   "help_links": [
    {
     "text": "MetaKernel Magics",
     "url": "https://metakernel.readthedocs.io/en/latest/source/README.html"
    }
   ],
   "mimetype": "text/x-scala",
   "name": "scala",
   "pygments_lexer": "scala",
   "version": "0.4.1"
  }
 },
 "nbformat": 4,
 "nbformat_minor": 5
}
