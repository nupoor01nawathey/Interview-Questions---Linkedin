{
 "cells": [
  {
   "cell_type": "code",
   "execution_count": 1,
   "id": "41efcc46",
   "metadata": {},
   "outputs": [
    {
     "data": {
      "text/plain": [
       "Intitializing Scala interpreter ..."
      ]
     },
     "metadata": {},
     "output_type": "display_data"
    },
    {
     "data": {
      "text/plain": [
       "Spark Web UI available at http://192.168.1.4:4041\n",
       "SparkContext available as 'sc' (version = 3.4.1, master = local[*], app id = local-1714737595796)\n",
       "SparkSession available as 'spark'\n"
      ]
     },
     "metadata": {},
     "output_type": "display_data"
    },
    {
     "name": "stdout",
     "output_type": "stream",
     "text": [
      "+---+--------+\n",
      "|age|children|\n",
      "+---+--------+\n",
      "|50 |2       |\n",
      "|34 |4       |\n",
      "+---+--------+\n",
      "\n",
      "+---+---------+-------+\n",
      "|age|education|income |\n",
      "+---+---------+-------+\n",
      "|26 |true     |60000.0|\n",
      "|32 |false    |35000.0|\n",
      "+---+---------+-------+\n",
      "\n"
     ]
    },
    {
     "data": {
      "text/plain": [
       "import org.apache.spark.sql.functions._\n",
       "df1: org.apache.spark.sql.DataFrame = [age: int, children: int]\n",
       "df2: org.apache.spark.sql.DataFrame = [age: int, education: boolean ... 1 more field]\n"
      ]
     },
     "execution_count": 1,
     "metadata": {},
     "output_type": "execute_result"
    }
   ],
   "source": [
    "/*\n",
    "    unionByName method is not available in Scala Spark but available in PySpark\n",
    "    Implement the functionality using Scala Spark\n",
    "*/\n",
    "\n",
    "import org.apache.spark.sql.functions._\n",
    "\n",
    "val df1 = sc.parallelize(List(\n",
    "  (50, 2),\n",
    "  (34, 4)\n",
    ")).toDF(\"age\", \"children\")\n",
    "\n",
    "val df2 = sc.parallelize(List(\n",
    "  (26, true, 60000.00),\n",
    "  (32, false, 35000.00)\n",
    ")).toDF(\"age\", \"education\", \"income\")\n",
    "\n",
    "df1.show(false)\n",
    "df2.show(false)\n"
   ]
  },
  {
   "cell_type": "code",
   "execution_count": 3,
   "id": "73cebffe",
   "metadata": {},
   "outputs": [
    {
     "data": {
      "text/plain": [
       "cols1: scala.collection.immutable.Set[String] = Set(age, children)\n",
       "cols2: scala.collection.immutable.Set[String] = Set(age, education, income)\n",
       "total: scala.collection.immutable.Set[String] = Set(age, children, education, income)\n"
      ]
     },
     "execution_count": 3,
     "metadata": {},
     "output_type": "execute_result"
    }
   ],
   "source": [
    "val cols1 = df1.columns.toSet\n",
    "val cols2 = df2.columns.toSet\n",
    "val total = cols1 ++ cols2"
   ]
  },
  {
   "cell_type": "code",
   "execution_count": 10,
   "id": "61bddb72",
   "metadata": {},
   "outputs": [
    {
     "name": "stdout",
     "output_type": "stream",
     "text": [
      "+---+--------+---------+------+\n",
      "|age|children|education|income|\n",
      "+---+--------+---------+------+\n",
      "|50 |2       |null     |null  |\n",
      "|34 |4       |null     |null  |\n",
      "+---+--------+---------+------+\n",
      "\n",
      "+---+--------+---------+-------+\n",
      "|age|children|education|income |\n",
      "+---+--------+---------+-------+\n",
      "|26 |null    |true     |60000.0|\n",
      "|32 |null    |false    |35000.0|\n",
      "+---+--------+---------+-------+\n",
      "\n"
     ]
    },
    {
     "data": {
      "text/plain": [
       "import org.apache.spark.sql.functions._\n",
       "checkCols: (myCols: Set[String], allCols: Set[String])List[org.apache.spark.sql.Column]\n"
      ]
     },
     "execution_count": 10,
     "metadata": {},
     "output_type": "execute_result"
    }
   ],
   "source": [
    "import org.apache.spark.sql.functions._\n",
    "\n",
    "\n",
    "def checkCols(myCols: Set[String], allCols: Set[String]) = {\n",
    "    allCols.toList.map( c => c match {\n",
    "        case c if myCols.contains(c) => col(c)\n",
    "        case _ => lit(null).as(c)\n",
    "    })\n",
    "}\n",
    "\n",
    "\n",
    "df1.select(checkCols(cols1, total): _*).show(false)\n",
    "df2.select(checkCols(cols2, total): _*).show(false)"
   ]
  },
  {
   "cell_type": "code",
   "execution_count": 11,
   "id": "b60885dc",
   "metadata": {},
   "outputs": [
    {
     "name": "stdout",
     "output_type": "stream",
     "text": [
      "+---+--------+---------+-------+\n",
      "|age|children|education| income|\n",
      "+---+--------+---------+-------+\n",
      "| 50|       2|     null|   null|\n",
      "| 34|       4|     null|   null|\n",
      "| 26|    null|     true|60000.0|\n",
      "| 32|    null|    false|35000.0|\n",
      "+---+--------+---------+-------+\n",
      "\n"
     ]
    }
   ],
   "source": [
    "df1.select(checkCols(cols1, total):_*).unionAll(df2.select(checkCols(cols2, total):_*)).show()"
   ]
  },
  {
   "cell_type": "code",
   "execution_count": null,
   "id": "2b4c5442",
   "metadata": {},
   "outputs": [],
   "source": []
  }
 ],
 "metadata": {
  "kernelspec": {
   "display_name": "spylon-kernel",
   "language": "scala",
   "name": "spylon-kernel"
  },
  "language_info": {
   "codemirror_mode": "text/x-scala",
   "file_extension": ".scala",
   "help_links": [
    {
     "text": "MetaKernel Magics",
     "url": "https://metakernel.readthedocs.io/en/latest/source/README.html"
    }
   ],
   "mimetype": "text/x-scala",
   "name": "scala",
   "pygments_lexer": "scala",
   "version": "0.4.1"
  }
 },
 "nbformat": 4,
 "nbformat_minor": 5
}
