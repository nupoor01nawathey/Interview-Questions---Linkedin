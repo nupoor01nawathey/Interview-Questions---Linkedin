{
 "cells": [
  {
   "cell_type": "code",
   "execution_count": 7,
   "id": "d66e3193",
   "metadata": {},
   "outputs": [
    {
     "name": "stdout",
     "output_type": "stream",
     "text": [
      "+------+------+------+----------+\n",
      "|emp_id|name  |salary|manager_id|\n",
      "+------+------+------+----------+\n",
      "|101   |Ram   |10000 |105       |\n",
      "|102   |Mohan |75000 |104       |\n",
      "|103   |Ramesh|35000 |104       |\n",
      "|104   |Manish|50000 |106       |\n",
      "|105   |Rakesh|85000 |106       |\n",
      "|106   |Dan   |100000|0         |\n",
      "+------+------+------+----------+\n",
      "\n",
      "+------+-------+\n",
      "|emp_id|dept_id|\n",
      "+------+-------+\n",
      "|101   |3      |\n",
      "|102   |2      |\n",
      "|103   |2      |\n",
      "|104   |2      |\n",
      "|105   |3      |\n",
      "|106   |1      |\n",
      "+------+-------+\n",
      "\n"
     ]
    },
    {
     "data": {
      "text/plain": [
       "empDF: org.apache.spark.sql.DataFrame = [emp_id: int, name: string ... 2 more fields]\n",
       "deptDF: org.apache.spark.sql.DataFrame = [emp_id: int, dept_id: int]\n"
      ]
     },
     "execution_count": 7,
     "metadata": {},
     "output_type": "execute_result"
    }
   ],
   "source": [
    "// Find all employees whose salary is more than average salary of department [Amazon]\n",
    "\n",
    "val empDF = Seq(\n",
    "    (101, \"Ram\", 10000, 105),\n",
    "    (102, \"Mohan\", 75000, 104),\n",
    "    (103, \"Ramesh\", 35000, 104),\n",
    "    (104, \"Manish\", 50000, 106),\n",
    "    (105, \"Rakesh\", 85000, 106),\n",
    "    (106, \"Dan\", 100000, null.asInstanceOf[Int])\n",
    ").toDF(\"emp_id\",\"name\",\"salary\",\"manager_id\")\n",
    "\n",
    "val deptDF = Seq(\n",
    "    (101,3),\n",
    "    (102,2),\n",
    "    (103,2),\n",
    "    (104,2),\n",
    "    (105,3),\n",
    "    (106,1)\n",
    ").toDF(\"emp_id\",\"dept_id\")\n",
    "\n",
    "empDF.show(false)\n",
    "deptDF.show(false)\n",
    "\n",
    "\n",
    "empDF.createOrReplaceTempView(\"emp\")\n",
    "deptDF.createOrReplaceTempView(\"dept\")\n"
   ]
  },
  {
   "cell_type": "code",
   "execution_count": 30,
   "id": "a8ad7268",
   "metadata": {},
   "outputs": [
    {
     "name": "stdout",
     "output_type": "stream",
     "text": [
      "+------+------+------+-------+---------+------------+-------------------+\n",
      "|emp_id|name  |salary|dept_id|total_emp|total_salary|avg_salary_per_dept|\n",
      "+------+------+------+-------+---------+------------+-------------------+\n",
      "|102   |Mohan |75000 |2      |3        |160000      |53333.333333333336 |\n",
      "|105   |Rakesh|85000 |3      |2        |95000       |47500.0            |\n",
      "+------+------+------+-------+---------+------------+-------------------+\n",
      "\n"
     ]
    },
    {
     "data": {
      "text/plain": [
       "avgDF: org.apache.spark.sql.DataFrame = [emp_id: int, name: string ... 5 more fields]\n"
      ]
     },
     "execution_count": 30,
     "metadata": {},
     "output_type": "execute_result"
    }
   ],
   "source": [
    "spark.sql(\"\"\"\n",
    "    SELECT e.emp_id,e.name,e.salary,d.dept_id FROM emp e INNER JOIN dept d ON e.emp_id=d.emp_id\n",
    "\"\"\").createOrReplaceTempView(\"joined\")\n",
    "\n",
    "\n",
    "val avgDF = spark.sql(\"\"\"\n",
    "SELECT * FROM (\n",
    "    SELECT \n",
    "        *,\n",
    "        total_salary/total_emp avg_salary_per_dept\n",
    "        FROM (\n",
    "            SELECT \n",
    "                *,\n",
    "                COUNT(emp_id) over(partition by dept_id) total_emp,\n",
    "                SUM(salary) over(partition by dept_id) total_salary\n",
    "            FROM joined\n",
    "            ) t1\n",
    "    )t2\n",
    "    WHERE salary > avg_salary_per_dept\n",
    "\"\"\")\n",
    "\n",
    "avgDF.show(false)"
   ]
  },
  {
   "cell_type": "code",
   "execution_count": null,
   "id": "e3d93ba3",
   "metadata": {},
   "outputs": [],
   "source": []
  }
 ],
 "metadata": {
  "kernelspec": {
   "display_name": "spylon-kernel",
   "language": "scala",
   "name": "spylon-kernel"
  },
  "language_info": {
   "codemirror_mode": "text/x-scala",
   "file_extension": ".scala",
   "help_links": [
    {
     "text": "MetaKernel Magics",
     "url": "https://metakernel.readthedocs.io/en/latest/source/README.html"
    }
   ],
   "mimetype": "text/x-scala",
   "name": "scala",
   "pygments_lexer": "scala",
   "version": "0.4.1"
  }
 },
 "nbformat": 4,
 "nbformat_minor": 5
}
