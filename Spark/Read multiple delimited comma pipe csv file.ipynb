{
 "cells": [
  {
   "cell_type": "code",
   "execution_count": 44,
   "id": "00228c85",
   "metadata": {},
   "outputs": [
    {
     "name": "stdout",
     "output_type": "stream",
     "text": [
      "+---+----+---+--------+\n",
      "|ID |Name|Age|Marks   |\n",
      "+---+----+---+--------+\n",
      "|1  |A   |20 |31|32|34|\n",
      "|2  |B   |21 |21|32|43|\n",
      "|3  |C   |22 |21|32|11|\n",
      "|4  |D   |23 |10|11|12|\n",
      "+---+----+---+--------+\n",
      "\n",
      "+---+----+---+-------+---------+-----+\n",
      "|ID |Name|Age|Physics|Chemistry|Maths|\n",
      "+---+----+---+-------+---------+-----+\n",
      "|1  |A   |20 |31     |32       |34   |\n",
      "|2  |B   |21 |21     |32       |43   |\n",
      "|3  |C   |22 |21     |32       |11   |\n",
      "|4  |D   |23 |10     |11       |12   |\n",
      "+---+----+---+-------+---------+-----+\n",
      "\n",
      "+---+----+---+-----+\n",
      "|ID |Name|Age|col_1|\n",
      "+---+----+---+-----+\n",
      "|1  |A   |20 |31   |\n",
      "|1  |A   |20 |32   |\n",
      "|1  |A   |20 |34   |\n",
      "|2  |B   |21 |21   |\n",
      "|2  |B   |21 |32   |\n",
      "|2  |B   |21 |43   |\n",
      "|3  |C   |22 |21   |\n",
      "|3  |C   |22 |32   |\n",
      "|3  |C   |22 |11   |\n",
      "|4  |D   |23 |10   |\n",
      "|4  |D   |23 |11   |\n",
      "|4  |D   |23 |12   |\n",
      "+---+----+---+-----+\n",
      "\n"
     ]
    },
    {
     "data": {
      "text/plain": [
       "df: org.apache.spark.sql.DataFrame = [ID: string, Name: string ... 2 more fields]\n",
       "df1: org.apache.spark.sql.DataFrame = [ID: string, Name: string ... 4 more fields]\n",
       "import org.apache.spark.sql.functions.explode\n",
       "df2: org.apache.spark.sql.DataFrame = [ID: string, Name: string ... 2 more fields]\n"
      ]
     },
     "execution_count": 44,
     "metadata": {},
     "output_type": "execute_result"
    }
   ],
   "source": [
    "// ID,Name,Age,Marks\n",
    "// 1,A,20,31|32|34\n",
    "// 2,B,21,21|32|43\n",
    "// 3,C,22,21|32|11\n",
    "// 4,D,23,10|11|12\n",
    "\n",
    "// Expected Output 1:\n",
    "// =========\n",
    "// +---+----+---+-------+---------+-----+\n",
    "// | ID|Name|Age|Physics|Chemistry|Maths|\n",
    "// +---+----+---+-------+---------+-----+\n",
    "// | 1 | A  | 20| 31    | 32      | 34  |\n",
    "// | 2 | B  | 21| 21    | 32      | 43  |\n",
    "// | 3 | C  | 22| 21    | 32      | 11  |\n",
    "// | 4 | D  | 23| 10    | 11      | 12  |\n",
    "// +---+----+---+-------+---------+-----+\n",
    "\n",
    "// Expected Output 2 :\n",
    "// ===========\n",
    "// +---+----+---+---+\n",
    "// | ID|Name|Age|col|\n",
    "// +---+----+---+---+\n",
    "// | 1| A| 20| 31   |\n",
    "// | 1| A| 20| 32   |\n",
    "// | 1| A| 20| 34   |\n",
    "// | 2| B| 21| 21   |\n",
    "// | 2| B| 21| 32   |\n",
    "// | 2| B| 21| 43   |\n",
    "// | 3| C| 22| 21   |\n",
    "// | 3| C| 22| 32   |\n",
    "// | 3| C| 22| 11   |\n",
    "// | 4| D| 23| 10   |\n",
    "// | 4| D| 23| 11   |\n",
    "// | 4| D| 23| 12   |\n",
    "// +---+----+---+---+\n",
    "\n",
    "\n",
    "val df= spark.read.format(\"csv\").options(Map(\"sep\" -> \",\", \"header\" -> \"true\")\n",
    "                                        ).load(\"multiple_delimiter_comma_pipe.csv\")\n",
    "\n",
    "val df1=df.withColumn(\"Physics\", split($\"Marks\",\"\\\\|\").getItem(0)\n",
    "                     ).withColumn(\"Chemistry\",split($\"Marks\",\"\\\\|\").getItem(1)\n",
    "                                 ).withColumn(\"Maths\",split($\"Marks\",\"\\\\|\").getItem(2)\n",
    "                                             ).drop(\"Marks\")\n",
    "\n",
    "df.show(false)\n",
    "df1.show(false)\n",
    "\n",
    "\n",
    "\n",
    "\n",
    "import org.apache.spark.sql.functions.explode\n",
    "val df2=df.withColumn(\"col_1\", explode(split($\"Marks\",\"\\\\|\"))).drop(\"Marks\")\n",
    "df2.show(false)\n",
    "    "
   ]
  },
  {
   "cell_type": "code",
   "execution_count": null,
   "id": "4625986f",
   "metadata": {},
   "outputs": [],
   "source": []
  }
 ],
 "metadata": {
  "kernelspec": {
   "display_name": "spylon-kernel",
   "language": "scala",
   "name": "spylon-kernel"
  },
  "language_info": {
   "codemirror_mode": "text/x-scala",
   "file_extension": ".scala",
   "help_links": [
    {
     "text": "MetaKernel Magics",
     "url": "https://metakernel.readthedocs.io/en/latest/source/README.html"
    }
   ],
   "mimetype": "text/x-scala",
   "name": "scala",
   "pygments_lexer": "scala",
   "version": "0.4.1"
  }
 },
 "nbformat": 4,
 "nbformat_minor": 5
}
