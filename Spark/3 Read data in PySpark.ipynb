{
 "cells": [
  {
   "cell_type": "code",
   "execution_count": 0,
   "metadata": {
    "application/vnd.databricks.v1+cell": {
     "cellMetadata": {
      "byteLimit": 2048000,
      "rowLimit": 10000
     },
     "inputWidgets": {},
     "nuid": "f5347ea8-f831-4fe4-95a0-7004e8e5e0bf",
     "showTitle": false,
     "tableResultSettingsMap": {},
     "title": ""
    }
   },
   "outputs": [
    {
     "output_type": "stream",
     "name": "stdout",
     "output_type": "stream",
     "text": [
      "+-----------------+-------------------+-----+\n|              _c0|                _c1|  _c2|\n+-----------------+-------------------+-----+\n|DEST_COUNTRY_NAME|ORIGIN_COUNTRY_NAME|count|\n|    United States|            Romania|   15|\n|    United States|            Croatia|    1|\n|    United States|            Ireland|  344|\n|            Egypt|      United States|   15|\n+-----------------+-------------------+-----+\nonly showing top 5 rows\n\n"
     ]
    }
   ],
   "source": [
    "\n",
    "flight_df = spark.read.format(\"csv\")\\\n",
    "    .option(\"header\", \"false\")\\\n",
    "    .option(\"inferschema\", \"false\")\\\n",
    "    .option(\"mode\", \"FAILFAST\")\\\n",
    "    .load(\"/FileStore/tables/2015_summary.csv\")\n",
    "\n",
    "flight_df.show(5)\n",
    "\"\"\"\n",
    "+-----------------+-------------------+-----+\n",
    "|              _c0|                _c1|  _c2|\n",
    "+-----------------+-------------------+-----+\n",
    "|DEST_COUNTRY_NAME|ORIGIN_COUNTRY_NAME|count|\n",
    "|    United States|            Romania|   15|\n",
    "|    United States|            Croatia|    1|\n",
    "|    United States|            Ireland|  344|\n",
    "|            Egypt|      United States|   15|\n",
    "+-----------------+-------------------+-----+\n",
    "\"\"\""
   ]
  },
  {
   "cell_type": "code",
   "execution_count": 0,
   "metadata": {
    "application/vnd.databricks.v1+cell": {
     "cellMetadata": {
      "byteLimit": 2048000,
      "rowLimit": 10000
     },
     "inputWidgets": {},
     "nuid": "501c6fd9-6700-474d-85bf-4f0eb91348c9",
     "showTitle": false,
     "tableResultSettingsMap": {},
     "title": ""
    }
   },
   "outputs": [
    {
     "output_type": "stream",
     "name": "stdout",
     "output_type": "stream",
     "text": [
      "+-----------------+-------------------+-----+\n|DEST_COUNTRY_NAME|ORIGIN_COUNTRY_NAME|count|\n+-----------------+-------------------+-----+\n|    United States|            Romania|   15|\n|    United States|            Croatia|    1|\n|    United States|            Ireland|  344|\n|            Egypt|      United States|   15|\n|    United States|              India|   62|\n+-----------------+-------------------+-----+\nonly showing top 5 rows\n\nroot\n |-- DEST_COUNTRY_NAME: string (nullable = true)\n |-- ORIGIN_COUNTRY_NAME: string (nullable = true)\n |-- count: string (nullable = true)\n\n"
     ]
    }
   ],
   "source": [
    "flight_header_df = spark.read.format(\"csv\")\\\n",
    "    .option(\"header\", \"true\")\\\n",
    "    .option(\"inferschema\", \"false\")\\\n",
    "    .option(\"mode\", \"FAILFAST\")\\\n",
    "    .load(\"/FileStore/tables/2015_summary.csv\")\n",
    "\n",
    "flight_header_df.show(5)\n",
    "\"\"\"\n",
    "+-----------------+-------------------+-----+\n",
    "|DEST_COUNTRY_NAME|ORIGIN_COUNTRY_NAME|count|\n",
    "+-----------------+-------------------+-----+\n",
    "|    United States|            Romania|   15|\n",
    "|    United States|            Croatia|    1|\n",
    "|    United States|            Ireland|  344|\n",
    "|            Egypt|      United States|   15|\n",
    "|    United States|              India|   62|\n",
    "+-----------------+-------------------+-----+\n",
    "\"\"\"\n",
    "\n",
    "flight_header_df.printSchema()\n",
    "\"\"\"\n",
    "root\n",
    " |-- DEST_COUNTRY_NAME: string (nullable = true)\n",
    " |-- ORIGIN_COUNTRY_NAME: string (nullable = true)\n",
    " |-- count: string (nullable = true)\n",
    "\"\"\"\n"
   ]
  },
  {
   "cell_type": "code",
   "execution_count": 0,
   "metadata": {
    "application/vnd.databricks.v1+cell": {
     "cellMetadata": {
      "byteLimit": 2048000,
      "rowLimit": 10000
     },
     "inputWidgets": {},
     "nuid": "bfaa9710-e69b-4d58-9e01-0a0134006adc",
     "showTitle": false,
     "tableResultSettingsMap": {},
     "title": ""
    }
   },
   "outputs": [
    {
     "output_type": "stream",
     "name": "stdout",
     "output_type": "stream",
     "text": [
      "+-----------------+-------------------+-----+\n|DEST_COUNTRY_NAME|ORIGIN_COUNTRY_NAME|count|\n+-----------------+-------------------+-----+\n|    United States|            Romania|   15|\n|    United States|            Croatia|    1|\n|    United States|            Ireland|  344|\n|            Egypt|      United States|   15|\n|    United States|              India|   62|\n+-----------------+-------------------+-----+\nonly showing top 5 rows\n\nroot\n |-- DEST_COUNTRY_NAME: string (nullable = true)\n |-- ORIGIN_COUNTRY_NAME: string (nullable = true)\n |-- count: integer (nullable = true)\n\n"
     ]
    }
   ],
   "source": [
    "flight_schema_df = spark.read.format(\"csv\")\\\n",
    "    .option(\"header\", \"true\")\\\n",
    "    .option(\"inferschema\", \"true\")\\\n",
    "    .option(\"mode\", \"FAILFAST\")\\\n",
    "    .load(\"/FileStore/tables/2015_summary.csv\")\n",
    "\n",
    "flight_schema_df.show(5)\n",
    "\"\"\"\n",
    "+-----------------+-------------------+-----+\n",
    "|DEST_COUNTRY_NAME|ORIGIN_COUNTRY_NAME|count|\n",
    "+-----------------+-------------------+-----+\n",
    "|    United States|            Romania|   15|\n",
    "|    United States|            Croatia|    1|\n",
    "|    United States|            Ireland|  344|\n",
    "|            Egypt|      United States|   15|\n",
    "|    United States|              India|   62|\n",
    "+-----------------+-------------------+-----+\n",
    "\"\"\"\n",
    "\n",
    "\n",
    "flight_schema_df.printSchema()\n",
    "\"\"\"\n",
    "root\n",
    " |-- DEST_COUNTRY_NAME: string (nullable = true)\n",
    " |-- ORIGIN_COUNTRY_NAME: string (nullable = true)\n",
    " |-- count: integer (nullable = true)\n",
    "\"\"\""
   ]
  }
 ],
 "metadata": {
  "application/vnd.databricks.v1+notebook": {
   "computePreferences": null,
   "dashboards": [],
   "environmentMetadata": {
    "base_environment": "",
    "environment_version": "1"
   },
   "inputWidgetPreferences": null,
   "language": "python",
   "notebookMetadata": {
    "pythonIndentUnit": 4
   },
   "notebookName": "3 Read data in PySpark",
   "widgets": {}
  }
 },
 "nbformat": 4,
 "nbformat_minor": 0
}