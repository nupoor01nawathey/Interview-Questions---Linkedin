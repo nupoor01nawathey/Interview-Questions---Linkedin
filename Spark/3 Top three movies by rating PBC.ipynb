{
 "cells": [
  {
   "cell_type": "code",
   "execution_count": 4,
   "id": "6465fb15",
   "metadata": {},
   "outputs": [
    {
     "name": "stdout",
     "output_type": "stream",
     "text": [
      "+-------+---------+\n",
      "|MovieID|MovieName|\n",
      "+-------+---------+\n",
      "|1      |Movie A  |\n",
      "|2      |Movie B  |\n",
      "|3      |Movie C  |\n",
      "|4      |Movie D  |\n",
      "|5      |Movie E  |\n",
      "+-------+---------+\n",
      "\n",
      "+-------+------+------+\n",
      "|MovieID|UserID|Rating|\n",
      "+-------+------+------+\n",
      "|1      |101   |4.5   |\n",
      "|1      |102   |4.0   |\n",
      "|2      |103   |5.0   |\n",
      "|2      |104   |3.5   |\n",
      "|3      |105   |4.0   |\n",
      "|3      |106   |4.0   |\n",
      "|4      |107   |3.0   |\n",
      "|5      |108   |2.5   |\n",
      "|5      |109   |3.0   |\n",
      "+-------+------+------+\n",
      "\n"
     ]
    },
    {
     "data": {
      "text/plain": [
       "data_movies: org.apache.spark.sql.DataFrame = [MovieID: int, MovieName: string]\n",
       "data_ratings: org.apache.spark.sql.DataFrame = [MovieID: int, UserID: int ... 1 more field]\n"
      ]
     },
     "execution_count": 4,
     "metadata": {},
     "output_type": "execute_result"
    }
   ],
   "source": [
    "\n",
    "val data_movies = Seq((1, \"Movie A\"), (2, \"Movie B\"), (3, \"Movie C\"), (4, \"Movie D\"), (5, \"Movie E\")\n",
    "                     ).toDF(\"MovieID\", \"MovieName\")\n",
    "\n",
    "val data_ratings = Seq((1, 101, 4.5), (1, 102, 4.0), (2, 103, 5.0), \n",
    "                (2, 104, 3.5), (3, 105, 4.0), (3, 106, 4.0), \n",
    "                (4, 107, 3.0), (5, 108, 2.5), (5, 109, 3.0)).toDF(\"MovieID\", \"UserID\", \"Rating\")\n",
    "\n",
    "data_movies.show(false)\n",
    "data_ratings.show(false)\n"
   ]
  },
  {
   "cell_type": "code",
   "execution_count": 9,
   "id": "af859401",
   "metadata": {},
   "outputs": [
    {
     "name": "stdout",
     "output_type": "stream",
     "text": [
      "+-------+------+\n",
      "|MovieID|Rating|\n",
      "+-------+------+\n",
      "|1      |4.25  |\n",
      "|2      |4.25  |\n",
      "|3      |4.0   |\n",
      "|5      |2.75  |\n",
      "|4      |3.0   |\n",
      "+-------+------+\n",
      "\n"
     ]
    },
    {
     "data": {
      "text/plain": [
       "avg_data_ratings: org.apache.spark.sql.DataFrame = [MovieID: int, Rating: double]\n"
      ]
     },
     "execution_count": 9,
     "metadata": {},
     "output_type": "execute_result"
    }
   ],
   "source": [
    "val avg_data_ratings = data_ratings.groupBy($\"MovieID\").agg(avg(\"Rating\").alias(\"Rating\"))\n",
    "\n",
    "avg_data_ratings.show(false)"
   ]
  },
  {
   "cell_type": "code",
   "execution_count": 11,
   "id": "c134d170",
   "metadata": {},
   "outputs": [
    {
     "name": "stdout",
     "output_type": "stream",
     "text": [
      "+-------+------+---------+\n",
      "|MovieID|Rating|MovieName|\n",
      "+-------+------+---------+\n",
      "|1      |4.25  |Movie A  |\n",
      "|2      |4.25  |Movie B  |\n",
      "|3      |4.0   |Movie C  |\n",
      "+-------+------+---------+\n",
      "\n"
     ]
    }
   ],
   "source": [
    "avg_data_ratings\n",
    "    .join(data_movies, \"MovieID\", \"inner\")\n",
    "    .orderBy($\"Rating\".desc)\n",
    "    .limit(3)\n",
    "    .show(false)"
   ]
  },
  {
   "cell_type": "code",
   "execution_count": null,
   "id": "75ca582e",
   "metadata": {},
   "outputs": [],
   "source": []
  }
 ],
 "metadata": {
  "kernelspec": {
   "display_name": "spylon-kernel",
   "language": "scala",
   "name": "spylon-kernel"
  },
  "language_info": {
   "codemirror_mode": "text/x-scala",
   "file_extension": ".scala",
   "help_links": [
    {
     "text": "MetaKernel Magics",
     "url": "https://metakernel.readthedocs.io/en/latest/source/README.html"
    }
   ],
   "mimetype": "text/x-scala",
   "name": "scala",
   "pygments_lexer": "scala",
   "version": "0.4.1"
  }
 },
 "nbformat": 4,
 "nbformat_minor": 5
}
