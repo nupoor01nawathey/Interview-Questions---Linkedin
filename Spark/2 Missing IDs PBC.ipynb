{
 "cells": [
  {
   "cell_type": "code",
   "execution_count": 15,
   "id": "83dc51b5",
   "metadata": {},
   "outputs": [
    {
     "name": "stdout",
     "output_type": "stream",
     "text": [
      "+---+\n",
      "|ids|\n",
      "+---+\n",
      "|1  |\n",
      "|2  |\n",
      "|4  |\n",
      "|5  |\n",
      "|7  |\n",
      "|8  |\n",
      "|10 |\n",
      "+---+\n",
      "\n"
     ]
    },
    {
     "data": {
      "text/plain": [
       "numbers: Seq[Int] = List(1, 2, 4, 5, 7, 8, 10)\n",
       "data: org.apache.spark.sql.DataFrame = [ids: int]\n"
      ]
     },
     "execution_count": 15,
     "metadata": {},
     "output_type": "execute_result"
    }
   ],
   "source": [
    "val numbers = Seq((1),(2),(4),(5),(7),(8),(10))\n",
    "\n",
    "val data = numbers.toDF(\"ids\")\n",
    "\n",
    "data.show(false)"
   ]
  },
  {
   "cell_type": "code",
   "execution_count": 17,
   "id": "7d3044f0",
   "metadata": {},
   "outputs": [
    {
     "name": "stdout",
     "output_type": "stream",
     "text": [
      "+---+\n",
      "|ids|\n",
      "+---+\n",
      "|1  |\n",
      "|2  |\n",
      "|3  |\n",
      "|4  |\n",
      "|5  |\n",
      "|6  |\n",
      "|7  |\n",
      "|8  |\n",
      "|9  |\n",
      "|10 |\n",
      "+---+\n",
      "\n"
     ]
    },
    {
     "data": {
      "text/plain": [
       "full_list: org.apache.spark.sql.DataFrame = [ids: int]\n"
      ]
     },
     "execution_count": 17,
     "metadata": {},
     "output_type": "execute_result"
    }
   ],
   "source": [
    "val full_list = (data1.min to data1.max).toDF(\"ids\")\n",
    "\n",
    "full_list.show(false)"
   ]
  },
  {
   "cell_type": "code",
   "execution_count": 14,
   "id": "76772239",
   "metadata": {},
   "outputs": [
    {
     "name": "stdout",
     "output_type": "stream",
     "text": [
      "+---+\n",
      "|ids|\n",
      "+---+\n",
      "|3  |\n",
      "|6  |\n",
      "|9  |\n",
      "+---+\n",
      "\n"
     ]
    }
   ],
   "source": [
    "full_list.join(data, \"ids\", \"leftanti\").show(false)"
   ]
  },
  {
   "cell_type": "code",
   "execution_count": null,
   "id": "71a3c36b",
   "metadata": {},
   "outputs": [],
   "source": []
  }
 ],
 "metadata": {
  "kernelspec": {
   "display_name": "spylon-kernel",
   "language": "scala",
   "name": "spylon-kernel"
  },
  "language_info": {
   "codemirror_mode": "text/x-scala",
   "file_extension": ".scala",
   "help_links": [
    {
     "text": "MetaKernel Magics",
     "url": "https://metakernel.readthedocs.io/en/latest/source/README.html"
    }
   ],
   "mimetype": "text/x-scala",
   "name": "scala",
   "pygments_lexer": "scala",
   "version": "0.4.1"
  }
 },
 "nbformat": 4,
 "nbformat_minor": 5
}
