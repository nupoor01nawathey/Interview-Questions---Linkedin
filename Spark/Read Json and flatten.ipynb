{
 "cells": [
  {
   "cell_type": "code",
   "execution_count": 7,
   "id": "41ed6e42",
   "metadata": {},
   "outputs": [
    {
     "name": "stdout",
     "output_type": "stream",
     "text": [
      "root\n",
      " |-- @context: struct (nullable = true)\n",
      " |    |-- @language: string (nullable = true)\n",
      " |    |-- @vocab: string (nullable = true)\n",
      " |    |-- column: string (nullable = true)\n",
      " |    |-- data: struct (nullable = true)\n",
      " |    |    |-- @id: string (nullable = true)\n",
      " |    |    |-- @type: string (nullable = true)\n",
      " |    |-- dataType: struct (nullable = true)\n",
      " |    |    |-- @id: string (nullable = true)\n",
      " |    |    |-- @type: string (nullable = true)\n",
      " |    |-- extract: string (nullable = true)\n",
      " |    |-- field: string (nullable = true)\n",
      " |    |-- fileProperty: string (nullable = true)\n",
      " |    |-- format: string (nullable = true)\n",
      " |    |-- includes: string (nullable = true)\n",
      " |    |-- isEnumeration: string (nullable = true)\n",
      " |    |-- jsonPath: string (nullable = true)\n",
      " |    |-- ml: string (nullable = true)\n",
      " |    |-- parentField: string (nullable = true)\n",
      " |    |-- path: string (nullable = true)\n",
      " |    |-- recordSet: string (nullable = true)\n",
      " |    |-- references: string (nullable = true)\n",
      " |    |-- regex: string (nullable = true)\n",
      " |    |-- repeated: string (nullable = true)\n",
      " |    |-- replace: string (nullable = true)\n",
      " |    |-- sc: string (nullable = true)\n",
      " |    |-- separator: string (nullable = true)\n",
      " |    |-- source: string (nullable = true)\n",
      " |    |-- subField: string (nullable = true)\n",
      " |    |-- transform: string (nullable = true)\n",
      " |-- @type: string (nullable = true)\n",
      " |-- citation: string (nullable = true)\n",
      " |-- description: string (nullable = true)\n",
      " |-- distribution: array (nullable = true)\n",
      " |    |-- element: struct (containsNull = true)\n",
      " |    |    |-- @type: string (nullable = true)\n",
      " |    |    |-- containedIn: string (nullable = true)\n",
      " |    |    |-- contentSize: string (nullable = true)\n",
      " |    |    |-- contentUrl: string (nullable = true)\n",
      " |    |    |-- description: string (nullable = true)\n",
      " |    |    |-- encodingFormat: string (nullable = true)\n",
      " |    |    |-- fileExtension: string (nullable = true)\n",
      " |    |    |-- includes: string (nullable = true)\n",
      " |    |    |-- md5: string (nullable = true)\n",
      " |    |    |-- name: string (nullable = true)\n",
      " |-- license: string (nullable = true)\n",
      " |-- name: string (nullable = true)\n",
      " |-- recordSet: array (nullable = true)\n",
      " |    |-- element: struct (containsNull = true)\n",
      " |    |    |-- @type: string (nullable = true)\n",
      " |    |    |-- field: array (nullable = true)\n",
      " |    |    |    |-- element: struct (containsNull = true)\n",
      " |    |    |    |    |-- @type: string (nullable = true)\n",
      " |    |    |    |    |-- dataType: array (nullable = true)\n",
      " |    |    |    |    |    |-- element: string (containsNull = true)\n",
      " |    |    |    |    |-- description: string (nullable = true)\n",
      " |    |    |    |    |-- name: string (nullable = true)\n",
      " |    |    |    |    |-- source: struct (nullable = true)\n",
      " |    |    |    |    |    |-- distribution: string (nullable = true)\n",
      " |    |    |    |    |    |-- extract: struct (nullable = true)\n",
      " |    |    |    |    |    |    |-- column: string (nullable = true)\n",
      " |    |    |-- name: string (nullable = true)\n",
      " |-- url: string (nullable = true)\n",
      "\n"
     ]
    },
    {
     "data": {
      "text/plain": [
       "metadata_read_path: org.apache.spark.sql.DataFrame = [@context: struct<@language: string, @vocab: string ... 23 more fields>, @type: string ... 7 more fields]\n"
      ]
     },
     "execution_count": 7,
     "metadata": {},
     "output_type": "execute_result"
    }
   ],
   "source": [
    "// Read json files, how to flatten, array/struct\n",
    "\n",
    "// Whereever there is an Array use explode and wherever there is a Struct use . to reach to the desired key\n",
    "// There are tail recursive methods written manually by programmers but use those only entire df to be flattened, check the last cell\n",
    "\n",
    "val metadata_read_path = spark.read.format(\"json\"\n",
    "                                          ).option(\"multiline\",\"true\"\n",
    "                                          ).load(\"json_read_spark_scala.json\")\n",
    "\n",
    "metadata_read_path.printSchema()\n"
   ]
  },
  {
   "cell_type": "code",
   "execution_count": 17,
   "id": "992d44df",
   "metadata": {},
   "outputs": [
    {
     "name": "stdout",
     "output_type": "stream",
     "text": [
      "+------------+\n",
      "|transform   |\n",
      "+------------+\n",
      "|ml:transform|\n",
      "+------------+\n",
      "\n"
     ]
    }
   ],
   "source": [
    "metadata_read_path.select(\"@context.transform\").show(false)"
   ]
  },
  {
   "cell_type": "code",
   "execution_count": 34,
   "id": "87b5d037",
   "metadata": {
    "scrolled": true
   },
   "outputs": [
    {
     "name": "stdout",
     "output_type": "stream",
     "text": [
      "root\n",
      " |-- @context: struct (nullable = true)\n",
      " |    |-- @language: string (nullable = true)\n",
      " |    |-- @vocab: string (nullable = true)\n",
      " |    |-- column: string (nullable = true)\n",
      " |    |-- data: struct (nullable = true)\n",
      " |    |    |-- @id: string (nullable = true)\n",
      " |    |    |-- @type: string (nullable = true)\n",
      " |    |-- dataType: struct (nullable = true)\n",
      " |    |    |-- @id: string (nullable = true)\n",
      " |    |    |-- @type: string (nullable = true)\n",
      " |    |-- extract: string (nullable = true)\n",
      " |    |-- field: string (nullable = true)\n",
      " |    |-- fileProperty: string (nullable = true)\n",
      " |    |-- format: string (nullable = true)\n",
      " |    |-- includes: string (nullable = true)\n",
      " |    |-- isEnumeration: string (nullable = true)\n",
      " |    |-- jsonPath: string (nullable = true)\n",
      " |    |-- ml: string (nullable = true)\n",
      " |    |-- parentField: string (nullable = true)\n",
      " |    |-- path: string (nullable = true)\n",
      " |    |-- recordSet: string (nullable = true)\n",
      " |    |-- references: string (nullable = true)\n",
      " |    |-- regex: string (nullable = true)\n",
      " |    |-- repeated: string (nullable = true)\n",
      " |    |-- replace: string (nullable = true)\n",
      " |    |-- sc: string (nullable = true)\n",
      " |    |-- separator: string (nullable = true)\n",
      " |    |-- source: string (nullable = true)\n",
      " |    |-- subField: string (nullable = true)\n",
      " |    |-- transform: string (nullable = true)\n",
      " |-- @type: string (nullable = true)\n",
      " |-- citation: string (nullable = true)\n",
      " |-- description: string (nullable = true)\n",
      " |-- distribution: array (nullable = true)\n",
      " |    |-- element: struct (containsNull = true)\n",
      " |    |    |-- @type: string (nullable = true)\n",
      " |    |    |-- containedIn: string (nullable = true)\n",
      " |    |    |-- contentSize: string (nullable = true)\n",
      " |    |    |-- contentUrl: string (nullable = true)\n",
      " |    |    |-- description: string (nullable = true)\n",
      " |    |    |-- encodingFormat: string (nullable = true)\n",
      " |    |    |-- fileExtension: string (nullable = true)\n",
      " |    |    |-- includes: string (nullable = true)\n",
      " |    |    |-- md5: string (nullable = true)\n",
      " |    |    |-- name: string (nullable = true)\n",
      " |-- license: string (nullable = true)\n",
      " |-- name: string (nullable = true)\n",
      " |-- recordSet: array (nullable = true)\n",
      " |    |-- element: struct (containsNull = true)\n",
      " |    |    |-- @type: string (nullable = true)\n",
      " |    |    |-- field: array (nullable = true)\n",
      " |    |    |    |-- element: struct (containsNull = true)\n",
      " |    |    |    |    |-- @type: string (nullable = true)\n",
      " |    |    |    |    |-- dataType: array (nullable = true)\n",
      " |    |    |    |    |    |-- element: string (containsNull = true)\n",
      " |    |    |    |    |-- description: string (nullable = true)\n",
      " |    |    |    |    |-- name: string (nullable = true)\n",
      " |    |    |    |    |-- source: struct (nullable = true)\n",
      " |    |    |    |    |    |-- distribution: string (nullable = true)\n",
      " |    |    |    |    |    |-- extract: struct (nullable = true)\n",
      " |    |    |    |    |    |    |-- column: string (nullable = true)\n",
      " |    |    |-- name: string (nullable = true)\n",
      " |-- url: string (nullable = true)\n",
      " |-- recordSet_exploded: array (nullable = true)\n",
      " |    |-- element: struct (containsNull = true)\n",
      " |    |    |-- @type: string (nullable = true)\n",
      " |    |    |-- field: array (nullable = true)\n",
      " |    |    |    |-- element: struct (containsNull = true)\n",
      " |    |    |    |    |-- @type: string (nullable = true)\n",
      " |    |    |    |    |-- dataType: array (nullable = true)\n",
      " |    |    |    |    |    |-- element: string (containsNull = true)\n",
      " |    |    |    |    |-- description: string (nullable = true)\n",
      " |    |    |    |    |-- name: string (nullable = true)\n",
      " |    |    |    |    |-- source: struct (nullable = true)\n",
      " |    |    |    |    |    |-- distribution: string (nullable = true)\n",
      " |    |    |    |    |    |-- extract: struct (nullable = true)\n",
      " |    |    |    |    |    |    |-- column: string (nullable = true)\n",
      " |    |    |-- name: string (nullable = true)\n",
      "\n"
     ]
    }
   ],
   "source": [
    "metadata_read_path.withColumn(\"recordSet_exploded\", explode(array(\"recordSet\"))).printSchema()"
   ]
  },
  {
   "cell_type": "code",
   "execution_count": 45,
   "id": "1768bafc",
   "metadata": {},
   "outputs": [
    {
     "name": "stdout",
     "output_type": "stream",
     "text": [
      "root\n",
      " |-- name: array (nullable = true)\n",
      " |    |-- element: string (containsNull = true)\n",
      "\n"
     ]
    }
   ],
   "source": [
    "metadata_read_path.select(\"recordSet.name\").printSchema()"
   ]
  },
  {
   "cell_type": "code",
   "execution_count": 46,
   "id": "a26e2a7f",
   "metadata": {},
   "outputs": [
    {
     "name": "stdout",
     "output_type": "stream",
     "text": [
      "root\n",
      " |-- @type: array (nullable = true)\n",
      " |    |-- element: string (containsNull = true)\n",
      "\n"
     ]
    }
   ],
   "source": [
    " metadata_read_path.select(\"recordSet.@type\").printSchema()"
   ]
  },
  {
   "cell_type": "code",
   "execution_count": 49,
   "id": "2362cbcf",
   "metadata": {},
   "outputs": [
    {
     "name": "stdout",
     "output_type": "stream",
     "text": [
      "+-------+\n",
      "|@id    |\n",
      "+-------+\n",
      "|ml:data|\n",
      "+-------+\n",
      "\n"
     ]
    }
   ],
   "source": [
    "metadata_read_path.select(\"@context.data.@id\").show(false)"
   ]
  },
  {
   "cell_type": "code",
   "execution_count": null,
   "id": "ea535308",
   "metadata": {},
   "outputs": [],
   "source": [
    "// https://stackoverflow.com/questions/61863489/flatten-nested-json-in-scala-spark-dataframe\n",
    "\n",
    "\n",
    "import org.apache.spark.sql.{DataFrame, SparkSession}\n",
    "import org.apache.spark.sql.functions._\n",
    "import org.apache.spark.sql.types._\n",
    "import scala.annotation.tailrec\n",
    "import scala.util.Try\n",
    "\n",
    "implicit class DFHelpers(df: DataFrame) {\n",
    "    def columns = {\n",
    "      val dfColumns = df.columns.map(_.toLowerCase)\n",
    "      df.schema.fields.flatMap { data =>\n",
    "        data match {\n",
    "          case column if column.dataType.isInstanceOf[StructType] => {\n",
    "            column.dataType.asInstanceOf[StructType].fields.map { field =>\n",
    "              val columnName = column.name\n",
    "              val fieldName = field.name\n",
    "              col(s\"${columnName}.${fieldName}\").as(s\"${columnName}_${fieldName}\")\n",
    "            }.toList\n",
    "          }\n",
    "          case column => List(col(s\"${column.name}\"))\n",
    "        }\n",
    "      }\n",
    "    }\n",
    "\n",
    "    def flatten: DataFrame = {\n",
    "      val empty = df.schema.filter(_.dataType.isInstanceOf[StructType]).isEmpty\n",
    "      empty match {\n",
    "        case false =>\n",
    "          df.select(columns: _*).flatten\n",
    "        case _ => df\n",
    "      }\n",
    "    }\n",
    "    def explodeColumns = {\n",
    "      @tailrec\n",
    "      def columns(cdf: DataFrame):DataFrame = cdf.schema.fields.filter(_.dataType.typeName == \"array\") match {\n",
    "        case c if !c.isEmpty => columns(c.foldLeft(cdf)((dfa,field) => {\n",
    "          dfa.withColumn(field.name,explode_outer(col(s\"${field.name}\"))).flatten\n",
    "        }))\n",
    "        case _ => cdf\n",
    "      }\n",
    "      columns(df.flatten)\n",
    "    }\n",
    "}\n",
    "\n",
    "// Exiting paste mode, now interpreting.\n",
    "\n",
    "import org.apache.spark.sql.{DataFrame, SparkSession}\n",
    "import org.apache.spark.sql.functions._\n",
    "import org.apache.spark.sql.types._\n",
    "import scala.annotation.tailrec\n",
    "import scala.util.Try\n",
    "defined class DFHelpers\n",
    "\n"
   ]
  }
 ],
 "metadata": {
  "kernelspec": {
   "display_name": "spylon-kernel",
   "language": "scala",
   "name": "spylon-kernel"
  },
  "language_info": {
   "codemirror_mode": "text/x-scala",
   "file_extension": ".scala",
   "help_links": [
    {
     "text": "MetaKernel Magics",
     "url": "https://metakernel.readthedocs.io/en/latest/source/README.html"
    }
   ],
   "mimetype": "text/x-scala",
   "name": "scala",
   "pygments_lexer": "scala",
   "version": "0.4.1"
  }
 },
 "nbformat": 4,
 "nbformat_minor": 5
}
