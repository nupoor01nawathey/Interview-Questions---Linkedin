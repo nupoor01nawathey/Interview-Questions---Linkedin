{
 "cells": [
  {
   "cell_type": "code",
   "execution_count": 10,
   "id": "78e3247c",
   "metadata": {},
   "outputs": [
    {
     "name": "stdout",
     "output_type": "stream",
     "text": [
      "+---+-------+\n",
      "|id |name   |\n",
      "+---+-------+\n",
      "|1  |Nadal  |\n",
      "|2  |Federer|\n",
      "|3  |Novak  |\n",
      "+---+-------+\n",
      "\n",
      "+----+---------+---+---+---+\n",
      "|yr  |wimbledon|fr |us |au |\n",
      "+----+---------+---+---+---+\n",
      "|2018|1        |1  |1  |1  |\n",
      "|2019|1        |1  |2  |2  |\n",
      "|2020|2        |1  |2  |2  |\n",
      "+----+---------+---+---+---+\n",
      "\n"
     ]
    },
    {
     "data": {
      "text/plain": [
       "players_data: org.apache.spark.sql.DataFrame = [id: int, name: string]\n",
       "championships_data: org.apache.spark.sql.DataFrame = [yr: int, wimbledon: int ... 3 more fields]\n"
      ]
     },
     "execution_count": 10,
     "metadata": {},
     "output_type": "execute_result"
    }
   ],
   "source": [
    "// Task - Leet code 1783. Grand slam titles\n",
    "\n",
    "val players_data = List((1, \"Nadal\"), (2, \"Federer\"), (3, \"Novak\")).toDF(\"id\", \"name\")\n",
    "\n",
    "val championships_data = List((2018, 1, 1, 1, 1), (2019, 1, 1, 2, 2), (2020, 2, 1, 2, 2)).toDF(\"yr\",\"wimbledon\",\n",
    "                                                                                               \"fr\",\"us\",\"au\")\n",
    "\n",
    "players_data.show(false)\n",
    "\n",
    "championships_data.show(false)\n"
   ]
  },
  {
   "cell_type": "code",
   "execution_count": 14,
   "id": "b96e165c",
   "metadata": {},
   "outputs": [
    {
     "name": "stdout",
     "output_type": "stream",
     "text": [
      "+---------+-----+\n",
      "|wimbledon|count|\n",
      "+---------+-----+\n",
      "|1        |7    |\n",
      "|2        |5    |\n",
      "+---------+-----+\n",
      "\n",
      "+---+-------+-----+\n",
      "|id |name   |count|\n",
      "+---+-------+-----+\n",
      "|1  |Nadal  |7    |\n",
      "|2  |Federer|5    |\n",
      "+---+-------+-----+\n",
      "\n"
     ]
    },
    {
     "data": {
      "text/plain": [
       "df: org.apache.spark.sql.DataFrame = [wimbledon: int, count: bigint]\n"
      ]
     },
     "execution_count": 14,
     "metadata": {},
     "output_type": "execute_result"
    }
   ],
   "source": [
    "\n",
    "val df = championships_data.select($\"wimbledon\").unionAll(championships_data.select($\"fr\")\n",
    "                                                    ).unionAll(championships_data.select($\"us\")\n",
    "                                                               ).unionAll(championships_data.select($\"au\")\n",
    "                                                                         ).groupBy($\"wimbledon\").count()\n",
    "\n",
    "df.show(false)\n",
    "\n",
    "\n",
    "df.join(players_data, $\"wimbledon\" === $\"id\", \"inner\").select(\"id\",\"name\",\"count\").show(false)\n"
   ]
  },
  {
   "cell_type": "code",
   "execution_count": 19,
   "id": "ddf40450",
   "metadata": {},
   "outputs": [
    {
     "name": "stdout",
     "output_type": "stream",
     "text": [
      "+----+------------+--------+\n",
      "|yr  |Championship|playerId|\n",
      "+----+------------+--------+\n",
      "|2018|wimbledon   |1       |\n",
      "|2018|fr          |1       |\n",
      "|2018|us          |1       |\n",
      "|2018|au          |1       |\n",
      "|2019|wimbledon   |1       |\n",
      "|2019|fr          |1       |\n",
      "|2019|us          |2       |\n",
      "|2019|au          |2       |\n",
      "|2020|wimbledon   |2       |\n",
      "|2020|fr          |1       |\n",
      "|2020|us          |2       |\n",
      "|2020|au          |2       |\n",
      "+----+------------+--------+\n",
      "\n"
     ]
    },
    {
     "data": {
      "text/plain": [
       "import org.apache.spark.sql.functions._\n"
      ]
     },
     "execution_count": 19,
     "metadata": {},
     "output_type": "execute_result"
    }
   ],
   "source": [
    "// USING UNPIVOT OPTION\n",
    "\n",
    "import org.apache.spark.sql.functions._\n",
    "\n",
    "\n",
    "championships_data.unpivot(Array($\"yr\"),\"Championship\",\"playerId\").show(false)\n"
   ]
  },
  {
   "cell_type": "code",
   "execution_count": null,
   "id": "4698481b",
   "metadata": {},
   "outputs": [],
   "source": []
  }
 ],
 "metadata": {
  "kernelspec": {
   "display_name": "spylon-kernel",
   "language": "scala",
   "name": "spylon-kernel"
  },
  "language_info": {
   "codemirror_mode": "text/x-scala",
   "file_extension": ".scala",
   "help_links": [
    {
     "text": "MetaKernel Magics",
     "url": "https://metakernel.readthedocs.io/en/latest/source/README.html"
    }
   ],
   "mimetype": "text/x-scala",
   "name": "scala",
   "pygments_lexer": "scala",
   "version": "0.4.1"
  }
 },
 "nbformat": 4,
 "nbformat_minor": 5
}
