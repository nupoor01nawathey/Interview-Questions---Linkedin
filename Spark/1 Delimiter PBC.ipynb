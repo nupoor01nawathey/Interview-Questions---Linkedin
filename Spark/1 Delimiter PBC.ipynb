{
 "cells": [
  {
   "cell_type": "code",
   "execution_count": 1,
   "id": "b6bde998",
   "metadata": {},
   "outputs": [
    {
     "data": {
      "text/plain": [
       "Intitializing Scala interpreter ..."
      ]
     },
     "metadata": {},
     "output_type": "display_data"
    },
    {
     "data": {
      "text/plain": [
       "Spark Web UI available at http://[fe80:0:0:0:f82c:9aff:fe05:a3d%8]:4041\n",
       "SparkContext available as 'sc' (version = 3.4.1, master = local[*], app id = local-1716117413677)\n",
       "SparkSession available as 'spark'\n"
      ]
     },
     "metadata": {},
     "output_type": "display_data"
    },
    {
     "name": "stdout",
     "output_type": "stream",
     "text": [
      "+--------------------+\n",
      "|value               |\n",
      "+--------------------+\n",
      "|1,Alice\\t30|New York|\n",
      "+--------------------+\n",
      "\n"
     ]
    },
    {
     "data": {
      "text/plain": [
       "data: org.apache.spark.sql.DataFrame = [value: string]\n"
      ]
     },
     "execution_count": 1,
     "metadata": {},
     "output_type": "execute_result"
    }
   ],
   "source": [
    "\n",
    "val data = Seq((\"1,Alice\\t30|New York\")).toDF(\"value\")\n",
    "\n",
    "data.show(false)\n"
   ]
  },
  {
   "cell_type": "code",
   "execution_count": 2,
   "id": "baa65db5",
   "metadata": {},
   "outputs": [
    {
     "name": "stdout",
     "output_type": "stream",
     "text": [
      "+--------------------+------------------------+\n",
      "|value               |split_                  |\n",
      "+--------------------+------------------------+\n",
      "|1,Alice\\t30|New York|[1, Alice, 30, New York]|\n",
      "+--------------------+------------------------+\n",
      "\n"
     ]
    },
    {
     "data": {
      "text/plain": [
       "split_col: org.apache.spark.sql.DataFrame = [value: string, split_: array<string>]\n"
      ]
     },
     "execution_count": 2,
     "metadata": {},
     "output_type": "execute_result"
    }
   ],
   "source": [
    "val split_col = data.withColumn(\"split_\", split($\"value\", \",|\\t|\\\\|\"))\n",
    "\n",
    "split_col.show(false)"
   ]
  },
  {
   "cell_type": "code",
   "execution_count": 7,
   "id": "42bcfa75",
   "metadata": {},
   "outputs": [
    {
     "name": "stdout",
     "output_type": "stream",
     "text": [
      "+--------------------+---+-----+---+--------+\n",
      "|value               |id |name |age|city    |\n",
      "+--------------------+---+-----+---+--------+\n",
      "|1,Alice\\t30|New York|1  |Alice|30 |New York|\n",
      "+--------------------+---+-----+---+--------+\n",
      "\n"
     ]
    }
   ],
   "source": [
    "split_col\n",
    "    .withColumn(\"id\", $\"split_\".getItem(0))\n",
    "    .withColumn(\"name\", $\"split_\".getItem(1))\n",
    "    .withColumn(\"age\", $\"split_\".getItem(2))\n",
    "    .withColumn(\"city\", $\"split_\".getItem(3))\n",
    "    .drop(\"split_\")\n",
    "    .show(false)"
   ]
  },
  {
   "cell_type": "code",
   "execution_count": null,
   "id": "54bdf93a",
   "metadata": {},
   "outputs": [],
   "source": []
  }
 ],
 "metadata": {
  "kernelspec": {
   "display_name": "spylon-kernel",
   "language": "scala",
   "name": "spylon-kernel"
  },
  "language_info": {
   "codemirror_mode": "text/x-scala",
   "file_extension": ".scala",
   "help_links": [
    {
     "text": "MetaKernel Magics",
     "url": "https://metakernel.readthedocs.io/en/latest/source/README.html"
    }
   ],
   "mimetype": "text/x-scala",
   "name": "scala",
   "pygments_lexer": "scala",
   "version": "0.4.1"
  }
 },
 "nbformat": 4,
 "nbformat_minor": 5
}
