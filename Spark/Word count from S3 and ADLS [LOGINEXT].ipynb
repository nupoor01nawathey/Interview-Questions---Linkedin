{
 "cells": [
  {
   "cell_type": "code",
   "execution_count": null,
   "id": "76eaa914",
   "metadata": {},
   "outputs": [],
   "source": [
    "// Spark Interview question from LOGINEXT:\n",
    " \n",
    "// we have multiple text files stored in cloud storage like ADLS.\n",
    "// write spark code to get the total word count from all of the text files.\n",
    "\n",
    "// Ex: we have Hello world in three different files then the final count for hello is 3 and world is 3.\n",
    "\n",
    "\n",
    "// PSEUDO-CODE\n",
    "val aws_df=spark.read.text(\"s3://bucket/folder/file.txt\")\n",
    "val azure_df=spark.read.text(\"azure data lake path/file.txt\")\n",
    "\n",
    "// Assumption is that both paths will have same #columns, sale column name and same data type\n",
    "val df = aws_df.union(azure_df)\n",
    "\n",
    "val words_df = df.select(explode(split(lower($\"col_name\", \" \"))).alias(\"words\"))\n",
    "\n",
    "val word_count_df = words_df.groupBy($\"words\").count()\n",
    "\n",
    "word_count_df.show(false)"
   ]
  },
  {
   "cell_type": "code",
   "execution_count": null,
   "id": "a7a360e5",
   "metadata": {},
   "outputs": [],
   "source": [
    "// Word count problem using RDDs for text file\n",
    "\n",
    "val rdd:RDD[String] = sc.textFile(\"src/main/resources/test.txt\")\n",
    "\n",
    "val words = rdd.flatMap(r => r.split(\" \"))\n",
    "\n",
    "val words_default_count = words.map(r => (r,1))\n",
    "\n",
    "val word_count = words_default_count.reduceByKey(_+_)\n",
    "\n",
    "word_count.foreach(println)\n"
   ]
  }
 ],
 "metadata": {
  "kernelspec": {
   "display_name": "spylon-kernel",
   "language": "scala",
   "name": "spylon-kernel"
  },
  "language_info": {
   "codemirror_mode": "text/x-scala",
   "file_extension": ".scala",
   "help_links": [
    {
     "text": "MetaKernel Magics",
     "url": "https://metakernel.readthedocs.io/en/latest/source/README.html"
    }
   ],
   "mimetype": "text/x-scala",
   "name": "scala",
   "pygments_lexer": "scala",
   "version": "0.4.1"
  }
 },
 "nbformat": 4,
 "nbformat_minor": 5
}
