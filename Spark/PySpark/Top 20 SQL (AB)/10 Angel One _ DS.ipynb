{
 "cells": [
  {
   "cell_type": "code",
   "execution_count": 0,
   "metadata": {
    "application/vnd.databricks.v1+cell": {
     "cellMetadata": {
      "byteLimit": 2048000,
      "rowLimit": 10000
     },
     "inputWidgets": {},
     "nuid": "4ceeafb4-b9d4-4089-8116-4197a5d19b73",
     "showTitle": false,
     "tableResultSettingsMap": {},
     "title": ""
    }
   },
   "outputs": [
    {
     "output_type": "stream",
     "name": "stdout",
     "output_type": "stream",
     "text": [
      "+--------------+------+-----------+------------+------------+\n|airline_number|origin|destination|oneway_round|ticket_count|\n+--------------+------+-----------+------------+------------+\n|        DEF456|   BOM|        DEL|           O|         150|\n|        GHI789|   DEL|        BOM|           R|          50|\n|        JKL012|   BOM|        DEL|           R|          75|\n|        MNO345|   DEL|        NYC|           O|         200|\n|        PQR678|   NYC|        DEL|           O|         180|\n|        STU901|   NYC|        DEL|           R|          60|\n|        ABC123|   DEL|        BOM|           O|         100|\n|        VWX234|   DEL|        NYC|           R|          90|\n+--------------+------+-----------+------------+------------+\n\nroot\n |-- airline_number: string (nullable = true)\n |-- origin: string (nullable = true)\n |-- destination: string (nullable = true)\n |-- oneway_round: string (nullable = true)\n |-- ticket_count: long (nullable = true)\n\n"
     ]
    }
   ],
   "source": [
    "\"\"\"\n",
    "    https://www.youtube.com/watch?v=rGG6FAYHDNc&list=PLBTZqjSKn0IfuIqbMIqzS-waofsPHMS0E&index=26 \n",
    "    Write a SQL to find busiest route with total ticket count.\n",
    "    oneway_round = O -> One way trip\n",
    "    oneway_round = R -> Round trip\n",
    "    Note DEL to BOM is different than BOM to DEL\n",
    "\"\"\"\n",
    "from pyspark.sql.functions import *\n",
    "from pyspark.sql.window import Window\n",
    "\n",
    "tickets = spark.createDataFrame([\n",
    "    ('DEF456', 'BOM', 'DEL', 'O', 150),\n",
    "    ('GHI789', 'DEL', 'BOM', 'R', 50),\n",
    "    ('JKL012', 'BOM', 'DEL', 'R', 75),\n",
    "    ('MNO345', 'DEL', 'NYC', 'O', 200),\n",
    "    ('PQR678', 'NYC', 'DEL', 'O', 180),\n",
    "    ('STU901', 'NYC', 'DEL', 'R', 60),\n",
    "    ('ABC123', 'DEL', 'BOM', 'O', 100),\n",
    "    ('VWX234', 'DEL', 'NYC', 'R', 90)\n",
    "], [\"airline_number\", \"origin\", \"destination\", \"oneway_round\", \"ticket_count\"]\n",
    ")\n",
    "\n",
    "tickets.show()\n",
    "tickets.printSchema()"
   ]
  },
  {
   "cell_type": "code",
   "execution_count": 0,
   "metadata": {
    "application/vnd.databricks.v1+cell": {
     "cellMetadata": {
      "byteLimit": 2048000,
      "rowLimit": 10000
     },
     "inputWidgets": {},
     "nuid": "f53f9eb6-433c-46b0-a8b6-b8bf23127d59",
     "showTitle": false,
     "tableResultSettingsMap": {},
     "title": ""
    }
   },
   "outputs": [
    {
     "output_type": "stream",
     "name": "stdout",
     "output_type": "stream",
     "text": [
      "+------+-----------+------------+------------+\n|origin|destination|oneway_round|ticket_count|\n+------+-----------+------------+------------+\n|   BOM|        DEL|           O|         150|\n|   DEL|        BOM|           R|          50|\n|   BOM|        DEL|           R|          75|\n|   DEL|        NYC|           O|         200|\n|   NYC|        DEL|           O|         180|\n|   NYC|        DEL|           R|          60|\n|   DEL|        BOM|           O|         100|\n|   DEL|        NYC|           R|          90|\n|   BOM|        DEL|           R|          50|\n|   DEL|        BOM|           R|          75|\n|   DEL|        NYC|           R|          60|\n|   NYC|        DEL|           R|          90|\n+------+-----------+------------+------------+\n\n"
     ]
    }
   ],
   "source": [
    "# Since data is shinked, we need to exapad for round trips using union\n",
    "\n",
    "df1 = tickets.select(\"origin\",\"destination\",\"oneway_round\",\"ticket_count\")\n",
    "\n",
    "df2 = tickets.filter(col(\"oneway_round\") == \"R\") \\\n",
    "    .select(\"destination\",\"origin\",\"oneway_round\",\"ticket_count\")\n",
    "\n",
    "df1.union(df2).show()"
   ]
  },
  {
   "cell_type": "code",
   "execution_count": 0,
   "metadata": {
    "application/vnd.databricks.v1+cell": {
     "cellMetadata": {
      "byteLimit": 2048000,
      "rowLimit": 10000
     },
     "inputWidgets": {},
     "nuid": "4def9da1-51b1-4120-964d-c6afcc550b90",
     "showTitle": false,
     "tableResultSettingsMap": {},
     "title": ""
    }
   },
   "outputs": [
    {
     "output_type": "stream",
     "name": "stdout",
     "output_type": "stream",
     "text": [
      "+------+-----------+------+\n|origin|destination|total_|\n+------+-----------+------+\n|   DEL|        NYC|   350|\n+------+-----------+------+\n\n"
     ]
    }
   ],
   "source": [
    "df1.union(df2) \\\n",
    "    .groupBy(\"origin\",\"destination\").agg(sum(\"ticket_count\").alias(\"total_\")) \\\n",
    "    .orderBy(desc(\"total_\"))\\\n",
    "    .limit(1)\\\n",
    "    .show()"
   ]
  }
 ],
 "metadata": {
  "application/vnd.databricks.v1+notebook": {
   "computePreferences": null,
   "dashboards": [],
   "environmentMetadata": {
    "base_environment": "",
    "environment_version": "1"
   },
   "inputWidgetPreferences": null,
   "language": "python",
   "notebookMetadata": {
    "pythonIndentUnit": 4
   },
   "notebookName": "10 Angel One | DS",
   "widgets": {}
  }
 },
 "nbformat": 4,
 "nbformat_minor": 0
}