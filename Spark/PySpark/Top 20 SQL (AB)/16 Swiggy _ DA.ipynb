{
 "cells": [
  {
   "cell_type": "code",
   "execution_count": 0,
   "metadata": {
    "application/vnd.databricks.v1+cell": {
     "cellMetadata": {
      "byteLimit": 2048000,
      "rowLimit": 10000
     },
     "inputWidgets": {},
     "nuid": "f462ca82-b584-4c96-85cc-ffb3e903ce88",
     "showTitle": false,
     "tableResultSettingsMap": {},
     "title": ""
    }
   },
   "outputs": [
    {
     "output_type": "stream",
     "name": "stdout",
     "output_type": "stream",
     "text": [
      "+-----------+----------+--------------+-----------+\n|supplier_id|product_id|stock_quantity|record_date|\n+-----------+----------+--------------+-----------+\n|          1|         1|            60| 2022-01-01|\n|          1|         1|            40| 2022-01-02|\n|          1|         1|            35| 2022-01-03|\n|          1|         1|            45| 2022-01-04|\n|          1|         1|            51| 2022-01-06|\n|          1|         1|            55| 2022-01-09|\n|          1|         1|            25| 2022-01-10|\n|          1|         1|            48| 2022-01-11|\n|          1|         1|            45| 2022-01-15|\n|          1|         1|            38| 2022-01-16|\n|          1|         2|            45| 2022-01-08|\n|          1|         2|            40| 2022-01-09|\n|          2|         1|            45| 2022-01-06|\n|          2|         1|            55| 2022-01-07|\n|          2|         2|            45| 2022-01-08|\n|          2|         2|            48| 2022-01-09|\n|          2|         2|            35| 2022-01-10|\n|          2|         2|            52| 2022-01-15|\n|          2|         2|            23| 2022-01-16|\n+-----------+----------+--------------+-----------+\n\nroot\n |-- supplier_id: integer (nullable = true)\n |-- product_id: integer (nullable = true)\n |-- stock_quantity: integer (nullable = true)\n |-- record_date: date (nullable = true)\n\n"
     ]
    }
   ],
   "source": [
    "\"\"\"\n",
    "https://www.youtube.com/watch?v=l72hohmWA68",
    "\n\"\"\"\n",
    "\n",
    "from pyspark.sql.functions import *\n",
    "from pyspark.sql.types import *\n",
    "from pyspark.sql.window import Window\n",
    "from pyspark.sql import SparkSession\n",
    "\n",
    "spark = SparkSession.builder.getOrCreate()\n",
    "\n",
    "schema = StructType([\n",
    "    StructField(\"supplier_id\", IntegerType()),\n",
    "    StructField(\"product_id\", IntegerType()),\n",
    "    StructField(\"stock_quantity\", IntegerType()),\n",
    "    StructField(\"record_date\", StringType())\n",
    "]) \n",
    "\n",
    "stock = spark.createDataFrame([\n",
    "    (1, 1, 60, '2022-01-01'),\n",
    "    (1, 1, 40, '2022-01-02'),\n",
    "    (1, 1, 35, '2022-01-03'),\n",
    "    (1, 1, 45, '2022-01-04'),\n",
    "    (1, 1, 51, '2022-01-06'),\n",
    "    (1, 1, 55, '2022-01-09'),\n",
    "    (1, 1, 25, '2022-01-10'),\n",
    "    (1, 1, 48, '2022-01-11'),\n",
    "    (1, 1, 45, '2022-01-15'),\n",
    "    (1, 1, 38, '2022-01-16'),\n",
    "    (1, 2, 45, '2022-01-08'),\n",
    "    (1, 2, 40, '2022-01-09'),\n",
    "    (2, 1, 45, '2022-01-06'),\n",
    "    (2, 1, 55, '2022-01-07'),\n",
    "    (2, 2, 45, '2022-01-08'),\n",
    "    (2, 2, 48, '2022-01-09'),\n",
    "    (2, 2, 35, '2022-01-10'),\n",
    "    (2, 2, 52, '2022-01-15'),\n",
    "    (2, 2, 23, '2022-01-16')\n",
    "], schema=schema)\n",
    "\n",
    "stock = stock.withColumn(\"record_date\", col(\"record_date\").cast('date'))\n",
    "\n",
    "stock.show()\n",
    "stock.printSchema()"
   ]
  },
  {
   "cell_type": "code",
   "execution_count": 0,
   "metadata": {
    "application/vnd.databricks.v1+cell": {
     "cellMetadata": {
      "byteLimit": 2048000,
      "rowLimit": 10000
     },
     "inputWidgets": {},
     "nuid": "eab66330-0311-4acd-b47d-29943df7a063",
     "showTitle": false,
     "tableResultSettingsMap": {},
     "title": ""
    }
   },
   "outputs": [
    {
     "output_type": "stream",
     "name": "stdout",
     "output_type": "stream",
     "text": [
      "+-----------+----------+------+--------------+----------+----------+\n|supplier_id|product_id|grp_id|num_of_records|start_date|  end_date|\n+-----------+----------+------+--------------+----------+----------+\n|          1|         1|     0|             3|2022-01-02|2022-01-04|\n|          1|         1|     1|             2|2022-01-10|2022-01-11|\n|          1|         1|     2|             2|2022-01-15|2022-01-16|\n|          1|         2|     0|             2|2022-01-08|2022-01-09|\n|          2|         2|     0|             3|2022-01-08|2022-01-10|\n+-----------+----------+------+--------------+----------+----------+\n\n"
     ]
    }
   ],
   "source": [
    "stock.filter(col(\"stock_quantity\") <= 50) \\\n",
    "    .drop(\"stock_quantity\") \\\n",
    "    .withColumn(\"prev_date\", lag(\"record_date\").over(Window.partitionBy(\"supplier_id\", \"product_id\").orderBy(\"record_date\")) ) \\\n",
    "    .withColumn(\"date_diff\", datediff(col(\"record_date\"), col(\"prev_date\"))) \\\n",
    "    .withColumn(\"grp_flag\", when( ((col(\"date_diff\") == 1) | (col(\"date_diff\").isNull())), 0).otherwise(1) ) \\\n",
    "    .withColumn(\"grp_id\", sum(\"grp_flag\").over(Window.partitionBy(\"supplier_id\", \"product_id\").orderBy(\"record_date\")))\\\n",
    "    .groupBy(\"supplier_id\", \"product_id\", \"grp_id\").agg(\n",
    "        count(\"*\").alias(\"num_of_records\")\n",
    "        ,min(\"record_date\").alias(\"start_date\")\n",
    "        ,max(\"record_date\").alias(\"end_date\")\n",
    "        ) \\\n",
    "    .filter(col(\"num_of_records\") >= 2) \\\n",
    "    .show()"
   ]
  }
 ],
 "metadata": {
  "application/vnd.databricks.v1+notebook": {
   "computePreferences": null,
   "dashboards": [],
   "environmentMetadata": {
    "base_environment": "",
    "environment_version": "1"
   },
   "inputWidgetPreferences": null,
   "language": "python",
   "notebookMetadata": {
    "pythonIndentUnit": 4
   },
   "notebookName": "16 Swiggy | DA",
   "widgets": {}
  }
 },
 "nbformat": 4,
 "nbformat_minor": 0
}
