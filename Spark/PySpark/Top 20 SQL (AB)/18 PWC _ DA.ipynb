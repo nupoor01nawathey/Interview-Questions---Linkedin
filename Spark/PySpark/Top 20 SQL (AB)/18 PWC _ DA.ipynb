{
 "cells": [
  {
   "cell_type": "code",
   "execution_count": 0,
   "metadata": {
    "application/vnd.databricks.v1+cell": {
     "cellMetadata": {
      "byteLimit": 2048000,
      "rowLimit": 10000
     },
     "inputWidgets": {},
     "nuid": "16be36b2-df85-4266-baff-932e9d1f085e",
     "showTitle": false,
     "tableResultSettingsMap": {},
     "title": ""
    }
   },
   "outputs": [
    {
     "output_type": "stream",
     "name": "stdout",
     "output_type": "stream",
     "text": [
      "+----+------+\n|s_id|s_name|\n+----+------+\n|   1|     A|\n|   2|     B|\n|   3|     C|\n|   4|     D|\n+----+------+\n\n+----+------+\n|t_id|t_name|\n+----+------+\n|   1|     A|\n|   2|     B|\n|   4|     X|\n|   5|     F|\n+----+------+\n\n"
     ]
    }
   ],
   "source": [
    "\"\"\"\n",
    "https://www.youtube.com/watch?v=J9wwR4huimI\n",
    "\n",
    "This is somewhat similar to SCD type 1\n",
    "Common ids should be excluded from output\n",
    "1,2 -- common so exclude\n",
    "4 is mismatch\n",
    "3 is new in source\n",
    "5 is new in target\n",
    "\"\"\"\n",
    "\n",
    "from pyspark.sql.functions import *\n",
    "from pyspark.sql.window import *\n",
    "from pyspark.sql import SparkSession\n",
    "\n",
    "spark = SparkSession.builder.getOrCreate()\n",
    "\n",
    "source = spark.createDataFrame([\n",
    "    (1,'A'),\n",
    "    (2,'B'),\n",
    "    (3,'C'),\n",
    "    (4,'D')\n",
    "], [\"s_id\", \"s_name\"])\n",
    "\n",
    "target = spark.createDataFrame([\n",
    "    (1,'A'),\n",
    "    (2,'B'),\n",
    "    (4,'X'),\n",
    "    (5,'F')\n",
    "], [\"t_id\", \"t_name\"]) \n",
    "\n",
    "source.show()\n",
    "target.show()"
   ]
  },
  {
   "cell_type": "code",
   "execution_count": 0,
   "metadata": {
    "application/vnd.databricks.v1+cell": {
     "cellMetadata": {
      "byteLimit": 2048000,
      "rowLimit": 10000
     },
     "inputWidgets": {},
     "nuid": "019d35a2-0f01-4be5-a737-93502b08b056",
     "showTitle": false,
     "tableResultSettingsMap": {},
     "title": ""
    }
   },
   "outputs": [
    {
     "output_type": "stream",
     "name": "stdout",
     "output_type": "stream",
     "text": [
      "+----+-------------+\n|s_id|     comment_|\n+----+-------------+\n|   3|new in source|\n|   4|   mismatched|\n|   5|new in target|\n+----+-------------+\n\n"
     ]
    }
   ],
   "source": [
    "source.join(target, source[\"s_id\"]==target[\"t_id\"], \"outer\") \\\n",
    "    .withColumn(\"comment_\", when(col(\"s_name\")==col(\"t_name\"), \"exclude\").when(col(\"t_name\").isNull(), \"new in source\").when(col(\"s_name\").isNull(), \"new in target\").when(col(\"s_name\")!=col(\"t_name\"), \"mismatched\")) \\\n",
    "    .withColumn(\"s_id\", when(col(\"s_id\").isNull(), col(\"t_id\")).otherwise(col(\"s_id\")))\\\n",
    "    .select(\"s_id\", \"comment_\") \\\n",
    "    .filter(col(\"comment_\") != \"exclude\") \\\n",
    "    .show()"
   ]
  }
 ],
 "metadata": {
  "application/vnd.databricks.v1+notebook": {
   "computePreferences": null,
   "dashboards": [],
   "environmentMetadata": {
    "base_environment": "",
    "environment_version": "1"
   },
   "inputWidgetPreferences": null,
   "language": "python",
   "notebookMetadata": {
    "pythonIndentUnit": 4
   },
   "notebookName": "18 PWC | DA",
   "widgets": {}
  }
 },
 "nbformat": 4,
 "nbformat_minor": 0
}