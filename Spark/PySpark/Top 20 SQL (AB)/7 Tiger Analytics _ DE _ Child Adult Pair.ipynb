{
 "cells": [
  {
   "cell_type": "code",
   "execution_count": 0,
   "metadata": {
    "application/vnd.databricks.v1+cell": {
     "cellMetadata": {
      "byteLimit": 2048000,
      "rowLimit": 10000
     },
     "inputWidgets": {},
     "nuid": "32297861-8c72-4340-a016-366d94f0b682",
     "showTitle": false,
     "tableResultSettingsMap": {},
     "title": ""
    }
   },
   "outputs": [
    {
     "output_type": "stream",
     "name": "stdout",
     "output_type": "stream",
     "text": [
      "+------+-----+---+\n|person| type|age|\n+------+-----+---+\n|    A1|Adult| 54|\n|    A2|Adult| 53|\n|    A3|Adult| 52|\n|    A4|Adult| 58|\n|    A5|Adult| 54|\n|    C1|Child| 20|\n|    C2|Child| 19|\n|    C3|Child| 22|\n|    C4|Child| 15|\n+------+-----+---+\n\nroot\n |-- person: string (nullable = true)\n |-- type: string (nullable = true)\n |-- age: integer (nullable = true)\n\n"
     ]
    }
   ],
   "source": [
    "\"\"\"\n",
    "https://www.youtube.com/watch?v=02XLUeIVRSE&list=PLBTZqjSKn0IfuIqbMIqzS-waofsPHMS0E&index=17\n",
    "Child Adult Pair, Assuming there are always more number of adults than children and adult,child all are sorted\n",
    "\"\"\"\n",
    "\n",
    "from pyspark.sql import SparkSession\n",
    "from pyspark.sql.functions import *\n",
    "from pyspark.sql.types import *\n",
    "from pyspark.sql.window import Window\n",
    "\n",
    "data = [\n",
    "        ('A1','Adult',54),\n",
    "        ('A2','Adult',53),\n",
    "        ('A3','Adult',52),\n",
    "        ('A4','Adult',58),\n",
    "        ('A5','Adult',54),\n",
    "        ('C1','Child',20),\n",
    "        ('C2','Child',19),\n",
    "        ('C3','Child',22),\n",
    "        ('C4','Child',15)\n",
    "]\n",
    "\n",
    "schema = StructType([\n",
    "    StructField(\"person\", StringType()),\n",
    "    StructField(\"type\", StringType()),\n",
    "    StructField(\"age\", IntegerType())\n",
    "])\n",
    "\n",
    "df = spark.createDataFrame(data=data, schema=schema)\n",
    "df.show()\n",
    "df.printSchema()"
   ]
  },
  {
   "cell_type": "code",
   "execution_count": 0,
   "metadata": {
    "application/vnd.databricks.v1+cell": {
     "cellMetadata": {
      "byteLimit": 2048000,
      "rowLimit": 10000
     },
     "inputWidgets": {},
     "nuid": "063198e0-cd08-451e-a57a-0b84fe28cf27",
     "showTitle": false,
     "tableResultSettingsMap": {},
     "title": ""
    }
   },
   "outputs": [
    {
     "output_type": "stream",
     "name": "stdout",
     "output_type": "stream",
     "text": [
      "+--------+-----+---+----+\n|person_a| type|age|rn_a|\n+--------+-----+---+----+\n|      A1|Adult| 54|   1|\n|      A2|Adult| 53|   2|\n|      A3|Adult| 52|   3|\n|      A4|Adult| 58|   4|\n|      A5|Adult| 54|   5|\n+--------+-----+---+----+\n\n+--------+-----+---+----+\n|person_c| type|age|rn_c|\n+--------+-----+---+----+\n|      C1|Child| 20|   1|\n|      C2|Child| 19|   2|\n|      C3|Child| 22|   3|\n|      C4|Child| 15|   4|\n+--------+-----+---+----+\n\n"
     ]
    }
   ],
   "source": [
    "adult_df = df.filter(col(\"type\") == \"Adult\")\\\n",
    "    .withColumnRenamed(\"person\", \"person_a\")\\\n",
    "    .withColumn(\"rn_a\", row_number().over(Window.orderBy(\"person_a\")))\n",
    "adult_df.show()\n",
    "\n",
    "child_df = df.filter(col(\"type\") == \"Child\")\\\n",
    "    .withColumnRenamed(\"person\", \"person_c\")\\\n",
    "    .withColumn(\"rn_c\", row_number().over(Window.orderBy(\"person_c\")))\n",
    "child_df.show()"
   ]
  },
  {
   "cell_type": "code",
   "execution_count": 0,
   "metadata": {
    "application/vnd.databricks.v1+cell": {
     "cellMetadata": {
      "byteLimit": 2048000,
      "rowLimit": 10000
     },
     "inputWidgets": {},
     "nuid": "09bf1cec-5ed5-4fe7-a377-60be782cd009",
     "showTitle": false,
     "tableResultSettingsMap": {},
     "title": ""
    }
   },
   "outputs": [
    {
     "output_type": "stream",
     "name": "stdout",
     "output_type": "stream",
     "text": [
      "+--------+--------+\n|person_a|person_c|\n+--------+--------+\n|      A1|      C1|\n|      A2|      C2|\n|      A3|      C3|\n|      A4|      C4|\n|      A5|    null|\n+--------+--------+\n\n"
     ]
    }
   ],
   "source": [
    "adult_df.join(child_df, adult_df[\"rn_a\"]==child_df[\"rn_c\"], \"left\") \\\n",
    "    .select(\"person_a\", \"person_c\") \\\n",
    "    .show()"
   ]
  },
  {
   "cell_type": "code",
   "execution_count": 0,
   "metadata": {
    "application/vnd.databricks.v1+cell": {
     "cellMetadata": {
      "byteLimit": 2048000,
      "rowLimit": 10000
     },
     "inputWidgets": {},
     "nuid": "865d0b55-bd3f-4d04-9f23-46dfaebf8cf5",
     "showTitle": false,
     "tableResultSettingsMap": {},
     "title": ""
    }
   },
   "outputs": [
    {
     "output_type": "stream",
     "name": "stdout",
     "output_type": "stream",
     "text": [
      "+--------+-----+---+----+\n|person_a| type|age|rn_a|\n+--------+-----+---+----+\n|      A4|Adult| 58|   1|\n|      A1|Adult| 54|   2|\n|      A5|Adult| 54|   3|\n|      A2|Adult| 53|   4|\n|      A3|Adult| 52|   5|\n+--------+-----+---+----+\n\n+--------+-----+---+----+\n|person_c| type|age|rn_c|\n+--------+-----+---+----+\n|      C4|Child| 15|   1|\n|      C2|Child| 19|   2|\n|      C1|Child| 20|   3|\n|      C3|Child| 22|   4|\n+--------+-----+---+----+\n\n"
     ]
    }
   ],
   "source": [
    "\"\"\"\n",
    "Tweak the problem, consider max aged adult with youngest child\n",
    "\"\"\"\n",
    "adult_df = df.filter(col(\"type\") == \"Adult\")\\\n",
    "    .withColumnRenamed(\"person\", \"person_a\")\\\n",
    "    .withColumn(\"rn_a\", row_number().over(Window.orderBy(desc(col(\"age\")))))\n",
    "adult_df.show()\n",
    "\n",
    "child_df = df.filter(col(\"type\") == \"Child\")\\\n",
    "    .withColumnRenamed(\"person\", \"person_c\")\\\n",
    "    .withColumn(\"rn_c\", row_number().over(Window.orderBy(col(\"age\"))))\n",
    "child_df.show()\n"
   ]
  },
  {
   "cell_type": "code",
   "execution_count": 0,
   "metadata": {
    "application/vnd.databricks.v1+cell": {
     "cellMetadata": {
      "byteLimit": 2048000,
      "rowLimit": 10000
     },
     "inputWidgets": {},
     "nuid": "fabe2c22-bfe0-43d5-95b1-7b5ae1f7b0f9",
     "showTitle": false,
     "tableResultSettingsMap": {},
     "title": ""
    }
   },
   "outputs": [
    {
     "output_type": "stream",
     "name": "stdout",
     "output_type": "stream",
     "text": [
      "+--------+-----+---+--------+-----+----+\n|person_a| type|age|person_c| type| age|\n+--------+-----+---+--------+-----+----+\n|      A4|Adult| 58|      C4|Child|  15|\n|      A1|Adult| 54|      C2|Child|  19|\n|      A5|Adult| 54|      C1|Child|  20|\n|      A2|Adult| 53|      C3|Child|  22|\n|      A3|Adult| 52|    null| null|null|\n+--------+-----+---+--------+-----+----+\n\n"
     ]
    }
   ],
   "source": [
    "adult_df.join(child_df, adult_df[\"rn_a\"]==child_df[\"rn_c\"], \"left\") \\\n",
    "    .select(\"rn_a\", \"rn_c\") \\\n",
    "    .show()"
   ]
  }
 ],
 "metadata": {
  "application/vnd.databricks.v1+notebook": {
   "computePreferences": null,
   "dashboards": [],
   "environmentMetadata": {
    "base_environment": "",
    "environment_version": "1"
   },
   "inputWidgetPreferences": null,
   "language": "python",
   "notebookMetadata": {
    "pythonIndentUnit": 4
   },
   "notebookName": "7 Tiger Analytics | DE | Child Adult Pair",
   "widgets": {}
  }
 },
 "nbformat": 4,
 "nbformat_minor": 0
}