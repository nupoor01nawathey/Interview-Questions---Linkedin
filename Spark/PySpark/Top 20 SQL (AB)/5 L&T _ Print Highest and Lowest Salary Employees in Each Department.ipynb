{
 "cells": [
  {
   "cell_type": "code",
   "execution_count": 0,
   "metadata": {
    "application/vnd.databricks.v1+cell": {
     "cellMetadata": {
      "byteLimit": 2048000,
      "rowLimit": 10000
     },
     "inputWidgets": {},
     "nuid": "d17fa93a-a1f9-479e-a965-989dc5638628",
     "showTitle": false,
     "tableResultSettingsMap": {},
     "title": ""
    }
   },
   "outputs": [
    {
     "output_type": "stream",
     "name": "stdout",
     "output_type": "stream",
     "text": [
      "+--------+------+------+\n|emp_name|dep_id|salary|\n+--------+------+------+\n|    Siva|     1| 30000|\n|    Ravi|     2| 40000|\n|  Prasad|     1| 50000|\n|     Sai|     2| 20000|\n+--------+------+------+\n\nroot\n |-- emp_name: string (nullable = true)\n |-- dep_id: integer (nullable = true)\n |-- salary: integer (nullable = true)\n\n"
     ]
    }
   ],
   "source": [
    "\"\"\"\n",
    "https://www.youtube.com/watch?v=7W7B0y5WsaQ\n",
    "Write a sql query to print Highest and Lowest Salary Employees in Each Department\n",
    "\"\"\"\n",
    "\n",
    "from pyspark.sql import SparkSession\n",
    "from pyspark.sql.functions import *\n",
    "from pyspark.sql.types import *\n",
    "from pyspark.sql.window import Window\n",
    "\n",
    "spark = SparkSession.builder.getOrCreate()\n",
    "\n",
    "data = [\n",
    "      ('Siva',1,30000),\n",
    "      ('Ravi',2,40000),\n",
    "      ('Prasad',1,50000),\n",
    "      ('Sai',2,20000) \n",
    "    ]\n",
    "\n",
    "schema = StructType(\n",
    "    [\n",
    "        StructField(\"emp_name\", StringType()),\n",
    "        StructField(\"dep_id\", IntegerType()),\n",
    "        StructField(\"salary\", IntegerType())\n",
    "    ]\n",
    ")\n",
    "\n",
    "df = spark.createDataFrame(data=data, schema=schema)\n",
    "df.show()\n",
    "df.printSchema()"
   ]
  },
  {
   "cell_type": "code",
   "execution_count": 0,
   "metadata": {
    "application/vnd.databricks.v1+cell": {
     "cellMetadata": {
      "byteLimit": 2048000,
      "rowLimit": 10000
     },
     "inputWidgets": {},
     "nuid": "ae69987c-3e87-42e3-b773-0db5762f1958",
     "showTitle": false,
     "tableResultSettingsMap": {},
     "title": ""
    }
   },
   "outputs": [
    {
     "output_type": "stream",
     "name": "stdout",
     "output_type": "stream",
     "text": [
      "+------+-----------+-----------+\n|dep_id|max_sal_emp|min_sal_emp|\n+------+-----------+-----------+\n|     1|     Prasad|       Siva|\n|     2|       Ravi|        Sai|\n+------+-----------+-----------+\n\n"
     ]
    }
   ],
   "source": [
    "df.withColumn(\"max_salary\", max(\"salary\").over(Window.partitionBy(\"dep_id\").orderBy(desc(\"salary\")))) \\\n",
    "    .withColumn(\"min_salary\", min(\"salary\").over(Window.partitionBy(\"dep_id\").orderBy(\"salary\"))) \\\n",
    "    .withColumn(\"max_sal_emp\", when(col(\"max_salary\") == col(\"salary\"), col(\"emp_name\")).otherwise(None)) \\\n",
    "    .withColumn(\"min_sal_emp\", when(col(\"min_salary\") == col(\"salary\"), col(\"emp_name\")).otherwise(None)) \\\n",
    "    .groupBy(\"dep_id\").agg(max(\"max_sal_emp\").alias(\"max_sal_emp\"), max(\"min_sal_emp\").alias(\"min_sal_emp\")) \\\n",
    "    .show()"
   ]
  }
 ],
 "metadata": {
  "application/vnd.databricks.v1+notebook": {
   "computePreferences": null,
   "dashboards": [],
   "environmentMetadata": {
    "base_environment": "",
    "environment_version": "1"
   },
   "inputWidgetPreferences": null,
   "language": "python",
   "notebookMetadata": {
    "pythonIndentUnit": 4
   },
   "notebookName": "5 L&T | Print Highest and Lowest Salary Employees in Each Department",
   "widgets": {}
  }
 },
 "nbformat": 4,
 "nbformat_minor": 0
}