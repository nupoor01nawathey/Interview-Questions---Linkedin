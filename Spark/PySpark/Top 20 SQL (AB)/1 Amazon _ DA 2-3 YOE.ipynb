{
 "cells": [
  {
   "cell_type": "code",
   "execution_count": 0,
   "metadata": {
    "application/vnd.databricks.v1+cell": {
     "cellMetadata": {
      "byteLimit": 2048000,
      "rowLimit": 10000
     },
     "inputWidgets": {},
     "nuid": "c41e3f80-39af-42da-bad1-fd065c442177",
     "showTitle": false,
     "tableResultSettingsMap": {},
     "title": ""
    }
   },
   "outputs": [
    {
     "output_type": "stream",
     "name": "stdout",
     "output_type": "stream",
     "text": [
      "+------+------+-------------------+\n|emp_id|action|               time|\n+------+------+-------------------+\n|     1|    in|2019-12-22 09:00:00|\n|     1|   out|2019-12-22 09:15:00|\n|     2|    in|2019-12-22 09:00:00|\n|     2|   out|2019-12-22 09:15:00|\n|     2|    in|2019-12-22 09:30:00|\n|     3|   out|2019-12-22 09:00:00|\n|     3|    in|2019-12-22 09:15:00|\n|     3|   out|2019-12-22 09:30:00|\n|     3|    in|2019-12-22 09:45:00|\n|     4|    in|2019-12-22 09:45:00|\n|     5|   out|2019-12-22 09:40:00|\n+------+------+-------------------+\n\nroot\n |-- emp_id: integer (nullable = true)\n |-- action: string (nullable = true)\n |-- time: timestamp (nullable = true)\n\n"
     ]
    }
   ],
   "source": [
    "\"\"\"\n",
    "1. Amazon SQL Interview Question for Data Analyst Position [2-3 Year Of Experience ] | Data Analytics\n",
    "https://lnkd.in/g2RzsKdq\n",
    "\n",
    "Write a solution to find total number of people present inside the hospital\n",
    "\"\"\"\n",
    "\n",
    "from pyspark.sql.functions import *\n",
    "from pyspark.sql.types import *\n",
    "\n",
    "data = [\n",
    "    (1, 'in', '2019-12-22 09:00:00'),\n",
    "    (1, 'out', '2019-12-22 09:15:00'),\n",
    "    (2, 'in', '2019-12-22 09:00:00'),\n",
    "    (2, 'out', '2019-12-22 09:15:00'),\n",
    "    (2, 'in', '2019-12-22 09:30:00'),\n",
    "    (3, 'out', '2019-12-22 09:00:00'),\n",
    "    (3, 'in', '2019-12-22 09:15:00'),\n",
    "    (3, 'out', '2019-12-22 09:30:00'),\n",
    "    (3, 'in', '2019-12-22 09:45:00'),\n",
    "    (4, 'in', '2019-12-22 09:45:00'),\n",
    "    (5, 'out', '2019-12-22 09:40:00')\n",
    "]\n",
    "\n",
    "schema = StructType(\n",
    "    [\n",
    "        StructField(\"emp_id\", IntegerType()),\n",
    "        StructField(\"action\", StringType()),\n",
    "        StructField(\"time\", StringType())\n",
    "    ]\n",
    ")\n",
    "\n",
    "df = spark.createDataFrame(data=data, schema=schema).withColumn(\"time\", col(\"time\").cast(TimestampType()))\n",
    "\n",
    "df.show()\n",
    "df.printSchema()"
   ]
  },
  {
   "cell_type": "code",
   "execution_count": 0,
   "metadata": {
    "application/vnd.databricks.v1+cell": {
     "cellMetadata": {
      "byteLimit": 2048000,
      "rowLimit": 10000
     },
     "inputWidgets": {},
     "nuid": "d68bc3c1-c4f5-4a2f-8487-1bc53c3a7f91",
     "showTitle": false,
     "tableResultSettingsMap": {},
     "title": ""
    }
   },
   "outputs": [
    {
     "output_type": "stream",
     "name": "stdout",
     "output_type": "stream",
     "text": [
      "+------+\n|emp_id|\n+------+\n|     2|\n|     3|\n|     4|\n+------+\n\n"
     ]
    }
   ],
   "source": [
    "from pyspark.sql.window import Window\n",
    "\n",
    "df.withColumn(\"dr\", dense_rank().over(Window.partitionBy(col(\"emp_id\")).orderBy(desc(col(\"time\"))))) \\\n",
    "    .filter((col(\"dr\") == 1) & (col(\"action\") == \"in\")) \\\n",
    "    .select(\"emp_id\") \\\n",
    "    .show()"
   ]
  }
 ],
 "metadata": {
  "application/vnd.databricks.v1+notebook": {
   "computePreferences": null,
   "dashboards": [],
   "environmentMetadata": {
    "base_environment": "",
    "environment_version": "1"
   },
   "inputWidgetPreferences": null,
   "language": "python",
   "notebookMetadata": {
    "pythonIndentUnit": 4
   },
   "notebookName": "1 Amazon | DA 2-3 YOE",
   "widgets": {}
  }
 },
 "nbformat": 4,
 "nbformat_minor": 0
}