{
 "cells": [
  {
   "cell_type": "code",
   "execution_count": 0,
   "metadata": {
    "application/vnd.databricks.v1+cell": {
     "cellMetadata": {
      "byteLimit": 2048000,
      "rowLimit": 10000
     },
     "inputWidgets": {},
     "nuid": "4e86ff98-d342-4588-8fde-6707ad29473c",
     "showTitle": false,
     "tableResultSettingsMap": {},
     "title": ""
    }
   },
   "outputs": [
    {
     "output_type": "stream",
     "name": "stdout",
     "output_type": "stream",
     "text": [
      "+------+--------+---------+---------+\n|teamID|memberID|Criteria1|Criteria2|\n+------+--------+---------+---------+\n|    T1| T1_mbr1|        Y|        Y|\n|    T1| T1_mbr2|        Y|        Y|\n|    T1| T1_mbr3|        Y|        Y|\n|    T1| T1_mbr4|        Y|        Y|\n|    T1| T1_mbr5|        Y|        N|\n|    T2| T2_mbr1|        Y|        Y|\n|    T2| T2_mbr2|        Y|        N|\n|    T2| T2_mbr3|        N|        Y|\n|    T2| T2_mbr4|        N|        N|\n|    T2| T2_mbr5|        N|        N|\n|    T3| T3_mbr1|        Y|        Y|\n|    T3| T3_mbr2|        Y|        Y|\n|    T3| T3_mbr3|        N|        Y|\n|    T3| T3_mbr4|        N|        Y|\n|    T3| T3_mbr5|        Y|        N|\n+------+--------+---------+---------+\n\nroot\n |-- teamID: string (nullable = true)\n |-- memberID: string (nullable = true)\n |-- Criteria1: string (nullable = true)\n |-- Criteria2: string (nullable = true)\n\n"
     ]
    }
   ],
   "source": [
    "\"\"\"\n",
    "https://www.youtube.com/watch?v=KWOZ9VoVFac&t=1s\n",
    "If Criteria1, Criteria2 both are Y and a min of 2 team members should have Y then the output should be Y else N\n",
    "\"\"\"\n",
    "\n",
    "from pyspark.sql import SparkSession\n",
    "from pyspark.sql.functions import *\n",
    "from pyspark.sql.window import Window\n",
    "\n",
    "spark = SparkSession.builder.getOrCreate()\n",
    "\n",
    "df = spark.createDataFrame(\n",
    "  [\n",
    "    ('T1','T1_mbr1','Y','Y'),\n",
    "    ('T1','T1_mbr2','Y','Y'),\n",
    "    ('T1','T1_mbr3','Y','Y'),\n",
    "    ('T1','T1_mbr4','Y','Y'),\n",
    "    ('T1','T1_mbr5','Y','N'),\n",
    "    ('T2','T2_mbr1','Y','Y'),\n",
    "    ('T2','T2_mbr2','Y','N'),\n",
    "    ('T2','T2_mbr3','N','Y'),\n",
    "    ('T2','T2_mbr4','N','N'),\n",
    "    ('T2','T2_mbr5','N','N'),\n",
    "    ('T3','T3_mbr1','Y','Y'),\n",
    "    ('T3','T3_mbr2','Y','Y'),\n",
    "    ('T3','T3_mbr3','N','Y'),\n",
    "    ('T3','T3_mbr4','N','Y'),\n",
    "    ('T3','T3_mbr5','Y','N')\n",
    "  ], [ \"teamID\", \"memberID\", \"Criteria1\", \"Criteria2\" ]\n",
    ")\n",
    "\n",
    "df.show()\n",
    "df.printSchema()"
   ]
  },
  {
   "cell_type": "code",
   "execution_count": 0,
   "metadata": {
    "application/vnd.databricks.v1+cell": {
     "cellMetadata": {
      "byteLimit": 2048000,
      "rowLimit": 10000
     },
     "inputWidgets": {},
     "nuid": "3d692260-02d6-4c29-a5ef-b3dbb275da9d",
     "showTitle": false,
     "tableResultSettingsMap": {},
     "title": ""
    }
   },
   "outputs": [
    {
     "output_type": "stream",
     "name": "stdout",
     "output_type": "stream",
     "text": [
      "+------+---------------+\n|teamID|total_qualified|\n+------+---------------+\n|    T1|              4|\n|    T3|              2|\n+------+---------------+\n\n+------+--------+---------+---------+----------+\n|teamID|memberID|Criteria1|Criteria2|qualified_|\n+------+--------+---------+---------+----------+\n|    T1| T1_mbr1|        Y|        Y|         Y|\n|    T1| T1_mbr2|        Y|        Y|         Y|\n|    T1| T1_mbr3|        Y|        Y|         Y|\n|    T1| T1_mbr4|        Y|        Y|         Y|\n|    T1| T1_mbr5|        Y|        N|         N|\n|    T2| T2_mbr1|        Y|        Y|         N|\n|    T2| T2_mbr2|        Y|        N|         N|\n|    T2| T2_mbr3|        N|        Y|         N|\n|    T2| T2_mbr4|        N|        N|         N|\n|    T3| T3_mbr1|        Y|        Y|         Y|\n|    T2| T2_mbr5|        N|        N|         N|\n|    T3| T3_mbr2|        Y|        Y|         Y|\n|    T3| T3_mbr3|        N|        Y|         N|\n|    T3| T3_mbr4|        N|        Y|         N|\n|    T3| T3_mbr5|        Y|        N|         N|\n+------+--------+---------+---------+----------+\n\n"
     ]
    }
   ],
   "source": [
    "\n",
    "qualified_df = df.filter( (col(\"Criteria1\") == \"Y\") & (col(\"Criteria2\") == \"Y\") ) \\\n",
    "    .groupBy(\"teamID\").agg(count(\"teamID\").alias(\"total_qualified\")) \\\n",
    "    .filter(col(\"total_qualified\") >= 2)\n",
    "qualified_df.show()\n",
    "\n",
    "\n",
    "df.join(qualified_df, on=\"teamID\", how=\"left\") \\\n",
    "    .withColumn( \"qualified_\", when( (col(\"Criteria1\") == \"Y\") & (col(\"Criteria2\") == \"Y\") & (col(\"total_qualified\").isNotNull()), \"Y\").otherwise(\"N\") ) \\\n",
    "    .drop(\"total_qualified\") \\\n",
    "    .show()"
   ]
  }
 ],
 "metadata": {
  "application/vnd.databricks.v1+notebook": {
   "computePreferences": null,
   "dashboards": [],
   "environmentMetadata": {
    "base_environment": "",
    "environment_version": "1"
   },
   "inputWidgetPreferences": null,
   "language": "python",
   "notebookMetadata": {
    "pythonIndentUnit": 4
   },
   "notebookName": "6 Ameriprise LLC Company | DA",
   "widgets": {}
  }
 },
 "nbformat": 4,
 "nbformat_minor": 0
}