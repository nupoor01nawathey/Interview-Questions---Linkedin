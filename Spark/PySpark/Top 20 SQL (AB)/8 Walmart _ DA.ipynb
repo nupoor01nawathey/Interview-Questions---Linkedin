{
 "cells": [
  {
   "cell_type": "code",
   "execution_count": 0,
   "metadata": {
    "application/vnd.databricks.v1+cell": {
     "cellMetadata": {
      "byteLimit": 2048000,
      "rowLimit": 10000
     },
     "inputWidgets": {},
     "nuid": "23659152-d568-4500-968e-101a58fd1c1b",
     "showTitle": false,
     "tableResultSettingsMap": {},
     "title": ""
    }
   },
   "outputs": [
    {
     "output_type": "stream",
     "name": "stdout",
     "output_type": "stream",
     "text": [
      "+--------+-----------+-----------------------+\n|Callerid|Recipientid|Datecalled             |\n+--------+-----------+-----------------------+\n|1       |2          |2019-01-01 09:00:00.000|\n|1       |3          |2019-01-01 17:00:00.000|\n|1       |4          |2019-01-01 23:00:00.000|\n|2       |5          |2019-07-05 09:00:00.000|\n|2       |3          |2019-07-05 17:00:00.000|\n|2       |3          |2019-07-05 17:20:00.000|\n|2       |5          |2019-07-05 23:00:00.000|\n|2       |3          |2019-08-01 09:00:00.000|\n|2       |3          |2019-08-01 17:00:00.000|\n|2       |5          |2019-08-01 19:30:00.000|\n|2       |4          |2019-08-02 09:00:00.000|\n|2       |5          |2019-08-02 10:00:00.000|\n|2       |5          |2019-08-02 10:45:00.000|\n|2       |4          |2019-08-02 11:00:00.000|\n+--------+-----------+-----------------------+\n\nroot\n |-- Callerid: long (nullable = true)\n |-- Recipientid: long (nullable = true)\n |-- Datecalled: string (nullable = true)\n\n"
     ]
    }
   ],
   "source": [
    "\"\"\"\n",
    "https://www.youtube.com/watch?v=3qEfsSC27_4\n",
    "You are provided with caller's phone log history. Write a SQL to find out callers whoes first and last call \n",
    "was to the same person on the same day.\n",
    "\"\"\"\n",
    "\n",
    "from pyspark.sql import SparkSession\n",
    "from pyspark.sql.functions import *\n",
    "from pyspark.sql.window import Window\n",
    "\n",
    "df = spark.createDataFrame(\n",
    "    [\n",
    "        (1, 2, '2019-01-01 09:00:00.000'),\n",
    "        (1, 3, '2019-01-01 17:00:00.000'),\n",
    "        (1, 4, '2019-01-01 23:00:00.000'),\n",
    "        (2, 5, '2019-07-05 09:00:00.000'),\n",
    "        (2, 3, '2019-07-05 17:00:00.000'),\n",
    "        (2, 3, '2019-07-05 17:20:00.000'),\n",
    "        (2, 5, '2019-07-05 23:00:00.000'),\n",
    "        (2, 3, '2019-08-01 09:00:00.000'),\n",
    "        (2, 3, '2019-08-01 17:00:00.000'),\n",
    "        (2, 5, '2019-08-01 19:30:00.000'),\n",
    "        (2, 4, '2019-08-02 09:00:00.000'),\n",
    "        (2, 5, '2019-08-02 10:00:00.000'),\n",
    "        (2, 5, '2019-08-02 10:45:00.000'),\n",
    "        (2, 4, '2019-08-02 11:00:00.000')\n",
    "    ], [\"Callerid\", \"Recipientid\", \"Datecalled\"]\n",
    ")\n",
    "\n",
    "df.show(truncate=False)\n",
    "df.printSchema()"
   ]
  },
  {
   "cell_type": "code",
   "execution_count": 0,
   "metadata": {
    "application/vnd.databricks.v1+cell": {
     "cellMetadata": {
      "byteLimit": 2048000,
      "rowLimit": 10000
     },
     "inputWidgets": {},
     "nuid": "3d5776c9-41d4-42fa-b2d3-f1bcaa98417d",
     "showTitle": false,
     "tableResultSettingsMap": {},
     "title": ""
    }
   },
   "outputs": [
    {
     "output_type": "stream",
     "name": "stdout",
     "output_type": "stream",
     "text": [
      "+--------+-----------+-----------+-----------------------+-----------------------+\n|Callerid|called_date|Recipientid|first_call             |last_call              |\n+--------+-----------+-----------+-----------------------+-----------------------+\n|2       |2019-07-05 |5          |2019-07-05 09:00:00.000|2019-07-05 23:00:00.000|\n|2       |2019-08-02 |4          |2019-08-02 09:00:00.000|2019-08-02 11:00:00.000|\n+--------+-----------+-----------+-----------------------+-----------------------+\n\n"
     ]
    }
   ],
   "source": [
    "df.withColumn(\"called_date\", to_date(col(\"Datecalled\"))) \\\n",
    "    .withColumn(\"first_\", first(\"Recipientid\").over(Window.partitionBy(col(\"Callerid\"), col(\"called_date\")).orderBy(col(\"Datecalled\")))) \\\n",
    "    .withColumn(\"last_\", last(\"Recipientid\").over(Window.partitionBy(col(\"Callerid\"), col(\"called_date\")).orderBy(col(\"Datecalled\")).rowsBetween(Window.unboundedPreceding, Window.unboundedFollowing))) \\\n",
    "    .filter(col(\"first_\") == col(\"last_\")) \\\n",
    "    .groupBy(\"Callerid\", \"called_date\", \"first_\").agg(min(\"Datecalled\").alias(\"first_call\"), max(\"Datecalled\").alias(\"last_call\")) \\\n",
    "    .withColumnRenamed(\"first_\", \"Recipientid\") \\\n",
    "    .show(truncate=False)"
   ]
  },
  {
   "cell_type": "code",
   "execution_count": 0,
   "metadata": {
    "application/vnd.databricks.v1+cell": {
     "cellMetadata": {},
     "inputWidgets": {},
     "nuid": "2fe8ca0f-1fd4-4e30-a60e-345b54c77e5d",
     "showTitle": false,
     "tableResultSettingsMap": {},
     "title": ""
    }
   },
   "outputs": [],
   "source": [
    "#     .groupBy(\"Callerid\", \"Recipientid\", \"called_date\", \"first_\").agg(min(\"Datecalled\"), max(\"Datecalled\")) \\"
   ]
  }
 ],
 "metadata": {
  "application/vnd.databricks.v1+notebook": {
   "computePreferences": null,
   "dashboards": [],
   "environmentMetadata": {
    "base_environment": "",
    "environment_version": "1"
   },
   "inputWidgetPreferences": null,
   "language": "python",
   "notebookMetadata": {
    "pythonIndentUnit": 4
   },
   "notebookName": "8 Walmart | DA",
   "widgets": {}
  }
 },
 "nbformat": 4,
 "nbformat_minor": 0
}