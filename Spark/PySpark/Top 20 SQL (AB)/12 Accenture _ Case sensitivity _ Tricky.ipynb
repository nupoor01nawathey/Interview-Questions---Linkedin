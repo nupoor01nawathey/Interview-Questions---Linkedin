{
 "cells": [
  {
   "cell_type": "code",
   "execution_count": 0,
   "metadata": {
    "application/vnd.databricks.v1+cell": {
     "cellMetadata": {
      "byteLimit": 2048000,
      "rowLimit": 10000
     },
     "inputWidgets": {},
     "nuid": "61ea29dd-3d72-457f-a89c-d41b50e9bb40",
     "showTitle": false,
     "tableResultSettingsMap": {},
     "title": ""
    }
   },
   "outputs": [
    {
     "output_type": "stream",
     "name": "stdout",
     "output_type": "stream",
     "text": [
      "+-----------+--------------+-------------+\n|employee_id|employee_name |email_id     |\n+-----------+--------------+-------------+\n|101        |Liam Alton    |li.al@abc.com|\n|102        |Josh Day      |jo.da@abc.com|\n|103        |Sean Mann     |se.ma@abc.com|\n|104        |Evan Blake    |ev.bl@abc.com|\n|105        |Toby Scott    |jo.da@abc.com|\n|106        |Anjali Chouhan|JO.DA@ABC.COM|\n|107        |Ankit Bansal  |AN.BA@ABC.COM|\n+-----------+--------------+-------------+\n\nroot\n |-- employee_id: long (nullable = true)\n |-- employee_name: string (nullable = true)\n |-- email_id: string (nullable = true)\n\n"
     ]
    }
   ],
   "source": [
    "\"\"\"\n",
    "From the dup email ids (case sensitive), extract only emails with lowercase if duplicate emails exists.\n",
    "Expected Output: employee_id      107 104 102 105 101 103\n",
    "\"\"\"\n",
    "\n",
    "from pyspark.sql.functions import *\n",
    "from pyspark.sql.window import Window\n",
    "\n",
    "employees = spark.createDataFrame([\n",
    "    (101,'Liam Alton', 'li.al@abc.com'),\n",
    "    (102,'Josh Day', 'jo.da@abc.com'),\n",
    "    (103,'Sean Mann', 'se.ma@abc.com'),\n",
    "    (104,'Evan Blake', 'ev.bl@abc.com'),\n",
    "    (105,'Toby Scott', 'jo.da@abc.com'),\n",
    "    (106,'Anjali Chouhan', 'JO.DA@ABC.COM'),\n",
    "    (107,'Ankit Bansal', 'AN.BA@ABC.COM')\n",
    "], [\"employee_id\", \"employee_name\", \"email_id\"])\n",
    "\n",
    "employees.show(truncate=False)\n",
    "employees.printSchema()"
   ]
  },
  {
   "cell_type": "code",
   "execution_count": 0,
   "metadata": {
    "application/vnd.databricks.v1+cell": {
     "cellMetadata": {
      "byteLimit": 2048000,
      "rowLimit": 10000
     },
     "inputWidgets": {},
     "nuid": "7fe88084-991e-431f-a6ed-24bf7cb7fe31",
     "showTitle": false,
     "tableResultSettingsMap": {},
     "title": ""
    }
   },
   "outputs": [
    {
     "output_type": "stream",
     "name": "stdout",
     "output_type": "stream",
     "text": [
      "+-----------+-------------+-------------+\n|employee_id|employee_name|email_id     |\n+-----------+-------------+-------------+\n|107        |Ankit Bansal |AN.BA@ABC.COM|\n|104        |Evan Blake   |ev.bl@abc.com|\n|102        |Josh Day     |jo.da@abc.com|\n|105        |Toby Scott   |jo.da@abc.com|\n|101        |Liam Alton   |li.al@abc.com|\n|103        |Sean Mann    |se.ma@abc.com|\n+-----------+-------------+-------------+\n\n"
     ]
    }
   ],
   "source": [
    "employees.withColumn(\"lowercase_email_id\", lower(col(\"email_id\"))) \\\n",
    "    .withColumn(\"ascii_email_id\", ascii(col(\"email_id\"))) \\\n",
    "    .withColumn(\"rn\", rank().over(Window.partitionBy(\"lowercase_email_id\").orderBy(desc(col(\"ascii_email_id\"))))) \\\n",
    "    .filter(col(\"rn\") == 1) \\\n",
    "    .select(\"employee_id\", \"employee_name\", \"email_id\") \\\n",
    "    .show(truncate=False)"
   ]
  }
 ],
 "metadata": {
  "application/vnd.databricks.v1+notebook": {
   "computePreferences": null,
   "dashboards": [],
   "environmentMetadata": {
    "base_environment": "",
    "environment_version": "1"
   },
   "inputWidgetPreferences": null,
   "language": "python",
   "notebookMetadata": {
    "pythonIndentUnit": 4
   },
   "notebookName": "12 Accenture | Case sensitivity | Tricky",
   "widgets": {}
  }
 },
 "nbformat": 4,
 "nbformat_minor": 0
}