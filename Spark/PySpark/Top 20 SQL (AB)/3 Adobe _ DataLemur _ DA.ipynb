{
 "cells": [
  {
   "cell_type": "code",
   "execution_count": 30,
   "id": "ea951afe",
   "metadata": {},
   "outputs": [
    {
     "name": "stdout",
     "output_type": "stream",
     "text": [
      "+-----------+-------------+-------+\n",
      "|customer_id|      product|revenue|\n",
      "+-----------+-------------+-------+\n",
      "|        123|  Premier Pro|    100|\n",
      "|        123|    Photoshop|     50|\n",
      "|        123|After Effects|     50|\n",
      "|        234|  Illustrator|    200|\n",
      "|        234|          Pro|    100|\n",
      "+-----------+-------------+-------+\n",
      "\n",
      "root\n",
      " |-- customer_id: integer (nullable = true)\n",
      " |-- product: string (nullable = true)\n",
      " |-- revenue: integer (nullable = true)\n",
      "\n"
     ]
    }
   ],
   "source": [
    "\"\"\"\n",
    "3. Adobe Interesting SQL Interview Question | Solving Using 2 Approaches | Data Analytics\n",
    "https://lnkd.in/g_-_9ymd\n",
    "\n",
    "For every customer that bought Photoshop return a list of the customers and the total spent on all the products \n",
    "except for Photoshop products.\n",
    "\n",
    "Example: Customer_id 123 has Photoshop and other products purchased, we need to exclude Photoshop in total revenue.\n",
    "If a customer does not use Photoshop at all then exclude such customers.\n",
    "\"\"\"\n",
    "\n",
    "from pyspark.sql import SparkSession\n",
    "from pyspark.sql.functions import *\n",
    "from pyspark.sql.types import *\n",
    "\n",
    "spark = SparkSession.builder.getOrCreate()\n",
    "\n",
    "data = [    \n",
    "    ( 123, 'Premier Pro', 100), \n",
    "    ( 123, 'Photoshop', 50),\n",
    "    ( 123, 'After Effects', 50),\n",
    "    ( 234, 'Illustrator', 200),\n",
    "    ( 234, 'Pro', 100)\n",
    "]\n",
    "\n",
    "schema = StructType(\n",
    "    [\n",
    "        StructField(\"customer_id\", IntegerType()),\n",
    "        StructField(\"product\", StringType()),\n",
    "        StructField(\"revenue\", IntegerType())\n",
    "    ]\n",
    ")\n",
    "\n",
    "df = spark.createDataFrame(data=data, schema=schema)\n",
    "\n",
    "df.show()\n",
    "df.printSchema()\n"
   ]
  },
  {
   "cell_type": "code",
   "execution_count": 33,
   "id": "f5d0275e",
   "metadata": {},
   "outputs": [
    {
     "name": "stderr",
     "output_type": "stream",
     "text": [
      "[Stage 88:>                                                         (0 + 4) / 4]\r"
     ]
    },
    {
     "name": "stdout",
     "output_type": "stream",
     "text": [
      "+-----------+-------+\n",
      "|customer_id|revenue|\n",
      "+-----------+-------+\n",
      "|        123|    150|\n",
      "+-----------+-------+\n",
      "\n"
     ]
    },
    {
     "name": "stderr",
     "output_type": "stream",
     "text": [
      "                                                                                \r"
     ]
    }
   ],
   "source": [
    "df1 = df\n",
    "\n",
    "df2 = df.filter(col(\"product\") == \"Photoshop\").withColumnRenamed(\"customer_id\", \"customer_id_1\")\\\n",
    "    .withColumnRenamed(\"product\", \"product_1\")\\\n",
    "    .withColumnRenamed(\"revenue\", \"revenue_1\")\n",
    "\n",
    "df2.join(df1, df2[\"customer_id_1\"]==df1[\"customer_id\"], \"inner\")\\\n",
    "    .filter(col(\"product\") != \"Photoshop\")\\\n",
    "    .groupBy(\"customer_id\").agg(sum(\"revenue\").alias(\"revenue\"))\\\n",
    "    .show()\n"
   ]
  }
 ],
 "metadata": {
  "kernelspec": {
   "display_name": "Python 3 (ipykernel)",
   "language": "python",
   "name": "python3"
  },
  "language_info": {
   "codemirror_mode": {
    "name": "ipython",
    "version": 3
   },
   "file_extension": ".py",
   "mimetype": "text/x-python",
   "name": "python",
   "nbconvert_exporter": "python",
   "pygments_lexer": "ipython3",
   "version": "3.11.5"
  }
 },
 "nbformat": 4,
 "nbformat_minor": 5
}
