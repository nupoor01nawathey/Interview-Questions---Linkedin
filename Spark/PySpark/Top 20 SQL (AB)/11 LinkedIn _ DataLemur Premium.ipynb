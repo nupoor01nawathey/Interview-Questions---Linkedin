{
 "cells": [
  {
   "cell_type": "code",
   "execution_count": 0,
   "metadata": {
    "application/vnd.databricks.v1+cell": {
     "cellMetadata": {
      "byteLimit": 2048000,
      "rowLimit": 10000
     },
     "inputWidgets": {},
     "nuid": "9f4605ed-c2c9-4aca-9d7a-af7db32add40",
     "showTitle": false,
     "tableResultSettingsMap": {},
     "title": ""
    }
   },
   "outputs": [
    {
     "output_type": "stream",
     "name": "stdout",
     "output_type": "stream",
     "text": [
      "+----------+-------------+-----------------+\n|profile_id| profile_name|profile_followers|\n+----------+-------------+-----------------+\n|         1|   Nick Singh|            92000|\n|         2|  Zach Wilson|           199000|\n|         3|  Daliana Liu|           171000|\n|         4|   Ravit Jain|           107000|\n|         5|Vin Vashishta|           139000|\n|         6|      Susan W|            39000|\n+----------+-------------+-----------------+\n\n+-------------------+----------+\n|personal_profile_id|company_id|\n+-------------------+----------+\n|                  1|         4|\n|                  1|         9|\n|                  2|         2|\n|                  3|         1|\n|                  4|         3|\n|                  5|         6|\n|                  6|         5|\n+-------------------+----------+\n\n+------------+------------------------------+-----------------+\n|c_company_id|company_name                  |company_followers|\n+------------+------------------------------+-----------------+\n|1           |The Data Science Podcast      |8000             |\n|2           |Airbnb                        |700000           |\n|3           |The Ravit Show                |6000             |\n|4           |DataLemur                     |200              |\n|5           |YouTube                       |16000000         |\n|6           |DataScience.Vin               |4500             |\n|9           |Ace the data science interview|4479             |\n+------------+------------------------------+-----------------+\n\n"
     ]
    }
   ],
   "source": [
    "\"\"\"\n",
    "https://www.youtube.com/watch?v=TLE-xW9rZfQ&list=PLBTZqjSKn0IfuIqbMIqzS-waofsPHMS0E&index=8\n",
    "\n",
    "Output: profile_id 1, 3, 4, 5\n",
    "\n",
    "Problem statement: The linkedin creator team is looking for power creators who use their personal profile as a company or influencer page. If someone's Linkedin page has more followers than the company they work for, we can safely assume that person is a power creator. Write a query to return the IDs of these linkedin power creators. If there are multiple entries for company_id for each profile then get the max of company_followers\n",
    "\"\"\"\n",
    "\n",
    "from pyspark.sql.functions import *\n",
    "from pyspark.sql.window import Window\n",
    "\n",
    "personal_profile = spark.createDataFrame([\n",
    "    (1, 'Nick Singh', 92000),\n",
    "    (2, 'Zach Wilson', 199000),\n",
    "    (3, 'Daliana Liu', 171000),\n",
    "    (4, 'Ravit Jain', 107000),\n",
    "    (5, 'Vin Vashishta', 139000),\n",
    "    (6, 'Susan W', 39000)\n",
    "], [\"profile_id\", \"profile_name\", \"profile_followers\"])\n",
    "\n",
    "employee_company = spark.createDataFrame([\n",
    "    (1, 4),\n",
    "    (1, 9),\n",
    "    (2, 2),\n",
    "    (3, 1),\n",
    "    (4, 3),\n",
    "    (5, 6),\n",
    "    (6, 5)\n",
    "], [\"personal_profile_id\", \"company_id\"])\n",
    "\n",
    "company_pages = spark.createDataFrame([\n",
    "    (1, 'The Data Science Podcast', 8000),\n",
    "    (2, 'Airbnb', 700000),\n",
    "    (3, 'The Ravit Show', 6000),\n",
    "    (4, 'DataLemur', 200),\n",
    "    (5, 'YouTube', 16000000),\n",
    "    (6, 'DataScience.Vin', 4500),\n",
    "    (9, 'Ace the data science interview', 4479)\n",
    "], [\"c_company_id\", \"company_name\", \"company_followers\"])\n",
    "\n",
    "personal_profile.show()\n",
    "employee_company.show()\n",
    "company_pages.show(truncate=False)"
   ]
  },
  {
   "cell_type": "code",
   "execution_count": 0,
   "metadata": {
    "application/vnd.databricks.v1+cell": {
     "cellMetadata": {
      "byteLimit": 2048000,
      "rowLimit": 10000
     },
     "inputWidgets": {},
     "nuid": "b9a0f828-4d1f-4a27-a5ef-d89a650b67e9",
     "showTitle": false,
     "tableResultSettingsMap": {},
     "title": ""
    }
   },
   "outputs": [
    {
     "output_type": "stream",
     "name": "stdout",
     "output_type": "stream",
     "text": [
      "+----------+\n|profile_id|\n+----------+\n|1         |\n|3         |\n|4         |\n|5         |\n+----------+\n\n"
     ]
    }
   ],
   "source": [
    "personal_profile.join(employee_company, personal_profile[\"profile_id\"] == employee_company[\"personal_profile_id\"], \"inner\")\\\n",
    "    .join(company_pages, employee_company[\"company_id\"] == company_pages[\"c_company_id\"], \"inner\") \\\n",
    "    .select(\"profile_id\", \"profile_name\", \"profile_followers\", \"company_followers\") \\\n",
    "    .withColumn(\"max_company_followers\", max(\"company_followers\").over(Window.partitionBy(\"profile_id\"))) \\\n",
    "    .filter(col(\"profile_followers\") > col(\"max_company_followers\")) \\\n",
    "    .select(\"profile_id\").distinct()\\\n",
    "    .show(truncate=False) "
   ]
  }
 ],
 "metadata": {
  "application/vnd.databricks.v1+notebook": {
   "computePreferences": null,
   "dashboards": [],
   "environmentMetadata": {
    "base_environment": "",
    "environment_version": "1"
   },
   "inputWidgetPreferences": null,
   "language": "python",
   "notebookMetadata": {
    "pythonIndentUnit": 4
   },
   "notebookName": "11 LinkedIn | DataLemur Premium",
   "widgets": {}
  }
 },
 "nbformat": 4,
 "nbformat_minor": 0
}