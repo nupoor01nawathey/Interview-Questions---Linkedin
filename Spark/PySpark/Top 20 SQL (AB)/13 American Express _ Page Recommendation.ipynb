{
 "cells": [
  {
   "cell_type": "code",
   "execution_count": 0,
   "metadata": {
    "application/vnd.databricks.v1+cell": {
     "cellMetadata": {
      "byteLimit": 2048000,
      "rowLimit": 10000
     },
     "inputWidgets": {},
     "nuid": "84014b27-4bf7-4c62-a354-24d64e8ed6a0",
     "showTitle": false,
     "tableResultSettingsMap": {},
     "title": ""
    }
   },
   "outputs": [
    {
     "output_type": "stream",
     "name": "stdout",
     "output_type": "stream",
     "text": [
      "+-------+---------+\n|user_id|friend_id|\n+-------+---------+\n|      1|        2|\n|      1|        3|\n|      1|        4|\n|      2|        1|\n|      3|        1|\n|      3|        4|\n|      4|        1|\n|      4|        3|\n+-------+---------+\n\n+-------+-------+\n|user_id|page_id|\n+-------+-------+\n|      1|      A|\n|      1|      B|\n|      1|      C|\n|      2|      A|\n|      3|      B|\n|      3|      C|\n|      4|      B|\n+-------+-------+\n\n"
     ]
    }
   ],
   "source": [
    "\"\"\"\n",
    "Determine the user_ids and corresponding page_ids of the pages liked by their friend but not by user itself yet\n",
    "\"\"\"\n",
    "\n",
    "from pyspark.sql.functions import *\n",
    "from pyspark.sql.window import Window\n",
    "\n",
    "friends = spark.createDataFrame([\n",
    "    (1, 2),\n",
    "    (1, 3),\n",
    "    (1, 4),\n",
    "    (2, 1),\n",
    "    (3, 1),\n",
    "    (3, 4),\n",
    "    (4, 1),\n",
    "    (4, 3)\n",
    "], [\"user_id\", \"friend_id\"])\n",
    "\n",
    "likes = spark.createDataFrame([\n",
    "    (1, 'A'),\n",
    "    (1, 'B'),\n",
    "    (1, 'C'),\n",
    "    (2, 'A'),\n",
    "    (3, 'B'),\n",
    "    (3, 'C'),\n",
    "    (4, 'B')\n",
    "], [\"user_id\", \"page_id\"])\n",
    "\n",
    "friends.show()\n",
    "likes.show()"
   ]
  },
  {
   "cell_type": "code",
   "execution_count": 0,
   "metadata": {
    "application/vnd.databricks.v1+cell": {
     "cellMetadata": {
      "byteLimit": 2048000,
      "rowLimit": 10000
     },
     "inputWidgets": {},
     "nuid": "aa129bb0-c747-40f9-94d0-5f81ea093721",
     "showTitle": false,
     "tableResultSettingsMap": {},
     "title": ""
    }
   },
   "outputs": [
    {
     "output_type": "stream",
     "name": "stdout",
     "output_type": "stream",
     "text": [
      "+-------+---------+-------+\n|user_id|friend_id|page_id|\n+-------+---------+-------+\n|      2|        1|      B|\n|      2|        1|      C|\n|      3|        1|      A|\n|      4|        1|      A|\n|      4|        1|      C|\n|      4|        3|      C|\n+-------+---------+-------+\n\n"
     ]
    }
   ],
   "source": [
    "friends.createOrReplaceTempView(\"friends_tbl\")\n",
    "likes.createOrReplaceTempView(\"likes_tbl\")\n",
    "\n",
    "spark.sql(\"\"\"\n",
    "          SELECT f.*, l.page_id FROM friends_tbl f\n",
    "          INNER JOIN likes_tbl l ON f.friend_id = l.user_id\n",
    "          LEFT JOIN likes_tbl l1 ON f.user_id = l1.user_id AND l.page_id = l1.page_id \n",
    "          WHERE l1.page_id IS NULL\n",
    "          \"\"\").show()\n"
   ]
  }
 ],
 "metadata": {
  "application/vnd.databricks.v1+notebook": {
   "computePreferences": null,
   "dashboards": [],
   "environmentMetadata": {
    "base_environment": "",
    "environment_version": "1"
   },
   "inputWidgetPreferences": null,
   "language": "python",
   "notebookMetadata": {
    "pythonIndentUnit": 4
   },
   "notebookName": "13 American Express | Page Recommendation",
   "widgets": {}
  }
 },
 "nbformat": 4,
 "nbformat_minor": 0
}