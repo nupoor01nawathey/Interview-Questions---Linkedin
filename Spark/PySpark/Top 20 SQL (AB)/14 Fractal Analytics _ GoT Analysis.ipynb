{
 "cells": [
  {
   "cell_type": "code",
   "execution_count": 0,
   "metadata": {
    "application/vnd.databricks.v1+cell": {
     "cellMetadata": {
      "byteLimit": 2048000,
      "rowLimit": 10000
     },
     "inputWidgets": {},
     "nuid": "1d78993c-f38a-4b7f-b09b-84ce7d9588ea",
     "showTitle": false,
     "tableResultSettingsMap": {},
     "title": ""
    }
   },
   "outputs": [
    {
     "output_type": "stream",
     "name": "stdout",
     "output_type": "stream",
     "text": [
      "+----+-----------------+---------------+\n|k_no|king             |house          |\n+----+-----------------+---------------+\n|1   |Robb Stark       |House Stark    |\n|2   |Joffrey Baratheon|House Lannister|\n|3   |Stannis Baratheon|House Baratheon|\n|4   |Balon Greyjoy    |House Greyjoy  |\n|5   |Mace Tyrell      |House Tyrell   |\n|6   |Doran Martell    |House Martell  |\n+----+-----------------+---------------+\n\n+-------------+--------------------------+-------------+-------------+----------------+--------------+\n|battle_number|name                      |attacker_king|defender_king|attacker_outcome|region        |\n+-------------+--------------------------+-------------+-------------+----------------+--------------+\n|1            |Battle of Oxcross         |1            |2            |1               |The North     |\n|2            |Battle of Blackwater      |3            |4            |0               |The North     |\n|4            |Battle of the Green Fork  |2            |6            |0               |The Reach     |\n|5            |Battle of the Ruby Ford   |1            |3            |1               |The Riverlands|\n|6            |Battle of the Golden Tooth|2            |1            |0               |The North     |\n|7            |Battle of Riverrun        |3            |4            |1               |The Riverlands|\n|8            |Battle of Riverrun        |1            |3            |0               |The Riverlands|\n+-------------+--------------------------+-------------+-------------+----------------+--------------+\n\nroot\n |-- k_no: long (nullable = true)\n |-- king: string (nullable = true)\n |-- house: string (nullable = true)\n\nroot\n |-- battle_number: long (nullable = true)\n |-- name: string (nullable = true)\n |-- attacker_king: long (nullable = true)\n |-- defender_king: long (nullable = true)\n |-- attacker_outcome: long (nullable = true)\n |-- region: string (nullable = true)\n\n"
     ]
    }
   ],
   "source": [
    "\"\"\"\n",
    "For each region find house which has won maximum no of battles. display region, house and no of wins\n",
    "output columns: house, region, no of wins\n",
    "\"\"\"\n",
    "\n",
    "from pyspark.sql.functions import *\n",
    "from pyspark.sql.window import Window\n",
    "\n",
    "king = spark.createDataFrame([\n",
    "    (1, 'Robb Stark', 'House Stark'),\n",
    "    (2, 'Joffrey Baratheon', 'House Lannister'),\n",
    "    (3, 'Stannis Baratheon', 'House Baratheon'),\n",
    "    (4, 'Balon Greyjoy', 'House Greyjoy'),\n",
    "    (5, 'Mace Tyrell', 'House Tyrell'),\n",
    "    (6, 'Doran Martell', 'House Martell')\n",
    "], [\"k_no\", \"king\", \"house\"])\n",
    "\n",
    "battle = spark.createDataFrame([\n",
    "    (1, 'Battle of Oxcross', 1, 2, 1, 'The North'),\n",
    "    (2, 'Battle of Blackwater', 3, 4, 0, 'The North'),\n",
    "    (4, 'Battle of the Green Fork', 2, 6, 0, 'The Reach'),\n",
    "    (5, 'Battle of the Ruby Ford', 1, 3, 1, 'The Riverlands'),\n",
    "    (6, 'Battle of the Golden Tooth', 2, 1, 0, 'The North'),\n",
    "    (7, 'Battle of Riverrun', 3, 4, 1, 'The Riverlands'),\n",
    "    (8, 'Battle of Riverrun', 1, 3, 0, 'The Riverlands')\n",
    "], [\"battle_number\", \"name\", \"attacker_king\", \"defender_king\", \"attacker_outcome\", \"region\"])\n",
    "\n",
    "king.show(truncate=False)\n",
    "battle.show(truncate=False)\n",
    "king.printSchema()\n",
    "battle.printSchema()"
   ]
  },
  {
   "cell_type": "code",
   "execution_count": 0,
   "metadata": {
    "application/vnd.databricks.v1+cell": {
     "cellMetadata": {
      "byteLimit": 2048000,
      "rowLimit": 10000
     },
     "inputWidgets": {},
     "nuid": "96c5386e-6f0e-4b5b-85a2-493971e3422f",
     "showTitle": false,
     "tableResultSettingsMap": {},
     "title": ""
    }
   },
   "outputs": [
    {
     "output_type": "stream",
     "name": "stdout",
     "output_type": "stream",
     "text": [
      "+--------------+-------------+----------+\n|        region|        house|no_of_wins|\n+--------------+-------------+----------+\n|     The North|  House Stark|         2|\n|     The Reach|House Martell|         1|\n|The Riverlands|  House Stark|         2|\n+--------------+-------------+----------+\n\n"
     ]
    }
   ],
   "source": [
    "\"\"\"\n",
    "The Reach House Stark is not there in the output not sure why\n",
    "\"\"\"\n",
    "\n",
    "battle1 = battle.withColumn(\"battle_king_no\", when(col(\"attacker_king\") == 1, col(\"attacker_king\")).otherwise(col(\"defender_king\")))\n",
    "    \n",
    "battle1.join(king, battle1[\"battle_king_no\"] == king[\"k_no\"], \"inner\").orderBy(\"battle_number\")\\\n",
    "    .groupBy(\"region\", \"house\").agg(count(\"region\").alias(\"no_of_wins\")) \\\n",
    "    .withColumn(\"rn\", rank().over(Window.partitionBy(\"region\").orderBy(desc(col(\"no_of_wins\"))))) \\\n",
    "    .filter(col(\"rn\") == 1)\\\n",
    "    .drop(\"rn\") \\\n",
    "    .show() "
   ]
  }
 ],
 "metadata": {
  "application/vnd.databricks.v1+notebook": {
   "computePreferences": null,
   "dashboards": [],
   "environmentMetadata": {
    "base_environment": "",
    "environment_version": "1"
   },
   "inputWidgetPreferences": null,
   "language": "python",
   "notebookMetadata": {
    "pythonIndentUnit": 4
   },
   "notebookName": "14 Fractal Analytics | GoT Analysis",
   "widgets": {}
  }
 },
 "nbformat": 4,
 "nbformat_minor": 0
}