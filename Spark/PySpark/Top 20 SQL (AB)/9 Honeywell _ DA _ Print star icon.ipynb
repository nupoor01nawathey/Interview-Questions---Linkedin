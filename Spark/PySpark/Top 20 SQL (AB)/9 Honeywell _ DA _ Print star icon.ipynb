{
 "cells": [
  {
   "cell_type": "code",
   "execution_count": 0,
   "metadata": {
    "application/vnd.databricks.v1+cell": {
     "cellMetadata": {
      "byteLimit": 2048000,
      "rowLimit": 10000
     },
     "inputWidgets": {},
     "nuid": "12905cdc-87f6-498d-b446-ce572c61ab5e",
     "showTitle": false,
     "tableResultSettingsMap": {},
     "title": ""
    }
   },
   "outputs": [
    {
     "output_type": "stream",
     "name": "stdout",
     "output_type": "stream",
     "text": [
      "+---+------+-------------------------------------+\n|id |genre |title                                |\n+---+------+-------------------------------------+\n|1  |Action|The Dark Knight                      |\n|2  |Action|Avengers: Infinity War               |\n|3  |Action|Gladiator                            |\n|4  |Action|Die Hard                             |\n|5  |Action|Mad Max: Fury Road                   |\n|6  |Drama |The Shawshank Redemption             |\n|7  |Drama |Forrest Gump                         |\n|8  |Drama |The Godfather                        |\n|9  |Drama |Schindlers List                      |\n|10 |Drama |Fight Club                           |\n|11 |Comedy|The Hangover                         |\n|12 |Comedy|Superbad                             |\n|13 |Comedy|Dumb and Dumber                      |\n|14 |Comedy|Bridesmaids                          |\n|15 |Comedy|Anchorman: The Legend of Ron Burgundy|\n+---+------+-------------------------------------+\n\n+--------+------+\n|movie_id|rating|\n+--------+------+\n|       1|   4.5|\n|       1|   4.0|\n|       1|   5.0|\n|       2|   4.2|\n|       2|   4.8|\n|       2|   3.9|\n|       3|   4.6|\n|       3|   3.8|\n|       3|   4.3|\n|       4|   4.1|\n|       4|   3.7|\n|       4|   4.4|\n|       5|   3.9|\n|       5|   4.5|\n|       5|   4.2|\n|       6|   4.8|\n|       6|   4.7|\n|       6|   4.9|\n|       7|   4.6|\n|       7|   4.9|\n+--------+------+\nonly showing top 20 rows\n\n"
     ]
    }
   ],
   "source": [
    "\"\"\"\n",
    "Return a list of movie genres and the best movie in that genre based on max avg rating\n",
    "\"\"\"\n",
    "from pyspark.sql.functions import *\n",
    "from pyspark.sql.window import Window\n",
    "\n",
    "movies = spark.createDataFrame(\n",
    "[\n",
    "  (1, 'Action', 'The Dark Knight'), (2, 'Action', 'Avengers: Infinity War'), (3, 'Action', 'Gladiator'), \n",
    "  (4, 'Action', 'Die Hard'), (5, 'Action', 'Mad Max: Fury Road'), (6, 'Drama', 'The Shawshank Redemption'),\n",
    "  (7, 'Drama', 'Forrest Gump'), (8, 'Drama', 'The Godfather'), (9, 'Drama', 'Schindler''s List'),\n",
    "  (10, 'Drama', 'Fight Club'), (11, 'Comedy', 'The Hangover'), (12, 'Comedy', 'Superbad'),\n",
    "  (13, 'Comedy', 'Dumb and Dumber'), (14, 'Comedy', 'Bridesmaids'), (15, 'Comedy', 'Anchorman: The Legend of Ron Burgundy')\n",
    "], [\"id\", \"genre\", \"title\"]\n",
    ")\n",
    "\n",
    "reviews = spark.createDataFrame([\n",
    "(1, 4.5), (1, 4.0), (1, 5.0), (2, 4.2), (2, 4.8), (2, 3.9), (3, 4.6), (3, 3.8), (3, 4.3), (4, 4.1), (4, 3.7), (4, 4.4), (5, 3.9), (5, 4.5), (5, 4.2), (6, 4.8), (6, 4.7), (6, 4.9), (7, 4.6), (7, 4.9), (7, 4.3), (8, 4.9), (8, 5.0), (8, 4.8), (9, 4.7), (9, 4.9), (9, 4.5), (10, 4.6), (10, 4.3), (10, 4.7), (11, 3.9), (11, 4.0), \n",
    "(11, 3.5), (12, 3.7), (12, 3.8), (12, 4.2), (13, 3.2), (13, 3.5), (13, 3.8), (14, 3.8), (14, 4.0), \n",
    "(14, 4.2), (15, 3.9), (15, 4.0), (15, 4.1)\n",
    "], [\"movie_id\", \"rating\"])\n",
    "\n",
    "movies.show(truncate=False)\n",
    "reviews.show()"
   ]
  },
  {
   "cell_type": "code",
   "execution_count": 0,
   "metadata": {
    "application/vnd.databricks.v1+cell": {
     "cellMetadata": {
      "byteLimit": 2048000,
      "rowLimit": 10000
     },
     "inputWidgets": {},
     "nuid": "6e1c5946-8e19-4082-8451-ad30fc4549b9",
     "showTitle": false,
     "tableResultSettingsMap": {},
     "title": ""
    }
   },
   "outputs": [
    {
     "output_type": "stream",
     "name": "stdout",
     "output_type": "stream",
     "text": [
      "+------+-------------------------------------+----------+\n|genre |title                                |avg_rating|\n+------+-------------------------------------+----------+\n|Action|The Dark Knight                      |5.0       |\n|Comedy|Anchorman: The Legend of Ron Burgundy|4.0       |\n|Drama |The Godfather                        |5.0       |\n+------+-------------------------------------+----------+\n\nOut[31]: '\\n.withColumn(\"stars\", repeat(lit(\"*\"), col(\"avg_rating\"))) repeat is pyspark equivalent of replicate in ssms, repeating * with col \"avg_rating\" is not working  \\n'"
     ]
    }
   ],
   "source": [
    "movies.join(reviews, movies[\"id\"] == reviews[\"movie_id\"], \"inner\") \\\n",
    "    .select(movies[\"genre\"], movies[\"title\"], reviews[\"rating\"]) \\\n",
    "    .groupBy(\"genre\", \"title\").agg(avg(\"rating\").alias(\"avg_rating\")) \\\n",
    "    .withColumn(\"rn\", row_number().over(Window.partitionBy(\"genre\").orderBy(desc(col(\"avg_rating\"))))) \\\n",
    "    .filter(col(\"rn\") == 1) \\\n",
    "    .drop(\"rn\") \\\n",
    "    .withColumn(\"avg_rating\", round(col(\"avg_rating\"), 0)) \\\n",
    "    .show(truncate=False)\n",
    "\n",
    "\"\"\"\n",
    ".withColumn(\"stars\", repeat(lit(\"*\"), col(\"avg_rating\"))) \\\n",
    "repeat is pyspark equivalent of replicate in ssms, repeating * with col \"avg_rating\" is not working  \n",
    "\"\"\""
   ]
  }
 ],
 "metadata": {
  "application/vnd.databricks.v1+notebook": {
   "computePreferences": null,
   "dashboards": [],
   "environmentMetadata": {
    "base_environment": "",
    "environment_version": "1"
   },
   "inputWidgetPreferences": null,
   "language": "python",
   "notebookMetadata": {
    "pythonIndentUnit": 4
   },
   "notebookName": "9 Honeywell | DA | Print star icon",
   "widgets": {}
  }
 },
 "nbformat": 4,
 "nbformat_minor": 0
}