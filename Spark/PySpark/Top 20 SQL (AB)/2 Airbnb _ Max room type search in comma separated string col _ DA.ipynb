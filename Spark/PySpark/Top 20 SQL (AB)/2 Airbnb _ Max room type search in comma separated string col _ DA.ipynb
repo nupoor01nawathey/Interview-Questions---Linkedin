{
 "cells": [
  {
   "cell_type": "code",
   "execution_count": 5,
   "id": "0b6961e7",
   "metadata": {},
   "outputs": [
    {
     "name": "stdout",
     "output_type": "stream",
     "text": [
      "+-------+-------------+------------------------+\n",
      "|user_id|date_searched|filter_room_types       |\n",
      "+-------+-------------+------------------------+\n",
      "|1      |2022-01-01   |entire home,private room|\n",
      "|2      |2022-01-02   |entire home,shared room |\n",
      "|3      |2022-01-02   |private room,shared room|\n",
      "|4      |2022-01-03   |private room            |\n",
      "+-------+-------------+------------------------+\n",
      "\n",
      "root\n",
      " |-- user_id: integer (nullable = true)\n",
      " |-- date_searched: string (nullable = true)\n",
      " |-- filter_room_types: string (nullable = true)\n",
      "\n"
     ]
    }
   ],
   "source": [
    "\"\"\"\n",
    "2. Airbnb SQL Interview Question | Convert Comma Separated Values into Rows | Data Analytics\n",
    "https://lnkd.in/gpMbU-dF\n",
    "\n",
    "Find the room types which are searched most number of times. Display room type with corresponding search count.\n",
    "\"\"\"\n",
    "\n",
    "from pyspark.sql import SparkSession\n",
    "from pyspark.sql.functions import *\n",
    "from pyspark.sql.types import *\n",
    "\n",
    "spark = SparkSession.builder.getOrCreate()\n",
    "\n",
    "data = [\n",
    "  (1,'2022-01-01','entire home,private room'),\n",
    "  (2,'2022-01-02','entire home,shared room'),\n",
    "  (3,'2022-01-02','private room,shared room'),\n",
    "  (4,'2022-01-03','private room')\n",
    "]\n",
    "\n",
    "schema = StructType(\n",
    "  [\n",
    "    StructField(\"user_id\", IntegerType()),\n",
    "    StructField(\"date_searched\", StringType()),\n",
    "    StructField(\"filter_room_types\", StringType())\n",
    "  ]\n",
    ")\n",
    "\n",
    "df = spark.createDataFrame(data=data, schema=schema)\n",
    "df.show(truncate=False)\n",
    "df.printSchema()\n"
   ]
  },
  {
   "cell_type": "code",
   "execution_count": 20,
   "id": "7147c53f",
   "metadata": {},
   "outputs": [
    {
     "name": "stdout",
     "output_type": "stream",
     "text": [
      "+------------+---+\n",
      "|room_types  |cnt|\n",
      "+------------+---+\n",
      "|private room|3  |\n",
      "|entire home |2  |\n",
      "|shared room |2  |\n",
      "+------------+---+\n",
      "\n"
     ]
    }
   ],
   "source": [
    "df.withColumn(\"room_types\", explode(split(col(\"filter_room_types\"), \",\"))) \\\n",
    "    .groupBy(\"room_types\").agg(count(\"room_types\").alias(\"cnt\")) \\\n",
    "    .show(truncate=False)"
   ]
  }
 ],
 "metadata": {
  "kernelspec": {
   "display_name": "Python 3 (ipykernel)",
   "language": "python",
   "name": "python3"
  },
  "language_info": {
   "codemirror_mode": {
    "name": "ipython",
    "version": 3
   },
   "file_extension": ".py",
   "mimetype": "text/x-python",
   "name": "python",
   "nbconvert_exporter": "python",
   "pygments_lexer": "ipython3",
   "version": "3.11.5"
  }
 },
 "nbformat": 4,
 "nbformat_minor": 5
}
