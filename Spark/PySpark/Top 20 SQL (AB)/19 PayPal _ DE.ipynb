{
 "cells": [
  {
   "cell_type": "code",
   "execution_count": 0,
   "metadata": {
    "application/vnd.databricks.v1+cell": {
     "cellMetadata": {
      "byteLimit": 2048000,
      "rowLimit": 10000
     },
     "inputWidgets": {},
     "nuid": "e2d2e250-0115-49ab-addf-536100ebfcbd",
     "showTitle": false,
     "tableResultSettingsMap": {},
     "title": ""
    }
   },
   "outputs": [
    {
     "output_type": "stream",
     "name": "stdout",
     "output_type": "stream",
     "text": [
      "+----------+-------------+----------------------+\n|employeeid|entry_details|timestamp_details     |\n+----------+-------------+----------------------+\n|1000      |login        |2023-06-16 01:00:15.34|\n|1000      |login        |2023-06-16 02:00:15.34|\n|1000      |login        |2023-06-16 03:00:15.34|\n|1000      |logout       |2023-06-16 12:00:15.34|\n|1001      |login        |2023-06-16 01:00:15.34|\n|1001      |login        |2023-06-16 02:00:15.34|\n|1001      |login        |2023-06-16 03:00:15.34|\n|1001      |logout       |2023-06-16 12:00:15.34|\n+----------+-------------+----------------------+\n\n+----------+------------+---------+\n|employeeid|phone_number|isdefault|\n+----------+------------+---------+\n|      1001|        9999|    false|\n|      1001|        1111|    false|\n|      1001|        2222|     true|\n|      1003|        3333|    false|\n+----------+------------+---------+\n\n"
     ]
    }
   ],
   "source": [
    "\"\"\"\n",
    "https://www.youtube.com/watch?v=u3W_Op3FTVA\n",
    "\n",
    "Write sql to output details:\n",
    "employeeid, employee_default_phone_number, total_entry, total_login, total_logout, last_login, last_logout\n",
    "\"\"\"\n",
    "\n",
    "from pyspark.sql.functions import *\n",
    "from pyspark.sql.window import Window\n",
    "from pyspark.sql import SparkSession\n",
    "\n",
    "spark = SparkSession.builder.getOrCreate()\n",
    "\n",
    "employee_checkin_details = spark.createDataFrame([\n",
    "  (1000 , 'login' , '2023-06-16 01:00:15.34'),\n",
    "  (1000 , 'login' , '2023-06-16 02:00:15.34'),\n",
    "  (1000 , 'login' , '2023-06-16 03:00:15.34'),\n",
    "  (1000 , 'logout' , '2023-06-16 12:00:15.34'),\n",
    "  (1001 , 'login' , '2023-06-16 01:00:15.34'),\n",
    "  (1001 , 'login' , '2023-06-16 02:00:15.34'),\n",
    "  (1001 , 'login' , '2023-06-16 03:00:15.34'),\n",
    "  (1001 , 'logout' , '2023-06-16 12:00:15.34')\n",
    "], [\"employeeid\" ,\"entry_details\", \"timestamp_details\"])\n",
    "   \n",
    "employee_details = spark.createDataFrame([\n",
    "    (1001 ,9999 , 'false'),\n",
    "    (1001 ,1111 , 'false'),\n",
    "    (1001 ,2222 , 'true'),\n",
    "    (1003 ,3333 , 'false')\n",
    "], [\"employeeid\" , \"phone_number\" , \"isdefault\"])\n",
    "\n",
    "employee_checkin_details = employee_checkin_details.withColumn(\"timestamp_details\", to_timestamp(col(\"timestamp_details\")))\n",
    "\n",
    "employee_checkin_details.show(truncate=False)\n",
    "employee_details.show()"
   ]
  },
  {
   "cell_type": "code",
   "execution_count": 0,
   "metadata": {
    "application/vnd.databricks.v1+cell": {
     "cellMetadata": {
      "byteLimit": 2048000,
      "rowLimit": 10000
     },
     "inputWidgets": {},
     "nuid": "e39b4059-082c-4407-850a-f2a85c499438",
     "showTitle": false,
     "tableResultSettingsMap": {},
     "title": ""
    }
   },
   "outputs": [
    {
     "output_type": "stream",
     "name": "stdout",
     "output_type": "stream",
     "text": [
      "+----------+-------------+----------------------+----------------------+----------------------+\n|employeeid|entry_details|timestamp_details     |logins                |logouts               |\n+----------+-------------+----------------------+----------------------+----------------------+\n|1000      |login        |2023-06-16 01:00:15.34|2023-06-16 01:00:15.34|null                  |\n|1000      |login        |2023-06-16 02:00:15.34|2023-06-16 02:00:15.34|null                  |\n|1000      |login        |2023-06-16 03:00:15.34|2023-06-16 03:00:15.34|null                  |\n|1000      |logout       |2023-06-16 12:00:15.34|null                  |2023-06-16 12:00:15.34|\n|1001      |login        |2023-06-16 01:00:15.34|2023-06-16 01:00:15.34|null                  |\n|1001      |login        |2023-06-16 02:00:15.34|2023-06-16 02:00:15.34|null                  |\n|1001      |login        |2023-06-16 03:00:15.34|2023-06-16 03:00:15.34|null                  |\n|1001      |logout       |2023-06-16 12:00:15.34|null                  |2023-06-16 12:00:15.34|\n+----------+-------------+----------------------+----------------------+----------------------+\n\n"
     ]
    }
   ],
   "source": [
    "employee_checkin_refined = employee_checkin_details \\\n",
    "    .withColumn(\"logins\", when(col(\"entry_details\") == \"login\", col(\"timestamp_details\")).otherwise(None)) \\\n",
    "    .withColumn(\"logouts\", when(col(\"entry_details\") == \"logout\", col(\"timestamp_details\")).otherwise(None))\n",
    "\n",
    "employee_checkin_refined.show(truncate=False)"
   ]
  },
  {
   "cell_type": "code",
   "execution_count": 0,
   "metadata": {
    "application/vnd.databricks.v1+cell": {
     "cellMetadata": {
      "byteLimit": 2048000,
      "rowLimit": 10000
     },
     "inputWidgets": {},
     "nuid": "768ea3da-b619-4aed-94d5-fc4702378082",
     "showTitle": false,
     "tableResultSettingsMap": {},
     "title": ""
    }
   },
   "outputs": [
    {
     "output_type": "stream",
     "name": "stdout",
     "output_type": "stream",
     "text": [
      "+----------+-----------+------------+-------------+----------------------+----------------------+-----------------------------+\n|employeeid|total_entry|total_logins|total_logouts|latest_login          |latest_logouts        |employee_default_phone_number|\n+----------+-----------+------------+-------------+----------------------+----------------------+-----------------------------+\n|1000      |4          |3           |1            |2023-06-16 03:00:15.34|2023-06-16 12:00:15.34|null                         |\n|1001      |4          |3           |1            |2023-06-16 03:00:15.34|2023-06-16 12:00:15.34|2222                         |\n+----------+-----------+------------+-------------+----------------------+----------------------+-----------------------------+\n\n"
     ]
    }
   ],
   "source": [
    "employee_checkin_refined.groupBy(\"employeeid\").agg(\n",
    "    count(\"*\").alias(\"total_entry\")\n",
    "    ,count(\"logins\").alias(\"total_logins\")\n",
    "    ,count(\"logouts\").alias(\"total_logouts\")\n",
    "    ,max(\"logins\").alias(\"latest_login\")\n",
    "    ,max(\"logouts\").alias(\"latest_logouts\")\n",
    ").join(employee_details.filter(col(\"isdefault\")==\"true\"), employee_checkin_refined[\"employeeid\"]==employee_details[\"employeeid\"], \"left\").drop(employee_details[\"employeeid\"],employee_details[\"isdefault\"]) \\\n",
    ".withColumnRenamed(\"phone_number\", \"employee_default_phone_number\") \\\n",
    ".show(truncate=False)"
   ]
  }
 ],
 "metadata": {
  "application/vnd.databricks.v1+notebook": {
   "computePreferences": null,
   "dashboards": [],
   "environmentMetadata": {
    "base_environment": "",
    "environment_version": "1"
   },
   "inputWidgetPreferences": null,
   "language": "python",
   "notebookMetadata": {
    "pythonIndentUnit": 4
   },
   "notebookName": "19 PayPal | DE",
   "widgets": {}
  }
 },
 "nbformat": 4,
 "nbformat_minor": 0
}