{
 "cells": [
  {
   "cell_type": "code",
   "execution_count": 0,
   "metadata": {
    "application/vnd.databricks.v1+cell": {
     "cellMetadata": {
      "byteLimit": 2048000,
      "rowLimit": 10000
     },
     "inputWidgets": {},
     "nuid": "95c69620-be4a-4e63-b5be-3b7e8909c0fe",
     "showTitle": false,
     "tableResultSettingsMap": {},
     "title": ""
    }
   },
   "outputs": [
    {
     "output_type": "stream",
     "name": "stdout",
     "output_type": "stream",
     "text": [
      "+---------+-------------+-------------------+\n|artist_id|  artist_name|        label_owner|\n+---------+-------------+-------------------+\n|      101|   Ed Sheeran|       Warner Music|\n|      120|Drake\\tWarner|        Music Group|\n|      125|    Bad Bunny|Rimas Entertainment|\n+---------+-------------+-------------------+\n\n+-------+---------+-------------+\n|song_id|artist_id|         name|\n+-------+---------+-------------+\n|  55511|      101|      Perfect|\n|  45202|      101| Shape of You|\n|  22222|      120|    One Dance|\n|  19960|      120|Hotline Bling|\n+-------+---------+-------------+\n\n+---+-------+----+\n|day|song_id|rank|\n+---+-------+----+\n|  1|  45202|   5|\n|  3|  45202|   2|\n|  1|  19960|   3|\n|  9|  19960|  15|\n+---+-------+----+\n\n"
     ]
    }
   ],
   "source": [
    "\"\"\"\n",
    "Spotify SQL Interview Problem | Top 5 Artists | Aggregation and Window Functions in SQL\n",
    "Write a sql query to determine top 5 artists who appear in the top 10 of global_song_rank table the highest number of times.\n",
    "\"\"\"\n",
    "from pyspark.sql import SparkSession\n",
    "from pyspark.sql.functions import *\n",
    "from pyspark.sql.window import Window\n",
    "\n",
    "spark = SparkSession.builder.getOrCreate()\n",
    "\n",
    "artists = spark.createDataFrame(\n",
    "    [\n",
    "        (101,'Ed Sheeran','Warner Music'),\n",
    "        (120,'Drake\tWarner','Music Group'),\n",
    "        (125,'Bad Bunny','Rimas Entertainment'),\n",
    "    ]\n",
    ").toDF(\"artist_id\", \"artist_name\", \"label_owner\")\n",
    "\n",
    "songs = spark.createDataFrame(\n",
    "    [\n",
    "        (55511,101,'Perfect'),\n",
    "        (45202,101,'Shape of You'),\n",
    "        (22222,120,'One Dance'),\n",
    "        (19960,120,'Hotline Bling')\n",
    "    ]\n",
    ").toDF(\"song_id\",\"artist_id\",\"name\")\n",
    "\n",
    "global_song_rank = spark.createDataFrame(\n",
    "    [\n",
    "        (1,45202,5),\n",
    "        (3,45202,2),\n",
    "        (1,19960,3),\n",
    "        (9,19960,15)\n",
    "    ]\n",
    ").toDF(\"day\",\"song_id\",\"rank\")\n",
    "\n",
    "artists.show()\n",
    "songs.show()\n",
    "global_song_rank.show()\n"
   ]
  },
  {
   "cell_type": "code",
   "execution_count": 0,
   "metadata": {
    "application/vnd.databricks.v1+cell": {
     "cellMetadata": {
      "byteLimit": 2048000,
      "rowLimit": 10000
     },
     "inputWidgets": {},
     "nuid": "e0624584-cd24-4277-b378-a4d93ed533eb",
     "showTitle": false,
     "tableResultSettingsMap": {},
     "title": ""
    }
   },
   "outputs": [
    {
     "output_type": "stream",
     "name": "stdout",
     "output_type": "stream",
     "text": [
      "+---------+-------------+\n|artist_id|  artist_name|\n+---------+-------------+\n|      101|   Ed Sheeran|\n|      120|Drake\\tWarner|\n+---------+-------------+\n\n"
     ]
    }
   ],
   "source": [
    "artists.join(songs, on=\"artist_id\", how=\"inner\") \\\n",
    "    .join(global_song_rank, on=\"song_id\", how=\"inner\") \\\n",
    "    .filter(col(\"rank\") <= 10) \\\n",
    "    .groupBy(\"artist_id\").agg(count(\"artist_id\").alias(\"num_of_appearances\")) \\\n",
    "    .withColumn(\"dr\", dense_rank().over(Window.orderBy(desc(\"num_of_appearances\")))) \\\n",
    "    .filter(col(\"dr\") <= 5) \\\n",
    "    .drop(\"dr\", \"num_of_appearances\") \\\n",
    "    .join(artists, on=\"artist_id\", how=\"inner\") \\\n",
    "    .drop(\"label_owner\") \\\n",
    "    .show()"
   ]
  }
 ],
 "metadata": {
  "application/vnd.databricks.v1+notebook": {
   "computePreferences": null,
   "dashboards": [],
   "environmentMetadata": {
    "base_environment": "",
    "environment_version": "1"
   },
   "inputWidgetPreferences": null,
   "language": "python",
   "notebookMetadata": {
    "pythonIndentUnit": 4
   },
   "notebookName": "4 Spotify | DataLemur | DA",
   "widgets": {}
  }
 },
 "nbformat": 4,
 "nbformat_minor": 0
}