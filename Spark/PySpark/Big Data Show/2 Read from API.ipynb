{
 "cells": [
  {
   "cell_type": "code",
   "execution_count": 0,
   "metadata": {
    "application/vnd.databricks.v1+cell": {
     "cellMetadata": {
      "byteLimit": 2048000,
      "rowLimit": 10000
     },
     "inputWidgets": {},
     "nuid": "8f25b855-558b-4139-b3d9-ba9199164851",
     "showTitle": false,
     "tableResultSettingsMap": {},
     "title": ""
    }
   },
   "outputs": [
    {
     "output_type": "stream",
     "name": "stdout",
     "output_type": "stream",
     "text": [
      "208\n"
     ]
    },
    {
     "output_type": "display_data",
     "data": {
      "text/html": [
       "<style scoped>\n",
       "  .table-result-container {\n",
       "    max-height: 300px;\n",
       "    overflow: auto;\n",
       "  }\n",
       "  table, th, td {\n",
       "    border: 1px solid black;\n",
       "    border-collapse: collapse;\n",
       "  }\n",
       "  th, td {\n",
       "    padding: 5px;\n",
       "  }\n",
       "  th {\n",
       "    text-align: left;\n",
       "  }\n",
       "</style><div class='table-result-container'><table class='table-result'><thead style='background-color: white'><tr><th>offset</th><th>limit</th></tr></thead><tbody><tr><td>0</td><td>50</td></tr></tbody></table></div>"
      ]
     },
     "metadata": {
      "application/vnd.databricks.v1+output": {
       "addedWidgets": {},
       "aggData": [],
       "aggError": "",
       "aggOverflow": false,
       "aggSchema": [],
       "aggSeriesLimitReached": false,
       "aggType": "",
       "arguments": {},
       "columnCustomDisplayInfos": {},
       "data": [
        [
         0,
         50
        ]
       ],
       "datasetInfos": [],
       "dbfsResultPath": null,
       "isJsonSchema": true,
       "metadata": {},
       "overflow": false,
       "plotOptions": {
        "customPlotOptions": {},
        "displayType": "table",
        "pivotAggregation": null,
        "pivotColumns": null,
        "xColumns": null,
        "yColumns": null
       },
       "removedWidgets": [],
       "schema": [
        {
         "metadata": "{}",
         "name": "offset",
         "type": "\"long\""
        },
        {
         "metadata": "{}",
         "name": "limit",
         "type": "\"integer\""
        }
       ],
       "type": "table"
      }
     },
     "output_type": "display_data"
    }
   ],
   "source": [
    "\"\"\"\n",
    "https://www.youtube.com/watch?v=fftjUJk_RFk&list=PLiDUHlGx0KN8fBg645K15BIIP8jroHYpi&index=2\n",
    "\n",
    "Req url : https://dummyjson.com/users/70\n",
    "Sample data : /FileStore/tables/customer_transactions.json\n",
    "\"\"\"\n",
    "\n",
    "from pyspark.sql.functions import *\n",
    "from pyspark.sql.types import *\n",
    "from pyspark.sql.window import Window\n",
    "\n",
    "\n",
    "import requests\n",
    "\n",
    "schema = StructType([\n",
    "    StructField(\"field1\", StringType(), True),\n",
    "    StructField(\"field2\", IntegerType(), True)\n",
    "])\n",
    "\n",
    "\n",
    "@udf\n",
    "def fetch_data():\n",
    "    endpoint = \"https://dummyjson.com/users\"\n",
    "    response = requests.get(endpoint)\n",
    "    return response.json()\n",
    "\n",
    "total_records = requests.get(\"https://dummyjson.com/users\").json().get(\"total\", 0)\n",
    "pagination = 1\n",
    "\n",
    "offset_df = spark.range(0, pagination).select(col(\"id\").alias(\"offset\"), lit(records_per_page).alias(\"limit\"))\n",
    "\n",
    "print(total_records)\n",
    "display(offset_df)"
   ]
  },
  {
   "cell_type": "code",
   "execution_count": 0,
   "metadata": {
    "application/vnd.databricks.v1+cell": {
     "cellMetadata": {
      "byteLimit": 2048000,
      "rowLimit": 10000
     },
     "inputWidgets": {},
     "nuid": "c9c450ae-c5d2-40df-afc8-62419891300d",
     "showTitle": false,
     "tableResultSettingsMap": {},
     "title": ""
    }
   },
   "outputs": [
    {
     "output_type": "display_data",
     "data": {
      "text/html": [
       "<style scoped>\n",
       "  .table-result-container {\n",
       "    max-height: 300px;\n",
       "    overflow: auto;\n",
       "  }\n",
       "  table, th, td {\n",
       "    border: 1px solid black;\n",
       "    border-collapse: collapse;\n",
       "  }\n",
       "  th, td {\n",
       "    padding: 5px;\n",
       "  }\n",
       "  th {\n",
       "    text-align: left;\n",
       "  }\n",
       "</style><div class='table-result-container'><table class='table-result'><thead style='background-color: white'><tr><th>offset</th><th>limit</th><th>response</th></tr></thead><tbody><tr><td>0</td><td>50</td><td>{limit=30, total=208, skip=0, users=[{lastName=Johnson, role=admin, gender=female, university=University of Wisconsin--Madison, maidenName=Smith, ein=977-175, ssn=900-590-289, bloodGroup=O-, bank={cardType=Elo, cardExpire=03/26, currency=CNY, cardNumber=9289760655481815, iban=YPUXISOBI7TTHPK2BR3HAIXL}, hair={color=Brown, type=Curly}, password=emilyspass, eyeColor=Green, company={name=Dooley, Kozey and Cronin, address={country=United States, address=263 Tenth Street, city=San Francisco, postalCode=37657, coordinates={lng=-161.150263, lat=71.814525}, stateCode=WI, state=Wisconsin}, title=Sales Manager, department=Engineering}, id=1, email=emily.johnson@x.dummyjson.com, height=193.24, image=https://dummyjson.com/icon/emilys/128, address={country=United States, address=626 Main Street, city=Phoenix, postalCode=29112, coordinates={lng=-92.084824, lat=-77.16213}, stateCode=MS, state=Mississippi}, ip=42.48.100.32, weight=63.16, userAgent=Mozilla/5.0 (Macintosh; Intel Mac OS X 10_15_7) AppleWebKit/537.36 (KHTML, like Gecko) Chrome/96.0.4664.93 Safari/537.36, birthDate=1996-5-30, crypto={wallet=0xb9fc2fe63b2a6c003f1c324c3bfa53259162181a, network=Ethereum (ERC20), coin=Bitcoin}, firstName=Emily, macAddress=47:fa:41:18:ec:eb, phone=+81 965-431-3024, age=28, username=emilys}, {lastName=Williams, role=admin, gender=male, university=Ohio State University, maidenName=, ein=912-602, ssn=108-953-962, bloodGroup=B+, bank={cardType=Elo, cardExpire=02/27, currency=SEK, cardNumber=6737807858721625, iban=83IDT77FWYLCJVR8ISDACFH0}, hair={color=Green, type=Straight}, password=michaelwpass, eyeColor=Red, company={name=Spinka - Dickinson, address={country=United States, address=395 Main Street, city=Los Angeles, postalCode=73442, coordinates={lng=-119.624845, lat=79.098326}, stateCode=NH, state=New Hampshire}, title=Support Specialist, department=Support}, id=2, email=michael.williams@x.dummyjson.com, height=186.22, image=https://dummyjson.com/icon/michaelw/128, address={country=United States, address=385 Fifth Street, city=Houston, postalCode=38807, coordinates={lng=115.608581, lat=22.815468}, stateCode=AL, state=Alabama}, ip=12.13.116.142, weight=76.32, userAgent=Mozilla/5.0 (Windows NT 10.0; Win64; x64) AppleWebKit/537.36 (KHTML, like Gecko) Edge/97.0.1072.76 Safari/537.36, birthDate=1989-8-10, crypto={wallet=0xb9fc2fe63b2a6c003f1c324c3bfa53259162181a, network=Ethereum (ERC20), coin=Bitcoin}, firstName=Michael, macAddress=79:15:78:99:60:aa, phone=+49 258-627-6644, age=35, username=michaelw}, {lastName=Brown, role=admin, gender=female, university=Pepperdine University, maidenName=, ein=963-113, ssn=638-461-822, bloodGroup=O-, bank={cardType=Korean Express, cardExpire=04/25, currency=SEK, cardNumber=7795895470082859, iban=90XYKT83LMM7AARZ8JN958JC}, hair={color=White, type=Wavy}, password=sophiabpass, eyeColor=Hazel, company={name=Schiller - Zieme, address={country=United States, address=1896 Washington Street, city=Dallas, postalCode=88511, coordinates={lng=-34.577107, lat=20.086743}, stateCode=NV, state=Nevada}, title=Accountant, department=Research and Development}, id=3, email=sophia.brown@x.dummyjson.com, height=177.72, image=https://dummyjson.com/icon/sophiab/128, address={country=United States, address=1642 Ninth Street, city=Washington, postalCode=32822, coordinates={lng=46.832664, lat=45.289366}, stateCode=AL, state=Alabama}, ip=214.225.51.195, weight=52.6, userAgent=Mozilla/5.0 (Windows NT 10.0; Win64; x64) AppleWebKit/537.36 (KHTML, like Gecko) Chrome/96.0.4664.45 Safari/537.36, birthDate=1982-11-6, crypto={wallet=0xb9fc2fe63b2a6c003f1c324c3bfa53259162181a, network=Ethereum (ERC20), coin=Bitcoin}, firstName=Sophia, macAddress=12:a3:d3:6f:5c:5b, phone=+81 210-652-2785, age=42, username=sophiab}, {lastName=Davis, role=admin, gender=male, university=University of Southern California, maidenName=, ein=904-810, ssn=116-951-314, bloodGroup=AB+, bank={cardType=Mastercard, cardExpire=05/29, currency=INR, cardNumber=5005519846254763, iban=7N7ZH1PJ8Q4WU1K965HQQR27}, hair={color=Blonde, type=Straight}, password=jamesdpass, eyeColor=Amber, company={name=Pagac and Sons, address={country=United States, address=1622 Lincoln Street, city=Fort Worth, postalCode=27768, coordinates={lng=-79.498328, lat=54.91193}, stateCode=PA, state=Pennsylvania}, title=Research Analyst, department=Support}, id=4, email=james.davis@x.dummyjson.com, height=193.31, image=https://dummyjson.com/icon/jamesd/128, address={country=United States, address=238 Jefferson Street, city=Seattle, postalCode=68354, coordinates={lng=-139.34723, lat=16.782513}, stateCode=PA, state=Pennsylvania}, ip=101.118.131.66, weight=62.1, userAgent=Mozilla/5.0 (Macintosh; Intel Mac OS X 10_15_7) AppleWebKit/537.36 (KHTML, like Gecko) Chrome/97.0.4692.99 Safari/537.36, birthDate=1979-5-4, crypto={wallet=0xb9fc2fe63b2a6c003f1c324c3bfa53259162181a, network=Ethereum (ERC20), coin=Bitcoin}, firstName=James, macAddress=10:7d:df:1f:97:58, phone=+49 614-958-9364, age=45, username=jamesd}, {lastName=Miller, role=admin, gender=female, university=Northeastern University, maidenName=Johnson, ein=403-505, ssn=526-210-885, bloodGroup=AB-, bank={cardType=American Express, cardExpire=03/26, currency=CAD, cardNumber=5772950119588627, iban=TAVHURD845KVBTB8W81AQXRY}, hair={color=White, type=Straight}, password=emmajpass, eyeColor=Green, company={name=Graham - Gulgowski, address={country=United States, address=1460 Sixth Street, city=San Antonio, postalCode=21965, coordinates={lng=-26.944701, lat=44.346545}, stateCode=ID, state=Idaho}, title=Quality Assurance Engineer, department=Human Resources}, id=5, email=emma.miller@x.dummyjson.com, height=192.8, image=https://dummyjson.com/icon/emmaj/128, address={country=United States, address=607 Fourth Street, city=Jacksonville, postalCode=26593, coordinates={lng=-157.43281, lat=0.505589}, stateCode=CO, state=Colorado}, ip=224.126.22.183, weight=63.62, userAgent=Mozilla/5.0 (Windows NT 10.0; Win64; x64; rv:97.0) Gecko/20100101 Firefox/97.0, birthDate=1994-6-13, crypto={wallet=0xb9fc2fe63b2a6c003f1c324c3bfa53259162181a, network=Ethereum (ERC20), coin=Bitcoin}, firstName=Emma, macAddress=32:b9:7e:8d:f5:e8, phone=+91 759-776-1614, age=30, username=emmaj}, {lastName=Wilson, role=moderator, gender=female, university=University of North Carolina--Chapel Hill, maidenName=, ein=921-709, ssn=836-772-168, bloodGroup=B+, bank={cardType=Diners Club International, cardExpire=05/28, currency=BRL, cardNumber=6771923832947881, iban=V6H0O5OE3Q4JVKWDTYWZABMD}, hair={color=Gray, type=Curly}, password=oliviawpass, eyeColor=Hazel, company={name=Pfannerstill Inc, address={country=United States, address=425 Sixth Street, city=Indianapolis, postalCode=74263, coordinates={lng=-132.916888, lat=74.986644}, stateCode=OK, state=Oklahoma}, title=Research Analyst, department=Product Management}, id=6, email=olivia.wilson@x.dummyjson.com, height=182.61, image=https://dummyjson.com/icon/oliviaw/128, address={country=United States, address=547 First Street, city=Fort Worth, postalCode=83843, coordinates={lng=-26.15285, lat=75.32627}, stateCode=TN, state=Tennessee}, ip=249.178.112.207, weight=58, userAgent=Mozilla/5.0 (Macintosh; Intel Mac OS X 10_15_7) AppleWebKit/605.1.15 (KHTML, like Gecko) Version/15.3 Safari/605.1.15, birthDate=2002-4-20, crypto={wallet=0xb9fc2fe63b2a6c003f1c324c3bfa53259162181a, network=Ethereum (ERC20), coin=Bitcoin}, firstName=Olivia, macAddress=9c:7f:ea:34:18:19, phone=+91 607-295-6448, age=22, username=oliviaw}, {lastName=Jones, role=moderator, gender=male, university=University of Illinois--Urbana-Champaign, maidenName=, ein=638-127, ssn=722-993-925, bloodGroup=AB-, bank={cardType=JCB, cardExpire=05/25, currency=EUR, cardNumber=7344951706130140, iban=49V4GVDVMP0MHIDD4VXMQ3A2}, hair={color=White, type=Straight}, password=alexanderjpass, eyeColor=Blue, company={name=Dickens - Beahan, address={country=United States, address=996 Eighth Street, city=Washington, postalCode=27858, coordinates={lng=-128.025697, lat=-75.462366}, stateCode=KS, state=Kansas}, title=Web Developer, department=Engineering}, id=7, email=alexander.jones@x.dummyjson.com, height=153.89, image=https://dummyjson.com/icon/alexanderj/128, address={country=United States, address=664 Maple Street, city=Indianapolis, postalCode=86684, coordinates={lng=7.063255, lat=35.289664}, stateCode=DE, state=Delaware}, ip=166.204.84.32, weight=77.42, userAgent=Mozilla/5.0 (Macintosh; Intel Mac OS X 10_15_7) AppleWebKit/537.36 (KHTML, like Gecko) Chrome/95.0.4638.69 Safari/537.36, birthDate=1986-10-20, crypto={wallet=0xb9fc2fe63b2a6c003f1c324c3bfa53259162181a, network=Ethereum (ERC20), coin=Bitcoin}, firstName=Alexander, macAddress=d2:64:58:2d:1c:46, phone=+61 260-824-4986, age=38, username=alexanderj}, {lastName=Taylor, role=moderator, gender=female, university=University of Wisconsin--Madison, maidenName=, ein=297-762, ssn=257-419-109, bloodGroup=AB-, bank={cardType=Maestro, cardExpire=01/29, currency=CNY, cardNumber=6412128967460199, iban=TS66YQ8R16OX7IJKLUONDQHP}, hair={color=Red, type=Kinky}, password=avatpass, eyeColor=Hazel, company={name=Nikolaus Inc, address={country=United States, address=930 Lincoln Street, city=Austin, postalCode=47592, coordinates={lng=-42.769351, lat=87.970083}, stateCode=CO, state=Colorado}, title=Chief Executive Officer, department=Marketing}, id=8, email=ava.taylor@x.dummyjson.com, height=168.47, image=https://dummyjson.com/icon/avat/128, address={country=United States, address=1197 First Street, city=Fort Worth, postalCode=24771, coordinates={lng=-87.948158, lat=-81.194833}, stateCode=RI, state=Rhode Island}, ip=150.73.197.233, weight=57.08, userAgent=Mozilla/5.0 (Windows NT 10.0; Win64; x64) AppleWebKit/537.36 (KHTML, like Gecko) Chrome/96.0.4664.45 Safari/537.36, birthDate=1997-8-25, crypto={wallet=0xb9fc2fe63b2a6c003f1c324c3bfa53259162181a, network=Ethereum (ERC20), coin=Bitcoin}, firstName=Ava, macAddress=8d:2e:c2:d6:e7:a8, phone=+1 458-853-7877, age=27, username=avat}, {lastName=Martinez, role=moderator, gender=male, university=Syracuse University, maidenName=, ein=790-434, ssn=569-650-348, bloodGroup=AB+, bank={cardType=Visa, cardExpire=02/25, currency=CAD, cardNumber=7183482484317509, iban=CW5U5KS23U7JYD22TVQL7SIH}, hair={color=Purple, type=Curly}, password=ethanmpass, eyeColor=Hazel, company={name=Gorczany - Gottlieb, address={country=United States, address=1597 Oak Street, city=Chicago, postalCode=28100, coordinates={lng=-23.209886, lat=-67.45208}, stateCode=FL, state=Florida}, title=Legal Counsel, department=Support}, id=9, email=ethan.martinez@x.dummyjson.com, height=159.19, image=https://dummyjson.com/icon/ethanm/128, address={country=United States, address=466 Pine Street, city=San Antonio, postalCode=72360, coordinates={lng=-25.312703, lat=74.074918}, stateCode=LA, state=Louisiana}, ip=63.191.127.71, weight=68.81, userAgent=Mozilla/5.0 (Windows NT 10.0; Win64; x64) AppleWebKit/537.36 (KHTML, like Gecko) Chrome/95.0.4638.69 Safari/537.36, birthDate=1991-2-12, crypto={wallet=0xb9fc2fe63b2a6c003f1c324c3bfa53259162181a, network=Ethereum (ERC20), coin=Bitcoin}, firstName=Ethan, macAddress=59:e:9e:e3:29:da, phone=+92 933-608-5081, age=33, username=ethanm}, {lastName=Anderson, role=moderator, gender=female, university=California Institute of Technology (Caltech), maidenName=Davis, ein=127-297, ssn=902-438-728, bloodGroup=A-, bank={cardType=NPS, cardExpire=05/27, currency=CNY, cardNumber=6118714010128731, iban=GBZRGDMKUOTO34HBCI7A986J}, hair={color=Blonde, type=Curly}, password=isabelladpass, eyeColor=Brown, company={name=Pollich - Hilpert, address={country=United States, address=1029 Adams Street, city=San Diego, postalCode=63847, coordinates={lng=-62.692681, lat=-25.843393}, stateCode=MD, state=Maryland}, title=Chief Financial Officer, department=Marketing}, id=10, email=isabella.anderson@x.dummyjson.com, height=150.56, image=https://dummyjson.com/icon/isabellad/128, address={country=United States, address=1964 Oak Street, city=New York, postalCode=89352, coordinates={lng=151.782727, lat=41.331324}, stateCode=UT, state=Utah}, ip=114.9.114.205, weight=50.1, userAgent=Mozilla/5.0 (Macintosh; Intel Mac OS X 10_15_7) AppleWebKit/537.36 (KHTML, like Gecko) Chrome/96.0.4664.93 Safari/537.36, birthDate=1993-6-10, crypto={wallet=0xb9fc2fe63b2a6c003f1c324c3bfa53259162181a, network=Ethereum (ERC20), coin=Bitcoin}, firstName=Isabella, macAddress=b1:b0:d0:a2:82:80, phone=+49 770-658-4885, age=31, username=isabellad}, {lastName=Garcia, role=moderator, gender=male, university=Ohio State University, maidenName=, ein=326-604, ssn=933-784-949, bloodGroup=AB-, bank={cardType=Discover, cardExpire=02/27, currency=GBP, cardNumber=2302893002194899, iban=O8ENPRB9UVBL2EFZ7601KC09}, hair={color=Red, type=Wavy}, password=liamgpass, eyeColor=Violet, company={name=Considine - Torp, address={country=United States, address=27 Cedar Street, city=Philadelphia, postalCode=79574, coordinates={lng=31.79423, lat=-81.841588}, stateCode=CT, state=Connecticut}, title=Web Developer, department=Services}, id=11, email=liam.garcia@x.dummyjson.com, height=162.32, image=https://dummyjson.com/icon/liamg/128, address={country=United States, address=576 Fifth Street, city=Denver, postalCode=57252, coordinates={lng=-145.340165, lat=-66.218177}, stateCode=SD, state=South Dakota}, ip=56.201.85.9, weight=93.16, userAgent=Mozilla/5.0 (Macintosh; Intel Mac OS X 10_15_7) AppleWebKit/537.36 (KHTML, like Gecko) Chrome/97.0.4692.99 Safari/537.36, birthDate=1995-6-6, crypto={wallet=0xb9fc2fe63b2a6c003f1c324c3bfa53259162181a, network=Ethereum (ERC20), coin=Bitcoin}, firstName=Liam, macAddress=31:9a:28:8b:99:6c, phone=+92 870-217-6201, age=29, username=liamg}, {lastName=Rodriguez, role=moderator, gender=female, university=William & Mary, maidenName=, ein=754-660, ssn=749-524-124, bloodGroup=O-, bank={cardType=Carte Bancaire, cardExpire=05/26, currency=CAD, cardNumber=1539872303456158, iban=EBMD95RLK8B82ZAZNXBJ09V5}, hair={color=Purple, type=Wavy}, password=miarpass, eyeColor=Blue, company={name=Miller, Schowalter and Wisozk, address={country=United States, address=1039 Washington Street, city=Philadelphia, postalCode=57518, coordinates={lng=164.246103, lat=85.455933}, stateCode=NJ, state=New Jersey}, title=Business Analyst, department=Accounting}, id=12, email=mia.rodriguez@x.dummyjson.com, height=188.08, image=https://dummyjson.com/icon/miar/128, address={country=United States, address=1627 Sixth Street, city=Jacksonville, postalCode=41810, coordinates={lng=-34.865429, lat=24.857497}, stateCode=WV, state=West Virginia}, ip=11.72.253.90, weight=56.03, userAgent=Mozilla/5.0 (Macintosh; Intel Mac OS X 10_15_7) AppleWebKit/537.36 (KHTML, like Gecko) Chrome/95.0.4638.54 Safari/537.36, birthDate=2000-8-4, crypto={wallet=0xb9fc2fe63b2a6c003f1c324c3bfa53259162181a, network=Ethereum (ERC20), coin=Bitcoin}, firstName=Mia, macAddress=53:d7:a4:6:1e:58, phone=+49 989-461-8403, age=24, username=miar}, {lastName=Hernandez, role=moderator, gender=male, university=New York University (NYU), maidenName=, ein=877-628, ssn=660-847-389, bloodGroup=AB+, bank={cardType=Discover, cardExpire=05/26, currency=SEK, cardNumber=1681772579326385, iban=G4UIZKIQVPJM9D31XQVR1E9Z}, hair={color=Red, type=Curly}, password=noahhpass, eyeColor=Brown, company={name=Botsford, Marquardt and Roberts, address={country=United States, address=62 Third Street, city=Seattle, postalCode=83474, coordinates={lng=-13.173207, lat=19.490447}, stateCode=OR, state=Oregon}, title=Database Administrator, department=Engineering}, id=13, email=noah.hernandez@x.dummyjson.com, height=188.62, image=https://dummyjson.com/icon/noahh/128, address={country=United States, address=1413 Maple Street, city=New York, postalCode=73696, coordinates={lng=-151.70469, lat=-25.0377}, stateCode=ND, state=North Dakota}, ip=169.154.126.57, weight=69.49, userAgent=Mozilla/5.0 (Windows NT 10.0; Win64; x64) AppleWebKit/537.36 (KHTML, like Gecko) Chrome/95.0.4638.54 Safari/537.36, birthDate=1984-6-5, crypto={wallet=0xb9fc2fe63b2a6c003f1c324c3bfa53259162181a, network=Ethereum (ERC20), coin=Bitcoin}, firstName=Noah, macAddress=d4:fe:ae:8f:eb:a3, phone=+49 393-605-6968, age=40, username=noahh}, {lastName=Lopez, role=moderator, gender=female, university=Northeastern University, maidenName=Martinez, ein=364-782, ssn=255-491-479, bloodGroup=AB-, bank={cardType=Maestro, cardExpire=02/27, currency=CNY, cardNumber=5675368650551956, iban=FKK6U634LGI3E7N517DLVVTL}, hair={color=Gray, type=Kinky}, password=charlottempass, eyeColor=Brown, company={name=Zulauf and Sons, address={country=United States, address=569 Jefferson Street, city=Los Angeles, postalCode=17779, coordinates={lng=22.566258, lat=-18.371256}, stateCode=MT, state=Montana}, title=Chief Executive Officer, department=Accounting}, id=14, email=charlotte.lopez@x.dummyjson.com, height=178.92, image=https://dummyjson.com/icon/charlottem/128, address={country=United States, address=208 Second Street, city=Columbus, postalCode=42044, coordinates={lng=-151.420561, lat=-44.443762}, stateCode=OH, state=Ohio}, ip=119.103.95.60, weight=82.46, userAgent=Mozilla/5.0 (Windows NT 10.0; Win64; x64) AppleWebKit/537.36 (KHTML, like Gecko) Chrome/96.0.4664.45 Safari/537.36, birthDate=1988-6-8, crypto={wallet=0xb9fc2fe63b2a6c003f1c324c3bfa53259162181a, network=Ethereum (ERC20), coin=Bitcoin}, firstName=Charlotte, macAddress=f6:ff:37:aa:6c:f1, phone=+44 373-953-5028, age=36, username=charlottem}, {lastName=Gonzalez, role=moderator, gender=male, university=Tufts University, maidenName=, ein=830-515, ssn=690-544-755, bloodGroup=B-, bank={cardType=Mir, cardExpire=03/27, currency=EUR, cardNumber=6053000793215148, iban=AR01SNDMKGECX0EYH7UCW61W}, hair={color=Gray, type=Curly}, password=williamgpass, eyeColor=Hazel, company={name=Spinka - Dickinson, address={country=United States, address=1538 Eighth Street, city=San Jose, postalCode=29673, coordinates={lng=-29.395167, lat=24.169361}, stateCode=MO, state=Missouri}, title=Software Architect, department=Marketing}, id=15, email=william.gonzalez@x.dummyjson.com, height=173.21, image=https://dummyjson.com/icon/williamg/128, address={country=United States, address=31 Maple Street, city=San Jose, postalCode=78243, coordinates={lng=113.29799, lat=8.152876}, stateCode=UT, state=Utah}, ip=250.2.241.204, weight=82.41, userAgent=Mozilla/5.0 (Macintosh; Intel Mac OS X 10_15_7) AppleWebKit/537.36 (KHTML, like Gecko) Chrome/96.0.4664.93 Safari/537.36, birthDate=1992-3-27, crypto={wallet=0xb9fc2fe63b2a6c003f1c324c3bfa53259162181a, network=Ethereum (ERC20), coin=Bitcoin}, firstName=William, macAddress=f5:68:28:f9:ec:89, phone=+81 905-252-7319, age=32, username=williamg}, {lastName=Perez, role=user, gender=female, university=Harvard University, maidenName=, ein=348-493, ssn=679-523-686, bloodGroup=O-, bank={cardType=Carte Bancaire, cardExpire=04/27, currency=USD, cardNumber=0961014686718571, iban=28JYZAY4KYT48YI8QW40PWXR}, hair={color=Green, type=Curly}, password=averyppass, eyeColor=Brown, company={name=Herzog Inc, address={country=United States, address=183 Maple Street, city=New York, postalCode=45238, coordinates={lng=105.835271, lat=-53.318189}, stateCode=RI, state=Rhode Island}, title=Database Administrator, department=Accounting}, id=16, email=avery.perez@x.dummyjson.com, height=172.68, image=https://dummyjson.com/icon/averyp/128, address={country=United States, address=1125 First Street, city=Columbus, postalCode=30973, coordinates={lng=85.792598, lat=12.789127}, stateCode=IA, state=Iowa}, ip=131.217.4.214, weight=93.9, userAgent=Mozilla/5.0 (Macintosh; Intel Mac OS X 10_15_7) AppleWebKit/537.36 (KHTML, like Gecko) Chrome/95.0.4638.69 Safari/537.36, birthDate=1999-3-10, crypto={wallet=0xb9fc2fe63b2a6c003f1c324c3bfa53259162181a, network=Ethereum (ERC20), coin=Bitcoin}, firstName=Avery, macAddress=b3:ff:f3:c5:37:46, phone=+61 731-431-3457, age=25, username=averyp}, {lastName=Sanchez, role=user, gender=female, university=Washington University in St. Louis, maidenName=, ein=604-817, ssn=689-332-644, bloodGroup=B+, bank={cardType=UnionPay, cardExpire=04/29, currency=SEK, cardNumber=4557521697420096, iban=KN8XAPR2J5UB8AKDI1EVJ56R}, hair={color=Blue, type=Curly}, password=evelynspass, eyeColor=Violet, company={name=Predovic - Johns, address={country=United States, address=1802 Ninth Street, city=San Diego, postalCode=89416, coordinates={lng=-78.004598, lat=29.034592}, stateCode=MN, state=Minnesota}, title=Chief Financial Officer, department=Support}, id=17, email=evelyn.sanchez@x.dummyjson.com, height=184.08, image=https://dummyjson.com/icon/evelyns/128, address={country=United States, address=1170 Lincoln Street, city=San Diego, postalCode=43423, coordinates={lng=11.768071, lat=-83.31484}, stateCode=WY, state=Wyoming}, ip=87.114.135.146, weight=83.15, userAgent=Mozilla/5.0 (Macintosh; Intel Mac OS X 10_15_7) AppleWebKit/537.36 (KHTML, like Gecko) Chrome/96.0.4664.45 Safari/537.36, birthDate=1987-10-13, crypto={wallet=0xb9fc2fe63b2a6c003f1c324c3bfa53259162181a, network=Ethereum (ERC20), coin=Bitcoin}, firstName=Evelyn, macAddress=f8:e5:bd:43:bc:d8, phone=+1 623-880-6871, age=37, username=evelyns}, {lastName=Torres, role=user, gender=male, university=University of Illinois--Urbana-Champaign, maidenName=, ein=576-218, ssn=806-639-934, bloodGroup=A+, bank={cardType=UnionPay, cardExpire=05/26, currency=NZD, cardNumber=7884268130452098, iban=HZM7V9PYHPZBN72IDFPXGN8Q}, hair={color=Green, type=Curly}, password=logantpass, eyeColor=Green, company={name=Jast - Nader, address={country=United States, address=947 Main Street, city=Denver, postalCode=71896, coordinates={lng=-147.255268, lat=-24.654063}, stateCode=MN, state=Minnesota}, title=Data Analyst, department=Training}, id=18, email=logan.torres@x.dummyjson.com, height=190.04, image=https://dummyjson.com/icon/logant/128, address={country=United States, address=907 Seventh Street, city=Columbus, postalCode=78805, coordinates={lng=174.775744, lat=-64.846516}, stateCode=AR, state=Arkansas}, ip=155.98.15.162, weight=72.43, userAgent=Mozilla/5.0 (Macintosh; Intel Mac OS X 10_15_7) AppleWebKit/537.36 (KHTML, like Gecko) Chrome/96.0.4664.45 Safari/537.36, birthDate=1993-10-26, crypto={wallet=0xb9fc2fe63b2a6c003f1c324c3bfa53259162181a, network=Ethereum (ERC20), coin=Bitcoin}, firstName=Logan, macAddress=40:d:5c:1:7d:bf, phone=+81 507-434-8733, age=31, username=logant}, {lastName=Rivera, role=user, gender=female, university=California Institute of Technology (Caltech), maidenName=, ein=173-637, ssn=655-823-929, bloodGroup=B+, bank={cardType=RuPay, cardExpire=02/28, currency=BRL, cardNumber=4832361886407551, iban=O02LHDNNFCVSM6D4H81DIQHE}, hair={color=Blue, type=Kinky}, password=abigailrpass, eyeColor=Violet, company={name=Prohaska - Thiel, address={country=United States, address=1402 Adams Street, city=Austin, postalCode=51456, coordinates={lng=-76.54967, lat=25.672938}, stateCode=WI, state=Wisconsin}, title=Business Analyst, department=Human Resources}, id=19, email=abigail.rivera@x.dummyjson.com, height=186.39, image=https://dummyjson.com/icon/abigailr/128, address={country=United States, address=996 Oak Street, city=Chicago, postalCode=11407, coordinates={lng=-3.723903, lat=44.321308}, stateCode=NM, state=New Mexico}, ip=19.183.240.94, weight=74.61, userAgent=Mozilla/5.0 (Windows NT 10.0; Win64; x64) AppleWebKit/537.36 (KHTML, like Gecko) Edge/97.0.1072.76 Safari/537.36, birthDate=1996-10-11, crypto={wallet=0xb9fc2fe63b2a6c003f1c324c3bfa53259162181a, network=Ethereum (ERC20), coin=Bitcoin}, firstName=Abigail, macAddress=1d:a6:58:2a:e5:e4, phone=+91 228-363-7806, age=28, username=abigailr}, {lastName=Evans, role=user, gender=male, university=Ohio State University, maidenName=, ein=843-260, ssn=248-787-886, bloodGroup=O-, bank={cardType=BC Card, cardExpire=04/26, currency=EUR, cardNumber=2109192842527801, iban=TX26FO9B7YR2VHYDSJBE32AX}, hair={color=Red, type=Straight}, password=jacksonepass, eyeColor=Green, company={name=Kuhlman LLC, address={country=United States, address=1706 First Street, city=Chicago, postalCode=34725, coordinates={lng=-83.224516, lat=-80.416937}, stateCode=HI, state=Hawaii}, title=Web Developer, department=Legal}, id=20, email=jackson.evans@x.dummyjson.com, height=162.57, image=https://dummyjson.com/icon/jacksone/128, address={country=United States, address=1873 Main Street, city=New York, postalCode=26600, coordinates={lng=63.448927, lat=34.722451}, stateCode=AR, state=Arkansas}, ip=221.127.144.198, weight=74.37, userAgent=Mozilla/5.0 (Macintosh; Intel Mac OS X 10_15_7) AppleWebKit/537.36 (KHTML, like Gecko) Chrome/97.0.4692.99 Safari/537.36, birthDate=1990-11-30, crypto={wallet=0xb9fc2fe63b2a6c003f1c324c3bfa53259162181a, network=Ethereum (ERC20), coin=Bitcoin}, firstName=Jackson, macAddress=81:14:1:97:88:85, phone=+44 468-628-6686, age=34, username=jacksone}, {lastName=Collins, role=user, gender=female, university=University of Pennsylvania, maidenName=, ein=716-166, ssn=457-258-950, bloodGroup=B-, bank={cardType=Mir, cardExpire=04/28, currency=CNY, cardNumber=5549175461210252, iban=Y0WSN5IED255808SIYBUOMWO}, hair={color=Gray, type=Curly}, password=madisoncpass, eyeColor=Red, company={name=Mayer - Smitham, address={country=United States, address=1438 Main Street, city=San Diego, postalCode=63144, coordinates={lng=23.232982, lat=1.629613}, stateCode=DE, state=Delaware}, title=Chief Technology Officer, department=Engineering}, id=21, email=madison.collins@x.dummyjson.com, height=189.28, image=https://dummyjson.com/icon/madisonc/128, address={country=United States, address=1892 Lincoln Street, city=Philadelphia, postalCode=62091, coordinates={lng=160.486892, lat=52.993694}, stateCode=NJ, state=New Jersey}, ip=85.34.1.204, weight=56.96, userAgent=Mozilla/5.0 (Macintosh; Intel Mac OS X 10_15_7) AppleWebKit/537.36 (KHTML, like Gecko) Chrome/97.0.4692.99 Safari/537.36, birthDate=1998-3-7, crypto={wallet=0xb9fc2fe63b2a6c003f1c324c3bfa53259162181a, network=Ethereum (ERC20), coin=Bitcoin}, firstName=Madison, macAddress=13:b0:d0:23:4d:26, phone=+81 259-957-5711, age=26, username=madisonc}, {lastName=Stewart, role=user, gender=male, university=Georgetown University, maidenName=, ein=520-394, ssn=287-380-801, bloodGroup=A-, bank={cardType=JCB, cardExpire=05/27, currency=GBP, cardNumber=0798116671286564, iban=E1XUHCC1N39WGU6XESSK1CAO}, hair={color=Purple, type=Straight}, password=elijahspass, eyeColor=Blue, company={name=Langworth Group, address={country=United States, address=155 Ninth Street, city=Washington, postalCode=19039, coordinates={lng=-12.607767, lat=61.279254}, stateCode=SD, state=South Dakota}, title=Business Analyst, department=Legal}, id=22, email=elijah.stewart@x.dummyjson.com, height=195.33, image=https://dummyjson.com/icon/elijahs/128, address={country=United States, address=1701 Eighth Street, city=Columbus, postalCode=31585, coordinates={lng=-174.504027, lat=-54.833799}, stateCode=IL, state=Illinois}, ip=23.87.135.62, weight=81.64, userAgent=Mozilla/5.0 (Macintosh; Intel Mac OS X 10_15_7) AppleWebKit/537.36 (KHTML, like Gecko) Chrome/96.0.4664.93 Safari/537.36, birthDate=1991-10-22, crypto={wallet=0xb9fc2fe63b2a6c003f1c324c3bfa53259162181a, network=Ethereum (ERC20), coin=Bitcoin}, firstName=Elijah, macAddress=75:17:c6:35:fc:6d, phone=+44 468-357-7872, age=33, username=elijahs}, {lastName=Morales, role=user, gender=female, university=Syracuse University, maidenName=, ein=913-597, ssn=938-883-163, bloodGroup=O+, bank={cardType=American Express, cardExpire=05/28, currency=PKR, cardNumber=3150496938377346, iban=P7YLGOOBWBD1SRWDWSFO3PZ0}, hair={color=Red, type=Kinky}, password=chloempass, eyeColor=Brown, company={name=Grady LLC, address={country=United States, address=269 Third Street, city=Houston, postalCode=10385, coordinates={lng=-1.762972, lat=40.098115}, stateCode=NC, state=North Carolina}, title=Database Administrator, department=Sales}, id=23, email=chloe.morales@x.dummyjson.com, height=185.07, image=https://dummyjson.com/icon/chloem/128, address={country=United States, address=401 Fourth Street, city=Dallas, postalCode=54972, coordinates={lng=-58.705979, lat=-30.190759}, stateCode=NJ, state=New Jersey}, ip=66.78.20.21, weight=63.97, userAgent=Mozilla/5.0 (Windows NT 10.0; Win64; x64) AppleWebKit/537.36 (KHTML, like Gecko) Chrome/96.0.4664.93 Safari/537.36, birthDate=1985-4-21, crypto={wallet=0xb9fc2fe63b2a6c003f1c324c3bfa53259162181a, network=Ethereum (ERC20), coin=Bitcoin}, firstName=Chloe, macAddress=fc:f:29:e1:37:b8, phone=+92 468-541-7133, age=39, username=chloem}, {lastName=Nguyen, role=user, gender=male, university=Columbia University, maidenName=, ein=229-249, ssn=416-877-230, bloodGroup=O+, bank={cardType=JCB, cardExpire=03/26, currency=TRY, cardNumber=5545852224851851, iban=WEBE9SBX588VFUCVCA6KFHWB}, hair={color=Purple, type=Wavy}, password=mateonpass, eyeColor=Red, company={name=Spinka LLC, address={country=United States, address=1967 Jefferson Street, city=Dallas, postalCode=78527, coordinates={lng=164.459743, lat=75.982676}, stateCode=LA, state=Louisiana}, title=Business Analyst, department=Accounting}, id=24, email=mateo.nguyen@x.dummyjson.com, height=174.29, image=https://dummyjson.com/icon/mateon/128, address={country=United States, address=1578 Fourth Street, city=Columbus, postalCode=20673, coordinates={lng=-82.557354, lat=-32.828675}, stateCode=MO, state=Missouri}, ip=192.57.144.7, weight=59.98, userAgent=Mozilla/5.0 (Windows NT 10.0; Win64; x64) AppleWebKit/537.36 (KHTML, like Gecko) Chrome/95.0.4638.69 Safari/537.36, birthDate=1994-6-2, crypto={wallet=0xb9fc2fe63b2a6c003f1c324c3bfa53259162181a, network=Ethereum (ERC20), coin=Bitcoin}, firstName=Mateo, macAddress=a7:26:10:7a:36:29, phone=+1 341-597-6694, age=30, username=mateon}, {lastName=Kelly, role=user, gender=female, university=Boston College, maidenName=Evans, ein=592-557, ssn=209-544-548, bloodGroup=AB-, bank={cardType=RuPay, cardExpire=04/26, currency=JPY, cardNumber=1298153007505587, iban=DJI19LCUNUHP6YSGPY52D5VG}, hair={color=Red, type=Curly}, password=harperepass, eyeColor=Amber, company={name=Leffler, Rolfson and Becker, address={country=United States, address=16 Maple Street, city=Austin, postalCode=68274, coordinates={lng=149.298887, lat=-15.423746}, stateCode=NC, state=North Carolina}, title=Business Development Manager, department=Legal}, id=25, email=harper.kelly@x.dummyjson.com, height=184.32, image=https://dummyjson.com/icon/harpere/128, address={country=United States, address=1591 Adams Street, city=Philadelphia, postalCode=69521, coordinates={lng=-75.445017, lat=-26.832913}, stateCode=NY, state=New York}, ip=174.111.61.162, weight=81.69, userAgent=Mozilla/5.0 (Macintosh; Intel Mac OS X 10_15_7) AppleWebKit/537.36 (KHTML, like Gecko) Chrome/97.0.4692.99 Safari/537.36, birthDate=1997-3-3, crypto={wallet=0xb9fc2fe63b2a6c003f1c324c3bfa53259162181a, network=Ethereum (ERC20), coin=Bitcoin}, firstName=Harper, macAddress=b:ff:33:67:94:e4, phone=+92 518-863-2863, age=27, username=harpere}, {lastName=Gonzalez, role=user, gender=female, university=Washington University in St. Louis, maidenName=, ein=569-275, ssn=487-680-127, bloodGroup=O+, bank={cardType=RuPay, cardExpire=03/28, currency=INR, cardNumber=9584313788145560, iban=X4UPULQG61VIGA97USY7AAEB}, hair={color=Black, type=Wavy}, password=evelyngpass, eyeColor=Red, company={name=Tromp, Gaylord and Weber, address={country=United States, address=584 Ninth Street, city=Jacksonville, postalCode=45633, coordinates={lng=40.572436, lat=26.014021}, stateCode=WI, state=Wisconsin}, title=Project Manager, department=Accounting}, id=26, email=evelyn.gonzalez@x.dummyjson.com, height=168.94, image=https://dummyjson.com/icon/evelyng/128, address={country=United States, address=1065 Lincoln Street, city=Dallas, postalCode=84898, coordinates={lng=71.268643, lat=67.768359}, stateCode=ME, state=Maine}, ip=42.52.74.232, weight=58.47, userAgent=Mozilla/5.0 (Windows NT 10.0; Win64; x64) AppleWebKit/537.36 (KHTML, like Gecko) Chrome/95.0.4638.54 Safari/537.36, birthDate=1989-2-5, crypto={wallet=0xb9fc2fe63b2a6c003f1c324c3bfa53259162181a, network=Ethereum (ERC20), coin=Bitcoin}, firstName=Evelyn, macAddress=89:5e:5a:2a:72:42, phone=+61 708-508-4638, age=35, username=evelyng}, {lastName=Cook, role=user, gender=male, university=Columbia University, maidenName=, ein=585-905, ssn=645-515-583, bloodGroup=AB+, bank={cardType=Korean Express, cardExpire=01/26, currency=NZD, cardNumber=8452555751345228, iban=A8DBPECO4X6D09WYOVT8UZK8}, hair={color=Blonde, type=Curly}, password=danielcpass, eyeColor=Brown, company={name=Morissette, Baumbach and Auer, address={country=United States, address=938 Fifth Street, city=San Francisco, postalCode=45305, coordinates={lng=-83.531427, lat=21.323588}, stateCode=SD, state=South Dakota}, title=Legal Counsel, department=Support}, id=27, email=daniel.cook@x.dummyjson.com, height=186.21, image=https://dummyjson.com/icon/danielc/128, address={country=United States, address=1163 Pine Street, city=Los Angeles, postalCode=58781, coordinates={lng=-134.937482, lat=-3.456681}, stateCode=NV, state=Nevada}, ip=1.61.73.142, weight=83.72, userAgent=Mozilla/5.0 (Windows NT 10.0; Win64; x64; rv:97.0) Gecko/20100101 Firefox/97.0, birthDate=1983-12-25, crypto={wallet=0xb9fc2fe63b2a6c003f1c324c3bfa53259162181a, network=Ethereum (ERC20), coin=Bitcoin}, firstName=Daniel, macAddress=6e:73:dc:3a:85:10, phone=+44 254-761-6843, age=41, username=danielc}, {lastName=Lee, role=user, gender=female, university=Johns Hopkins University, maidenName=Brown, ein=229-776, ssn=358-185-671, bloodGroup=AB-, bank={cardType=Visa, cardExpire=05/29, currency=JPY, cardNumber=2903637820228856, iban=BKX6ZWB8UJZD09RFOWFPPD3C}, hair={color=Purple, type=Straight}, password=lilybpass, eyeColor=Gray, company={name=Cremin Inc, address={country=United States, address=1735 Cedar Street, city=Phoenix, postalCode=85797, coordinates={lng=-158.147245, lat=72.231441}, stateCode=WY, state=Wyoming}, title=Quality Assurance Engineer, department=Product Management}, id=28, email=lily.lee@x.dummyjson.com, height=181.42, image=https://dummyjson.com/icon/lilyb/128, address={country=United States, address=1946 Oak Street, city=Phoenix, postalCode=41540, coordinates={lng=-72.336845, lat=-9.87059}, stateCode=MA, state=Massachusetts}, ip=67.184.255.96, weight=51.49, userAgent=Mozilla/5.0 (Windows NT 10.0; Win64; x64) AppleWebKit/537.36 (KHTML, like Gecko) Edge/97.0.1072.76 Safari/537.36, birthDate=1995-12-3, crypto={wallet=0xb9fc2fe63b2a6c003f1c324c3bfa53259162181a, network=Ethereum (ERC20), coin=Bitcoin}, firstName=Lily, macAddress=18:b6:c7:a:50:3f, phone=+1 808-757-9867, age=29, username=lilyb}, {lastName=Hill, role=user, gender=male, university=University of Illinois--Urbana-Champaign, maidenName=, ein=118-957, ssn=925-686-100, bloodGroup=O-, bank={cardType=Diners Club International, cardExpire=02/26, currency=SEK, cardNumber=7262597174206766, iban=7N3JP8KN9AUNXOWRQGAU2JX6}, hair={color=Black, type=Straight}, password=henryhpass, eyeColor=Gray, company={name=Gerlach, Funk and Schoen, address={country=United States, address=1651 Lincoln Street, city=San Francisco, postalCode=61805, coordinates={lng=-12.405368, lat=-59.936335}, stateCode=WV, state=West Virginia}, title=Sales Manager, department=Services}, id=29, email=henry.hill@x.dummyjson.com, height=180.25, image=https://dummyjson.com/icon/henryh/128, address={country=United States, address=1837 Maple Street, city=Indianapolis, postalCode=81783, coordinates={lng=154.088476, lat=35.498256}, stateCode=DE, state=Delaware}, ip=194.43.55.202, weight=95.84, userAgent=Mozilla/5.0 (Windows NT 10.0; Win64; x64) AppleWebKit/537.36 (KHTML, like Gecko) Chrome/96.0.4664.93 Safari/537.36, birthDate=1986-8-19, crypto={wallet=0xb9fc2fe63b2a6c003f1c324c3bfa53259162181a, network=Ethereum (ERC20), coin=Bitcoin}, firstName=Henry, macAddress=fa:c3:1b:21:5f:44, phone=+1 240-833-4680, age=38, username=henryh}, {lastName=Wright, role=user, gender=female, university=Syracuse University, maidenName=, ein=415-286, ssn=804-492-390, bloodGroup=B+, bank={cardType=Carte Bancaire, cardExpire=05/28, currency=JPY, cardNumber=3756638438861539, iban=OOPQTNZ74OLPKVT7TGB89UQL}, hair={color=Blonde, type=Straight}, password=addisonwpass, eyeColor=Brown, company={name=Kreiger Inc, address={country=United States, address=1173 Eighth Street, city=San Diego, postalCode=85777, coordinates={lng=87.142893, lat=65.324413}, stateCode=MI, state=Michigan}, title=Human Resources Manager, department=Services}, id=30, email=addison.wright@x.dummyjson.com, height=179.32, image=https://dummyjson.com/icon/addisonw/128, address={country=United States, address=568 Tenth Street, city=San Francisco, postalCode=54698, coordinates={lng=100.228822, lat=20.946052}, stateCode=MT, state=Montana}, ip=11.35.69.81, weight=76.93, userAgent=Mozilla/5.0 (Macintosh; Intel Mac OS X 10_15_7) AppleWebKit/537.36 (KHTML, like Gecko) Chrome/96.0.4664.93 Safari/537.36, birthDate=1992-1-3, crypto={wallet=0xb9fc2fe63b2a6c003f1c324c3bfa53259162181a, network=Ethereum (ERC20), coin=Bitcoin}, firstName=Addison, macAddress=fb:0:94:21:16:c, phone=+1 514-384-3300, age=32, username=addisonw}]}</td></tr></tbody></table></div>"
      ]
     },
     "metadata": {
      "application/vnd.databricks.v1+output": {
       "addedWidgets": {},
       "aggData": [],
       "aggError": "",
       "aggOverflow": false,
       "aggSchema": [],
       "aggSeriesLimitReached": false,
       "aggType": "",
       "arguments": {},
       "columnCustomDisplayInfos": {},
       "data": [
        [
         0,
         50,
         "{limit=30, total=208, skip=0, users=[{lastName=Johnson, role=admin, gender=female, university=University of Wisconsin--Madison, maidenName=Smith, ein=977-175, ssn=900-590-289, bloodGroup=O-, bank={cardType=Elo, cardExpire=03/26, currency=CNY, cardNumber=9289760655481815, iban=YPUXISOBI7TTHPK2BR3HAIXL}, hair={color=Brown, type=Curly}, password=emilyspass, eyeColor=Green, company={name=Dooley, Kozey and Cronin, address={country=United States, address=263 Tenth Street, city=San Francisco, postalCode=37657, coordinates={lng=-161.150263, lat=71.814525}, stateCode=WI, state=Wisconsin}, title=Sales Manager, department=Engineering}, id=1, email=emily.johnson@x.dummyjson.com, height=193.24, image=https://dummyjson.com/icon/emilys/128, address={country=United States, address=626 Main Street, city=Phoenix, postalCode=29112, coordinates={lng=-92.084824, lat=-77.16213}, stateCode=MS, state=Mississippi}, ip=42.48.100.32, weight=63.16, userAgent=Mozilla/5.0 (Macintosh; Intel Mac OS X 10_15_7) AppleWebKit/537.36 (KHTML, like Gecko) Chrome/96.0.4664.93 Safari/537.36, birthDate=1996-5-30, crypto={wallet=0xb9fc2fe63b2a6c003f1c324c3bfa53259162181a, network=Ethereum (ERC20), coin=Bitcoin}, firstName=Emily, macAddress=47:fa:41:18:ec:eb, phone=+81 965-431-3024, age=28, username=emilys}, {lastName=Williams, role=admin, gender=male, university=Ohio State University, maidenName=, ein=912-602, ssn=108-953-962, bloodGroup=B+, bank={cardType=Elo, cardExpire=02/27, currency=SEK, cardNumber=6737807858721625, iban=83IDT77FWYLCJVR8ISDACFH0}, hair={color=Green, type=Straight}, password=michaelwpass, eyeColor=Red, company={name=Spinka - Dickinson, address={country=United States, address=395 Main Street, city=Los Angeles, postalCode=73442, coordinates={lng=-119.624845, lat=79.098326}, stateCode=NH, state=New Hampshire}, title=Support Specialist, department=Support}, id=2, email=michael.williams@x.dummyjson.com, height=186.22, image=https://dummyjson.com/icon/michaelw/128, address={country=United States, address=385 Fifth Street, city=Houston, postalCode=38807, coordinates={lng=115.608581, lat=22.815468}, stateCode=AL, state=Alabama}, ip=12.13.116.142, weight=76.32, userAgent=Mozilla/5.0 (Windows NT 10.0; Win64; x64) AppleWebKit/537.36 (KHTML, like Gecko) Edge/97.0.1072.76 Safari/537.36, birthDate=1989-8-10, crypto={wallet=0xb9fc2fe63b2a6c003f1c324c3bfa53259162181a, network=Ethereum (ERC20), coin=Bitcoin}, firstName=Michael, macAddress=79:15:78:99:60:aa, phone=+49 258-627-6644, age=35, username=michaelw}, {lastName=Brown, role=admin, gender=female, university=Pepperdine University, maidenName=, ein=963-113, ssn=638-461-822, bloodGroup=O-, bank={cardType=Korean Express, cardExpire=04/25, currency=SEK, cardNumber=7795895470082859, iban=90XYKT83LMM7AARZ8JN958JC}, hair={color=White, type=Wavy}, password=sophiabpass, eyeColor=Hazel, company={name=Schiller - Zieme, address={country=United States, address=1896 Washington Street, city=Dallas, postalCode=88511, coordinates={lng=-34.577107, lat=20.086743}, stateCode=NV, state=Nevada}, title=Accountant, department=Research and Development}, id=3, email=sophia.brown@x.dummyjson.com, height=177.72, image=https://dummyjson.com/icon/sophiab/128, address={country=United States, address=1642 Ninth Street, city=Washington, postalCode=32822, coordinates={lng=46.832664, lat=45.289366}, stateCode=AL, state=Alabama}, ip=214.225.51.195, weight=52.6, userAgent=Mozilla/5.0 (Windows NT 10.0; Win64; x64) AppleWebKit/537.36 (KHTML, like Gecko) Chrome/96.0.4664.45 Safari/537.36, birthDate=1982-11-6, crypto={wallet=0xb9fc2fe63b2a6c003f1c324c3bfa53259162181a, network=Ethereum (ERC20), coin=Bitcoin}, firstName=Sophia, macAddress=12:a3:d3:6f:5c:5b, phone=+81 210-652-2785, age=42, username=sophiab}, {lastName=Davis, role=admin, gender=male, university=University of Southern California, maidenName=, ein=904-810, ssn=116-951-314, bloodGroup=AB+, bank={cardType=Mastercard, cardExpire=05/29, currency=INR, cardNumber=5005519846254763, iban=7N7ZH1PJ8Q4WU1K965HQQR27}, hair={color=Blonde, type=Straight}, password=jamesdpass, eyeColor=Amber, company={name=Pagac and Sons, address={country=United States, address=1622 Lincoln Street, city=Fort Worth, postalCode=27768, coordinates={lng=-79.498328, lat=54.91193}, stateCode=PA, state=Pennsylvania}, title=Research Analyst, department=Support}, id=4, email=james.davis@x.dummyjson.com, height=193.31, image=https://dummyjson.com/icon/jamesd/128, address={country=United States, address=238 Jefferson Street, city=Seattle, postalCode=68354, coordinates={lng=-139.34723, lat=16.782513}, stateCode=PA, state=Pennsylvania}, ip=101.118.131.66, weight=62.1, userAgent=Mozilla/5.0 (Macintosh; Intel Mac OS X 10_15_7) AppleWebKit/537.36 (KHTML, like Gecko) Chrome/97.0.4692.99 Safari/537.36, birthDate=1979-5-4, crypto={wallet=0xb9fc2fe63b2a6c003f1c324c3bfa53259162181a, network=Ethereum (ERC20), coin=Bitcoin}, firstName=James, macAddress=10:7d:df:1f:97:58, phone=+49 614-958-9364, age=45, username=jamesd}, {lastName=Miller, role=admin, gender=female, university=Northeastern University, maidenName=Johnson, ein=403-505, ssn=526-210-885, bloodGroup=AB-, bank={cardType=American Express, cardExpire=03/26, currency=CAD, cardNumber=5772950119588627, iban=TAVHURD845KVBTB8W81AQXRY}, hair={color=White, type=Straight}, password=emmajpass, eyeColor=Green, company={name=Graham - Gulgowski, address={country=United States, address=1460 Sixth Street, city=San Antonio, postalCode=21965, coordinates={lng=-26.944701, lat=44.346545}, stateCode=ID, state=Idaho}, title=Quality Assurance Engineer, department=Human Resources}, id=5, email=emma.miller@x.dummyjson.com, height=192.8, image=https://dummyjson.com/icon/emmaj/128, address={country=United States, address=607 Fourth Street, city=Jacksonville, postalCode=26593, coordinates={lng=-157.43281, lat=0.505589}, stateCode=CO, state=Colorado}, ip=224.126.22.183, weight=63.62, userAgent=Mozilla/5.0 (Windows NT 10.0; Win64; x64; rv:97.0) Gecko/20100101 Firefox/97.0, birthDate=1994-6-13, crypto={wallet=0xb9fc2fe63b2a6c003f1c324c3bfa53259162181a, network=Ethereum (ERC20), coin=Bitcoin}, firstName=Emma, macAddress=32:b9:7e:8d:f5:e8, phone=+91 759-776-1614, age=30, username=emmaj}, {lastName=Wilson, role=moderator, gender=female, university=University of North Carolina--Chapel Hill, maidenName=, ein=921-709, ssn=836-772-168, bloodGroup=B+, bank={cardType=Diners Club International, cardExpire=05/28, currency=BRL, cardNumber=6771923832947881, iban=V6H0O5OE3Q4JVKWDTYWZABMD}, hair={color=Gray, type=Curly}, password=oliviawpass, eyeColor=Hazel, company={name=Pfannerstill Inc, address={country=United States, address=425 Sixth Street, city=Indianapolis, postalCode=74263, coordinates={lng=-132.916888, lat=74.986644}, stateCode=OK, state=Oklahoma}, title=Research Analyst, department=Product Management}, id=6, email=olivia.wilson@x.dummyjson.com, height=182.61, image=https://dummyjson.com/icon/oliviaw/128, address={country=United States, address=547 First Street, city=Fort Worth, postalCode=83843, coordinates={lng=-26.15285, lat=75.32627}, stateCode=TN, state=Tennessee}, ip=249.178.112.207, weight=58, userAgent=Mozilla/5.0 (Macintosh; Intel Mac OS X 10_15_7) AppleWebKit/605.1.15 (KHTML, like Gecko) Version/15.3 Safari/605.1.15, birthDate=2002-4-20, crypto={wallet=0xb9fc2fe63b2a6c003f1c324c3bfa53259162181a, network=Ethereum (ERC20), coin=Bitcoin}, firstName=Olivia, macAddress=9c:7f:ea:34:18:19, phone=+91 607-295-6448, age=22, username=oliviaw}, {lastName=Jones, role=moderator, gender=male, university=University of Illinois--Urbana-Champaign, maidenName=, ein=638-127, ssn=722-993-925, bloodGroup=AB-, bank={cardType=JCB, cardExpire=05/25, currency=EUR, cardNumber=7344951706130140, iban=49V4GVDVMP0MHIDD4VXMQ3A2}, hair={color=White, type=Straight}, password=alexanderjpass, eyeColor=Blue, company={name=Dickens - Beahan, address={country=United States, address=996 Eighth Street, city=Washington, postalCode=27858, coordinates={lng=-128.025697, lat=-75.462366}, stateCode=KS, state=Kansas}, title=Web Developer, department=Engineering}, id=7, email=alexander.jones@x.dummyjson.com, height=153.89, image=https://dummyjson.com/icon/alexanderj/128, address={country=United States, address=664 Maple Street, city=Indianapolis, postalCode=86684, coordinates={lng=7.063255, lat=35.289664}, stateCode=DE, state=Delaware}, ip=166.204.84.32, weight=77.42, userAgent=Mozilla/5.0 (Macintosh; Intel Mac OS X 10_15_7) AppleWebKit/537.36 (KHTML, like Gecko) Chrome/95.0.4638.69 Safari/537.36, birthDate=1986-10-20, crypto={wallet=0xb9fc2fe63b2a6c003f1c324c3bfa53259162181a, network=Ethereum (ERC20), coin=Bitcoin}, firstName=Alexander, macAddress=d2:64:58:2d:1c:46, phone=+61 260-824-4986, age=38, username=alexanderj}, {lastName=Taylor, role=moderator, gender=female, university=University of Wisconsin--Madison, maidenName=, ein=297-762, ssn=257-419-109, bloodGroup=AB-, bank={cardType=Maestro, cardExpire=01/29, currency=CNY, cardNumber=6412128967460199, iban=TS66YQ8R16OX7IJKLUONDQHP}, hair={color=Red, type=Kinky}, password=avatpass, eyeColor=Hazel, company={name=Nikolaus Inc, address={country=United States, address=930 Lincoln Street, city=Austin, postalCode=47592, coordinates={lng=-42.769351, lat=87.970083}, stateCode=CO, state=Colorado}, title=Chief Executive Officer, department=Marketing}, id=8, email=ava.taylor@x.dummyjson.com, height=168.47, image=https://dummyjson.com/icon/avat/128, address={country=United States, address=1197 First Street, city=Fort Worth, postalCode=24771, coordinates={lng=-87.948158, lat=-81.194833}, stateCode=RI, state=Rhode Island}, ip=150.73.197.233, weight=57.08, userAgent=Mozilla/5.0 (Windows NT 10.0; Win64; x64) AppleWebKit/537.36 (KHTML, like Gecko) Chrome/96.0.4664.45 Safari/537.36, birthDate=1997-8-25, crypto={wallet=0xb9fc2fe63b2a6c003f1c324c3bfa53259162181a, network=Ethereum (ERC20), coin=Bitcoin}, firstName=Ava, macAddress=8d:2e:c2:d6:e7:a8, phone=+1 458-853-7877, age=27, username=avat}, {lastName=Martinez, role=moderator, gender=male, university=Syracuse University, maidenName=, ein=790-434, ssn=569-650-348, bloodGroup=AB+, bank={cardType=Visa, cardExpire=02/25, currency=CAD, cardNumber=7183482484317509, iban=CW5U5KS23U7JYD22TVQL7SIH}, hair={color=Purple, type=Curly}, password=ethanmpass, eyeColor=Hazel, company={name=Gorczany - Gottlieb, address={country=United States, address=1597 Oak Street, city=Chicago, postalCode=28100, coordinates={lng=-23.209886, lat=-67.45208}, stateCode=FL, state=Florida}, title=Legal Counsel, department=Support}, id=9, email=ethan.martinez@x.dummyjson.com, height=159.19, image=https://dummyjson.com/icon/ethanm/128, address={country=United States, address=466 Pine Street, city=San Antonio, postalCode=72360, coordinates={lng=-25.312703, lat=74.074918}, stateCode=LA, state=Louisiana}, ip=63.191.127.71, weight=68.81, userAgent=Mozilla/5.0 (Windows NT 10.0; Win64; x64) AppleWebKit/537.36 (KHTML, like Gecko) Chrome/95.0.4638.69 Safari/537.36, birthDate=1991-2-12, crypto={wallet=0xb9fc2fe63b2a6c003f1c324c3bfa53259162181a, network=Ethereum (ERC20), coin=Bitcoin}, firstName=Ethan, macAddress=59:e:9e:e3:29:da, phone=+92 933-608-5081, age=33, username=ethanm}, {lastName=Anderson, role=moderator, gender=female, university=California Institute of Technology (Caltech), maidenName=Davis, ein=127-297, ssn=902-438-728, bloodGroup=A-, bank={cardType=NPS, cardExpire=05/27, currency=CNY, cardNumber=6118714010128731, iban=GBZRGDMKUOTO34HBCI7A986J}, hair={color=Blonde, type=Curly}, password=isabelladpass, eyeColor=Brown, company={name=Pollich - Hilpert, address={country=United States, address=1029 Adams Street, city=San Diego, postalCode=63847, coordinates={lng=-62.692681, lat=-25.843393}, stateCode=MD, state=Maryland}, title=Chief Financial Officer, department=Marketing}, id=10, email=isabella.anderson@x.dummyjson.com, height=150.56, image=https://dummyjson.com/icon/isabellad/128, address={country=United States, address=1964 Oak Street, city=New York, postalCode=89352, coordinates={lng=151.782727, lat=41.331324}, stateCode=UT, state=Utah}, ip=114.9.114.205, weight=50.1, userAgent=Mozilla/5.0 (Macintosh; Intel Mac OS X 10_15_7) AppleWebKit/537.36 (KHTML, like Gecko) Chrome/96.0.4664.93 Safari/537.36, birthDate=1993-6-10, crypto={wallet=0xb9fc2fe63b2a6c003f1c324c3bfa53259162181a, network=Ethereum (ERC20), coin=Bitcoin}, firstName=Isabella, macAddress=b1:b0:d0:a2:82:80, phone=+49 770-658-4885, age=31, username=isabellad}, {lastName=Garcia, role=moderator, gender=male, university=Ohio State University, maidenName=, ein=326-604, ssn=933-784-949, bloodGroup=AB-, bank={cardType=Discover, cardExpire=02/27, currency=GBP, cardNumber=2302893002194899, iban=O8ENPRB9UVBL2EFZ7601KC09}, hair={color=Red, type=Wavy}, password=liamgpass, eyeColor=Violet, company={name=Considine - Torp, address={country=United States, address=27 Cedar Street, city=Philadelphia, postalCode=79574, coordinates={lng=31.79423, lat=-81.841588}, stateCode=CT, state=Connecticut}, title=Web Developer, department=Services}, id=11, email=liam.garcia@x.dummyjson.com, height=162.32, image=https://dummyjson.com/icon/liamg/128, address={country=United States, address=576 Fifth Street, city=Denver, postalCode=57252, coordinates={lng=-145.340165, lat=-66.218177}, stateCode=SD, state=South Dakota}, ip=56.201.85.9, weight=93.16, userAgent=Mozilla/5.0 (Macintosh; Intel Mac OS X 10_15_7) AppleWebKit/537.36 (KHTML, like Gecko) Chrome/97.0.4692.99 Safari/537.36, birthDate=1995-6-6, crypto={wallet=0xb9fc2fe63b2a6c003f1c324c3bfa53259162181a, network=Ethereum (ERC20), coin=Bitcoin}, firstName=Liam, macAddress=31:9a:28:8b:99:6c, phone=+92 870-217-6201, age=29, username=liamg}, {lastName=Rodriguez, role=moderator, gender=female, university=William & Mary, maidenName=, ein=754-660, ssn=749-524-124, bloodGroup=O-, bank={cardType=Carte Bancaire, cardExpire=05/26, currency=CAD, cardNumber=1539872303456158, iban=EBMD95RLK8B82ZAZNXBJ09V5}, hair={color=Purple, type=Wavy}, password=miarpass, eyeColor=Blue, company={name=Miller, Schowalter and Wisozk, address={country=United States, address=1039 Washington Street, city=Philadelphia, postalCode=57518, coordinates={lng=164.246103, lat=85.455933}, stateCode=NJ, state=New Jersey}, title=Business Analyst, department=Accounting}, id=12, email=mia.rodriguez@x.dummyjson.com, height=188.08, image=https://dummyjson.com/icon/miar/128, address={country=United States, address=1627 Sixth Street, city=Jacksonville, postalCode=41810, coordinates={lng=-34.865429, lat=24.857497}, stateCode=WV, state=West Virginia}, ip=11.72.253.90, weight=56.03, userAgent=Mozilla/5.0 (Macintosh; Intel Mac OS X 10_15_7) AppleWebKit/537.36 (KHTML, like Gecko) Chrome/95.0.4638.54 Safari/537.36, birthDate=2000-8-4, crypto={wallet=0xb9fc2fe63b2a6c003f1c324c3bfa53259162181a, network=Ethereum (ERC20), coin=Bitcoin}, firstName=Mia, macAddress=53:d7:a4:6:1e:58, phone=+49 989-461-8403, age=24, username=miar}, {lastName=Hernandez, role=moderator, gender=male, university=New York University (NYU), maidenName=, ein=877-628, ssn=660-847-389, bloodGroup=AB+, bank={cardType=Discover, cardExpire=05/26, currency=SEK, cardNumber=1681772579326385, iban=G4UIZKIQVPJM9D31XQVR1E9Z}, hair={color=Red, type=Curly}, password=noahhpass, eyeColor=Brown, company={name=Botsford, Marquardt and Roberts, address={country=United States, address=62 Third Street, city=Seattle, postalCode=83474, coordinates={lng=-13.173207, lat=19.490447}, stateCode=OR, state=Oregon}, title=Database Administrator, department=Engineering}, id=13, email=noah.hernandez@x.dummyjson.com, height=188.62, image=https://dummyjson.com/icon/noahh/128, address={country=United States, address=1413 Maple Street, city=New York, postalCode=73696, coordinates={lng=-151.70469, lat=-25.0377}, stateCode=ND, state=North Dakota}, ip=169.154.126.57, weight=69.49, userAgent=Mozilla/5.0 (Windows NT 10.0; Win64; x64) AppleWebKit/537.36 (KHTML, like Gecko) Chrome/95.0.4638.54 Safari/537.36, birthDate=1984-6-5, crypto={wallet=0xb9fc2fe63b2a6c003f1c324c3bfa53259162181a, network=Ethereum (ERC20), coin=Bitcoin}, firstName=Noah, macAddress=d4:fe:ae:8f:eb:a3, phone=+49 393-605-6968, age=40, username=noahh}, {lastName=Lopez, role=moderator, gender=female, university=Northeastern University, maidenName=Martinez, ein=364-782, ssn=255-491-479, bloodGroup=AB-, bank={cardType=Maestro, cardExpire=02/27, currency=CNY, cardNumber=5675368650551956, iban=FKK6U634LGI3E7N517DLVVTL}, hair={color=Gray, type=Kinky}, password=charlottempass, eyeColor=Brown, company={name=Zulauf and Sons, address={country=United States, address=569 Jefferson Street, city=Los Angeles, postalCode=17779, coordinates={lng=22.566258, lat=-18.371256}, stateCode=MT, state=Montana}, title=Chief Executive Officer, department=Accounting}, id=14, email=charlotte.lopez@x.dummyjson.com, height=178.92, image=https://dummyjson.com/icon/charlottem/128, address={country=United States, address=208 Second Street, city=Columbus, postalCode=42044, coordinates={lng=-151.420561, lat=-44.443762}, stateCode=OH, state=Ohio}, ip=119.103.95.60, weight=82.46, userAgent=Mozilla/5.0 (Windows NT 10.0; Win64; x64) AppleWebKit/537.36 (KHTML, like Gecko) Chrome/96.0.4664.45 Safari/537.36, birthDate=1988-6-8, crypto={wallet=0xb9fc2fe63b2a6c003f1c324c3bfa53259162181a, network=Ethereum (ERC20), coin=Bitcoin}, firstName=Charlotte, macAddress=f6:ff:37:aa:6c:f1, phone=+44 373-953-5028, age=36, username=charlottem}, {lastName=Gonzalez, role=moderator, gender=male, university=Tufts University, maidenName=, ein=830-515, ssn=690-544-755, bloodGroup=B-, bank={cardType=Mir, cardExpire=03/27, currency=EUR, cardNumber=6053000793215148, iban=AR01SNDMKGECX0EYH7UCW61W}, hair={color=Gray, type=Curly}, password=williamgpass, eyeColor=Hazel, company={name=Spinka - Dickinson, address={country=United States, address=1538 Eighth Street, city=San Jose, postalCode=29673, coordinates={lng=-29.395167, lat=24.169361}, stateCode=MO, state=Missouri}, title=Software Architect, department=Marketing}, id=15, email=william.gonzalez@x.dummyjson.com, height=173.21, image=https://dummyjson.com/icon/williamg/128, address={country=United States, address=31 Maple Street, city=San Jose, postalCode=78243, coordinates={lng=113.29799, lat=8.152876}, stateCode=UT, state=Utah}, ip=250.2.241.204, weight=82.41, userAgent=Mozilla/5.0 (Macintosh; Intel Mac OS X 10_15_7) AppleWebKit/537.36 (KHTML, like Gecko) Chrome/96.0.4664.93 Safari/537.36, birthDate=1992-3-27, crypto={wallet=0xb9fc2fe63b2a6c003f1c324c3bfa53259162181a, network=Ethereum (ERC20), coin=Bitcoin}, firstName=William, macAddress=f5:68:28:f9:ec:89, phone=+81 905-252-7319, age=32, username=williamg}, {lastName=Perez, role=user, gender=female, university=Harvard University, maidenName=, ein=348-493, ssn=679-523-686, bloodGroup=O-, bank={cardType=Carte Bancaire, cardExpire=04/27, currency=USD, cardNumber=0961014686718571, iban=28JYZAY4KYT48YI8QW40PWXR}, hair={color=Green, type=Curly}, password=averyppass, eyeColor=Brown, company={name=Herzog Inc, address={country=United States, address=183 Maple Street, city=New York, postalCode=45238, coordinates={lng=105.835271, lat=-53.318189}, stateCode=RI, state=Rhode Island}, title=Database Administrator, department=Accounting}, id=16, email=avery.perez@x.dummyjson.com, height=172.68, image=https://dummyjson.com/icon/averyp/128, address={country=United States, address=1125 First Street, city=Columbus, postalCode=30973, coordinates={lng=85.792598, lat=12.789127}, stateCode=IA, state=Iowa}, ip=131.217.4.214, weight=93.9, userAgent=Mozilla/5.0 (Macintosh; Intel Mac OS X 10_15_7) AppleWebKit/537.36 (KHTML, like Gecko) Chrome/95.0.4638.69 Safari/537.36, birthDate=1999-3-10, crypto={wallet=0xb9fc2fe63b2a6c003f1c324c3bfa53259162181a, network=Ethereum (ERC20), coin=Bitcoin}, firstName=Avery, macAddress=b3:ff:f3:c5:37:46, phone=+61 731-431-3457, age=25, username=averyp}, {lastName=Sanchez, role=user, gender=female, university=Washington University in St. Louis, maidenName=, ein=604-817, ssn=689-332-644, bloodGroup=B+, bank={cardType=UnionPay, cardExpire=04/29, currency=SEK, cardNumber=4557521697420096, iban=KN8XAPR2J5UB8AKDI1EVJ56R}, hair={color=Blue, type=Curly}, password=evelynspass, eyeColor=Violet, company={name=Predovic - Johns, address={country=United States, address=1802 Ninth Street, city=San Diego, postalCode=89416, coordinates={lng=-78.004598, lat=29.034592}, stateCode=MN, state=Minnesota}, title=Chief Financial Officer, department=Support}, id=17, email=evelyn.sanchez@x.dummyjson.com, height=184.08, image=https://dummyjson.com/icon/evelyns/128, address={country=United States, address=1170 Lincoln Street, city=San Diego, postalCode=43423, coordinates={lng=11.768071, lat=-83.31484}, stateCode=WY, state=Wyoming}, ip=87.114.135.146, weight=83.15, userAgent=Mozilla/5.0 (Macintosh; Intel Mac OS X 10_15_7) AppleWebKit/537.36 (KHTML, like Gecko) Chrome/96.0.4664.45 Safari/537.36, birthDate=1987-10-13, crypto={wallet=0xb9fc2fe63b2a6c003f1c324c3bfa53259162181a, network=Ethereum (ERC20), coin=Bitcoin}, firstName=Evelyn, macAddress=f8:e5:bd:43:bc:d8, phone=+1 623-880-6871, age=37, username=evelyns}, {lastName=Torres, role=user, gender=male, university=University of Illinois--Urbana-Champaign, maidenName=, ein=576-218, ssn=806-639-934, bloodGroup=A+, bank={cardType=UnionPay, cardExpire=05/26, currency=NZD, cardNumber=7884268130452098, iban=HZM7V9PYHPZBN72IDFPXGN8Q}, hair={color=Green, type=Curly}, password=logantpass, eyeColor=Green, company={name=Jast - Nader, address={country=United States, address=947 Main Street, city=Denver, postalCode=71896, coordinates={lng=-147.255268, lat=-24.654063}, stateCode=MN, state=Minnesota}, title=Data Analyst, department=Training}, id=18, email=logan.torres@x.dummyjson.com, height=190.04, image=https://dummyjson.com/icon/logant/128, address={country=United States, address=907 Seventh Street, city=Columbus, postalCode=78805, coordinates={lng=174.775744, lat=-64.846516}, stateCode=AR, state=Arkansas}, ip=155.98.15.162, weight=72.43, userAgent=Mozilla/5.0 (Macintosh; Intel Mac OS X 10_15_7) AppleWebKit/537.36 (KHTML, like Gecko) Chrome/96.0.4664.45 Safari/537.36, birthDate=1993-10-26, crypto={wallet=0xb9fc2fe63b2a6c003f1c324c3bfa53259162181a, network=Ethereum (ERC20), coin=Bitcoin}, firstName=Logan, macAddress=40:d:5c:1:7d:bf, phone=+81 507-434-8733, age=31, username=logant}, {lastName=Rivera, role=user, gender=female, university=California Institute of Technology (Caltech), maidenName=, ein=173-637, ssn=655-823-929, bloodGroup=B+, bank={cardType=RuPay, cardExpire=02/28, currency=BRL, cardNumber=4832361886407551, iban=O02LHDNNFCVSM6D4H81DIQHE}, hair={color=Blue, type=Kinky}, password=abigailrpass, eyeColor=Violet, company={name=Prohaska - Thiel, address={country=United States, address=1402 Adams Street, city=Austin, postalCode=51456, coordinates={lng=-76.54967, lat=25.672938}, stateCode=WI, state=Wisconsin}, title=Business Analyst, department=Human Resources}, id=19, email=abigail.rivera@x.dummyjson.com, height=186.39, image=https://dummyjson.com/icon/abigailr/128, address={country=United States, address=996 Oak Street, city=Chicago, postalCode=11407, coordinates={lng=-3.723903, lat=44.321308}, stateCode=NM, state=New Mexico}, ip=19.183.240.94, weight=74.61, userAgent=Mozilla/5.0 (Windows NT 10.0; Win64; x64) AppleWebKit/537.36 (KHTML, like Gecko) Edge/97.0.1072.76 Safari/537.36, birthDate=1996-10-11, crypto={wallet=0xb9fc2fe63b2a6c003f1c324c3bfa53259162181a, network=Ethereum (ERC20), coin=Bitcoin}, firstName=Abigail, macAddress=1d:a6:58:2a:e5:e4, phone=+91 228-363-7806, age=28, username=abigailr}, {lastName=Evans, role=user, gender=male, university=Ohio State University, maidenName=, ein=843-260, ssn=248-787-886, bloodGroup=O-, bank={cardType=BC Card, cardExpire=04/26, currency=EUR, cardNumber=2109192842527801, iban=TX26FO9B7YR2VHYDSJBE32AX}, hair={color=Red, type=Straight}, password=jacksonepass, eyeColor=Green, company={name=Kuhlman LLC, address={country=United States, address=1706 First Street, city=Chicago, postalCode=34725, coordinates={lng=-83.224516, lat=-80.416937}, stateCode=HI, state=Hawaii}, title=Web Developer, department=Legal}, id=20, email=jackson.evans@x.dummyjson.com, height=162.57, image=https://dummyjson.com/icon/jacksone/128, address={country=United States, address=1873 Main Street, city=New York, postalCode=26600, coordinates={lng=63.448927, lat=34.722451}, stateCode=AR, state=Arkansas}, ip=221.127.144.198, weight=74.37, userAgent=Mozilla/5.0 (Macintosh; Intel Mac OS X 10_15_7) AppleWebKit/537.36 (KHTML, like Gecko) Chrome/97.0.4692.99 Safari/537.36, birthDate=1990-11-30, crypto={wallet=0xb9fc2fe63b2a6c003f1c324c3bfa53259162181a, network=Ethereum (ERC20), coin=Bitcoin}, firstName=Jackson, macAddress=81:14:1:97:88:85, phone=+44 468-628-6686, age=34, username=jacksone}, {lastName=Collins, role=user, gender=female, university=University of Pennsylvania, maidenName=, ein=716-166, ssn=457-258-950, bloodGroup=B-, bank={cardType=Mir, cardExpire=04/28, currency=CNY, cardNumber=5549175461210252, iban=Y0WSN5IED255808SIYBUOMWO}, hair={color=Gray, type=Curly}, password=madisoncpass, eyeColor=Red, company={name=Mayer - Smitham, address={country=United States, address=1438 Main Street, city=San Diego, postalCode=63144, coordinates={lng=23.232982, lat=1.629613}, stateCode=DE, state=Delaware}, title=Chief Technology Officer, department=Engineering}, id=21, email=madison.collins@x.dummyjson.com, height=189.28, image=https://dummyjson.com/icon/madisonc/128, address={country=United States, address=1892 Lincoln Street, city=Philadelphia, postalCode=62091, coordinates={lng=160.486892, lat=52.993694}, stateCode=NJ, state=New Jersey}, ip=85.34.1.204, weight=56.96, userAgent=Mozilla/5.0 (Macintosh; Intel Mac OS X 10_15_7) AppleWebKit/537.36 (KHTML, like Gecko) Chrome/97.0.4692.99 Safari/537.36, birthDate=1998-3-7, crypto={wallet=0xb9fc2fe63b2a6c003f1c324c3bfa53259162181a, network=Ethereum (ERC20), coin=Bitcoin}, firstName=Madison, macAddress=13:b0:d0:23:4d:26, phone=+81 259-957-5711, age=26, username=madisonc}, {lastName=Stewart, role=user, gender=male, university=Georgetown University, maidenName=, ein=520-394, ssn=287-380-801, bloodGroup=A-, bank={cardType=JCB, cardExpire=05/27, currency=GBP, cardNumber=0798116671286564, iban=E1XUHCC1N39WGU6XESSK1CAO}, hair={color=Purple, type=Straight}, password=elijahspass, eyeColor=Blue, company={name=Langworth Group, address={country=United States, address=155 Ninth Street, city=Washington, postalCode=19039, coordinates={lng=-12.607767, lat=61.279254}, stateCode=SD, state=South Dakota}, title=Business Analyst, department=Legal}, id=22, email=elijah.stewart@x.dummyjson.com, height=195.33, image=https://dummyjson.com/icon/elijahs/128, address={country=United States, address=1701 Eighth Street, city=Columbus, postalCode=31585, coordinates={lng=-174.504027, lat=-54.833799}, stateCode=IL, state=Illinois}, ip=23.87.135.62, weight=81.64, userAgent=Mozilla/5.0 (Macintosh; Intel Mac OS X 10_15_7) AppleWebKit/537.36 (KHTML, like Gecko) Chrome/96.0.4664.93 Safari/537.36, birthDate=1991-10-22, crypto={wallet=0xb9fc2fe63b2a6c003f1c324c3bfa53259162181a, network=Ethereum (ERC20), coin=Bitcoin}, firstName=Elijah, macAddress=75:17:c6:35:fc:6d, phone=+44 468-357-7872, age=33, username=elijahs}, {lastName=Morales, role=user, gender=female, university=Syracuse University, maidenName=, ein=913-597, ssn=938-883-163, bloodGroup=O+, bank={cardType=American Express, cardExpire=05/28, currency=PKR, cardNumber=3150496938377346, iban=P7YLGOOBWBD1SRWDWSFO3PZ0}, hair={color=Red, type=Kinky}, password=chloempass, eyeColor=Brown, company={name=Grady LLC, address={country=United States, address=269 Third Street, city=Houston, postalCode=10385, coordinates={lng=-1.762972, lat=40.098115}, stateCode=NC, state=North Carolina}, title=Database Administrator, department=Sales}, id=23, email=chloe.morales@x.dummyjson.com, height=185.07, image=https://dummyjson.com/icon/chloem/128, address={country=United States, address=401 Fourth Street, city=Dallas, postalCode=54972, coordinates={lng=-58.705979, lat=-30.190759}, stateCode=NJ, state=New Jersey}, ip=66.78.20.21, weight=63.97, userAgent=Mozilla/5.0 (Windows NT 10.0; Win64; x64) AppleWebKit/537.36 (KHTML, like Gecko) Chrome/96.0.4664.93 Safari/537.36, birthDate=1985-4-21, crypto={wallet=0xb9fc2fe63b2a6c003f1c324c3bfa53259162181a, network=Ethereum (ERC20), coin=Bitcoin}, firstName=Chloe, macAddress=fc:f:29:e1:37:b8, phone=+92 468-541-7133, age=39, username=chloem}, {lastName=Nguyen, role=user, gender=male, university=Columbia University, maidenName=, ein=229-249, ssn=416-877-230, bloodGroup=O+, bank={cardType=JCB, cardExpire=03/26, currency=TRY, cardNumber=5545852224851851, iban=WEBE9SBX588VFUCVCA6KFHWB}, hair={color=Purple, type=Wavy}, password=mateonpass, eyeColor=Red, company={name=Spinka LLC, address={country=United States, address=1967 Jefferson Street, city=Dallas, postalCode=78527, coordinates={lng=164.459743, lat=75.982676}, stateCode=LA, state=Louisiana}, title=Business Analyst, department=Accounting}, id=24, email=mateo.nguyen@x.dummyjson.com, height=174.29, image=https://dummyjson.com/icon/mateon/128, address={country=United States, address=1578 Fourth Street, city=Columbus, postalCode=20673, coordinates={lng=-82.557354, lat=-32.828675}, stateCode=MO, state=Missouri}, ip=192.57.144.7, weight=59.98, userAgent=Mozilla/5.0 (Windows NT 10.0; Win64; x64) AppleWebKit/537.36 (KHTML, like Gecko) Chrome/95.0.4638.69 Safari/537.36, birthDate=1994-6-2, crypto={wallet=0xb9fc2fe63b2a6c003f1c324c3bfa53259162181a, network=Ethereum (ERC20), coin=Bitcoin}, firstName=Mateo, macAddress=a7:26:10:7a:36:29, phone=+1 341-597-6694, age=30, username=mateon}, {lastName=Kelly, role=user, gender=female, university=Boston College, maidenName=Evans, ein=592-557, ssn=209-544-548, bloodGroup=AB-, bank={cardType=RuPay, cardExpire=04/26, currency=JPY, cardNumber=1298153007505587, iban=DJI19LCUNUHP6YSGPY52D5VG}, hair={color=Red, type=Curly}, password=harperepass, eyeColor=Amber, company={name=Leffler, Rolfson and Becker, address={country=United States, address=16 Maple Street, city=Austin, postalCode=68274, coordinates={lng=149.298887, lat=-15.423746}, stateCode=NC, state=North Carolina}, title=Business Development Manager, department=Legal}, id=25, email=harper.kelly@x.dummyjson.com, height=184.32, image=https://dummyjson.com/icon/harpere/128, address={country=United States, address=1591 Adams Street, city=Philadelphia, postalCode=69521, coordinates={lng=-75.445017, lat=-26.832913}, stateCode=NY, state=New York}, ip=174.111.61.162, weight=81.69, userAgent=Mozilla/5.0 (Macintosh; Intel Mac OS X 10_15_7) AppleWebKit/537.36 (KHTML, like Gecko) Chrome/97.0.4692.99 Safari/537.36, birthDate=1997-3-3, crypto={wallet=0xb9fc2fe63b2a6c003f1c324c3bfa53259162181a, network=Ethereum (ERC20), coin=Bitcoin}, firstName=Harper, macAddress=b:ff:33:67:94:e4, phone=+92 518-863-2863, age=27, username=harpere}, {lastName=Gonzalez, role=user, gender=female, university=Washington University in St. Louis, maidenName=, ein=569-275, ssn=487-680-127, bloodGroup=O+, bank={cardType=RuPay, cardExpire=03/28, currency=INR, cardNumber=9584313788145560, iban=X4UPULQG61VIGA97USY7AAEB}, hair={color=Black, type=Wavy}, password=evelyngpass, eyeColor=Red, company={name=Tromp, Gaylord and Weber, address={country=United States, address=584 Ninth Street, city=Jacksonville, postalCode=45633, coordinates={lng=40.572436, lat=26.014021}, stateCode=WI, state=Wisconsin}, title=Project Manager, department=Accounting}, id=26, email=evelyn.gonzalez@x.dummyjson.com, height=168.94, image=https://dummyjson.com/icon/evelyng/128, address={country=United States, address=1065 Lincoln Street, city=Dallas, postalCode=84898, coordinates={lng=71.268643, lat=67.768359}, stateCode=ME, state=Maine}, ip=42.52.74.232, weight=58.47, userAgent=Mozilla/5.0 (Windows NT 10.0; Win64; x64) AppleWebKit/537.36 (KHTML, like Gecko) Chrome/95.0.4638.54 Safari/537.36, birthDate=1989-2-5, crypto={wallet=0xb9fc2fe63b2a6c003f1c324c3bfa53259162181a, network=Ethereum (ERC20), coin=Bitcoin}, firstName=Evelyn, macAddress=89:5e:5a:2a:72:42, phone=+61 708-508-4638, age=35, username=evelyng}, {lastName=Cook, role=user, gender=male, university=Columbia University, maidenName=, ein=585-905, ssn=645-515-583, bloodGroup=AB+, bank={cardType=Korean Express, cardExpire=01/26, currency=NZD, cardNumber=8452555751345228, iban=A8DBPECO4X6D09WYOVT8UZK8}, hair={color=Blonde, type=Curly}, password=danielcpass, eyeColor=Brown, company={name=Morissette, Baumbach and Auer, address={country=United States, address=938 Fifth Street, city=San Francisco, postalCode=45305, coordinates={lng=-83.531427, lat=21.323588}, stateCode=SD, state=South Dakota}, title=Legal Counsel, department=Support}, id=27, email=daniel.cook@x.dummyjson.com, height=186.21, image=https://dummyjson.com/icon/danielc/128, address={country=United States, address=1163 Pine Street, city=Los Angeles, postalCode=58781, coordinates={lng=-134.937482, lat=-3.456681}, stateCode=NV, state=Nevada}, ip=1.61.73.142, weight=83.72, userAgent=Mozilla/5.0 (Windows NT 10.0; Win64; x64; rv:97.0) Gecko/20100101 Firefox/97.0, birthDate=1983-12-25, crypto={wallet=0xb9fc2fe63b2a6c003f1c324c3bfa53259162181a, network=Ethereum (ERC20), coin=Bitcoin}, firstName=Daniel, macAddress=6e:73:dc:3a:85:10, phone=+44 254-761-6843, age=41, username=danielc}, {lastName=Lee, role=user, gender=female, university=Johns Hopkins University, maidenName=Brown, ein=229-776, ssn=358-185-671, bloodGroup=AB-, bank={cardType=Visa, cardExpire=05/29, currency=JPY, cardNumber=2903637820228856, iban=BKX6ZWB8UJZD09RFOWFPPD3C}, hair={color=Purple, type=Straight}, password=lilybpass, eyeColor=Gray, company={name=Cremin Inc, address={country=United States, address=1735 Cedar Street, city=Phoenix, postalCode=85797, coordinates={lng=-158.147245, lat=72.231441}, stateCode=WY, state=Wyoming}, title=Quality Assurance Engineer, department=Product Management}, id=28, email=lily.lee@x.dummyjson.com, height=181.42, image=https://dummyjson.com/icon/lilyb/128, address={country=United States, address=1946 Oak Street, city=Phoenix, postalCode=41540, coordinates={lng=-72.336845, lat=-9.87059}, stateCode=MA, state=Massachusetts}, ip=67.184.255.96, weight=51.49, userAgent=Mozilla/5.0 (Windows NT 10.0; Win64; x64) AppleWebKit/537.36 (KHTML, like Gecko) Edge/97.0.1072.76 Safari/537.36, birthDate=1995-12-3, crypto={wallet=0xb9fc2fe63b2a6c003f1c324c3bfa53259162181a, network=Ethereum (ERC20), coin=Bitcoin}, firstName=Lily, macAddress=18:b6:c7:a:50:3f, phone=+1 808-757-9867, age=29, username=lilyb}, {lastName=Hill, role=user, gender=male, university=University of Illinois--Urbana-Champaign, maidenName=, ein=118-957, ssn=925-686-100, bloodGroup=O-, bank={cardType=Diners Club International, cardExpire=02/26, currency=SEK, cardNumber=7262597174206766, iban=7N3JP8KN9AUNXOWRQGAU2JX6}, hair={color=Black, type=Straight}, password=henryhpass, eyeColor=Gray, company={name=Gerlach, Funk and Schoen, address={country=United States, address=1651 Lincoln Street, city=San Francisco, postalCode=61805, coordinates={lng=-12.405368, lat=-59.936335}, stateCode=WV, state=West Virginia}, title=Sales Manager, department=Services}, id=29, email=henry.hill@x.dummyjson.com, height=180.25, image=https://dummyjson.com/icon/henryh/128, address={country=United States, address=1837 Maple Street, city=Indianapolis, postalCode=81783, coordinates={lng=154.088476, lat=35.498256}, stateCode=DE, state=Delaware}, ip=194.43.55.202, weight=95.84, userAgent=Mozilla/5.0 (Windows NT 10.0; Win64; x64) AppleWebKit/537.36 (KHTML, like Gecko) Chrome/96.0.4664.93 Safari/537.36, birthDate=1986-8-19, crypto={wallet=0xb9fc2fe63b2a6c003f1c324c3bfa53259162181a, network=Ethereum (ERC20), coin=Bitcoin}, firstName=Henry, macAddress=fa:c3:1b:21:5f:44, phone=+1 240-833-4680, age=38, username=henryh}, {lastName=Wright, role=user, gender=female, university=Syracuse University, maidenName=, ein=415-286, ssn=804-492-390, bloodGroup=B+, bank={cardType=Carte Bancaire, cardExpire=05/28, currency=JPY, cardNumber=3756638438861539, iban=OOPQTNZ74OLPKVT7TGB89UQL}, hair={color=Blonde, type=Straight}, password=addisonwpass, eyeColor=Brown, company={name=Kreiger Inc, address={country=United States, address=1173 Eighth Street, city=San Diego, postalCode=85777, coordinates={lng=87.142893, lat=65.324413}, stateCode=MI, state=Michigan}, title=Human Resources Manager, department=Services}, id=30, email=addison.wright@x.dummyjson.com, height=179.32, image=https://dummyjson.com/icon/addisonw/128, address={country=United States, address=568 Tenth Street, city=San Francisco, postalCode=54698, coordinates={lng=100.228822, lat=20.946052}, stateCode=MT, state=Montana}, ip=11.35.69.81, weight=76.93, userAgent=Mozilla/5.0 (Macintosh; Intel Mac OS X 10_15_7) AppleWebKit/537.36 (KHTML, like Gecko) Chrome/96.0.4664.93 Safari/537.36, birthDate=1992-1-3, crypto={wallet=0xb9fc2fe63b2a6c003f1c324c3bfa53259162181a, network=Ethereum (ERC20), coin=Bitcoin}, firstName=Addison, macAddress=fb:0:94:21:16:c, phone=+1 514-384-3300, age=32, username=addisonw}]}"
        ]
       ],
       "datasetInfos": [],
       "dbfsResultPath": null,
       "isJsonSchema": true,
       "metadata": {},
       "overflow": false,
       "plotOptions": {
        "customPlotOptions": {},
        "displayType": "table",
        "pivotAggregation": null,
        "pivotColumns": null,
        "xColumns": null,
        "yColumns": null
       },
       "removedWidgets": [],
       "schema": [
        {
         "metadata": "{}",
         "name": "offset",
         "type": "\"long\""
        },
        {
         "metadata": "{}",
         "name": "limit",
         "type": "\"integer\""
        },
        {
         "metadata": "{}",
         "name": "response",
         "type": "\"string\""
        }
       ],
       "type": "table"
      }
     },
     "output_type": "display_data"
    },
    {
     "output_type": "stream",
     "name": "stdout",
     "output_type": "stream",
     "text": [
      "root\n |-- offset: long (nullable = false)\n |-- limit: integer (nullable = false)\n |-- response: string (nullable = true)\n\n"
     ]
    }
   ],
   "source": [
    "response_df = offset_df.withColumn(\"response\", fetch_data())\n",
    "display(response_df)\n",
    "response_df.printSchema()\n",
    "\"\"\"\n",
    "root\n",
    " |-- offset: long (nullable = false)\n",
    " |-- limit: integer (nullable = false)\n",
    " |-- response: string (nullable = true)\n",
    "\n",
    "Note that output is in string format, can't parse using spark reader API\n",
    "\"\"\""
   ]
  },
  {
   "cell_type": "code",
   "execution_count": 0,
   "metadata": {
    "application/vnd.databricks.v1+cell": {
     "cellMetadata": {
      "byteLimit": 2048000,
      "rowLimit": 10000
     },
     "inputWidgets": {},
     "nuid": "fa4b722e-7bfb-4b1d-a5d9-77e101257c54",
     "showTitle": false,
     "tableResultSettingsMap": {},
     "title": ""
    }
   },
   "outputs": [
    {
     "output_type": "stream",
     "name": "stdout",
     "output_type": "stream",
     "text": [
      "[{'id': 70, 'firstName': 'Zoe', 'lastName': 'Nicholson', 'maidenName': '', 'age': 32, 'gender': 'female', 'email': 'zoe.nicholson@x.dummyjson.com', 'phone': '+49 638-976-6904', 'username': 'zoen', 'password': 'zoenpass', 'birthDate': '1992-12-24', 'image': 'https://dummyjson.com/icon/zoen/128', 'bloodGroup': 'A+', 'height': 177.34, 'weight': 56.28, 'eyeColor': 'Hazel', 'hair': {'color': 'Red', 'type': 'Wavy'}, 'ip': '162.232.212.187', 'address': {'address': '1705 Pine Street', 'city': 'Jacksonville', 'state': 'Kansas', 'stateCode': 'KS', 'postalCode': '39449', 'coordinates': {'lat': 35.632082, 'lng': 127.968158}, 'country': 'United States'}, 'macAddress': '42:fa:3e:8:22:1f', 'university': 'University of Miami', 'bank': {'cardExpire': '04/26', 'cardNumber': '0004533077435886', 'cardType': 'JCB', 'currency': 'NZD', 'iban': 'ODURQ335WV53JX2M3U0PSANS'}, 'company': {'department': 'Human Resources', 'name': 'Marks LLC', 'title': 'Research Analyst', 'address': {'address': '381 Madison Street', 'city': 'Jacksonville', 'state': 'New Hampshire', 'stateCode': 'NH', 'postalCode': '30926', 'coordinates': {'lat': -32.970666, 'lng': 111.725715}, 'country': 'United States'}}, 'ein': '107-293', 'ssn': '447-330-498', 'userAgent': 'Mozilla/5.0 (Macintosh; Intel Mac OS X 10_15_7) AppleWebKit/537.36 (KHTML, like Gecko) Chrome/97.0.4692.99 Safari/537.36', 'crypto': {'coin': 'Bitcoin', 'wallet': '0xb9fc2fe63b2a6c003f1c324c3bfa53259162181a', 'network': 'Ethereum (ERC20)'}, 'role': 'user'}, {'id': 57, 'firstName': 'Nathan', 'lastName': 'Dixon', 'maidenName': '', 'age': 34, 'gender': 'male', 'email': 'nathan.dixon@x.dummyjson.com', 'phone': '+44 540-488-4436', 'username': 'nathand', 'password': 'nathandpass', 'birthDate': '1990-11-10', 'image': 'https://dummyjson.com/icon/nathand/128', 'bloodGroup': 'A+', 'height': 166.43, 'weight': 59.96, 'eyeColor': 'Brown', 'hair': {'color': 'White', 'type': 'Straight'}, 'ip': '21.193.172.72', 'address': {'address': '1795 Seventh Street', 'city': 'Columbus', 'state': 'Utah', 'stateCode': 'UT', 'postalCode': '20882', 'coordinates': {'lat': -15.794158, 'lng': -83.214052}, 'country': 'United States'}, 'macAddress': 'd3:ae:d1:ad:ca:48', 'university': 'University of Wisconsin--Madison', 'bank': {'cardExpire': '01/28', 'cardNumber': '5514219246750913', 'cardType': 'Maestro', 'currency': 'USD', 'iban': 'J1P3UW9MP6CGJ5KLYWMFNY0R'}, 'company': {'department': 'Sales', 'name': 'Von Inc', 'title': 'Engineer', 'address': {'address': '21 Seventh Street', 'city': 'Seattle', 'state': 'Washington', 'stateCode': 'WA', 'postalCode': '11132', 'coordinates': {'lat': -62.442839, 'lng': -97.115445}, 'country': 'United States'}}, 'ein': '158-291', 'ssn': '899-929-219', 'userAgent': 'Mozilla/5.0 (Macintosh; Intel Mac OS X 10_15_7) AppleWebKit/537.36 (KHTML, like Gecko) Chrome/97.0.4692.99 Safari/537.36', 'crypto': {'coin': 'Bitcoin', 'wallet': '0xb9fc2fe63b2a6c003f1c324c3bfa53259162181a', 'network': 'Ethereum (ERC20)'}, 'role': 'user'}]\n"
     ]
    }
   ],
   "source": [
    "import requests\n",
    "\n",
    "base_url = \"https://dummyjson.com/users\"\n",
    "\n",
    "users_list = [70, 57]\n",
    "\n",
    "def customer_fetch_data():\n",
    "    customer_api_response = []\n",
    "    for user in users_list:\n",
    "        response = requests.get(f\"https://dummyjson.com/users/{user}\")\n",
    "        if response.status_code == 200:\n",
    "            customer_api_response.append(response.json())\n",
    "        else:\n",
    "            print(\"Error :\", response.status_code)\n",
    "    return customer_api_response\n",
    "\n",
    "responses = customer_fetch_data()\n",
    "print(responses)\n"
   ]
  },
  {
   "cell_type": "code",
   "execution_count": 0,
   "metadata": {
    "application/vnd.databricks.v1+cell": {
     "cellMetadata": {
      "byteLimit": 2048000,
      "rowLimit": 10000
     },
     "inputWidgets": {},
     "nuid": "bd53b1a1-feee-4d82-a7a9-29ab0fcef492",
     "showTitle": false,
     "tableResultSettingsMap": {},
     "title": ""
    }
   },
   "outputs": [
    {
     "output_type": "stream",
     "name": "stdout",
     "output_type": "stream",
     "text": [
      "Out[63]: [{'id': 70,\n  'firstName': 'Zoe',\n  'lastName': 'Nicholson',\n  'maidenName': '',\n  'age': 32,\n  'gender': 'female',\n  'email': 'zoe.nicholson@x.dummyjson.com',\n  'phone': '+49 638-976-6904',\n  'username': 'zoen',\n  'password': 'zoenpass',\n  'birthDate': '1992-12-24',\n  'image': 'https://dummyjson.com/icon/zoen/128',\n  'bloodGroup': 'A+',\n  'height': 177.34,\n  'weight': 56.28,\n  'eyeColor': 'Hazel',\n  'hair': {'color': 'Red', 'type': 'Wavy'},\n  'ip': '162.232.212.187',\n  'address': {'address': '1705 Pine Street',\n   'city': 'Jacksonville',\n   'state': 'Kansas',\n   'stateCode': 'KS',\n   'postalCode': '39449',\n   'coordinates': {'lat': 35.632082, 'lng': 127.968158},\n   'country': 'United States'},\n  'macAddress': '42:fa:3e:8:22:1f',\n  'university': 'University of Miami',\n  'bank': {'cardExpire': '04/26',\n   'cardNumber': '0004533077435886',\n   'cardType': 'JCB',\n   'currency': 'NZD',\n   'iban': 'ODURQ335WV53JX2M3U0PSANS'},\n  'company': {'department': 'Human Resources',\n   'name': 'Marks LLC',\n   'title': 'Research Analyst',\n   'address': {'address': '381 Madison Street',\n    'city': 'Jacksonville',\n    'state': 'New Hampshire',\n    'stateCode': 'NH',\n    'postalCode': '30926',\n    'coordinates': {'lat': -32.970666, 'lng': 111.725715},\n    'country': 'United States'}},\n  'ein': '107-293',\n  'ssn': '447-330-498',\n  'userAgent': 'Mozilla/5.0 (Macintosh; Intel Mac OS X 10_15_7) AppleWebKit/537.36 (KHTML, like Gecko) Chrome/97.0.4692.99 Safari/537.36',\n  'crypto': {'coin': 'Bitcoin',\n   'wallet': '0xb9fc2fe63b2a6c003f1c324c3bfa53259162181a',\n   'network': 'Ethereum (ERC20)'},\n  'role': 'user'},\n {'id': 57,\n  'firstName': 'Nathan',\n  'lastName': 'Dixon',\n  'maidenName': '',\n  'age': 34,\n  'gender': 'male',\n  'email': 'nathan.dixon@x.dummyjson.com',\n  'phone': '+44 540-488-4436',\n  'username': 'nathand',\n  'password': 'nathandpass',\n  'birthDate': '1990-11-10',\n  'image': 'https://dummyjson.com/icon/nathand/128',\n  'bloodGroup': 'A+',\n  'height': 166.43,\n  'weight': 59.96,\n  'eyeColor': 'Brown',\n  'hair': {'color': 'White', 'type': 'Straight'},\n  'ip': '21.193.172.72',\n  'address': {'address': '1795 Seventh Street',\n   'city': 'Columbus',\n   'state': 'Utah',\n   'stateCode': 'UT',\n   'postalCode': '20882',\n   'coordinates': {'lat': -15.794158, 'lng': -83.214052},\n   'country': 'United States'},\n  'macAddress': 'd3:ae:d1:ad:ca:48',\n  'university': 'University of Wisconsin--Madison',\n  'bank': {'cardExpire': '01/28',\n   'cardNumber': '5514219246750913',\n   'cardType': 'Maestro',\n   'currency': 'USD',\n   'iban': 'J1P3UW9MP6CGJ5KLYWMFNY0R'},\n  'company': {'department': 'Sales',\n   'name': 'Von Inc',\n   'title': 'Engineer',\n   'address': {'address': '21 Seventh Street',\n    'city': 'Seattle',\n    'state': 'Washington',\n    'stateCode': 'WA',\n    'postalCode': '11132',\n    'coordinates': {'lat': -62.442839, 'lng': -97.115445},\n    'country': 'United States'}},\n  'ein': '158-291',\n  'ssn': '899-929-219',\n  'userAgent': 'Mozilla/5.0 (Macintosh; Intel Mac OS X 10_15_7) AppleWebKit/537.36 (KHTML, like Gecko) Chrome/97.0.4692.99 Safari/537.36',\n  'crypto': {'coin': 'Bitcoin',\n   'wallet': '0xb9fc2fe63b2a6c003f1c324c3bfa53259162181a',\n   'network': 'Ethereum (ERC20)'},\n  'role': 'user'}]"
     ]
    }
   ],
   "source": [
    "json_rdd = spark.sparkContext.parallelize(responses)\n",
    "\n",
    "json_rdd.collect()"
   ]
  },
  {
   "cell_type": "code",
   "execution_count": 0,
   "metadata": {
    "application/vnd.databricks.v1+cell": {
     "cellMetadata": {
      "byteLimit": 2048000,
      "rowLimit": 10000
     },
     "inputWidgets": {},
     "nuid": "663cd832-6a80-4955-ba6d-65fea3fbc8a9",
     "showTitle": false,
     "tableResultSettingsMap": {},
     "title": ""
    }
   },
   "outputs": [
    {
     "output_type": "display_data",
     "data": {
      "text/html": [
       "<style scoped>\n",
       "  .table-result-container {\n",
       "    max-height: 300px;\n",
       "    overflow: auto;\n",
       "  }\n",
       "  table, th, td {\n",
       "    border: 1px solid black;\n",
       "    border-collapse: collapse;\n",
       "  }\n",
       "  th, td {\n",
       "    padding: 5px;\n",
       "  }\n",
       "  th {\n",
       "    text-align: left;\n",
       "  }\n",
       "</style><div class='table-result-container'><table class='table-result'><thead style='background-color: white'><tr><th>firstName</th><th>lastName</th><th>email</th><th>phone</th><th>address</th></tr></thead><tbody><tr><td>Zoe</td><td>Nicholson</td><td>zoe.nicholson@x.dummyjson.com</td><td>+49 638-976-6904</td><td>{\"address\":\"1705 Pine Street\",\"city\":\"Jacksonville\",\"state\":\"Kansas\",\"stateCode\":\"KS\",\"postalCode\":\"39449\",\"coordinates\":{\"lat\":35.632082,\"lng\":127.968158},\"country\":\"United States\"}</td></tr><tr><td>Nathan</td><td>Dixon</td><td>nathan.dixon@x.dummyjson.com</td><td>+44 540-488-4436</td><td>{\"address\":\"1795 Seventh Street\",\"city\":\"Columbus\",\"state\":\"Utah\",\"stateCode\":\"UT\",\"postalCode\":\"20882\",\"coordinates\":{\"lat\":-15.794158,\"lng\":-83.214052},\"country\":\"United States\"}</td></tr></tbody></table></div>"
      ]
     },
     "metadata": {
      "application/vnd.databricks.v1+output": {
       "addedWidgets": {},
       "aggData": [],
       "aggError": "",
       "aggOverflow": false,
       "aggSchema": [],
       "aggSeriesLimitReached": false,
       "aggType": "",
       "arguments": {},
       "columnCustomDisplayInfos": {},
       "data": [
        [
         "Zoe",
         "Nicholson",
         "zoe.nicholson@x.dummyjson.com",
         "+49 638-976-6904",
         "{\"address\":\"1705 Pine Street\",\"city\":\"Jacksonville\",\"state\":\"Kansas\",\"stateCode\":\"KS\",\"postalCode\":\"39449\",\"coordinates\":{\"lat\":35.632082,\"lng\":127.968158},\"country\":\"United States\"}"
        ],
        [
         "Nathan",
         "Dixon",
         "nathan.dixon@x.dummyjson.com",
         "+44 540-488-4436",
         "{\"address\":\"1795 Seventh Street\",\"city\":\"Columbus\",\"state\":\"Utah\",\"stateCode\":\"UT\",\"postalCode\":\"20882\",\"coordinates\":{\"lat\":-15.794158,\"lng\":-83.214052},\"country\":\"United States\"}"
        ]
       ],
       "datasetInfos": [],
       "dbfsResultPath": null,
       "isJsonSchema": true,
       "metadata": {},
       "overflow": false,
       "plotOptions": {
        "customPlotOptions": {},
        "displayType": "table",
        "pivotAggregation": null,
        "pivotColumns": null,
        "xColumns": null,
        "yColumns": null
       },
       "removedWidgets": [],
       "schema": [
        {
         "metadata": "{}",
         "name": "firstName",
         "type": "\"string\""
        },
        {
         "metadata": "{}",
         "name": "lastName",
         "type": "\"string\""
        },
        {
         "metadata": "{}",
         "name": "email",
         "type": "\"string\""
        },
        {
         "metadata": "{}",
         "name": "phone",
         "type": "\"string\""
        },
        {
         "metadata": "{}",
         "name": "address",
         "type": "\"string\""
        }
       ],
       "type": "table"
      }
     },
     "output_type": "display_data"
    }
   ],
   "source": [
    "json_schema = StructType(\n",
    "    [\n",
    "        StructField(\"firstName\", StringType(), nullable=True),\n",
    "        StructField(\"lastName\", StringType(), nullable=True),\n",
    "        StructField(\"email\", StringType(), nullable=True),\n",
    "        StructField(\"phone\", StringType(), nullable=True),\n",
    "        StructField(\"address\", StringType(), nullable=True)\n",
    "    ]\n",
    ")\n",
    "\n",
    "df = spark.read.json(json_rdd, json_schema)\n",
    "display(df)"
   ]
  }
 ],
 "metadata": {
  "application/vnd.databricks.v1+notebook": {
   "computePreferences": null,
   "dashboards": [],
   "environmentMetadata": {
    "base_environment": "",
    "environment_version": "1"
   },
   "inputWidgetPreferences": null,
   "language": "python",
   "notebookMetadata": {
    "pythonIndentUnit": 4
   },
   "notebookName": "2 Read from API",
   "widgets": {}
  }
 },
 "nbformat": 4,
 "nbformat_minor": 0
}