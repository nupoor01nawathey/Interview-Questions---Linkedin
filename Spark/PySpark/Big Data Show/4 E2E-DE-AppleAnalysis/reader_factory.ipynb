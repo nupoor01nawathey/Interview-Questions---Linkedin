{
 "cells": [
  {
   "cell_type": "code",
   "execution_count": 0,
   "metadata": {
    "application/vnd.databricks.v1+cell": {
     "cellMetadata": {
      "byteLimit": 2048000,
      "rowLimit": 10000
     },
     "inputWidgets": {},
     "nuid": "87787f36-1122-47ba-a208-f7efadac051e",
     "showTitle": false,
     "tableResultSettingsMap": {},
     "title": ""
    }
   },
   "outputs": [],
   "source": [
    "class DataSource:\n",
    "    \"\"\"\n",
    "    Abstract Class\n",
    "    \"\"\"\n",
    "    def __init__(self, path):\n",
    "        self.path = path\n",
    "    \n",
    "    def get_dataframe(self):\n",
    "        \"\"\"\n",
    "        Abstract method - Methods defined by sub-classes \n",
    "        \"\"\"\n",
    "        raise ValueError(\"Not Implemented\")\n",
    "\n",
    "\n",
    "class CSVDataSource(DataSource):\n",
    "    def get_dataframe(self):\n",
    "        return(\n",
    "            spark.read.format(\"csv\") \\\n",
    "                .option(\"header\", \"true\") \\\n",
    "                .load(self.path)\n",
    "        )\n",
    "\n",
    "class ParquetDataSource(DataSource):\n",
    "    def get_dataframe(self):\n",
    "        return(\n",
    "            spark.read.format(\"parquet\") \\\n",
    "                .load(self.path)\n",
    "        )\n",
    "\n",
    "\n",
    "class DeltaDataSource(DataSource):\n",
    "    # Need to create table using instructions in the top of apple_analysis file\n",
    "    def get_dataframe(self):\n",
    "        table_name = self.path\n",
    "        return(\n",
    "            spark.read.format(\"delta\") \\\n",
    "                .table(table_name)\n",
    "        )\n",
    "\n",
    "def get_datasource(file_type, file_path):\n",
    "    if file_type == \"csv\":\n",
    "        return CSVDataSource(file_path)\n",
    "    elif file_type == \"parquet\":\n",
    "        return ParquetDataSource(file_path)\n",
    "    elif file_type == \"delta\":\n",
    "        return DeltaDataSource(file_path)\n",
    "    else:\n",
    "        raise ValueError(f\"Not implemented for {file_type} and {file_path}\")\n",
    "\n",
    "    "
   ]
  }
 ],
 "metadata": {
  "application/vnd.databricks.v1+notebook": {
   "computePreferences": null,
   "dashboards": [],
   "environmentMetadata": {
    "base_environment": "",
    "environment_version": "1"
   },
   "inputWidgetPreferences": null,
   "language": "python",
   "notebookMetadata": {
    "pythonIndentUnit": 4
   },
   "notebookName": "reader_factory",
   "widgets": {}
  }
 },
 "nbformat": 4,
 "nbformat_minor": 0
}