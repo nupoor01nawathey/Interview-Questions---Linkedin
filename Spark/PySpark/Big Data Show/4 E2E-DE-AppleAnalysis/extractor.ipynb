{
 "cells": [
  {
   "cell_type": "code",
   "execution_count": 0,
   "metadata": {
    "application/vnd.databricks.v1+cell": {
     "cellMetadata": {
      "byteLimit": 2048000,
      "rowLimit": 10000
     },
     "inputWidgets": {},
     "nuid": "926d9a89-639d-42b3-9e70-9f21d9da968e",
     "showTitle": false,
     "tableResultSettingsMap": {},
     "title": ""
    }
   },
   "outputs": [],
   "source": [
    "class Extractor:\n",
    "    \"\"\"\n",
    "    Abstract class\n",
    "    \"\"\"\n",
    "    def __init__(self):\n",
    "        pass\n",
    "\n",
    "    def extract(self):\n",
    "        pass\n",
    "\n",
    "class AirpodAfterIPhoneExtract(Extractor):\n",
    "    def extract(self):\n",
    "        \"\"\"\n",
    "        Implement steps to read/extract data first\n",
    "        \"\"\"\n",
    "        transaction_input_df = get_datasource(\n",
    "            file_type=\"csv\",\n",
    "            file_path=\"dbfs:/FileStore/tables/Transaction_Updated.csv\"\n",
    "        ).get_dataframe()\n",
    "\n",
    "        customer_input_df = get_datasource(\n",
    "            file_type=\"delta\",\n",
    "            file_path=\"default.customer_updated_csv\"\n",
    "        ).get_dataframe()\n",
    "\n",
    "        customer_input_df.show()\n",
    "\n",
    "        input_dfs = {\n",
    "            \"transaction_input_df\": transaction_input_df,\n",
    "            \"customer_input_df\": customer_input_df\n",
    "        }\n",
    "\n",
    "        return input_dfs"
   ]
  }
 ],
 "metadata": {
  "application/vnd.databricks.v1+notebook": {
   "computePreferences": null,
   "dashboards": [],
   "environmentMetadata": {
    "base_environment": "",
    "environment_version": "1"
   },
   "inputWidgetPreferences": null,
   "language": "python",
   "notebookMetadata": {
    "pythonIndentUnit": 4
   },
   "notebookName": "extractor",
   "widgets": {}
  }
 },
 "nbformat": 4,
 "nbformat_minor": 0
}