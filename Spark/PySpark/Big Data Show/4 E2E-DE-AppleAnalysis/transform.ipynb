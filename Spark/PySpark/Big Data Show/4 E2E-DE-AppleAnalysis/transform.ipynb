{
 "cells": [
  {
   "cell_type": "code",
   "execution_count": 0,
   "metadata": {
    "application/vnd.databricks.v1+cell": {
     "cellMetadata": {
      "byteLimit": 2048000,
      "rowLimit": 10000
     },
     "inputWidgets": {},
     "nuid": "abc3d3e9-2ee7-4d29-8eb5-e6a310b8d7fc",
     "showTitle": false,
     "tableResultSettingsMap": {},
     "title": ""
    }
   },
   "outputs": [],
   "source": [
    "from pyspark.sql.functions import col, lead, broadcast, collect_set, size, array_contains\n",
    "from pyspark.sql.window import Window\n",
    "\n",
    "class Transformer:\n",
    "    def __init__(self):\n",
    "        pass\n",
    "\n",
    "    def transform(self, input_df):\n",
    "        pass\n",
    "\n",
    "class TransformerOperations(Transformer):\n",
    "    # 1. Customers who have bought AirPods after purchasing iPhone\n",
    "    def airpord_after_iphone_transform(self, input_dfs):\n",
    "        transaction_df = input_dfs.get(\"transaction_input_df\")\n",
    "        print(\"TransformerOperations / airpord_after_iphone_transform / transaction_input_df\")\n",
    "        transaction_df = transaction_df \\\n",
    "            .withColumn(\"transaction_id\", col(\"transaction_id\").cast(\"int\")) \\\n",
    "            .withColumn(\"transaction_date\", col(\"transaction_date\").cast(\"date\"))\n",
    "        \n",
    "        #transaction_df.show()\n",
    "        #transaction_df.printSchema()\n",
    "\n",
    "        transformed_df = transaction_df \\\n",
    "            .withColumn(\"next_product_name\", lead(\"product_name\").over(Window.partitionBy(\"customer_id\").orderBy(\"transaction_date\")))\n",
    "        \n",
    "        #transformed_df.orderBy(\"customer_id\", \"transaction_date\").show()\n",
    "        filtered_df = transformed_df.filter( (col(\"product_name\") == \"iPhone\") & (col(\"next_product_name\") == \"AirPods\") )\n",
    "\n",
    "        filtered_df.show()\n",
    "\n",
    "        customer_df = input_dfs.get(\"customer_input_df\")\n",
    "        \n",
    "        join_df = customer_df.join(broadcast(filtered_df), \"customer_id\", \"inner\") \\\n",
    "            .select(filtered_df[\"customer_id\"], \"customer_name\", \"location\")\n",
    "\n",
    "        join_df.show()\n",
    "        return join_df\n",
    "    \n",
    "\n",
    "    def airpods_and_iphone_transform(self, input_dfs):\n",
    "        \"\"\"\n",
    "        Generate data for all customers who bought both Airpods + iPhone products only and no other products\n",
    "        \"\"\"\n",
    "        transaction_df = input_dfs.get(\"transaction_input_df\")\n",
    "        print(\"TransformerOperations / airpods_and_iphone_transform / transaction_input_df\")\n",
    "\n",
    "        grouped_df = transaction_df.groupBy(\"customer_id\").agg(collect_set(\"product_name\").alias(\"products\"))\n",
    "        \n",
    "        print(\"TransformerOperations / airpods_and_iphone_transform / grouped_df\")\n",
    "        grouped_df.show(truncate=False)\n",
    "\n",
    "        filtered_df = grouped_df \\\n",
    "            .filter( \n",
    "                    (array_contains(col(\"products\"), \"iPhone\")) & \\\n",
    "                    (array_contains(col(\"products\"), \"AirPods\")) & \\\n",
    "                    (size(col(\"products\")) == 2) \\\n",
    "            )\n",
    "\n",
    "        print(\"TransformerOperations / airpods_and_iphone_transform / filtered_df\")\n",
    "        filtered_df.show()\n",
    "\n",
    "        customer_df = input_dfs.get(\"customer_input_df\")\n",
    "        join_df = customer_df.join(broadcast(filtered_df), \"customer_id\", \"inner\") \\\n",
    "            .select(filtered_df[\"customer_id\"], \"customer_name\", \"location\")\n",
    "\n",
    "        join_df.show()\n",
    "        return join_df"
   ]
  }
 ],
 "metadata": {
  "application/vnd.databricks.v1+notebook": {
   "computePreferences": null,
   "dashboards": [],
   "environmentMetadata": {
    "base_environment": "",
    "environment_version": "1"
   },
   "inputWidgetPreferences": null,
   "language": "python",
   "notebookMetadata": {
    "pythonIndentUnit": 4
   },
   "notebookName": "transform",
   "widgets": {}
  }
 },
 "nbformat": 4,
 "nbformat_minor": 0
}