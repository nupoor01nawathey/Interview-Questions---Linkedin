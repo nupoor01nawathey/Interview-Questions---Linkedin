{
 "cells": [
  {
   "cell_type": "code",
   "execution_count": 0,
   "metadata": {
    "application/vnd.databricks.v1+cell": {
     "cellMetadata": {
      "byteLimit": 2048000,
      "rowLimit": 10000
     },
     "inputWidgets": {},
     "nuid": "a7a45079-81ff-46fe-b89a-8685aa59386e",
     "showTitle": false,
     "tableResultSettingsMap": {},
     "title": ""
    }
   },
   "outputs": [],
   "source": [
    "class DataSink:\n",
    "    \"\"\"\n",
    "    Abstract class\n",
    "    \"\"\"\n",
    "    def __init__(self, df, path, method, params):\n",
    "        self.df = df\n",
    "        self.path = path\n",
    "        self.method = method\n",
    "        self.params = params\n",
    "\n",
    "    def load_dataframe(self):\n",
    "        \"\"\"\n",
    "        Abstract method: Actual implementation will be defined in the sub-classes\n",
    "        \"\"\"\n",
    "        raise ValueError(\"Not Implemented\")\n",
    "\n",
    "\n",
    "class LoadToDBFS(DataSink):\n",
    "    def load_dataframe(self):\n",
    "        self.df.write.format(\"parquet\").mode(self.method).save(self.path)\n",
    "\n",
    "\n",
    "class LoadToDBSFWithPartition(DataSink):\n",
    "    def load_dataframe(self):\n",
    "        partition_by_cols = self.params.get(\"partition_by_cols\")\n",
    "        self.df.write.format(\"delta\").partitionBy(*partition_by_cols).save(self.path)\n",
    "\n",
    "\n",
    "def get_sink_info(sink_type, df, path, method, params=None):\n",
    "    if sink_type == \"dbfs\":\n",
    "        return LoadToDBFS(df, path, method, params)\n",
    "    elif sink_type == \"dbfs_with_partitions\":\n",
    "        return LoadToDBSFWithPartition(df, path, method, params)\n",
    "    else:\n",
    "        raise ValueError(f\"Not implemented for sink_type: {sink_type}\")\n"
   ]
  }
 ],
 "metadata": {
  "application/vnd.databricks.v1+notebook": {
   "computePreferences": null,
   "dashboards": [],
   "environmentMetadata": {
    "base_environment": "",
    "environment_version": "1"
   },
   "inputWidgetPreferences": null,
   "language": "python",
   "notebookMetadata": {
    "pythonIndentUnit": 4
   },
   "notebookName": "loader_factory",
   "widgets": {}
  }
 },
 "nbformat": 4,
 "nbformat_minor": 0
}