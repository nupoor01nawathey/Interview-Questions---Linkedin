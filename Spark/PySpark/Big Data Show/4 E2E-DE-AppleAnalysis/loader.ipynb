{
 "cells": [
  {
   "cell_type": "code",
   "execution_count": 0,
   "metadata": {
    "application/vnd.databricks.v1+cell": {
     "cellMetadata": {
      "byteLimit": 2048000,
      "rowLimit": 10000
     },
     "inputWidgets": {},
     "nuid": "097c860a-7772-40e9-8678-7ac3284db80b",
     "showTitle": false,
     "tableResultSettingsMap": {},
     "title": ""
    }
   },
   "outputs": [],
   "source": [
    "class AbstractLoader:\n",
    "    def __init__(self, transformed_df):\n",
    "        self.transformed_df = transformed_df\n",
    "\n",
    "    def sink(self):\n",
    "        pass\n",
    "\n",
    "\n",
    "class AirpodsAfterIPhoneLoader(AbstractLoader):\n",
    "    def sink(self):\n",
    "        print(\"inside AirpodsAfterIPhoneLoader / sink\")\n",
    "        get_sink_info(\n",
    "            sink_type = \"dbfs\",\n",
    "            df = self.transformed_df,\n",
    "            path = \"/FileStore/tables/apple-analysis/airpods_after_iphone/\",\n",
    "            method = \"overwrite\"\n",
    "        ).load_dataframe()\n",
    "\n",
    "\n",
    "class AirpodsAndIPhoneLoader(AbstractLoader):\n",
    "    def sink(self):\n",
    "        print(\"inside AirpodsAndIPhoneLoader / sink\")\n",
    "        params = {\n",
    "            \"partition_by_cols\": [\"location\"]\n",
    "        }\n",
    "        get_sink_info(\n",
    "            sink_type = \"dbfs_with_partitions\",\n",
    "            df = self.transformed_df,\n",
    "            path = \"/FileStore/tables/apple-analysis/airpods_and_iphone/\",\n",
    "            method = \"overwrite\",\n",
    "            params = params\n",
    "        ).load_dataframe()"
   ]
  }
 ],
 "metadata": {
  "application/vnd.databricks.v1+notebook": {
   "computePreferences": null,
   "dashboards": [],
   "environmentMetadata": {
    "base_environment": "",
    "environment_version": "1"
   },
   "inputWidgetPreferences": null,
   "language": "python",
   "notebookMetadata": {
    "pythonIndentUnit": 4
   },
   "notebookName": "loader",
   "widgets": {}
  }
 },
 "nbformat": 4,
 "nbformat_minor": 0
}