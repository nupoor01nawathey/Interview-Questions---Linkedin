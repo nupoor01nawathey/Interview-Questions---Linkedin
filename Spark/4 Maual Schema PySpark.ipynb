{
 "cells": [
  {
   "cell_type": "code",
   "execution_count": 0,
   "metadata": {
    "application/vnd.databricks.v1+cell": {
     "cellMetadata": {
      "byteLimit": 2048000,
      "rowLimit": 10000
     },
     "inputWidgets": {},
     "nuid": "03e22fd0-fcda-466b-bcda-871c740b4297",
     "showTitle": false,
     "tableResultSettingsMap": {},
     "title": ""
    }
   },
   "outputs": [
    {
     "output_type": "stream",
     "name": "stdout",
     "output_type": "stream",
     "text": [
      "+------------------------+-------------------+-----+\n|DESTINATION_COUNTRY_NAME|ORIGIN_COUNTRY_NAME|count|\n+------------------------+-------------------+-----+\n|       DEST_COUNTRY_NAME|ORIGIN_COUNTRY_NAME| null|\n|           United States|            Romania|   15|\n|           United States|            Croatia|    1|\n|           United States|            Ireland|  344|\n|                   Egypt|      United States|   15|\n|           United States|              India|   62|\n|           United States|          Singapore|    1|\n|           United States|            Grenada|   62|\n|              Costa Rica|      United States|  588|\n|                 Senegal|      United States|   40|\n|                 Moldova|      United States|    1|\n|           United States|       Sint Maarten|  325|\n|           United States|   Marshall Islands|   39|\n|                  Guyana|      United States|   64|\n|                   Malta|      United States|    1|\n|                Anguilla|      United States|   41|\n|                 Bolivia|      United States|   30|\n|           United States|           Paraguay|    6|\n|                 Algeria|      United States|    4|\n|    Turks and Caicos ...|      United States|  230|\n+------------------------+-------------------+-----+\nonly showing top 20 rows\n\n"
     ]
    }
   ],
   "source": [
    "from pyspark.sql.types import StructType, StructField, StringType, IntegerType\n",
    "\n",
    "schema = StructType([\n",
    "    StructField(\"DESTINATION_COUNTRY_NAME\", StringType()),\n",
    "    StructField(\"ORIGIN_COUNTRY_NAME\", StringType()),\n",
    "    StructField(\"count\", IntegerType() )\n",
    "])\n",
    "\n",
    "flight_df = spark.read.format(\"csv\")\\\n",
    "            .schema(schema)\\\n",
    "            .option(\"mode\", \"PERMISSIVE\")\\\n",
    "            .load(\"/FileStore/tables/2015_summary.csv\")\n",
    "\n",
    "flight_df.show()\n",
    "\"\"\"\n",
    "+------------------------+-------------------+-----+\n",
    "|DESTINATION_COUNTRY_NAME|ORIGIN_COUNTRY_NAME|count|    <---- This is manual schema\n",
    "+------------------------+-------------------+-----+\n",
    "|       DEST_COUNTRY_NAME|ORIGIN_COUNTRY_NAME| null|    <---- This row is actually present in the file\n",
    "|           United States|            Romania|   15|\n",
    "|           United States|            Croatia|    1|\n",
    "|           United States|            Ireland|  344|\n",
    "|                   Egypt|      United States|   15|\n",
    "\"\"\"\n"
   ]
  },
  {
   "cell_type": "code",
   "execution_count": 0,
   "metadata": {
    "application/vnd.databricks.v1+cell": {
     "cellMetadata": {
      "byteLimit": 2048000,
      "rowLimit": 10000
     },
     "inputWidgets": {},
     "nuid": "a5235c0a-d351-4eea-a4fe-312a1ed9ee44",
     "showTitle": false,
     "tableResultSettingsMap": {},
     "title": ""
    }
   },
   "outputs": [
    {
     "output_type": "stream",
     "name": "stdout",
     "output_type": "stream",
     "text": [
      "+------------------------+-------------------+-----+\n|DESTINATION_COUNTRY_NAME|ORIGIN_COUNTRY_NAME|count|\n+------------------------+-------------------+-----+\n|           United States|            Romania|   15|\n|           United States|            Croatia|    1|\n|           United States|            Ireland|  344|\n|                   Egypt|      United States|   15|\n|           United States|              India|   62|\n|           United States|          Singapore|    1|\n|           United States|            Grenada|   62|\n|              Costa Rica|      United States|  588|\n|                 Senegal|      United States|   40|\n|                 Moldova|      United States|    1|\n|           United States|       Sint Maarten|  325|\n|           United States|   Marshall Islands|   39|\n|                  Guyana|      United States|   64|\n|                   Malta|      United States|    1|\n|                Anguilla|      United States|   41|\n|                 Bolivia|      United States|   30|\n|           United States|           Paraguay|    6|\n|                 Algeria|      United States|    4|\n|    Turks and Caicos ...|      United States|  230|\n|           United States|          Gibraltar|    1|\n+------------------------+-------------------+-----+\nonly showing top 20 rows\n\n"
     ]
    }
   ],
   "source": [
    "flight_df = spark.read.format(\"csv\")\\\n",
    "            .schema(schema)\\\n",
    "            .option(\"mode\", \"PERMISSIVE\")\\\n",
    "            .option(\"skipRows\", 1)\\     # <---- Use skipRows option to remove 1st line from csv \n",
    "            .load(\"/FileStore/tables/2015_summary.csv\")\n",
    "\n",
    "flight_df.show()\n",
    "\"\"\"\n",
    "+------------------------+-------------------+-----+\n",
    "|DESTINATION_COUNTRY_NAME|ORIGIN_COUNTRY_NAME|count|\n",
    "+------------------------+-------------------+-----+\n",
    "|           United States|            Romania|   15|\n",
    "|           United States|            Croatia|    1|\n",
    "|           United States|            Ireland|  344|\n",
    "|                   Egypt|      United States|   15|\n",
    "|           United States|              India|   62|\n",
    "|           United States|          Singapore|    1|\n",
    "\"\"\"\n",
    "\n",
    "\n",
    "\n"
   ]
  }
 ],
 "metadata": {
  "application/vnd.databricks.v1+notebook": {
   "computePreferences": null,
   "dashboards": [],
   "environmentMetadata": {
    "base_environment": "",
    "environment_version": "1"
   },
   "inputWidgetPreferences": null,
   "language": "python",
   "notebookMetadata": {
    "pythonIndentUnit": 4
   },
   "notebookName": "4 Maual Schema PySpark",
   "widgets": {}
  }
 },
 "nbformat": 4,
 "nbformat_minor": 0
}