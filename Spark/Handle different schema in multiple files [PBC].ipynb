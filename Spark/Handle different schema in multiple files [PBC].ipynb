{
 "cells": [
  {
   "cell_type": "code",
   "execution_count": 8,
   "id": "3a6d455a",
   "metadata": {},
   "outputs": [
    {
     "name": "stdout",
     "output_type": "stream",
     "text": [
      "root\n",
      " |-- value: integer (nullable = false)\n",
      " |-- square: integer (nullable = false)\n",
      "\n",
      "+-----+------+\n",
      "|value|square|\n",
      "+-----+------+\n",
      "|1    |1     |\n",
      "|2    |4     |\n",
      "|3    |9     |\n",
      "|4    |16    |\n",
      "|5    |25    |\n",
      "+-----+------+\n",
      "\n",
      "root\n",
      " |-- value: integer (nullable = false)\n",
      " |-- dummy_col: integer (nullable = false)\n",
      " |-- cube: integer (nullable = false)\n",
      "\n",
      "+-----+---------+----+\n",
      "|value|dummy_col|cube|\n",
      "+-----+---------+----+\n",
      "|6    |7        |216 |\n",
      "|7    |8        |343 |\n",
      "|8    |9        |512 |\n",
      "|9    |10       |729 |\n",
      "|10   |11       |1000|\n",
      "+-----+---------+----+\n",
      "\n"
     ]
    },
    {
     "data": {
      "text/plain": [
       "import org.apache.spark.sql.SaveMode\n",
       "squaresDF: org.apache.spark.sql.DataFrame = [value: int, square: int]\n",
       "cubesDF: org.apache.spark.sql.DataFrame = [value: int, dummy_col: int ... 1 more field]\n"
      ]
     },
     "execution_count": 8,
     "metadata": {},
     "output_type": "execute_result"
    }
   ],
   "source": [
    "// Merge schema is supported only by parquet not by other format like csv , txt.\n",
    "// Mergeschema (spark.sql.parquet.mergeSchema) will align the columns in the correct order even they are distributed\n",
    "\n",
    "import org.apache.spark.sql.SaveMode\n",
    "\n",
    "// Create a simple DataFrame, store into a partition directory\n",
    "val squaresDF = spark.sparkContext.makeRDD(1 to 5).map(i => (i, i * i)).toDF(\"value\", \"square\")\n",
    "squaresDF.write.mode(SaveMode.Overwrite).parquet(\"data/test_table/key=1\")\n",
    "\n",
    "val cubesDF = spark.sparkContext.makeRDD(6 to 10).map(i => (i, i+1 ,i * i * i)).toDF(\"value\", \"dummy_col\",\"cube\")\n",
    "cubesDF.write.mode(SaveMode.Overwrite).parquet(\"data/test_table/key=2\")\n",
    "\n",
    "\n",
    "squaresDF.printSchema()\n",
    "squaresDF.show(false)\n",
    "\n",
    "cubesDF.printSchema()\n",
    "cubesDF.show(false)"
   ]
  },
  {
   "cell_type": "code",
   "execution_count": 9,
   "id": "1d70d407",
   "metadata": {},
   "outputs": [
    {
     "name": "stdout",
     "output_type": "stream",
     "text": [
      "+-----+------+---------+----+---+\n",
      "|value|square|dummy_col|cube|key|\n",
      "+-----+------+---------+----+---+\n",
      "|9    |null  |10       |729 |2  |\n",
      "|10   |null  |11       |1000|2  |\n",
      "|8    |null  |9        |512 |2  |\n",
      "|6    |null  |7        |216 |2  |\n",
      "|7    |null  |8        |343 |2  |\n",
      "|4    |16    |null     |null|1  |\n",
      "|5    |25    |null     |null|1  |\n",
      "|2    |4     |null     |null|1  |\n",
      "|1    |1     |null     |null|1  |\n",
      "|3    |9     |null     |null|1  |\n",
      "+-----+------+---------+----+---+\n",
      "\n",
      "root\n",
      " |-- value: integer (nullable = true)\n",
      " |-- square: integer (nullable = true)\n",
      " |-- dummy_col: integer (nullable = true)\n",
      " |-- cube: integer (nullable = true)\n",
      " |-- key: integer (nullable = true)\n",
      "\n"
     ]
    },
    {
     "data": {
      "text/plain": [
       "mergedDF: org.apache.spark.sql.DataFrame = [value: int, square: int ... 3 more fields]\n"
      ]
     },
     "execution_count": 9,
     "metadata": {},
     "output_type": "execute_result"
    }
   ],
   "source": [
    "\n",
    "val mergedDF = spark.read.option(\"mergeSchema\", \"true\").parquet(\"data/test_table\")\n",
    "\n",
    "mergedDF.show(false)\n",
    "mergedDF.printSchema()\n"
   ]
  },
  {
   "cell_type": "code",
   "execution_count": null,
   "id": "09ddac53",
   "metadata": {},
   "outputs": [],
   "source": []
  }
 ],
 "metadata": {
  "kernelspec": {
   "display_name": "spylon-kernel",
   "language": "scala",
   "name": "spylon-kernel"
  },
  "language_info": {
   "codemirror_mode": "text/x-scala",
   "file_extension": ".scala",
   "help_links": [
    {
     "text": "MetaKernel Magics",
     "url": "https://metakernel.readthedocs.io/en/latest/source/README.html"
    }
   ],
   "mimetype": "text/x-scala",
   "name": "scala",
   "pygments_lexer": "scala",
   "version": "0.4.1"
  }
 },
 "nbformat": 4,
 "nbformat_minor": 5
}
