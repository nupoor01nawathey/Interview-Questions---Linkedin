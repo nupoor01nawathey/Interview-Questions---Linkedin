{
 "cells": [
  {
   "cell_type": "code",
   "execution_count": 1,
   "id": "bdd26fc5",
   "metadata": {},
   "outputs": [
    {
     "data": {
      "text/plain": [
       "Intitializing Scala interpreter ..."
      ]
     },
     "metadata": {},
     "output_type": "display_data"
    },
    {
     "data": {
      "text/plain": [
       "Spark Web UI available at http://192.168.0.101:4040\n",
       "SparkContext available as 'sc' (version = 3.4.1, master = local[*], app id = local-1713022415413)\n",
       "SparkSession available as 'spark'\n"
      ]
     },
     "metadata": {},
     "output_type": "display_data"
    },
    {
     "name": "stdout",
     "output_type": "stream",
     "text": [
      "+---------+-----------+\n",
      "|source_id|source_name|\n",
      "+---------+-----------+\n",
      "|1        |A          |\n",
      "|2        |B          |\n",
      "|3        |C          |\n",
      "|4        |D          |\n",
      "+---------+-----------+\n",
      "\n",
      "+---------+-----------+\n",
      "|target_id|target_name|\n",
      "+---------+-----------+\n",
      "|1        |A          |\n",
      "|2        |B          |\n",
      "|4        |X          |\n",
      "|5        |F          |\n",
      "+---------+-----------+\n",
      "\n"
     ]
    },
    {
     "data": {
      "text/plain": [
       "source_data: org.apache.spark.sql.DataFrame = [source_id: int, source_name: string]\n",
       "target_data: org.apache.spark.sql.DataFrame = [target_id: int, target_name: string]\n"
      ]
     },
     "execution_count": 1,
     "metadata": {},
     "output_type": "execute_result"
    }
   ],
   "source": [
    "import org.apache.spark.sql.functions._\n",
    "\n",
    "\n",
    "val source_data = Seq(\n",
    "    (1, \"A\"), \n",
    "    (2, \"B\"), \n",
    "    (3, \"C\"), \n",
    "    (4, \"D\")\n",
    ").toDF(\"source_id\", \"source_name\")\n",
    "\n",
    "val target_data = Seq(\n",
    "    (1, \"A\"), \n",
    "    (2, \"B\"), \n",
    "    (4, \"X\"), \n",
    "    (5, \"F\")\n",
    ").toDF(\"target_id\", \"target_name\")\n",
    "\n",
    "source_data.show(false)\n",
    "target_data.show(false)\n",
    "\n"
   ]
  },
  {
   "cell_type": "code",
   "execution_count": 2,
   "id": "3e5e8eb6",
   "metadata": {},
   "outputs": [
    {
     "name": "stdout",
     "output_type": "stream",
     "text": [
      "+---------+-----------+---------+-----------+\n",
      "|source_id|source_name|target_id|target_name|\n",
      "+---------+-----------+---------+-----------+\n",
      "|1        |A          |1        |A          |\n",
      "|2        |B          |2        |B          |\n",
      "|3        |C          |null     |null       |\n",
      "|4        |D          |4        |X          |\n",
      "|null     |null       |5        |F          |\n",
      "+---------+-----------+---------+-----------+\n",
      "\n"
     ]
    },
    {
     "data": {
      "text/plain": [
       "df: org.apache.spark.sql.DataFrame = [source_id: int, source_name: string ... 2 more fields]\n"
      ]
     },
     "execution_count": 2,
     "metadata": {},
     "output_type": "execute_result"
    }
   ],
   "source": [
    "val df = source_data.join(target_data, $\"source_id\"===$\"target_id\", \"full_outer\")\n",
    "\n",
    "df.show(false)"
   ]
  },
  {
   "cell_type": "code",
   "execution_count": 8,
   "id": "f593c359",
   "metadata": {},
   "outputs": [
    {
     "name": "stdout",
     "output_type": "stream",
     "text": [
      "+---+-------------+\n",
      "|ID |comment      |\n",
      "+---+-------------+\n",
      "|3  |New in source|\n",
      "|4  |Mis-match    |\n",
      "|5  |New in target|\n",
      "+---+-------------+\n",
      "\n"
     ]
    }
   ],
   "source": [
    "df.withColumn(\"comment\", when($\"target_name\".isNull, \"New in source\"\n",
    "                             ).when($\"source_name\".isNull, \"New in target\"\n",
    "                                   ).when($\"source_name\" =!= $\"target_name\", \"Mis-match\")\n",
    "             ).where($\"comment\".isNotNull\n",
    "                    ).withColumn(\"ID\", when($\"source_id\".isNull, $\"target_id\").otherwise($\"source_id\")\n",
    "                                ).select(\"ID\",\"comment\").show(false)"
   ]
  },
  {
   "cell_type": "code",
   "execution_count": 9,
   "id": "385e377f",
   "metadata": {},
   "outputs": [
    {
     "name": "stdout",
     "output_type": "stream",
     "text": [
      "+---+-------------+\n",
      "|ID |comment      |\n",
      "+---+-------------+\n",
      "|3  |New in source|\n",
      "|4  |Mis-match    |\n",
      "|5  |New in target|\n",
      "+---+-------------+\n",
      "\n"
     ]
    }
   ],
   "source": [
    "df.withColumn(\"comment\", when($\"target_name\".isNull, \"New in source\"\n",
    "                             ).when($\"source_name\".isNull, \"New in target\"\n",
    "                                   ).when($\"source_name\" =!= $\"target_name\", \"Mis-match\")\n",
    "             ).where($\"comment\".isNotNull\n",
    "                    ).withColumn(\"ID\", coalesce($\"source_id\", $\"target_id\")).select(\"ID\",\"comment\").show(false)"
   ]
  },
  {
   "cell_type": "code",
   "execution_count": null,
   "id": "7a3b23f4",
   "metadata": {},
   "outputs": [],
   "source": []
  }
 ],
 "metadata": {
  "kernelspec": {
   "display_name": "spylon-kernel",
   "language": "scala",
   "name": "spylon-kernel"
  },
  "language_info": {
   "codemirror_mode": "text/x-scala",
   "file_extension": ".scala",
   "help_links": [
    {
     "text": "MetaKernel Magics",
     "url": "https://metakernel.readthedocs.io/en/latest/source/README.html"
    }
   ],
   "mimetype": "text/x-scala",
   "name": "scala",
   "pygments_lexer": "scala",
   "version": "0.4.1"
  }
 },
 "nbformat": 4,
 "nbformat_minor": 5
}
