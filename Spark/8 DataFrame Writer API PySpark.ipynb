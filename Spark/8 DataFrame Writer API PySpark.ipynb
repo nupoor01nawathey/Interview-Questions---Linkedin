{
 "cells": [
  {
   "cell_type": "code",
   "execution_count": 0,
   "metadata": {
    "application/vnd.databricks.v1+cell": {
     "cellMetadata": {
      "byteLimit": 2048000,
      "rowLimit": 10000
     },
     "inputWidgets": {},
     "nuid": "ea62b327-b0e9-4b3e-9282-7cb6cc90f48e",
     "showTitle": false,
     "tableResultSettingsMap": {},
     "title": ""
    }
   },
   "outputs": [],
   "source": [
    "\n",
    "\"\"\"\n",
    "DataFrameWriter.format()\\ ----->  csv/json/parquet/orc/avro\n",
    "    .option()\\            ----->  header/mode/path\n",
    "    .partitionBy()\\             \n",
    "    .bucketBy()\\\n",
    "    .save()\n",
    "\n",
    "Write Modes:\n",
    "Append  Overwrite   ErrorIfExists   Ignore\n",
    "\"\"\"\n",
    "\n",
    "\"\"\"\n",
    "id, name,     age,  salary,   address,    gender\n",
    "1,  Manish,   26, 75000,    INDIA,        m\n",
    "2,  Nikita,   23, 100000,   USA,          f\n",
    "3,  Pritam,   22, 150000,   INDIA,        m\n",
    "4,  Prantosh, 17, 200000,   JAPAN,        m\n",
    "5,  Vikash,   31, 300000,   USA,          m\n",
    "6,  Rahul,    55, 300000,   INDIA,        m\n",
    "7,  Raju,     67,   540000,   USA,          m\n",
    "8,  Praveen,  28,   70000,    JAPAN,        m\n",
    "9,  Dev,      32,   150000,   JAPAN,        m\n",
    "10, Sherin,   16,   25000,    RUSSIA,       f\n",
    "11, Ragu,     12,   35000,    INDIA,        f\n",
    "12, Sweta,    43,   200000,   INDIA,        f\n",
    "13, Raushan,  48,   650000,   USA,          m\n",
    "14, Mukesh,   36,   95000,    RUSSIA,       m\n",
    "15, Prakash,  52,   750000,   INDIA,        m\n",
    "\"\"\"\n",
    "\n",
    "df = spark.read.format(\"csv\")\\\n",
    "    .option(\"header\", \"true\")\\\n",
    "    .option(\"inferschema\", \"true\")\\\n",
    "    .load(\"/FileStore/tables/employee_write_data.csv\")\n",
    "\n",
    "df.write.format(\"csv\")\\\n",
    "    .option(\"header\", \"true\")\\\n",
    "    .option(\"mode\", \"overwrite\")\\\n",
    "    .option(\"path\", \"/FileStore/tables/csv_write/\")\\\n",
    "    .save()\n"
   ]
  },
  {
   "cell_type": "code",
   "execution_count": 0,
   "metadata": {
    "application/vnd.databricks.v1+cell": {
     "cellMetadata": {
      "byteLimit": 2048000,
      "rowLimit": 10000
     },
     "inputWidgets": {},
     "nuid": "e6fcbea2-cf2c-4b0c-9be5-7b360bb3e3aa",
     "showTitle": false,
     "tableResultSettingsMap": {},
     "title": ""
    }
   },
   "outputs": [
    {
     "output_type": "stream",
     "name": "stdout",
     "output_type": "stream",
     "text": [
      "Out[4]: [FileInfo(path='dbfs:/FileStore/tables/csv_write/_SUCCESS', name='_SUCCESS', size=0, modificationTime=1743955131000),\n FileInfo(path='dbfs:/FileStore/tables/csv_write/_committed_2487680100666228080', name='_committed_2487680100666228080', size=112, modificationTime=1743955130000),\n FileInfo(path='dbfs:/FileStore/tables/csv_write/_started_2487680100666228080', name='_started_2487680100666228080', size=0, modificationTime=1743955130000),\n FileInfo(path='dbfs:/FileStore/tables/csv_write/part-00000-tid-2487680100666228080-c2e91138-443d-4b39-8922-7e3e16e719d2-22-1-c000.csv', name='part-00000-tid-2487680100666228080-c2e91138-443d-4b39-8922-7e3e16e719d2-22-1-c000.csv', size=490, modificationTime=1743955130000)]"
     ]
    }
   ],
   "source": [
    "dbutils.fs.ls(\"/FileStore/tables/csv_write/\")"
   ]
  },
  {
   "cell_type": "code",
   "execution_count": 0,
   "metadata": {
    "application/vnd.databricks.v1+cell": {
     "cellMetadata": {
      "byteLimit": 2048000,
      "rowLimit": 10000
     },
     "inputWidgets": {},
     "nuid": "50ff9e54-cf4a-4361-88a9-4d43fec2aca4",
     "showTitle": false,
     "tableResultSettingsMap": {},
     "title": ""
    }
   },
   "outputs": [],
   "source": [
    "# Write with repartition\n",
    "\n",
    "df.repartition(3).write.format(\"csv\")\\\n",
    "    .option(\"header\", \"true\")\\\n",
    "    .option(\"mode\", \"overwrite\")\\\n",
    "    .option(\"path\", \"/FileStore/tables/csv_repartition_write/\")\\\n",
    "    .save()\n"
   ]
  },
  {
   "cell_type": "code",
   "execution_count": 0,
   "metadata": {
    "application/vnd.databricks.v1+cell": {
     "cellMetadata": {
      "byteLimit": 2048000,
      "rowLimit": 10000
     },
     "inputWidgets": {},
     "nuid": "f2cb2204-60d8-4a92-98e1-a0a369ee85ba",
     "showTitle": false,
     "tableResultSettingsMap": {},
     "title": ""
    }
   },
   "outputs": [
    {
     "output_type": "stream",
     "name": "stdout",
     "output_type": "stream",
     "text": [
      "Out[7]: [FileInfo(path='dbfs:/FileStore/tables/csv_repartition_write/_SUCCESS', name='_SUCCESS', size=0, modificationTime=1743955275000),\n FileInfo(path='dbfs:/FileStore/tables/csv_repartition_write/_committed_521122548738140856', name='_committed_521122548738140856', size=285, modificationTime=1743955275000),\n FileInfo(path='dbfs:/FileStore/tables/csv_repartition_write/_started_521122548738140856', name='_started_521122548738140856', size=0, modificationTime=1743955274000),\n FileInfo(path='dbfs:/FileStore/tables/csv_repartition_write/part-00000-tid-521122548738140856-67707aac-0811-4052-b828-419235cf1b26-25-1-c000.csv', name='part-00000-tid-521122548738140856-67707aac-0811-4052-b828-419235cf1b26-25-1-c000.csv', size=184, modificationTime=1743955274000),\n FileInfo(path='dbfs:/FileStore/tables/csv_repartition_write/part-00001-tid-521122548738140856-67707aac-0811-4052-b828-419235cf1b26-26-1-c000.csv', name='part-00001-tid-521122548738140856-67707aac-0811-4052-b828-419235cf1b26-26-1-c000.csv', size=184, modificationTime=1743955274000),\n FileInfo(path='dbfs:/FileStore/tables/csv_repartition_write/part-00002-tid-521122548738140856-67707aac-0811-4052-b828-419235cf1b26-27-1-c000.csv', name='part-00002-tid-521122548738140856-67707aac-0811-4052-b828-419235cf1b26-27-1-c000.csv', size=190, modificationTime=1743955274000)]"
     ]
    }
   ],
   "source": [
    "dbutils.fs.ls(\"/FileStore/tables/csv_repartition_write/\")"
   ]
  }
 ],
 "metadata": {
  "application/vnd.databricks.v1+notebook": {
   "computePreferences": null,
   "dashboards": [],
   "environmentMetadata": {
    "base_environment": "",
    "environment_version": "1"
   },
   "inputWidgetPreferences": null,
   "language": "python",
   "notebookMetadata": {
    "pythonIndentUnit": 4
   },
   "notebookName": "8 DataFrame Writer API PySpark",
   "widgets": {}
  }
 },
 "nbformat": 4,
 "nbformat_minor": 0
}